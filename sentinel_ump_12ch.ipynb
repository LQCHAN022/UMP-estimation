{
 "cells": [
  {
   "cell_type": "markdown",
   "metadata": {},
   "source": [
    "# Training and evaluation of modified IM2ELEVATION model"
   ]
  },
  {
   "cell_type": "code",
   "execution_count": 1,
   "metadata": {},
   "outputs": [],
   "source": [
    "# Ensures runtime code is updated when source code of libraries are updated as well\n",
    "%load_ext autoreload\n",
    "%autoreload 2"
   ]
  },
  {
   "cell_type": "code",
   "execution_count": 2,
   "metadata": {},
   "outputs": [],
   "source": [
    "# Import of necessary libraries\n",
    "\n",
    "import os\n",
    "os.environ['USE_PYGEOS'] = '0'\n",
    "import pandas as pd\n",
    "import numpy as np\n",
    "import pickle\n",
    "import sklearn\n",
    "import seaborn as sns\n",
    "import matplotlib.pyplot as plt\n",
    "import gc\n",
    "import ssl\n",
    "\n",
    "from osgeo import gdal\n",
    "import geopandas as gpd\n",
    "\n",
    "from torch.utils.data import Dataset, DataLoader\n",
    "from torchvision import transforms, utils\n",
    "\n",
    "# FastAI\n",
    "from fastai.vision.all import *\n",
    "from fastai.text.all import *\n",
    "from fastai.collab import *\n",
    "from fastai.tabular.all import *\n",
    "\n",
    "import utils.sp_utils as sp\n"
   ]
  },
  {
   "cell_type": "code",
   "execution_count": 3,
   "metadata": {},
   "outputs": [],
   "source": [
    "# User modules\n",
    "\n",
    "from utils.models import senet\n",
    "from utils.models import modules\n",
    "from utils.models import net"
   ]
  },
  {
   "cell_type": "code",
   "execution_count": 4,
   "metadata": {},
   "outputs": [
    {
     "data": {
      "text/plain": [
       "True"
      ]
     },
     "execution_count": 4,
     "metadata": {},
     "output_type": "execute_result"
    }
   ],
   "source": [
    "# Check if gpu/cuda is available\n",
    "import torch\n",
    "torch.cuda.is_available()"
   ]
  },
  {
   "cell_type": "markdown",
   "metadata": {},
   "source": [
    "## Build Dataset"
   ]
  },
  {
   "cell_type": "code",
   "execution_count": 34,
   "metadata": {},
   "outputs": [],
   "source": [
    "class UMPDataset(Dataset):\n",
    "    \"\"\"Urban Morphological Parameters - Sentinel Dataset\"\"\"\n",
    "\n",
    "    def __init__(self, ump_df, dir_path, file_ext= \".tiff\", transform= None):\n",
    "        \"\"\"\n",
    "        # Parameters:\n",
    "            - ump_df: DataFrame containing the geometry of each cell with its corresponding UMPs.\n",
    "            - dir_path: Directory in which all tiff files will be matched with it's corresponding cells in ump_df.\n",
    "                - No trailing slashes for dir. eg. \"data/osaka\"\n",
    "                - Naming convention for files: Sentinel_{'_'.join(map(str, map(int, cell.bounds)))}.tiff for cell in ump_df[\"geometry\"]\n",
    "            - file_ext: Extension of the file eg. .tiff / .tif\n",
    "        \"\"\"\n",
    "        self.ump_df = ump_df\n",
    "        self.dir_path = dir_path\n",
    "        self.file_ext = file_ext\n",
    "        # Look in both current and sub-directories\n",
    "        self.files = glob.glob(f\"{self.dir_path}/**/*{self.file_ext}\") + glob.glob(f\"{self.dir_path}/*{self.file_ext}\")\n",
    "        self.transform = transform\n",
    "    \n",
    "    def __len__(self):\n",
    "        return len(self.ump_df)\n",
    "    \n",
    "    def __getitem__(self, idx):\n",
    "        if torch.is_tensor(idx):\n",
    "            idx = idx.tolist()\n",
    "        \n",
    "        poly = self.ump_df[\"geometry\"][idx]\n",
    "        target = f\"Sentinel_{'_'.join(map(str, map(int, poly.bounds)))}.tiff\"\n",
    "        # Finds and return the first match in a string\n",
    "        file_name = next((s for s in self.files if target in s), None)\n",
    "        if file_name is None:\n",
    "            raise KeyError(f\"{target} not found in {self.dir_path}\")\n",
    "        \n",
    "        image = gdal.Open(file_name, gdal.GA_ReadOnly).ReadAsArray()\n",
    "        umps = list(Y_osaka.iloc[idx][[\n",
    "            \"AverageHeightArea\", \n",
    "            \"AverageHeightBuilding\", \n",
    "            \"AverageHeightTotalArea\", \n",
    "            \"Displacement\", \n",
    "            \"FrontalAreaIndex\",\n",
    "            \"MaximumHeight\",\n",
    "            \"PercentileHeight\",\n",
    "            \"PlanarAreaIndex\",\n",
    "            \"RoughnessLength\",\n",
    "            \"StandardDeviation\",\n",
    "        ]])\n",
    "\n",
    "        out = {\"image\":image, \"umps\":umps}\n",
    "\n",
    "        if self.transform:\n",
    "            out = self.transform(out)\n",
    "        \n",
    "        return out\n",
    "        \n",
    "\n"
   ]
  },
  {
   "cell_type": "code",
   "execution_count": 35,
   "metadata": {},
   "outputs": [],
   "source": [
    "Y_osaka = gpd.read_feather(\"data/Y_UMP/Y_osaka_3.feather\")\n",
    "ds_osaka = UMPDataset(Y_osaka, \"data/X_sentinel/osaka\")"
   ]
  },
  {
   "cell_type": "code",
   "execution_count": 30,
   "metadata": {},
   "outputs": [
    {
     "data": {
      "text/plain": [
       "[]"
      ]
     },
     "execution_count": 30,
     "metadata": {},
     "output_type": "execute_result"
    }
   ],
   "source": [
    "glob.glob(\"data/X_sentinel/osaka/**/*.tiff\")"
   ]
  },
  {
   "cell_type": "code",
   "execution_count": 37,
   "metadata": {},
   "outputs": [
    {
     "data": {
      "text/plain": [
       "(12, 90, 90)"
      ]
     },
     "execution_count": 37,
     "metadata": {},
     "output_type": "execute_result"
    }
   ],
   "source": [
    "ds_osaka[0][\"image\"].shape"
   ]
  },
  {
   "cell_type": "code",
   "execution_count": 4,
   "metadata": {},
   "outputs": [
    {
     "data": {
      "text/plain": [
       "'aa'"
      ]
     },
     "execution_count": 4,
     "metadata": {},
     "output_type": "execute_result"
    }
   ],
   "source": [
    "files = [\"aa\", \"aaa\", \"bbb\", \"aaa\"]\n",
    "next((s for s in files if \"a\" in s), None)"
   ]
  },
  {
   "cell_type": "code",
   "execution_count": 13,
   "metadata": {},
   "outputs": [
    {
     "data": {
      "text/html": [
       "<div>\n",
       "<style scoped>\n",
       "    .dataframe tbody tr th:only-of-type {\n",
       "        vertical-align: middle;\n",
       "    }\n",
       "\n",
       "    .dataframe tbody tr th {\n",
       "        vertical-align: top;\n",
       "    }\n",
       "\n",
       "    .dataframe thead th {\n",
       "        text-align: right;\n",
       "    }\n",
       "</style>\n",
       "<table border=\"1\" class=\"dataframe\">\n",
       "  <thead>\n",
       "    <tr style=\"text-align: right;\">\n",
       "      <th></th>\n",
       "      <th>geometry</th>\n",
       "      <th>AverageHeightArea</th>\n",
       "      <th>AverageHeightBuilding</th>\n",
       "      <th>AverageHeightTotalArea</th>\n",
       "      <th>Displacement</th>\n",
       "      <th>FrontalAreaIndex</th>\n",
       "      <th>MaximumHeight</th>\n",
       "      <th>Percentile</th>\n",
       "      <th>PercentileHeight</th>\n",
       "      <th>PlanarAreaIndex</th>\n",
       "      <th>RoughnessLength</th>\n",
       "      <th>StandardDeviation</th>\n",
       "    </tr>\n",
       "  </thead>\n",
       "  <tbody>\n",
       "  </tbody>\n",
       "</table>\n",
       "</div>"
      ],
      "text/plain": [
       "Empty GeoDataFrame\n",
       "Columns: [geometry, AverageHeightArea, AverageHeightBuilding, AverageHeightTotalArea, Displacement, FrontalAreaIndex, MaximumHeight, Percentile, PercentileHeight, PlanarAreaIndex, RoughnessLength, StandardDeviation]\n",
       "Index: []"
      ]
     },
     "execution_count": 13,
     "metadata": {},
     "output_type": "execute_result"
    }
   ],
   "source": [
    "Y_osaka = gpd.read_feather(\"data/Y_UMP/Y_osaka_3.feather\")\n",
    "Y_osaka[pd.DataFrame.any(Y_osaka.isna(), axis= 1)]\n",
    "# Y_osaka"
   ]
  },
  {
   "cell_type": "code",
   "execution_count": 24,
   "metadata": {},
   "outputs": [
    {
     "data": {
      "text/plain": [
       "[23.321947080728076,\n",
       " 9.481818181818182,\n",
       " 0.2878379437277183,\n",
       " 0.0009568369634676615,\n",
       " 0.005289593160466849,\n",
       " 38.4,\n",
       " 33.90000000000001,\n",
       " 0.012341934519076716,\n",
       " 0.00022359466733766674,\n",
       " 3.0691962418986156]"
      ]
     },
     "execution_count": 24,
     "metadata": {},
     "output_type": "execute_result"
    }
   ],
   "source": [
    "list(Y_osaka.iloc[0][[\n",
    "    \"AverageHeightArea\", \n",
    "    \"AverageHeightBuilding\", \n",
    "    \"AverageHeightTotalArea\", \n",
    "    \"Displacement\", \n",
    "    \"FrontalAreaIndex\",\n",
    "    \"MaximumHeight\",\n",
    "    \"PercentileHeight\",\n",
    "    \"PlanarAreaIndex\",\n",
    "    \"RoughnessLength\",\n",
    "    \"StandardDeviation\",\n",
    "]])"
   ]
  },
  {
   "cell_type": "code",
   "execution_count": null,
   "metadata": {},
   "outputs": [],
   "source": []
  }
 ],
 "metadata": {
  "interpreter": {
   "hash": "a8bf42f5b4e2a348cbe75a25ff6042248da5e17de0cf2c8b06b72f8092ad4452"
  },
  "kernelspec": {
   "display_name": "Python 3.8.15 ('remote-sensing-landuse')",
   "language": "python",
   "name": "python3"
  },
  "language_info": {
   "codemirror_mode": {
    "name": "ipython",
    "version": 3
   },
   "file_extension": ".py",
   "mimetype": "text/x-python",
   "name": "python",
   "nbconvert_exporter": "python",
   "pygments_lexer": "ipython3",
   "version": "3.8.15"
  },
  "orig_nbformat": 4
 },
 "nbformat": 4,
 "nbformat_minor": 2
}
