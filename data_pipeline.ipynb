{
 "cells": [
  {
   "cell_type": "markdown",
   "metadata": {},
   "source": [
    "## Overview"
   ]
  },
  {
   "cell_type": "markdown",
   "metadata": {},
   "source": [
    "### Structure"
   ]
  },
  {
   "cell_type": "markdown",
   "metadata": {},
   "source": [
    "The pipeline is as follows:\n",
    "\n",
    "Download the city gml files -> Convert to shapefiles -> Divide into grids -> Calculate UMP for each grid -> Save as y\n",
    "\n",
    "Loop through each grid, download sentinel imagery, store and write as tensor "
   ]
  },
  {
   "cell_type": "markdown",
   "metadata": {},
   "source": [
    "### Datasets"
   ]
  },
  {
   "cell_type": "markdown",
   "metadata": {},
   "source": [
    "- X:\n",
    "    - Sentinel\n",
    "- Y:\n",
    "    - Tokyo (Japan, 2021) https://www.geospatial.jp/ckan/dataset/plateau-tokyo23ku/resource/0bab2b7f-6962-41c8-872f-66ad9b40dcb1?inner_span=True\n",
    "    - Osaka (Japan, 2021) ^ \n",
    "    - New York (USA, 2019) https://github.com/opencitymodel/opencitymodel "
   ]
  },
  {
   "cell_type": "markdown",
   "metadata": {},
   "source": [
    "## Import Libraries"
   ]
  },
  {
   "cell_type": "code",
   "execution_count": 1,
   "metadata": {},
   "outputs": [],
   "source": [
    "# Ensures runtime code is updated when source code of libraries are updated as well\n",
    "%load_ext autoreload\n",
    "%autoreload 2"
   ]
  },
  {
   "cell_type": "code",
   "execution_count": 7,
   "metadata": {},
   "outputs": [],
   "source": [
    "import os.path\n",
    "import utils.istarmap as istarmap # Patches mp with this to enable tqdm\n",
    "from multiprocessing import Pool\n",
    "import pickle\n",
    "from functools import partial\n",
    "\n",
    "from itertools import repeat\n",
    "from glob import glob\n",
    "import xml.dom.minidom\n",
    "import tqdm\n",
    "\n",
    "import pandas as pd\n",
    "import numpy as np\n",
    "import math\n",
    "os.environ['USE_PYGEOS'] = '0'\n",
    "import geopandas as gpd\n",
    "import dask_geopandas as dgpd\n",
    "\n",
    "import fiona\n",
    "import shapely\n",
    "import pyproj\n",
    "from osgeo import gdal\n",
    "\n",
    "\n",
    "# Modules\n",
    "from utils.gml_utils import *\n",
    "from utils import sp_utils\n"
   ]
  },
  {
   "cell_type": "markdown",
   "metadata": {},
   "source": [
    "## Convert GML to feather"
   ]
  },
  {
   "cell_type": "markdown",
   "metadata": {},
   "source": [
    "### Function Definitions"
   ]
  },
  {
   "cell_type": "markdown",
   "metadata": {},
   "source": [
    "Convert all of the GML files in a folder into a single shapefile"
   ]
  },
  {
   "cell_type": "code",
   "execution_count": 3,
   "metadata": {},
   "outputs": [],
   "source": [
    "# def multi_to_poly(geometry):\n",
    "#     if isinstance(geometry, shapely.Polygon):\n",
    "#         return geometry\n",
    "#     elif isinstance(geometry, shapely.MultiPolygon):\n",
    "#         return shapely.ops.unary_union(list(geometry.geoms))\n",
    "\n",
    "# def xml_extract_gdf(in_path, \n",
    "#     lod_tag= \"bldg:lod1Solid\", \n",
    "#     polygon_tag= \"gml:Polygon\", \n",
    "#     coord_tag= \"gml:posList\", \n",
    "#     height_tag= \"bldg:measuredHeight\", \n",
    "#     src_crs= \"EPSG:6668\", \n",
    "#     tgt_crs= \"EPSG:3857\"):\n",
    "#     \"\"\"\n",
    "#     Extracts the building geometry (first polygon of each building only) and height, and assemble them into a GeoDataFrame\\n\n",
    "#     # Parameters:\\n\n",
    "#     - in_path: File path to the input gml file\\n\n",
    "#     - building_tag: The tag for each building, number of tags should be equivalent to the number of buildings\\n\n",
    "#     - lod_tag: The tag specifying which lod to extract from\\n\n",
    "#     - polygon_tag: The tag for polygons making up each building, only the first polygon will be extracted\\n\n",
    "#     - coord_tag: The tag for the list of coordinates\\n\n",
    "#     - height_tag: The tag for the height, should have same number of instances as buildings\\n\n",
    "#     \"\"\"\n",
    "#     # Manually read the gml as xml and extract the geometry\n",
    "#     doc = xml.dom.minidom.parse(in_path)\n",
    "#     buildings = doc.getElementsByTagName(lod_tag) # This is Plateau dataset specific\n",
    "#     buildings_coords = [building\\\n",
    "#                         .getElementsByTagName(polygon_tag)[0]\\\n",
    "#                         .getElementsByTagName(coord_tag)[0]\\\n",
    "#                         .childNodes[0]\\\n",
    "#                         .nodeValue.split(\" \") for building in buildings]\n",
    "\n",
    "#     # Abort if no geometry found\n",
    "#     if len(buildings_coords) == 0:\n",
    "#         return None\n",
    "\n",
    "#     # Conversion is done here to preserve the precision due to python rounding shennanigans\n",
    "#     transformer = pyproj.Transformer.from_crs(src_crs, tgt_crs)\n",
    "#     buildings_coords = [\n",
    "#                         [transformer.transform(buildings_coords[bld][i], \n",
    "#                             buildings_coords[bld][i+1]) for i in range(0, len(buildings_coords[bld]), 3)] \n",
    "#                         for bld in range(len(buildings_coords))\n",
    "#                         ]\n",
    "#     geometry = gpd.GeoSeries([shapely.Polygon(coords) for coords in buildings_coords])\n",
    "    \n",
    "#     # Manually extract the height\n",
    "#     buildings_height = doc.getElementsByTagName(height_tag)\n",
    "\n",
    "#     # Abort if no height data found\n",
    "#     if len(buildings_height) == 0:\n",
    "#         return None\n",
    "\n",
    "#     buildings_height = [float(height.childNodes[0].nodeValue) for height in buildings_height]\n",
    "#     height_series = pd.DataFrame(buildings_height, columns= [\"height\"])\n",
    "\n",
    "#     gdf = gpd.GeoDataFrame(data= height_series, geometry= geometry)\n",
    "\n",
    "#     # Remove the NaN values\n",
    "#     gdf = gdf.dropna().reset_index(drop= True)\n",
    "#     return gdf\n",
    "\n",
    "# def gml_to_feather(in_path, out_path, mode= None, log_name= \"gml_convert\", src_crs= \"EPSG:6668\", tgt_crs= \"EPSG:3857\", force_manual= False):\n",
    "#     \"\"\"\n",
    "#     Takes in a gml file and outputs it as a feather file\\n\n",
    "#     W/R with feather files is much faster and takes up much less space than using shp files\\n\n",
    "#     # Parameters:\\n\n",
    "#     - in_path: The path for the gml file\\n\n",
    "#     - out_path: The output path for the shape file, must end with a .shp\\n\n",
    "#     - mode: \n",
    "#         - 'o' = overwrites any file at output path, \\n\n",
    "#         - None = raises error if file already exists\\n\n",
    "#     - src_crs: Source projection\\n\n",
    "#     - tgt_crs: Target projection\\n\n",
    "#     \"\"\"\n",
    "#     # Extracts features\n",
    "#     with fiona.open(in_path, 'r') as src:\n",
    "#         features = list(src)\n",
    "\n",
    "#     # Converts and places it in geopandas format\n",
    "#     # There seems to be some gml files without the measured height column, will try to log those files in\n",
    "#     gdf = gpd.GeoDataFrame.from_features(features)\n",
    "#     try:\n",
    "#         # Goes to manual extraction if flag is True\n",
    "#         # Hacky but it works\n",
    "#         if force_manual:\n",
    "#             raise\n",
    "#         gdf = gdf[['measuredHeight', 'geometry']]\n",
    "#         gdf.rename(columns={'measuredHeight':'height'}, inplace= True)\n",
    "\n",
    "#         # Remove the NaN values\n",
    "#         gdf = gdf.dropna().reset_index(drop= True)\n",
    "\n",
    "#         # Reproject\n",
    "#         gdf = gdf.set_crs(src_crs).to_crs(tgt_crs).reset_index(drop= True)\n",
    "        \n",
    "#         # Convert coordinates from 3D to 2D\n",
    "#         gdf_geometry = gpd.GeoSeries.from_wkb(gdf.to_wkb(output_dimension= 2)[\"geometry\"])\n",
    "#         gdf.drop([\"geometry\"], axis= 1, inplace= True)\n",
    "#         gdf = gpd.GeoDataFrame(gdf, geometry= gdf_geometry)\n",
    "\n",
    "#         # Covert it to correct projection and merge to polygon from multi polygon\n",
    "#         # This is because multipolygon has stacking polygons which affects the area calculation\n",
    "#         # gdf = gdf.explode(index_parts= True).set_crs(src_crs).to_crs(tgt_crs).loc[(slice(None), slice(0)), :].reset_index(drop= True)\n",
    "#         gdf[\"geometry\"] = gdf.apply(lambda x: multi_to_poly(x[\"geometry\"]), axis= 1).reset_index(drop= True)\n",
    "\n",
    "#     except Exception as e:\n",
    "#         # If exception occurs try to extract manually\n",
    "#         gdf_manual = xml_extract_gdf(in_path)\n",
    "\n",
    "#         if gdf_manual is None:\n",
    "#             print(f\"{e}: {os.path.basename(in_path)}\")\n",
    "#             if not log_name is None:\n",
    "#                 if not os.path.exists(\"logs\"):\n",
    "#                     os.makedirs(\"logs\")\n",
    "#                 with open(f\"logs/{log_name}.txt\", \"a\") as f:\n",
    "#                     f.write(in_path + \"\\n\")\n",
    "#             return len(gdf)\n",
    "#         else:\n",
    "#             gdf = gdf_manual\n",
    "\n",
    "#     # Check if parent directory exists\n",
    "#     if not os.path.exists(os.path.dirname(out_path)):\n",
    "#         os.makedirs(os.path.dirname(out_path))\n",
    "        \n",
    "#     # Outputs to the desired path\n",
    "#     if os.path.exists(out_path):\n",
    "#         if mode == \"a\":\n",
    "#             gdf.to_feather(out_path, mode= \"a\")\n",
    "#         elif mode == \"o\":\n",
    "#             gdf.to_feather(out_path)\n",
    "#         else:\n",
    "#             raise FileExistsError(\"Output path already exists\")\n",
    "#     else:\n",
    "#         gdf.to_feather(out_path)\n",
    "    \n",
    "#     return 0\n",
    "\n",
    "# def batch_gml_to_feather(in_dir, out_path, n_processes= 12, log_name= None, mode= None, src_crs= \"EPSG:6668\", tgt_crs= \"EPSG:3857\", force_manual= False):\n",
    "\n",
    "#     # Get all the paths of the gml files\n",
    "#     in_paths = glob(f\"{in_dir}/*.gml\")\n",
    "#     print(\"Total input files:\", len(in_paths))\n",
    "\n",
    "#     # Reads the gml file and extract features\n",
    "#     with Pool(processes= n_processes) as pool:\n",
    "#         r = pool.starmap(\n",
    "#             gml_to_feather, \n",
    "#             zip(in_paths, \n",
    "#                 [f'{in_dir}/temp/{os.path.basename(path).replace(\".gml\", \".feather\")}' for path in in_paths], \n",
    "#                 repeat(mode), \n",
    "#                 repeat(log_name),\n",
    "#                 repeat(src_crs),\n",
    "#                 repeat(tgt_crs),\n",
    "#                 repeat(force_manual)))\n",
    "\n",
    "#     # Check for invalid buildings\n",
    "#     print(f\"There are {sum(r)} invalid buildings from {len(list(filter(lambda x: x > 0, r)))} files\")\n",
    "\n",
    "#     # Get all the paths of the shp files\n",
    "#     in_paths = glob(f\"{in_dir}/temp/*.feather\")\n",
    "#     print(\"Total files to merge:\", len(in_paths))\n",
    "\n",
    "#     gdfs = [gpd.read_feather(in_path) for in_path in in_paths]\n",
    "#     gdf = gpd.GeoDataFrame(pd.concat(gdfs)).reset_index(drop= True)\n",
    "#     gdf.to_feather(out_path)\n",
    "\n",
    "#     for temp_file in in_paths:\n",
    "#         os.remove(temp_file)\n",
    "\n",
    "#     return gdf"
   ]
  },
  {
   "cell_type": "markdown",
   "metadata": {},
   "source": [
    "### Tokyo"
   ]
  },
  {
   "cell_type": "code",
   "execution_count": 7,
   "metadata": {},
   "outputs": [
    {
     "name": "stdout",
     "output_type": "stream",
     "text": [
      "Total input files: 671\n",
      "There are 0 invalid buildings from 0 files\n",
      "Total files to merge: 671\n"
     ]
    },
    {
     "data": {
      "text/html": [
       "<div>\n",
       "<style scoped>\n",
       "    .dataframe tbody tr th:only-of-type {\n",
       "        vertical-align: middle;\n",
       "    }\n",
       "\n",
       "    .dataframe tbody tr th {\n",
       "        vertical-align: top;\n",
       "    }\n",
       "\n",
       "    .dataframe thead th {\n",
       "        text-align: right;\n",
       "    }\n",
       "</style>\n",
       "<table border=\"1\" class=\"dataframe\">\n",
       "  <thead>\n",
       "    <tr style=\"text-align: right;\">\n",
       "      <th></th>\n",
       "      <th>height</th>\n",
       "      <th>geometry</th>\n",
       "    </tr>\n",
       "  </thead>\n",
       "  <tbody>\n",
       "    <tr>\n",
       "      <th>0</th>\n",
       "      <td>6.1</td>\n",
       "      <td>POLYGON ((15565422.798 4245286.909, 15565416.2...</td>\n",
       "    </tr>\n",
       "    <tr>\n",
       "      <th>1</th>\n",
       "      <td>3.0</td>\n",
       "      <td>POLYGON ((15565401.386 4245273.087, 15565398.9...</td>\n",
       "    </tr>\n",
       "    <tr>\n",
       "      <th>2</th>\n",
       "      <td>3.5</td>\n",
       "      <td>POLYGON ((15563817.297 4264833.695, 15563811.6...</td>\n",
       "    </tr>\n",
       "    <tr>\n",
       "      <th>3</th>\n",
       "      <td>11.8</td>\n",
       "      <td>POLYGON ((15563065.418 4265104.495, 15563064.8...</td>\n",
       "    </tr>\n",
       "    <tr>\n",
       "      <th>4</th>\n",
       "      <td>2.5</td>\n",
       "      <td>POLYGON ((15563458.540 4264729.005, 15563431.3...</td>\n",
       "    </tr>\n",
       "    <tr>\n",
       "      <th>...</th>\n",
       "      <td>...</td>\n",
       "      <td>...</td>\n",
       "    </tr>\n",
       "    <tr>\n",
       "      <th>1768063</th>\n",
       "      <td>8.1</td>\n",
       "      <td>POLYGON ((15547325.623 4251960.079, 15547330.5...</td>\n",
       "    </tr>\n",
       "    <tr>\n",
       "      <th>1768064</th>\n",
       "      <td>6.3</td>\n",
       "      <td>POLYGON ((15547878.824 4251983.939, 15547872.9...</td>\n",
       "    </tr>\n",
       "    <tr>\n",
       "      <th>1768065</th>\n",
       "      <td>8.2</td>\n",
       "      <td>POLYGON ((15548373.420 4252264.298, 15548372.5...</td>\n",
       "    </tr>\n",
       "    <tr>\n",
       "      <th>1768066</th>\n",
       "      <td>12.6</td>\n",
       "      <td>POLYGON ((15548263.540 4251615.712, 15548262.3...</td>\n",
       "    </tr>\n",
       "    <tr>\n",
       "      <th>1768067</th>\n",
       "      <td>10.0</td>\n",
       "      <td>POLYGON ((15547241.958 4251864.072, 15547241.3...</td>\n",
       "    </tr>\n",
       "  </tbody>\n",
       "</table>\n",
       "<p>1768068 rows × 2 columns</p>\n",
       "</div>"
      ],
      "text/plain": [
       "         height                                           geometry\n",
       "0           6.1  POLYGON ((15565422.798 4245286.909, 15565416.2...\n",
       "1           3.0  POLYGON ((15565401.386 4245273.087, 15565398.9...\n",
       "2           3.5  POLYGON ((15563817.297 4264833.695, 15563811.6...\n",
       "3          11.8  POLYGON ((15563065.418 4265104.495, 15563064.8...\n",
       "4           2.5  POLYGON ((15563458.540 4264729.005, 15563431.3...\n",
       "...         ...                                                ...\n",
       "1768063     8.1  POLYGON ((15547325.623 4251960.079, 15547330.5...\n",
       "1768064     6.3  POLYGON ((15547878.824 4251983.939, 15547872.9...\n",
       "1768065     8.2  POLYGON ((15548373.420 4252264.298, 15548372.5...\n",
       "1768066    12.6  POLYGON ((15548263.540 4251615.712, 15548262.3...\n",
       "1768067    10.0  POLYGON ((15547241.958 4251864.072, 15547241.3...\n",
       "\n",
       "[1768068 rows x 2 columns]"
      ]
     },
     "execution_count": 7,
     "metadata": {},
     "output_type": "execute_result"
    }
   ],
   "source": [
    "in_dir = \"data/13100_tokyo23-ku_2020_citygml_3_2_op/udx/bldg\"\n",
    "out_path = \"data/full_Tokyo_plateau/tokyo_manual.feather\"\n",
    "\n",
    "batch_gml_to_feather(in_dir, out_path, mode= \"o\", log_name= \"tokyo\", force_manual= True)"
   ]
  },
  {
   "cell_type": "markdown",
   "metadata": {},
   "source": [
    "### Osaka"
   ]
  },
  {
   "cell_type": "code",
   "execution_count": 131,
   "metadata": {},
   "outputs": [
    {
     "name": "stdout",
     "output_type": "stream",
     "text": [
      "Total input files: 269\n",
      "\"['measuredHeight'] not in index\": 51357370_bldg_6697_op.gml\n",
      "There are 5 invalid buildings from 1 files\n",
      "Total files to merge: 268\n"
     ]
    },
    {
     "data": {
      "text/html": [
       "<div>\n",
       "<style scoped>\n",
       "    .dataframe tbody tr th:only-of-type {\n",
       "        vertical-align: middle;\n",
       "    }\n",
       "\n",
       "    .dataframe tbody tr th {\n",
       "        vertical-align: top;\n",
       "    }\n",
       "\n",
       "    .dataframe thead th {\n",
       "        text-align: right;\n",
       "    }\n",
       "</style>\n",
       "<table border=\"1\" class=\"dataframe\">\n",
       "  <thead>\n",
       "    <tr style=\"text-align: right;\">\n",
       "      <th></th>\n",
       "      <th>height</th>\n",
       "      <th>geometry</th>\n",
       "    </tr>\n",
       "  </thead>\n",
       "  <tbody>\n",
       "    <tr>\n",
       "      <th>0</th>\n",
       "      <td>11.5</td>\n",
       "      <td>POLYGON ((15072613.536 4114048.044, 15072620.2...</td>\n",
       "    </tr>\n",
       "    <tr>\n",
       "      <th>1</th>\n",
       "      <td>6.2</td>\n",
       "      <td>POLYGON ((15072558.081 4114007.990, 15072589.9...</td>\n",
       "    </tr>\n",
       "    <tr>\n",
       "      <th>2</th>\n",
       "      <td>6.3</td>\n",
       "      <td>POLYGON ((15072628.568 4114021.301, 15072645.5...</td>\n",
       "    </tr>\n",
       "    <tr>\n",
       "      <th>3</th>\n",
       "      <td>6.3</td>\n",
       "      <td>POLYGON ((15072607.323 4114020.869, 15072624.3...</td>\n",
       "    </tr>\n",
       "    <tr>\n",
       "      <th>4</th>\n",
       "      <td>5.6</td>\n",
       "      <td>POLYGON ((15072607.724 4113953.180, 15072625.6...</td>\n",
       "    </tr>\n",
       "    <tr>\n",
       "      <th>...</th>\n",
       "      <td>...</td>\n",
       "      <td>...</td>\n",
       "    </tr>\n",
       "    <tr>\n",
       "      <th>560020</th>\n",
       "      <td>9.4</td>\n",
       "      <td>POLYGON ((15078755.742 4127329.912, 15078759.7...</td>\n",
       "    </tr>\n",
       "    <tr>\n",
       "      <th>560021</th>\n",
       "      <td>8.5</td>\n",
       "      <td>POLYGON ((15078476.219 4127165.962, 15078475.3...</td>\n",
       "    </tr>\n",
       "    <tr>\n",
       "      <th>560022</th>\n",
       "      <td>3.9</td>\n",
       "      <td>POLYGON ((15078306.179 4126767.674, 15078306.3...</td>\n",
       "    </tr>\n",
       "    <tr>\n",
       "      <th>560023</th>\n",
       "      <td>6.6</td>\n",
       "      <td>POLYGON ((15079362.582 4127440.974, 15079370.9...</td>\n",
       "    </tr>\n",
       "    <tr>\n",
       "      <th>560024</th>\n",
       "      <td>3.0</td>\n",
       "      <td>POLYGON ((15079516.067 4127467.181, 15079515.6...</td>\n",
       "    </tr>\n",
       "  </tbody>\n",
       "</table>\n",
       "<p>560025 rows × 2 columns</p>\n",
       "</div>"
      ],
      "text/plain": [
       "        height                                           geometry\n",
       "0         11.5  POLYGON ((15072613.536 4114048.044, 15072620.2...\n",
       "1          6.2  POLYGON ((15072558.081 4114007.990, 15072589.9...\n",
       "2          6.3  POLYGON ((15072628.568 4114021.301, 15072645.5...\n",
       "3          6.3  POLYGON ((15072607.323 4114020.869, 15072624.3...\n",
       "4          5.6  POLYGON ((15072607.724 4113953.180, 15072625.6...\n",
       "...        ...                                                ...\n",
       "560020     9.4  POLYGON ((15078755.742 4127329.912, 15078759.7...\n",
       "560021     8.5  POLYGON ((15078476.219 4127165.962, 15078475.3...\n",
       "560022     3.9  POLYGON ((15078306.179 4126767.674, 15078306.3...\n",
       "560023     6.6  POLYGON ((15079362.582 4127440.974, 15079370.9...\n",
       "560024     3.0  POLYGON ((15079516.067 4127467.181, 15079515.6...\n",
       "\n",
       "[560025 rows x 2 columns]"
      ]
     },
     "execution_count": 131,
     "metadata": {},
     "output_type": "execute_result"
    }
   ],
   "source": [
    "in_dir = \"data/osaka/udx/bldg\"\n",
    "out_path = \"data/osaka/osaka_multipoly.feather\"\n",
    "\n",
    "batch_gml_to_feather(in_dir, out_path, mode= \"o\", log_name= \"osaka\")"
   ]
  },
  {
   "cell_type": "code",
   "execution_count": 137,
   "metadata": {},
   "outputs": [
    {
     "data": {
      "text/plain": [
       "5.960464477539063e-08"
      ]
     },
     "execution_count": 137,
     "metadata": {},
     "output_type": "execute_result"
    }
   ],
   "source": [
    "osaka_multi_gdf = gpd.read_feather(\"data/osaka/osaka_multipoly.feather\")\n",
    "osaka_gdf = gpd.read_feather(\"data/osaka/osaka_fixed.feather\")\n",
    "osaka_multi_gdf.area.sum() - osaka_gdf.area.sum()"
   ]
  },
  {
   "cell_type": "markdown",
   "metadata": {},
   "source": [
    "### New York"
   ]
  },
  {
   "cell_type": "code",
   "execution_count": 4,
   "metadata": {},
   "outputs": [
    {
     "name": "stdout",
     "output_type": "stream",
     "text": [
      "Total input files: 170\n",
      "There are 0 invalid buildings from 0 files\n",
      "Total files to merge: 170\n"
     ]
    },
    {
     "data": {
      "text/html": [
       "<div>\n",
       "<style scoped>\n",
       "    .dataframe tbody tr th:only-of-type {\n",
       "        vertical-align: middle;\n",
       "    }\n",
       "\n",
       "    .dataframe tbody tr th {\n",
       "        vertical-align: top;\n",
       "    }\n",
       "\n",
       "    .dataframe thead th {\n",
       "        text-align: right;\n",
       "    }\n",
       "</style>\n",
       "<table border=\"1\" class=\"dataframe\">\n",
       "  <thead>\n",
       "    <tr style=\"text-align: right;\">\n",
       "      <th></th>\n",
       "      <th>height</th>\n",
       "      <th>geometry</th>\n",
       "    </tr>\n",
       "  </thead>\n",
       "  <tbody>\n",
       "    <tr>\n",
       "      <th>0</th>\n",
       "      <td>5.73</td>\n",
       "      <td>POLYGON ((-8209083.637 5566815.941, -8209079.1...</td>\n",
       "    </tr>\n",
       "    <tr>\n",
       "      <th>1</th>\n",
       "      <td>5.73</td>\n",
       "      <td>POLYGON ((-8209092.654 5566766.181, -8209071.0...</td>\n",
       "    </tr>\n",
       "    <tr>\n",
       "      <th>2</th>\n",
       "      <td>4.38</td>\n",
       "      <td>POLYGON ((-8209005.825 5566671.511, -8208994.5...</td>\n",
       "    </tr>\n",
       "    <tr>\n",
       "      <th>3</th>\n",
       "      <td>5.73</td>\n",
       "      <td>POLYGON ((-8209241.377 5566652.734, -8209229.4...</td>\n",
       "    </tr>\n",
       "    <tr>\n",
       "      <th>4</th>\n",
       "      <td>5.73</td>\n",
       "      <td>POLYGON ((-8209105.122 5566643.188, -8209078.4...</td>\n",
       "    </tr>\n",
       "    <tr>\n",
       "      <th>...</th>\n",
       "      <td>...</td>\n",
       "      <td>...</td>\n",
       "    </tr>\n",
       "    <tr>\n",
       "      <th>5716434</th>\n",
       "      <td>4.38</td>\n",
       "      <td>POLYGON ((-8215328.048 5027787.294, -8215319.3...</td>\n",
       "    </tr>\n",
       "    <tr>\n",
       "      <th>5716435</th>\n",
       "      <td>4.74</td>\n",
       "      <td>POLYGON ((-8215264.930 5027796.217, -8215251.8...</td>\n",
       "    </tr>\n",
       "    <tr>\n",
       "      <th>5716436</th>\n",
       "      <td>5.17</td>\n",
       "      <td>POLYGON ((-8215132.827 5027481.400, -8215125.5...</td>\n",
       "    </tr>\n",
       "    <tr>\n",
       "      <th>5716437</th>\n",
       "      <td>5.45</td>\n",
       "      <td>POLYGON ((-8215366.164 5027732.854, -8215365.3...</td>\n",
       "    </tr>\n",
       "    <tr>\n",
       "      <th>5716438</th>\n",
       "      <td>5.71</td>\n",
       "      <td>POLYGON ((-8215304.426 5027745.500, -8215305.0...</td>\n",
       "    </tr>\n",
       "  </tbody>\n",
       "</table>\n",
       "<p>5716439 rows × 2 columns</p>\n",
       "</div>"
      ],
      "text/plain": [
       "         height                                           geometry\n",
       "0          5.73  POLYGON ((-8209083.637 5566815.941, -8209079.1...\n",
       "1          5.73  POLYGON ((-8209092.654 5566766.181, -8209071.0...\n",
       "2          4.38  POLYGON ((-8209005.825 5566671.511, -8208994.5...\n",
       "3          5.73  POLYGON ((-8209241.377 5566652.734, -8209229.4...\n",
       "4          5.73  POLYGON ((-8209105.122 5566643.188, -8209078.4...\n",
       "...         ...                                                ...\n",
       "5716434    4.38  POLYGON ((-8215328.048 5027787.294, -8215319.3...\n",
       "5716435    4.74  POLYGON ((-8215264.930 5027796.217, -8215251.8...\n",
       "5716436    5.17  POLYGON ((-8215132.827 5027481.400, -8215125.5...\n",
       "5716437    5.45  POLYGON ((-8215366.164 5027732.854, -8215365.3...\n",
       "5716438    5.71  POLYGON ((-8215304.426 5027745.500, -8215305.0...\n",
       "\n",
       "[5716439 rows x 2 columns]"
      ]
     },
     "execution_count": 4,
     "metadata": {},
     "output_type": "execute_result"
    }
   ],
   "source": [
    "in_dir = \"data/NewYork_2/gml_files\"\n",
    "out_path = \"data/NewYork_2/new_york_multi.feather\"\n",
    "src_crs = \"EPSG:4326\"\n",
    "\n",
    "batch_gml_to_feather(in_dir, out_path, mode= \"o\", log_name= \"new_york\", src_crs= src_crs)"
   ]
  },
  {
   "cell_type": "code",
   "execution_count": null,
   "metadata": {},
   "outputs": [
    {
     "data": {
      "text/plain": [
       "0.926774263381958"
      ]
     },
     "metadata": {},
     "output_type": "display_data"
    }
   ],
   "source": [
    "ny_multi_gdf = gpd.read_feather(\"data/NewYork_2/new_york_multi.feather\")\n",
    "ny_gdf = gpd.read_feather(\"data/NewYork_2/new_york.feather\")\n",
    "ny_multi_gdf.area.sum() - ny_gdf.area.sum()"
   ]
  },
  {
   "cell_type": "markdown",
   "metadata": {},
   "source": [
    "## Examine problem files"
   ]
  },
  {
   "cell_type": "markdown",
   "metadata": {},
   "source": [
    "Tokyo Dataset is facing empty multipolygons, so this part aims to read it manually without fiona"
   ]
  },
  {
   "cell_type": "code",
   "execution_count": 4,
   "metadata": {},
   "outputs": [
    {
     "data": {
      "text/html": [
       "<div>\n",
       "<style scoped>\n",
       "    .dataframe tbody tr th:only-of-type {\n",
       "        vertical-align: middle;\n",
       "    }\n",
       "\n",
       "    .dataframe tbody tr th {\n",
       "        vertical-align: top;\n",
       "    }\n",
       "\n",
       "    .dataframe thead th {\n",
       "        text-align: right;\n",
       "    }\n",
       "</style>\n",
       "<table border=\"1\" class=\"dataframe\">\n",
       "  <thead>\n",
       "    <tr style=\"text-align: right;\">\n",
       "      <th></th>\n",
       "      <th>geometry</th>\n",
       "      <th>measuredHeight</th>\n",
       "    </tr>\n",
       "  </thead>\n",
       "  <tbody>\n",
       "    <tr>\n",
       "      <th>0</th>\n",
       "      <td>MULTIPOLYGON EMPTY</td>\n",
       "      <td>2.8</td>\n",
       "    </tr>\n",
       "    <tr>\n",
       "      <th>1</th>\n",
       "      <td>MULTIPOLYGON EMPTY</td>\n",
       "      <td>3.6</td>\n",
       "    </tr>\n",
       "    <tr>\n",
       "      <th>2</th>\n",
       "      <td>MULTIPOLYGON EMPTY</td>\n",
       "      <td>3.6</td>\n",
       "    </tr>\n",
       "    <tr>\n",
       "      <th>3</th>\n",
       "      <td>MULTIPOLYGON EMPTY</td>\n",
       "      <td>16.1</td>\n",
       "    </tr>\n",
       "    <tr>\n",
       "      <th>4</th>\n",
       "      <td>MULTIPOLYGON EMPTY</td>\n",
       "      <td>9.3</td>\n",
       "    </tr>\n",
       "    <tr>\n",
       "      <th>...</th>\n",
       "      <td>...</td>\n",
       "      <td>...</td>\n",
       "    </tr>\n",
       "    <tr>\n",
       "      <th>3649</th>\n",
       "      <td>MULTIPOLYGON EMPTY</td>\n",
       "      <td>6.2</td>\n",
       "    </tr>\n",
       "    <tr>\n",
       "      <th>3650</th>\n",
       "      <td>MULTIPOLYGON EMPTY</td>\n",
       "      <td>42.2</td>\n",
       "    </tr>\n",
       "    <tr>\n",
       "      <th>3651</th>\n",
       "      <td>MULTIPOLYGON EMPTY</td>\n",
       "      <td>10.3</td>\n",
       "    </tr>\n",
       "    <tr>\n",
       "      <th>3652</th>\n",
       "      <td>MULTIPOLYGON EMPTY</td>\n",
       "      <td>19.3</td>\n",
       "    </tr>\n",
       "    <tr>\n",
       "      <th>3653</th>\n",
       "      <td>MULTIPOLYGON EMPTY</td>\n",
       "      <td>26.4</td>\n",
       "    </tr>\n",
       "  </tbody>\n",
       "</table>\n",
       "<p>3654 rows × 2 columns</p>\n",
       "</div>"
      ],
      "text/plain": [
       "                geometry  measuredHeight\n",
       "0     MULTIPOLYGON EMPTY             2.8\n",
       "1     MULTIPOLYGON EMPTY             3.6\n",
       "2     MULTIPOLYGON EMPTY             3.6\n",
       "3     MULTIPOLYGON EMPTY            16.1\n",
       "4     MULTIPOLYGON EMPTY             9.3\n",
       "...                  ...             ...\n",
       "3649  MULTIPOLYGON EMPTY             6.2\n",
       "3650  MULTIPOLYGON EMPTY            42.2\n",
       "3651  MULTIPOLYGON EMPTY            10.3\n",
       "3652  MULTIPOLYGON EMPTY            19.3\n",
       "3653  MULTIPOLYGON EMPTY            26.4\n",
       "\n",
       "[3654 rows x 2 columns]"
      ]
     },
     "execution_count": 4,
     "metadata": {},
     "output_type": "execute_result"
    }
   ],
   "source": [
    "# Fiona fails to load the multipolygons somehow\n",
    "with open(\"logs/tokyo.txt\") as f:\n",
    "    files = f.read()\n",
    "\n",
    "files = files.split(\"\\n\")\n",
    "problem_gdfs = []\n",
    "\n",
    "for f in files:\n",
    "    # Extracts features\n",
    "    with fiona.open(f, 'r') as src:\n",
    "        features = list(src)\n",
    "    \n",
    "    problem_gdfs.append(gpd.GeoDataFrame.from_features(features))\n",
    "\n",
    "problem_gdfs = gpd.GeoDataFrame(pd.concat(problem_gdfs)).reset_index(drop= True)\n",
    "problem_gdfs = problem_gdfs[[\"geometry\", \"measuredHeight\"]]\n",
    "\n",
    "problem_gdfs"
   ]
  },
  {
   "cell_type": "code",
   "execution_count": 91,
   "metadata": {},
   "outputs": [
    {
     "data": {
      "text/html": [
       "<div>\n",
       "<style scoped>\n",
       "    .dataframe tbody tr th:only-of-type {\n",
       "        vertical-align: middle;\n",
       "    }\n",
       "\n",
       "    .dataframe tbody tr th {\n",
       "        vertical-align: top;\n",
       "    }\n",
       "\n",
       "    .dataframe thead th {\n",
       "        text-align: right;\n",
       "    }\n",
       "</style>\n",
       "<table border=\"1\" class=\"dataframe\">\n",
       "  <thead>\n",
       "    <tr style=\"text-align: right;\">\n",
       "      <th></th>\n",
       "      <th>height</th>\n",
       "      <th>geometry</th>\n",
       "    </tr>\n",
       "  </thead>\n",
       "  <tbody>\n",
       "    <tr>\n",
       "      <th>0</th>\n",
       "      <td>47.2</td>\n",
       "      <td>POLYGON ((15551281.170 4257975.203, 15551281.1...</td>\n",
       "    </tr>\n",
       "    <tr>\n",
       "      <th>1</th>\n",
       "      <td>9.6</td>\n",
       "      <td>POLYGON ((15550861.584 4257238.269, 15550857.6...</td>\n",
       "    </tr>\n",
       "    <tr>\n",
       "      <th>2</th>\n",
       "      <td>21.3</td>\n",
       "      <td>POLYGON ((15550987.243 4257966.064, 15550986.8...</td>\n",
       "    </tr>\n",
       "    <tr>\n",
       "      <th>3</th>\n",
       "      <td>18.9</td>\n",
       "      <td>POLYGON ((15551071.511 4257915.512, 15551077.0...</td>\n",
       "    </tr>\n",
       "    <tr>\n",
       "      <th>4</th>\n",
       "      <td>29.4</td>\n",
       "      <td>POLYGON ((15550974.838 4257788.037, 15550971.7...</td>\n",
       "    </tr>\n",
       "    <tr>\n",
       "      <th>...</th>\n",
       "      <td>...</td>\n",
       "      <td>...</td>\n",
       "    </tr>\n",
       "    <tr>\n",
       "      <th>1375</th>\n",
       "      <td>7.1</td>\n",
       "      <td>POLYGON ((15550804.951 4257253.915, 15550804.5...</td>\n",
       "    </tr>\n",
       "    <tr>\n",
       "      <th>1376</th>\n",
       "      <td>6.9</td>\n",
       "      <td>POLYGON ((15550916.926 4257346.304, 15550903.6...</td>\n",
       "    </tr>\n",
       "    <tr>\n",
       "      <th>1377</th>\n",
       "      <td>7.1</td>\n",
       "      <td>POLYGON ((15550121.593 4257452.333, 15550122.1...</td>\n",
       "    </tr>\n",
       "    <tr>\n",
       "      <th>1378</th>\n",
       "      <td>2.7</td>\n",
       "      <td>POLYGON ((15550766.039 4257183.125, 15550763.5...</td>\n",
       "    </tr>\n",
       "    <tr>\n",
       "      <th>1379</th>\n",
       "      <td>5.0</td>\n",
       "      <td>POLYGON ((15551319.375 4257187.390, 15551316.4...</td>\n",
       "    </tr>\n",
       "  </tbody>\n",
       "</table>\n",
       "<p>1380 rows × 2 columns</p>\n",
       "</div>"
      ],
      "text/plain": [
       "      height                                           geometry\n",
       "0       47.2  POLYGON ((15551281.170 4257975.203, 15551281.1...\n",
       "1        9.6  POLYGON ((15550861.584 4257238.269, 15550857.6...\n",
       "2       21.3  POLYGON ((15550987.243 4257966.064, 15550986.8...\n",
       "3       18.9  POLYGON ((15551071.511 4257915.512, 15551077.0...\n",
       "4       29.4  POLYGON ((15550974.838 4257788.037, 15550971.7...\n",
       "...      ...                                                ...\n",
       "1375     7.1  POLYGON ((15550804.951 4257253.915, 15550804.5...\n",
       "1376     6.9  POLYGON ((15550916.926 4257346.304, 15550903.6...\n",
       "1377     7.1  POLYGON ((15550121.593 4257452.333, 15550122.1...\n",
       "1378     2.7  POLYGON ((15550766.039 4257183.125, 15550763.5...\n",
       "1379     5.0  POLYGON ((15551319.375 4257187.390, 15551316.4...\n",
       "\n",
       "[1380 rows x 2 columns]"
      ]
     },
     "execution_count": 91,
     "metadata": {},
     "output_type": "execute_result"
    }
   ],
   "source": [
    "# Manually read the gml as xml and extract the geometry\n",
    "doc = xml.dom.minidom.parse(\"data/13100_tokyo23-ku_2020_citygml_3_2_op/udx/bldg/53394525_bldg_6697_2_op.gml\")\n",
    "# buildings = doc.getElementsByTagName(\"bldg:lod1Solid\") # This is Plateau dataset specific\n",
    "buildings = doc.getElementsByTagName(\"bldg:Building\") # This is Plateau dataset specific\n",
    "buildings_coords = [building\\\n",
    "                    .getElementsByTagName(\"bldg:lod1Solid\")[0]\\\n",
    "                    .getElementsByTagName(\"gml:Polygon\")[0]\\\n",
    "                    .getElementsByTagName(\"gml:posList\")[0]\\\n",
    "                    .childNodes[0]\\\n",
    "                    .nodeValue.split(\" \") for building in buildings]\n",
    "# Conversion is done here to preserve the precision due to python rounding shennanigans\n",
    "transformer = pyproj.Transformer.from_crs(\"EPSG:6668\", \"EPSG:3857\")\n",
    "buildings_coords = [\n",
    "                    [transformer.transform(buildings_coords[bld][i], \n",
    "                        buildings_coords[bld][i+1]) for i in range(0, len(buildings_coords[bld]), 3)] \n",
    "                    for bld in range(len(buildings_coords))\n",
    "                    ]\n",
    "geometry = gpd.GeoSeries([shapely.Polygon(coords) for coords in buildings_coords])\n",
    "\n",
    "# Manually extract the height\n",
    "buildings_height = doc.getElementsByTagName(\"bldg:measuredHeight\")\n",
    "buildings_height = [float(height.childNodes[0].nodeValue) for height in buildings_height]\n",
    "height_series = pd.DataFrame(buildings_height, columns= [\"height\"])\n",
    "\n",
    "gdf = gpd.GeoDataFrame(data= height_series, geometry= geometry)\n",
    "gdf"
   ]
  },
  {
   "cell_type": "markdown",
   "metadata": {},
   "source": [
    "Osaka has straight up missing height tags even within the gml file"
   ]
  },
  {
   "cell_type": "code",
   "execution_count": 4,
   "metadata": {},
   "outputs": [
    {
     "data": {
      "text/html": [
       "<div>\n",
       "<style scoped>\n",
       "    .dataframe tbody tr th:only-of-type {\n",
       "        vertical-align: middle;\n",
       "    }\n",
       "\n",
       "    .dataframe tbody tr th {\n",
       "        vertical-align: top;\n",
       "    }\n",
       "\n",
       "    .dataframe thead th {\n",
       "        text-align: right;\n",
       "    }\n",
       "</style>\n",
       "<table border=\"1\" class=\"dataframe\">\n",
       "  <thead>\n",
       "    <tr style=\"text-align: right;\">\n",
       "      <th></th>\n",
       "      <th>geometry</th>\n",
       "      <th>gml_id</th>\n",
       "      <th>建物ID</th>\n",
       "      <th>枝番</th>\n",
       "      <th>prefecture</th>\n",
       "      <th>city</th>\n",
       "      <th>key</th>\n",
       "      <th>codeValue</th>\n",
       "      <th>theme</th>\n",
       "      <th>imageURI</th>\n",
       "      <th>mimeType</th>\n",
       "    </tr>\n",
       "  </thead>\n",
       "  <tbody>\n",
       "    <tr>\n",
       "      <th>0</th>\n",
       "      <td>MULTIPOLYGON Z (((135.37611 34.64792 1.25830, ...</td>\n",
       "      <td>BLD_4e8cebca-8759-4283-9f2c-099eeac4a7ae</td>\n",
       "      <td>27100-bldg-1</td>\n",
       "      <td>1.0</td>\n",
       "      <td>27.0</td>\n",
       "      <td>27100.0</td>\n",
       "      <td>2.0</td>\n",
       "      <td>2.0</td>\n",
       "      <td>NaN</td>\n",
       "      <td>NaN</td>\n",
       "      <td>NaN</td>\n",
       "    </tr>\n",
       "    <tr>\n",
       "      <th>1</th>\n",
       "      <td>MULTIPOLYGON Z (((135.37730 34.64591 2.22380, ...</td>\n",
       "      <td>BLD_96cc393f-efde-464e-8e90-129c4ccad2ef</td>\n",
       "      <td>27100-bldg-3</td>\n",
       "      <td>1.0</td>\n",
       "      <td>27.0</td>\n",
       "      <td>27100.0</td>\n",
       "      <td>2.0</td>\n",
       "      <td>2.0</td>\n",
       "      <td>NaN</td>\n",
       "      <td>NaN</td>\n",
       "      <td>NaN</td>\n",
       "    </tr>\n",
       "    <tr>\n",
       "      <th>2</th>\n",
       "      <td>MULTIPOLYGON Z (((135.37911 34.64358 3.14470, ...</td>\n",
       "      <td>BLD_80a14177-1694-4eab-b843-7c527b887402</td>\n",
       "      <td>27100-bldg-4</td>\n",
       "      <td>1.0</td>\n",
       "      <td>27.0</td>\n",
       "      <td>27100.0</td>\n",
       "      <td>2.0</td>\n",
       "      <td>2.0</td>\n",
       "      <td>NaN</td>\n",
       "      <td>NaN</td>\n",
       "      <td>NaN</td>\n",
       "    </tr>\n",
       "    <tr>\n",
       "      <th>3</th>\n",
       "      <td>MULTIPOLYGON Z (((135.37907 34.64354 3.28320, ...</td>\n",
       "      <td>BLD_9f6e5948-6968-4192-87aa-458ebc269f55</td>\n",
       "      <td>27100-bldg-5</td>\n",
       "      <td>1.0</td>\n",
       "      <td>27.0</td>\n",
       "      <td>27100.0</td>\n",
       "      <td>2.0</td>\n",
       "      <td>2.0</td>\n",
       "      <td>NaN</td>\n",
       "      <td>NaN</td>\n",
       "      <td>NaN</td>\n",
       "    </tr>\n",
       "    <tr>\n",
       "      <th>4</th>\n",
       "      <td>MULTIPOLYGON Z (((135.37687 34.64791 3.55590, ...</td>\n",
       "      <td>BLD_a3b46c03-5a24-4494-bf90-f07d3738e228</td>\n",
       "      <td>27100-bldg-2</td>\n",
       "      <td>1.0</td>\n",
       "      <td>27.0</td>\n",
       "      <td>27100.0</td>\n",
       "      <td>2.0</td>\n",
       "      <td>2.0</td>\n",
       "      <td>NaN</td>\n",
       "      <td>NaN</td>\n",
       "      <td>NaN</td>\n",
       "    </tr>\n",
       "    <tr>\n",
       "      <th>5</th>\n",
       "      <td>None</td>\n",
       "      <td>fme-gen-ece9cd30-11f8-492b-9a2d-ad6153a7f88a</td>\n",
       "      <td>NaN</td>\n",
       "      <td>NaN</td>\n",
       "      <td>NaN</td>\n",
       "      <td>NaN</td>\n",
       "      <td>NaN</td>\n",
       "      <td>NaN</td>\n",
       "      <td>rgbTexture</td>\n",
       "      <td>NaN</td>\n",
       "      <td>NaN</td>\n",
       "    </tr>\n",
       "    <tr>\n",
       "      <th>6</th>\n",
       "      <td>None</td>\n",
       "      <td>fme-gen-ebed22fd-125f-45b4-815d-9080d68b9498</td>\n",
       "      <td>NaN</td>\n",
       "      <td>NaN</td>\n",
       "      <td>NaN</td>\n",
       "      <td>NaN</td>\n",
       "      <td>NaN</td>\n",
       "      <td>NaN</td>\n",
       "      <td>rgbTexture</td>\n",
       "      <td>NaN</td>\n",
       "      <td>NaN</td>\n",
       "    </tr>\n",
       "    <tr>\n",
       "      <th>7</th>\n",
       "      <td>None</td>\n",
       "      <td>fme-gen-d9f03ada-8ffd-418f-afb2-067ab5012918</td>\n",
       "      <td>NaN</td>\n",
       "      <td>NaN</td>\n",
       "      <td>NaN</td>\n",
       "      <td>NaN</td>\n",
       "      <td>NaN</td>\n",
       "      <td>NaN</td>\n",
       "      <td>rgbTexture</td>\n",
       "      <td>NaN</td>\n",
       "      <td>NaN</td>\n",
       "    </tr>\n",
       "    <tr>\n",
       "      <th>8</th>\n",
       "      <td>None</td>\n",
       "      <td>fme-gen-6e1841d6-676a-4d90-b39d-a70ee4691c0f</td>\n",
       "      <td>NaN</td>\n",
       "      <td>NaN</td>\n",
       "      <td>NaN</td>\n",
       "      <td>NaN</td>\n",
       "      <td>NaN</td>\n",
       "      <td>NaN</td>\n",
       "      <td>rgbTexture</td>\n",
       "      <td>NaN</td>\n",
       "      <td>NaN</td>\n",
       "    </tr>\n",
       "    <tr>\n",
       "      <th>9</th>\n",
       "      <td>None</td>\n",
       "      <td>fme-gen-0dc34428-8b95-46c5-8dd9-a976f8c3f919</td>\n",
       "      <td>NaN</td>\n",
       "      <td>NaN</td>\n",
       "      <td>NaN</td>\n",
       "      <td>NaN</td>\n",
       "      <td>NaN</td>\n",
       "      <td>NaN</td>\n",
       "      <td>rgbTexture</td>\n",
       "      <td>52350422_bldg_6697_appearance/27100-bldg-32887...</td>\n",
       "      <td>image/jpg</td>\n",
       "    </tr>\n",
       "    <tr>\n",
       "      <th>10</th>\n",
       "      <td>None</td>\n",
       "      <td>fme-gen-378feedf-bed6-441d-a50d-324a28cc77cf</td>\n",
       "      <td>NaN</td>\n",
       "      <td>NaN</td>\n",
       "      <td>NaN</td>\n",
       "      <td>NaN</td>\n",
       "      <td>NaN</td>\n",
       "      <td>NaN</td>\n",
       "      <td>rgbTexture</td>\n",
       "      <td>NaN</td>\n",
       "      <td>NaN</td>\n",
       "    </tr>\n",
       "    <tr>\n",
       "      <th>11</th>\n",
       "      <td>None</td>\n",
       "      <td>fme-gen-e9f65ef1-8e5a-49f8-90fd-99804ecad41a</td>\n",
       "      <td>NaN</td>\n",
       "      <td>NaN</td>\n",
       "      <td>NaN</td>\n",
       "      <td>NaN</td>\n",
       "      <td>NaN</td>\n",
       "      <td>NaN</td>\n",
       "      <td>rgbTexture</td>\n",
       "      <td>NaN</td>\n",
       "      <td>NaN</td>\n",
       "    </tr>\n",
       "  </tbody>\n",
       "</table>\n",
       "</div>"
      ],
      "text/plain": [
       "                                             geometry  \\\n",
       "0   MULTIPOLYGON Z (((135.37611 34.64792 1.25830, ...   \n",
       "1   MULTIPOLYGON Z (((135.37730 34.64591 2.22380, ...   \n",
       "2   MULTIPOLYGON Z (((135.37911 34.64358 3.14470, ...   \n",
       "3   MULTIPOLYGON Z (((135.37907 34.64354 3.28320, ...   \n",
       "4   MULTIPOLYGON Z (((135.37687 34.64791 3.55590, ...   \n",
       "5                                                None   \n",
       "6                                                None   \n",
       "7                                                None   \n",
       "8                                                None   \n",
       "9                                                None   \n",
       "10                                               None   \n",
       "11                                               None   \n",
       "\n",
       "                                          gml_id          建物ID   枝番  \\\n",
       "0       BLD_4e8cebca-8759-4283-9f2c-099eeac4a7ae  27100-bldg-1  1.0   \n",
       "1       BLD_96cc393f-efde-464e-8e90-129c4ccad2ef  27100-bldg-3  1.0   \n",
       "2       BLD_80a14177-1694-4eab-b843-7c527b887402  27100-bldg-4  1.0   \n",
       "3       BLD_9f6e5948-6968-4192-87aa-458ebc269f55  27100-bldg-5  1.0   \n",
       "4       BLD_a3b46c03-5a24-4494-bf90-f07d3738e228  27100-bldg-2  1.0   \n",
       "5   fme-gen-ece9cd30-11f8-492b-9a2d-ad6153a7f88a           NaN  NaN   \n",
       "6   fme-gen-ebed22fd-125f-45b4-815d-9080d68b9498           NaN  NaN   \n",
       "7   fme-gen-d9f03ada-8ffd-418f-afb2-067ab5012918           NaN  NaN   \n",
       "8   fme-gen-6e1841d6-676a-4d90-b39d-a70ee4691c0f           NaN  NaN   \n",
       "9   fme-gen-0dc34428-8b95-46c5-8dd9-a976f8c3f919           NaN  NaN   \n",
       "10  fme-gen-378feedf-bed6-441d-a50d-324a28cc77cf           NaN  NaN   \n",
       "11  fme-gen-e9f65ef1-8e5a-49f8-90fd-99804ecad41a           NaN  NaN   \n",
       "\n",
       "    prefecture     city  key  codeValue       theme  \\\n",
       "0         27.0  27100.0  2.0        2.0         NaN   \n",
       "1         27.0  27100.0  2.0        2.0         NaN   \n",
       "2         27.0  27100.0  2.0        2.0         NaN   \n",
       "3         27.0  27100.0  2.0        2.0         NaN   \n",
       "4         27.0  27100.0  2.0        2.0         NaN   \n",
       "5          NaN      NaN  NaN        NaN  rgbTexture   \n",
       "6          NaN      NaN  NaN        NaN  rgbTexture   \n",
       "7          NaN      NaN  NaN        NaN  rgbTexture   \n",
       "8          NaN      NaN  NaN        NaN  rgbTexture   \n",
       "9          NaN      NaN  NaN        NaN  rgbTexture   \n",
       "10         NaN      NaN  NaN        NaN  rgbTexture   \n",
       "11         NaN      NaN  NaN        NaN  rgbTexture   \n",
       "\n",
       "                                             imageURI   mimeType  \n",
       "0                                                 NaN        NaN  \n",
       "1                                                 NaN        NaN  \n",
       "2                                                 NaN        NaN  \n",
       "3                                                 NaN        NaN  \n",
       "4                                                 NaN        NaN  \n",
       "5                                                 NaN        NaN  \n",
       "6                                                 NaN        NaN  \n",
       "7                                                 NaN        NaN  \n",
       "8                                                 NaN        NaN  \n",
       "9   52350422_bldg_6697_appearance/27100-bldg-32887...  image/jpg  \n",
       "10                                                NaN        NaN  \n",
       "11                                                NaN        NaN  "
      ]
     },
     "execution_count": 4,
     "metadata": {},
     "output_type": "execute_result"
    }
   ],
   "source": [
    "with open(\"logs/osaka.txt\") as f:\n",
    "    files = f.read()\n",
    "\n",
    "files = files.split(\"\\n\")\n",
    "problem_gdfs = []\n",
    "\n",
    "for f in files:\n",
    "    # Extracts features\n",
    "    with fiona.open(f, 'r') as src:\n",
    "        features = list(src)\n",
    "    \n",
    "    problem_gdfs.append(gpd.GeoDataFrame.from_features(features))\n",
    "\n",
    "problem_gdfs = gpd.GeoDataFrame(pd.concat(problem_gdfs)).reset_index(drop= True)\n",
    "# problem_gdfs = problem_gdfs[[\"geometry\", \"measuredHeight\"]]\n",
    "problem_gdfs"
   ]
  },
  {
   "cell_type": "markdown",
   "metadata": {},
   "source": [
    "Tokyo still has way lesser buildings than the original one, but forcing the manual method solves most of it issue"
   ]
  },
  {
   "cell_type": "code",
   "execution_count": 3,
   "metadata": {},
   "outputs": [
    {
     "data": {
      "text/plain": [
       "(1768294, 1740787)"
      ]
     },
     "execution_count": 3,
     "metadata": {},
     "output_type": "execute_result"
    }
   ],
   "source": [
    "old_tokyo_gdf = gpd.read_file(\"data/full_Tokyo_plateau/plateau_3857_2D.shp\")\n",
    "new_tokyo_gdf = gpd.read_feather(\"data/full_Tokyo_plateau/tokyo_fixed.feather\")\n",
    "len(old_tokyo_gdf), len(new_tokyo_gdf)"
   ]
  },
  {
   "cell_type": "markdown",
   "metadata": {},
   "source": [
    "Osaka doesn't change for forced manual so normal mode works fine"
   ]
  },
  {
   "cell_type": "code",
   "execution_count": 13,
   "metadata": {},
   "outputs": [
    {
     "data": {
      "text/plain": [
       "(544280, 560025, 560025)"
      ]
     },
     "execution_count": 13,
     "metadata": {},
     "output_type": "execute_result"
    }
   ],
   "source": [
    "osaka_1_gdf = gpd.read_feather(\"data/osaka/osaka_full.feather\")\n",
    "osaka_2_gdf = gpd.read_feather(\"data/osaka/osaka_full_2.feather\")\n",
    "osaka_3_gdf = gpd.read_feather(\"data/osaka/osaka_full_manual.feather\")\n",
    "len(osaka_1_gdf), len(osaka_2_gdf), len(osaka_3_gdf)"
   ]
  },
  {
   "cell_type": "markdown",
   "metadata": {},
   "source": [
    "## Divide into grids"
   ]
  },
  {
   "cell_type": "markdown",
   "metadata": {},
   "source": [
    "### Load files"
   ]
  },
  {
   "cell_type": "code",
   "execution_count": 2,
   "metadata": {},
   "outputs": [],
   "source": [
    "# Tokyo\n",
    "tokyo_gdf = gpd.read_feather(\"data/full_Tokyo_plateau/tokyo_fixed.feather\")\n",
    "\n",
    "# Osaka\n",
    "osaka_gdf = gpd.read_feather(\"data/osaka/osaka_fixed.feather\")\n",
    "\n",
    "# New York\n",
    "ny_gdf = gpd.read_feather(\"data/NewYork_2/new_york.feather\")\n",
    "\n",
    "# # Final check for nan values\n",
    "len(tokyo_gdf[pd.DataFrame.any(tokyo_gdf.isna(), axis= 1)]), len(osaka_gdf[pd.DataFrame.any(osaka_gdf.isna(), axis= 1)]), len(ny_gdf[pd.DataFrame.any(ny_gdf.isna(), axis= 1)])"
   ]
  },
  {
   "cell_type": "markdown",
   "metadata": {},
   "source": [
    "### Extract Points from datasets"
   ]
  },
  {
   "cell_type": "code",
   "execution_count": 8,
   "metadata": {},
   "outputs": [],
   "source": [
    "# # Tokyo\n",
    "# tokyo_pts = []\n",
    "# for i in range(len(tokyo_gdf)):\n",
    "#     tokyo_pts.append(np.dstack(tokyo_gdf.geometry[i].exterior.coords.xy).squeeze(0))\n",
    "# tokyo_pts = np.concatenate(tokyo_pts)\n",
    "\n",
    "# # Osaka\n",
    "# osaka_pts = []\n",
    "# for i in range(len(osaka_gdf)):\n",
    "#     osaka_pts.append(np.dstack(osaka_gdf.geometry[i].exterior.coords.xy).squeeze(0))\n",
    "# osaka_pts = np.concatenate(osaka_pts)\n",
    "\n",
    "# New York\n",
    "ny_pts = []\n",
    "for i in range(len(ny_gdf)):\n",
    "    ny_pts.append(np.dstack(ny_gdf.geometry[i].exterior.coords.xy).squeeze(0))\n",
    "ny_pts = np.concatenate(ny_pts)\n",
    "\n",
    "# tokyo_pts.shape, osaka_pts.shape, ny_pts.shape"
   ]
  },
  {
   "cell_type": "markdown",
   "metadata": {},
   "source": [
    "### Get concave hulls that are bounding the dataset"
   ]
  },
  {
   "cell_type": "code",
   "execution_count": 4,
   "metadata": {},
   "outputs": [],
   "source": [
    "# '''\n",
    "# Copyright (C) 2018  Andre Lester Kruger\n",
    "# ConcaveHull.py is free software: you can redistribute it and/or modify\n",
    "# it under the terms of the GNU General Public License as published by\n",
    "# the Free Software Foundation, either version 2 of the License, or\n",
    "# (at your option) any later version.\n",
    "# ConcaveHull.py is distributed in the hope that it will be useful,\n",
    "# but WITHOUT ANY WARRANTY; without even the implied warranty of\n",
    "# MERCHANTABILITY or FITNESS FOR A PARTICULAR PURPOSE.  See the\n",
    "# GNU General Public License for more details.\n",
    "# You should have received a copy of the GNU General Public License\n",
    "# along with ConcaveHull.py.  If not, see <http://www.gnu.org/licenses/>.\n",
    "# '''\n",
    "\n",
    "# import bisect\n",
    "# from collections import OrderedDict\n",
    "# import math\n",
    "# #import numpy as np\n",
    "# import matplotlib.tri as tri\n",
    "# from shapely.geometry import LineString\n",
    "# from shapely.geometry import Polygon\n",
    "# from shapely.ops import linemerge\n",
    "\n",
    "\n",
    "# class ConcaveHull:\n",
    "    \n",
    "#     def __init__(self):\n",
    "#         self.triangles = {}\n",
    "#         self.crs = {}\n",
    "        \n",
    "    \n",
    "#     def loadpoints(self, points):\n",
    "#         #self.points = np.array(points)\n",
    "#         self.points = points\n",
    "        \n",
    "        \n",
    "#     def edge(self, key, triangle):\n",
    "#         '''Calculate the length of the triangle's outside edge\n",
    "#         and returns the [length, key]'''\n",
    "#         pos = triangle[1].index(-1)\n",
    "#         if pos==0:\n",
    "#             x1, y1 = self.points[triangle[0][0]]\n",
    "#             x2, y2 = self.points[triangle[0][1]]\n",
    "#         elif pos==1:\n",
    "#             x1, y1 = self.points[triangle[0][1]]\n",
    "#             x2, y2 = self.points[triangle[0][2]]\n",
    "#         elif pos==2:\n",
    "#             x1, y1 = self.points[triangle[0][0]]\n",
    "#             x2, y2 = self.points[triangle[0][2]]\n",
    "#         length = ((x1-x2)**2+(y1-y2)**2)**0.5\n",
    "#         rec = [length, key]\n",
    "#         return rec\n",
    "        \n",
    "    \n",
    "#     def triangulate(self):\n",
    "        \n",
    "#         if len(self.points) < 2:\n",
    "#             raise Exception('CountError: You need at least 3 points to Triangulate')\n",
    "        \n",
    "#         temp = list(zip(*self.points))\n",
    "#         x, y = list(temp[0]), list(temp[1])\n",
    "#         del(temp)\n",
    "        \n",
    "#         triang = tri.Triangulation(x, y)\n",
    "        \n",
    "#         self.triangles = {}\n",
    "        \n",
    "#         for i, triangle in enumerate(triang.triangles):\n",
    "#             self.triangles[i] = [list(triangle), list(triang.neighbors[i])]\n",
    "        \n",
    "\n",
    "#     def calculatehull(self, tol=50):\n",
    "        \n",
    "#         self.tol = tol\n",
    "        \n",
    "#         if len(self.triangles) == 0:\n",
    "#             self.triangulate()\n",
    "        \n",
    "#         # All triangles with one boundary longer than the tolerance (self.tol)\n",
    "#         # is added to a sorted deletion list.\n",
    "#         # The list is kept sorted from according to the boundary edge's length\n",
    "#         # using bisect        \n",
    "#         deletion = []    \n",
    "#         self.boundary_vertices = set()\n",
    "#         for i, triangle in self.triangles.items():\n",
    "#             if -1 in triangle[1]:\n",
    "#                 for pos, neigh in enumerate(triangle[1]):\n",
    "#                     if neigh == -1:\n",
    "#                         if pos == 0:\n",
    "#                             self.boundary_vertices.add(triangle[0][0])\n",
    "#                             self.boundary_vertices.add(triangle[0][1])\n",
    "#                         elif pos == 1:\n",
    "#                             self.boundary_vertices.add(triangle[0][1])\n",
    "#                             self.boundary_vertices.add(triangle[0][2])\n",
    "#                         elif pos == 2:\n",
    "#                             self.boundary_vertices.add(triangle[0][0])\n",
    "#                             self.boundary_vertices.add(triangle[0][2])\n",
    "#             if -1 in triangle[1] and triangle[1].count(-1) == 1:\n",
    "#                 rec = self.edge(i, triangle)\n",
    "#                 if rec[0] > self.tol and triangle[1].count(-1) == 1:\n",
    "#                     bisect.insort(deletion, rec)\n",
    "                    \n",
    "#         while len(deletion) != 0:\n",
    "#             # The triangles with the longest boundary edges will be \n",
    "#             # deleted first\n",
    "#             item = deletion.pop()\n",
    "#             ref = item[1]\n",
    "#             flag = 0\n",
    "            \n",
    "#             # Triangle will not be deleted if it already has two boundary edges            \n",
    "#             if self.triangles[ref][1].count(-1) > 1:\n",
    "#                 continue\n",
    "                \n",
    "#             # Triangle will not be deleted if the inside node which is not\n",
    "#             # on this triangle's boundary is already on the boundary of \n",
    "#             # another triangle\n",
    "#             adjust = {0: 2, 1: 0, 2: 1}            \n",
    "#             for i, neigh in enumerate(self.triangles[ref][1]):\n",
    "#                 j = adjust[i]\n",
    "#                 if neigh == -1 and self.triangles[ref][0][j] in self.boundary_vertices:\n",
    "#                     flag = 1\n",
    "#                     break\n",
    "#             if flag == 1:\n",
    "#                 continue\n",
    "           \n",
    "#             for i, neigh in enumerate(self.triangles[ref][1]):\n",
    "#                 if neigh == -1:\n",
    "#                     continue\n",
    "#                 pos = self.triangles[neigh][1].index(ref)\n",
    "#                 self.triangles[neigh][1][pos] = -1\n",
    "#                 rec = self.edge(neigh, self.triangles[neigh])\n",
    "#                 if rec[0] > self.tol and self.triangles[rec[1]][1].count(-1) == 1:\n",
    "#                     bisect.insort(deletion, rec)\n",
    "                    \n",
    "#             for pt in self.triangles[ref][0]:\n",
    "#                 self.boundary_vertices.add(pt)\n",
    "                                        \n",
    "#             del self.triangles[ref]\n",
    "            \n",
    "#         self.polygon()\n",
    "            \n",
    "                    \n",
    "\n",
    "#     def polygon(self):\n",
    "        \n",
    "#         edgelines = []\n",
    "#         for i, triangle in self.triangles.items():\n",
    "#             if -1 in triangle[1]:\n",
    "#                 for pos, value in enumerate(triangle[1]):\n",
    "#                     if value == -1:\n",
    "#                         if pos==0:\n",
    "#                             x1, y1 = self.points[triangle[0][0]]\n",
    "#                             x2, y2 = self.points[triangle[0][1]]\n",
    "#                         elif pos==1:\n",
    "#                             x1, y1 = self.points[triangle[0][1]]\n",
    "#                             x2, y2 = self.points[triangle[0][2]]\n",
    "#                         elif pos==2:\n",
    "#                             x1, y1 = self.points[triangle[0][0]]\n",
    "#                             x2, y2 = self.points[triangle[0][2]]\n",
    "#                         line = LineString([(x1, y1), (x2, y2)])\n",
    "#                         edgelines.append(line)\n",
    "\n",
    "#         bound = linemerge(edgelines)\n",
    "    \n",
    "#         self.boundary = Polygon(bound.coords)"
   ]
  },
  {
   "cell_type": "code",
   "execution_count": 9,
   "metadata": {},
   "outputs": [],
   "source": [
    "# # Toyko\n",
    "# tokyo_hull = ConcaveHull()\n",
    "# tokyo_hull.loadpoints(tokyo_pts)\n",
    "# tokyo_hull.calculatehull(tol= 1000)\n",
    "# tokyo_hull.boundary\n",
    "# with open(\"data/full_Tokyo_plateau/tokyo_concavehull.pkl\", \"wb\") as f:\n",
    "#     pickle.dump(tokyo_hull.boundary, f)\n",
    "\n",
    "# del tokyo_pts\n",
    "# del tokyo_hull\n",
    "\n",
    "# # Osaka\n",
    "# osaka_hull = ConcaveHull()\n",
    "# osaka_hull.loadpoints(osaka_pts)\n",
    "# osaka_hull.calculatehull(tol= 1000)\n",
    "# osaka_hull.boundary\n",
    "# with open(\"data/osaka/osaka_concavehull.pkl\", \"wb\") as f:\n",
    "#     pickle.dump(osaka_hull.boundary, f)\n",
    "\n",
    "# del osaka_pts\n",
    "# del osaka_hull\n",
    "\n",
    "# New York\n",
    "ny_hull = ConcaveHull()\n",
    "# Due to size of data, have to skip points\n",
    "ny_hull.loadpoints(ny_pts[::10])\n",
    "# To include forested/non-built area, have to increase tolerance\n",
    "ny_hull.calculatehull(tol= 2000)\n",
    "ny_hull.boundary\n",
    "with open(\"data/NewYork_2/ny_concavehull.pkl\", \"wb\") as f:\n",
    "    pickle.dump(ny_hull.boundary, f)\n",
    "\n",
    "# del ny_pts\n",
    "# del ny_hull"
   ]
  },
  {
   "cell_type": "markdown",
   "metadata": {},
   "source": [
    "### Divide into grids based on min and max point, then filter out valid grids"
   ]
  },
  {
   "cell_type": "code",
   "execution_count": 3,
   "metadata": {},
   "outputs": [
    {
     "data": {
      "image/svg+xml": "<svg xmlns=\"http://www.w3.org/2000/svg\" xmlns:xlink=\"http://www.w3.org/1999/xlink\" width=\"300\" height=\"300\" viewBox=\"-8914228.749707611 4902986.541010794 950364.9543676358 756681.3041539416\" preserveAspectRatio=\"xMinYMin meet\"><g transform=\"matrix(1,0,0,-1,0,10562654.38617553)\"><path fill-rule=\"evenodd\" fill=\"#66cc99\" stroke=\"#555555\" stroke-width=\"6335.766362450905\" opacity=\"0.6\" d=\"M -8879030.047693996,5166909.132001188 L -8877526.56665134,5166514.034373013 L -8877646.680381907,5165271.891832614 L -8878496.938652586,5164000.841710441 L -8878575.084935123,5163964.579858536 L -8877987.429343227,5164061.827863502 L -8877269.752586082,5164444.985671781 L -8875831.282126052,5163452.882901508 L -8875839.074490407,5162721.12158809 L -8876920.320704482,5160891.51470214 L -8877274.094046222,5160869.944423889 L -8877675.17817155,5160880.429969721 L -8878001.344279576,5160875.63657591 L -8878081.160354473,5160853.616954058 L -8878991.597941875,5160735.745435079 L -8877162.997194411,5160839.6861991575 L -8876888.260691134,5160842.082886723 L -8876575.675560985,5160869.34525019 L -8873582.962370498,5161817.584764303 L -8873381.140133692,5160884.174810314 L -8873353.087622011,5160851.669643009 L -8872574.964381367,5160865.450622064 L -8871317.944691328,5160832.346347237 L -8871278.76023057,5160852.119022447 L -8869817.580594417,5161174.778927174 L -8868931.700086683,5160846.876263661 L -8867888.413818968,5160900.352538578 L -8866744.82869005,5160862.754341985 L -8865000.45226932,5160825.755464615 L -8863331.88442182,5160814.97039379 L -8863060.264864283,5160819.01479392 L -8862962.526351368,5160854.965092711 L -8861794.450934473,5162211.88842666 L -8861156.81289121,5161752.118752013 L -8860578.508136537,5161292.970455543 L -8860605.002175348,5161378.356882179 L -8861042.933052128,5163251.807752532 L -8861082.45147136,5164301.131109706 L -8859978.0508032,5165552.588692727 L -8859094.396685284,5164671.4111583615 L -8858972.947120827,5164285.397148749 L -8858242.13466377,5163803.051467478 L -8857876.00485855,5163420.069305075 L -8857546.16520733,5163445.241368959 L -8856837.394009449,5163412.727465635 L -8855772.28912154,5163253.156230456 L -8855184.856168622,5161365.623770029 L -8856021.422141932,5160856.013645126 L -8855434.434466982,5160882.82666753 L -8854939.174052441,5161338.959190283 L -8853057.540699564,5160796.845510585 L -8852941.434470667,5161093.888231603 L -8853063.551952066,5162071.363442033 L -8853059.321811415,5162234.660261047 L -8852949.783432476,5162742.246587717 L -8852811.52462491,5163052.534779024 L -8852912.49140306,5163262.8952433625 L -8853052.642641967,5163903.894010152 L -8852767.108148083,5165204.603744857 L -8852691.633533325,5165345.774400657 L -8852945.108013863,5166050.759811964 L -8852956.01732396,5166256.98989773 L -8852956.01732396,5166831.340239193 L -8852917.500780145,5167197.821434905 L -8852841.358248442,5168087.177791052 L -8852896.90667435,5168519.519224038 L -8852897.24063282,5168832.844110673 L -8852869.967357578,5169945.905445408 L -8851527.788257083,5170612.845051074 L -8849917.106544795,5169832.704282541 L -8849937.144053137,5168807.807724004 L -8849906.308554187,5168567.042000528 L -8849894.397368671,5168539.607687371 L -8850048.018265966,5166935.962062602 L -8850186.277073534,5166457.379076394 L -8849792.428715106,5165309.657292764 L -8849927.9045354,5164609.222285537 L -8849960.855104677,5164257.076084503 L -8849969.649344448,5163465.6188027095 L -8849996.811300201,5162966.534046158 L -8849917.217864284,5162667.335452922 L -8849899.184106775,5162278.556121653 L -8849944.37982004,5161959.004870356 L -8850078.853764916,5161535.200258817 L -8850064.827509077,5161482.319634267 L -8849717.28805882,5162029.266275338 L -8848914.117932746,5162781.350433999 L -8847450.155309323,5161583.2874270575 L -8847478.98705744,5161107.070372213 L -8845877.210904414,5160756.55147222 L -8845847.711239355,5160911.137706008 L -8845828.786925921,5161088.345746111 L -8844403.897443766,5162417.436165956 L -8843801.10240112,5160930.161572748 L -8843799.432608757,5160805.53346683 L -8843773.161208931,5160760.2962641455 L -8843246.397378499,5161191.706141066 L -8842279.031003505,5162365.449547757 L -8841491.11164767,5162375.037836415 L -8840176.651100382,5161169.835587197 L -8840020.247215819,5160952.48096087 L -8839983.289144875,5160959.97070014 L -8839851.041589813,5161047.4512906 L -8839811.745809563,5161079.657532093 L -8838554.169522071,5162472.119802369 L -8837495.743803607,5161336.26277626 L -8837543.165906684,5160815.569564072 L -8837517.562423805,5160787.258809436 L -8837464.685665676,5161219.269102351 L -8837353.922772337,5161518.871649389 L -8836373.643336412,5162434.215768967 L -8835015.322909752,5161447.864994256 L -8834847.8983956,5161187.661582802 L -8833550.358410913,5161149.013668155 L -8832228.996055197,5161057.937031698 L -8830960.621777099,5161254.172314432 L -8829058.839596387,5161120.102733688 L -8827174.645895218,5160860.80702907 L -8827059.430222249,5160867.397935928 L -8825739.848978385,5161166.390230545 L -8823904.524533674,5160920.724531746 L -8822626.465459878,5160848.823573731 L -8822560.564321328,5160845.977505301 L -8821785.112748463,5161468.238157649 L -8820292.87497438,5161443.221117519 L -8819210.738204377,5161623.884571049 L -8818778.261982646,5161839.157187219 L -8817055.70418211,5161486.6639238065 L -8816052.604250573,5162199.903272522 L -8814743.153080372,5161208.483586269 L -8814706.195009429,5161055.989678909 L -8814523.742364017,5160961.618443569 L -8814394.389115715,5160967.310650333 L -8814350.417916853,5161059.734588473 L -8812604.705662232,5161969.641425046 L -8812440.17545484,5161987.768538561 L -8812538.025287246,5162403.053672603 L -8812545.817651602,5162734.156156796 L -8811520.119863434,5164274.458315014 L -8810780.290527621,5163912.135275524 L -8810440.877400193,5163145.278599425 L -8810344.029443203,5162782.848668848 L -8810316.088251013,5162719.773185449 L -8810079.75697206,5161600.065561543 L -8809869.140495477,5161306.752072637 L -8809714.740361748,5161276.043061817 L -8809221.038420081,5161168.187807774 L -8808822.514643041,5161064.3782783775 L -8808777.986846723,5161194.851909793 L -8808769.749204405,5161565.310887172 L -8807987.284503618,5163268.438993613 L -8807411.206138762,5163152.620232809 L -8806111.21712528,5162589.57831784 L -8805533.468968064,5162611.302309056 L -8804449.105808245,5161083.402450958 L -8804434.411635458,5161060.932959844 L -8804266.541843345,5161381.352911039 L -8802855.010700086,5162286.945797205 L -8801919.48169946,5161786.724299738 L -8800381.71425364,5161313.79268906 L -8799735.838568058,5161114.710030226 L -8799636.318943288,5161103.025849859 L -8798558.300994447,5161581.639576158 L -8797624.553105673,5163295.858130124 L -8797294.49081547,5163427.560983804 L -8796710.842725242,5163855.345609729 L -8797688.339173896,5163609.460751014 L -8798546.27848944,5165163.541759996 L -8797748.229059944,5166830.440916181 L -8796803.460541582,5167123.474825174 L -8796235.285860572,5167229.7486853525 L -8794538.776820881,5166903.885908628 L -8794333.50367986,5166448.985727777 L -8793982.73596437,5165154.100525729 L -8793225.652107485,5163376.467851764 L -8793827.779233186,5162200.202901192 L -8793969.934222927,5161984.472697175 L -8793705.884390768,5161255.670309226 L -8793604.472334655,5161150.511646424 L -8793455.860814447,5161678.563654511 L -8792255.836703695,5163063.022726375 L -8791888.70502306,5163760.646972588 L -8790938.70448863,5165147.057071338 L -8790438.879974967,5165303.812628426 L -8788213.269395538,5163192.924402553 L -8790300.50984791,5165629.320934327 L -8790495.096317818,5165624.8248875 L -8790664.190624332,5165635.315666731 L -8791351.031882528,5165626.623305977 L -8791688.44125912,5165640.111455372 L -8791793.41553894,5165625.724096697 L -8792141.956864612,5165600.69613911 L -8793728.036969434,5166614.156197351 L -8793052.43897981,5168461.502780544 L -8791535.933556736,5169152.026330105 L -8791102.678098567,5169010.949168316 L -8790196.53744351,5168797.313449768 L -8789357.188482929,5168380.250371149 L -8789276.593171595,5168383.398514321 L -8787609.695116457,5169259.522233737 L -8787265.383931432,5167817.948729888 L -8785574.32954679,5167976.697016069 L -8785672.290698688,5166004.748330807 L -8785939.23483761,5165822.353212742 L -8785109.014075274,5166195.3901820835 L -8785006.488824256,5167957.5091694975 L -8783960.864847234,5168344.12175495 L -8783562.675028667,5168566.442342565 L -8782838.096463094,5169320.841918995 L -8781114.982065104,5169923.415041011 L -8780186.098838076,5167821.096687182 L -8777405.037395436,5164334.69697992 L -8777406.840771187,5164332.913790091 L -8777402.187616471,5164316.550416651 L -8777012.302231917,5163924.572107671 L -8775829.16528792,5163190.706919637 L -8774921.054277876,5162347.022082583 L -8774686.504110772,5162152.262433849 L -8774477.668746047,5162018.330031144 L -8773774.240883723,5162097.730445414 L -8771973.503404804,5162210.764817819 L -8771724.147745425,5162068.801651842 L -8771522.470223958,5162377.58472721 L -8772986.432847379,5162830.792308416 L -8774600.676783372,5163240.120951839 L -8776314.662983116,5163947.048351524 L -8776457.218723025,5164092.620774592 L -8776853.048568388,5164516.958722551 L -8776937.79609673,5164551.109773191 L -8777285.936672237,5164414.835973242 L -8776867.141615923,5166972.175270927 L -8776854.851944137,5167313.884248114 L -8776974.631716235,5167443.69400353 L -8779364.627787717,5168285.731604852 L -8780660.353264702,5170228.839270865 L -8781028.82077923,5171032.105284847 L -8782022.347234558,5172014.500136012 L -8781355.098206744,5173807.99590545 L -8781018.913344549,5173874.594830593 L -8780888.892179303,5173905.644488782 L -8780561.167598408,5174193.946152643 L -8777284.44499106,5174556.76565942 L -8779397.878919618,5177459.474787485 L -8779247.041009592,5177496.388299203 L -8778293.81220993,5178026.398091766 L -8778980.208190162,5179037.580238541 L -8779092.529556371,5179058.591396637 L -8780591.669138884,5179884.816953848 L -8781021.362373348,5180775.660086902 L -8781253.46351165,5181136.223866022 L -8781485.564649956,5181423.393727239 L -8781566.048641797,5181535.231697043 L -8781604.899144085,5181541.836933722 L -8781855.145359388,5181522.621712492 L -8782810.266590394,5181981.545851471 L -8782257.787957586,5183584.276132626 L -8781745.94093892,5184061.919506185 L -8780063.903433034,5184367.0472353045 L -8782027.245292155,5185077.798580889 L -8781886.092177829,5186411.145123305 L -8780983.513746478,5187461.073188909 L -8779410.90330004,5187740.022086034 L -8778046.571620878,5186289.336946799 L -8777541.84904962,5185461.202902705 L -8777251.082539668,5185139.520676075 L -8777848.534246758,5183404.846990513 L -8776259.11455721,5184407.74168369 L -8775971.019715037,5184445.433007196 L -8775606.893660653,5184645.004299062 L -8773989.978056882,5183611.753865197 L -8772700.675714513,5184774.750411854 L -8772271.316438524,5184728.798460976 L -8771369.628563097,5184134.896998871 L -8770152.683889745,5183689.833101714 L -8769566.698090209,5181850.036375234 L -8769865.813561972,5181410.78389103 L -8773049.77363764,5181020.487707368 L -8773319.612083323,5181195.368439183 L -8773431.933449533,5181249.259373165 L -8773607.372967023,5181249.409487614 L -8773992.76104415,5181296.995887378 L -8774017.362651614,5181211.880949168 L -8773817.432846151,5181019.887264045 L -8773502.176048223,5180859.270036882 L -8773250.14872107,5178182.765626206 L -8772213.5416228,5178899.057836706 L -8772591.092807774,5175417.195366141 L -8772556.194147414,5175167.171279972 L -8772479.483886305,5174452.705083894 L -8772446.021247372,5174113.88981465 L -8772357.255085416,5174012.9090875015 L -8772084.077055007,5173719.198063618 L -8771372.300230877,5174277.498267324 L -8771577.985254016,5174385.98210765 L -8768763.082686175,5176987.219559947 L -8767122.34471137,5176942.850710897 L -8766699.28611856,5175563.348333883 L -8766593.24317163,5175053.172918901 L -8766581.220666623,5174986.895778762 L -8766559.179407448,5174949.091912837 L -8766305.315308694,5174548.470173209 L -8764969.592738664,5174695.479861161 L -8764800.531827997,5174684.034025351 L -8763064.504369076,5174506.2428103 L -8762585.875086462,5173855.785086937 L -8762506.8159841,5173701.198602083 L -8762419.552635267,5172220.8144372245 L -8762630.88155659,5169561.656689436 L -8762638.206379084,5169532.165473521 L -8762617.93509981,5169493.693592505 L -8762592.721235145,5169500.140545355 L -8762540.234095236,5169618.720277616 L -8762247.998168007,5172137.025426544 L -8761996.282535424,5172017.154583978 L -8761842.795221519,5172033.231256391 L -8762462.510826765,5173882.994728126 L -8762520.84223994,5173925.144325911 L -8763276.156116921,5175814.658075417 L -8763345.129673416,5176486.24020718 L -8763434.46356478,5176563.765820473 L -8763479.43663906,5176594.34412464 L -8765133.944834871,5177400.113359309 L -8765201.32652265,5177448.715876277 L -8766340.67037897,5177702.521384202 L -8766476.82524816,5177762.229836373 L -8767109.509574082,5177659.694793606 L -8767869.142647306,5177359.553931203 L -8768888.61767594,5180787.278373486 L -8768364.33627015,5180775.0596590405 L -8767377.12162995,5180536.437618181 L -8767199.377798999,5180522.282897582 L -8767102.596633703,5180563.156024141 L -8766731.635562584,5180654.044197539 L -8766723.642823145,5180669.264861798 L -8767618.495681837,5180673.392758179 L -8768725.111607863,5181132.501072711 L -8768721.115238145,5182852.6168782115 L -8768527.753282635,5183148.997403013 L -8766838.925287811,5183844.041478315 L -8766393.068463285,5183736.455720921 L -8766132.925945252,5183793.123908048 L -8765166.23861915,5183989.393047051 L -8764245.03643699,5182929.413680308 L -8764036.479370989,5182122.78545214 L -8763992.741943056,5182077.341741956 L -8763456.226525228,5180663.560862477 L -8763310.14195746,5180638.268169865 L -8761642.130707413,5179728.63155758 L -8761590.55638733,5179718.45543108 L -8761505.174337892,5179747.708071849 L -8761516.651377391,5179793.440831144 L -8761539.393949362,5179828.262114693 L -8762574.498234503,5180980.107978357 L -8762862.247986253,5181435.222969744 L -8761541.787318414,5182750.222107263 L -8761516.07251604,5182752.924594377 L -8761253.135878786,5183334.727903203 L -8760911.16240307,5183799.745729387 L -8759920.196296027,5184486.127791244 L -8758557.757048208,5183966.869414612 L -8758471.595762335,5183971.223979387 L -8756886.851491401,5183394.186453528 L -8756612.226307614,5183080.38163671 L -8756547.661002954,5182995.701155043 L -8755777.99804361,5181736.993724688 L -8755671.910568882,5180870.978490722 L -8756059.302396845,5179626.510569438 L -8756049.06100369,5179605.9484219905 L -8755612.132002328,5177662.200759082 L -8755672.912444301,5176944.201129356 L -8755556.24961795,5176566.241489137 L -8754650.331601875,5175889.882758623 L -8753287.669715073,5174462.305550634 L -8753804.414791336,5173519.405948934 L -8753815.992018377,5173496.757107542 L -8754966.289712591,5171931.41778861 L -8754942.73450834,5170853.362612499 L -8754954.34513123,5170188.805198228 L -8754927.160911579,5169401.862470581 L -8754607.47359792,5168849.934855546 L -8754675.356223404,5167369.420422306 L -8754665.949726433,5166393.679740565 L -8754664.636156442,5166300.409693343 L -8754628.935995743,5165715.570510106 L -8755946.146134453,5164415.839962662 L -8756625.918604981,5164425.954787345 L -8757054.988450296,5164533.727037955 L -8757159.138965882,5164573.332747273 L -8757504.006748358,5164704.049240066 L -8757928.14514023,5164823.27359615 L -8758333.002996298,5164861.876472615 L -8758626.129479453,5164641.890124747 L -8762904.571656654,5161469.90096923 L -8757183.183975892,5164245.088357797 L -8756689.815992698,5163983.654774173 L -8756582.247968744,5163998.294385759 L -8756230.08875962,5164220.9331343025 L -8755679.146335786,5164395.8351188 L -8755330.404635027,5164456.733890284 L -8754083.492754754,5164152.63352232 L -8753671.38799984,5163007.586563984 L -8753705.563083513,5162758.727116397 L -8753888.238367904,5161895.185791501 L -8753788.718743134,5161633.62191912 L -8753164.550358256,5160947.387941529 L -8752014.39737938,5160970.456345003 L -8751324.550494934,5160997.4194847625 L -8750726.096912429,5161867.17144819 L -8749361.431274794,5162739.399953832 L -8748747.504283069,5162591.07652254 L -8747790.045342756,5162513.020371151 L -8747051.551840834,5163123.403562061 L -8745353.03905031,5162272.56350078 L -8744597.624985786,5161491.757231306 L -8743817.94327227,5161579.092898052 L -8743195.222040774,5162137.730527314 L -8742732.021639584,5163719.291533898 L -8743959.76430354,5163042.496325945 L -8745202.535098758,5162370.093873872 L -8746299.477361035,5163159.212724749 L -8747033.96336129,5163275.9305531345 L -8747893.683788683,5163727.382801257 L -8748595.441858646,5163897.900367086 L -8749527.408635568,5165519.617997507 L -8749355.531341784,5166055.106184864 L -8749786.449090643,5167696.078611643 L -8749914.466505056,5168326.132453601 L -8750260.22484346,5167926.478905682 L -8750726.764829373,5167151.6545202425 L -8750786.988673894,5167069.214157798 L -8750993.486329315,5166795.517271507 L -8752044.676280875,5166244.699898321 L -8753001.133345772,5167415.318579101 L -8753138.27895843,5168496.432534931 L -8753336.650291022,5168794.914760138 L -8753699.551831009,5170714.80936006 L -8753623.075340832,5171031.205565006 L -8753571.311777616,5171379.253536673 L -8753477.246807894,5172058.291123605 L -8753577.656988591,5173562.303902218 L -8753148.409032091,5174413.853293974 L -8752994.120217852,5174830.430753785 L -8752999.018275445,5174879.185159627 L -8751074.081640648,5175408.899129728 L -8749917.138172835,5175345.439911469 L -8749235.083652744,5173720.998011642 L -8750052.057395676,5173138.28262391 L -8749978.363892771,5172675.435543263 L -8749117.418950975,5172048.693081688 L -8748324.490218055,5171196.605491708 L -8747914.945811426,5170411.168862008 L -8747455.307633942,5169875.435689192 L -8747277.530407144,5169346.479361684 L -8747705.999127207,5167505.256823596 L -8746034.759611929,5168330.479864981 L -8745561.540456567,5167969.501569073 L -8745309.29049043,5167505.106925815 L -8745127.839720435,5167591.148639947 L -8745180.827798054,5167740.449347467 L -8745166.912861705,5170010.228295234 L -8743807.479240136,5170406.6705570575 L -8742700.852182161,5169979.041404684 L -8743179.525992572,5168288.954671836 L -8741619.828607067,5168055.997198278 L -8740821.89049706,5168177.122380664 L -8739564.31420957,5167247.586022109 L -8740611.27402048,5166014.340282484 L -8738934.023252698,5166189.544974284 L -8738005.618699482,5164672.759837208 L -8739407.353727551,5163285.5197579125 L -8740452.6437461,5163185.732567947 L -8740595.244013805,5162753.33348569 L -8741075.92157505,5161791.518151756 L -8741155.62633046,5161552.877133585 L -8741111.989090068,5161050.59701172 L -8739292.36069356,5161004.310077158 L -8738482.400078548,5162077.505748804 L -8737079.885814045,5162522.60880828 L -8735634.847504059,5162094.584378677 L -8734255.710332619,5162457.887044879 L -8733435.174365982,5161223.163875045 L -8732170.807589553,5160972.403680319 L -8732122.606250038,5161020.038621942 L -8732116.928956008,5161038.463521698 L -8732794.64201596,5162011.288894263 L -8733430.164988898,5163599.42171122 L -8731876.478855895,5164747.836594172 L -8729582.629428608,5162923.384145063 L -8729364.777185127,5162553.621475678 L -8729042.50725928,5161196.799290953 L -8729018.462249268,5161125.795035095 L -8728727.807058807,5161219.568700194 L -8728599.678324906,5161320.683510169 L -8727869.199826319,5162235.559150362 L -8728945.325343817,5163338.260556686 L -8729572.94463291,5163603.766965952 L -8731676.215091959,5165391.782699063 L -8731833.064254485,5166129.144703726 L -8731753.359499078,5166876.756161783 L -8731722.190041656,5167071.162739949 L -8731493.317168586,5167596.844808735 L -8731473.947577188,5167786.619116371 L -8731527.158293786,5167900.545477737 L -8731561.889974913,5168803.010340061 L -8729930.057559375,5169952.502640775 L -8729833.098282894,5169830.305332063 L -8729542.331772942,5169319.642508161 L -8728922.282209223,5170715.858998332 L -8726928.438809624,5170829.070662719 L -8726558.52414172,5170477.144245477 L -8726237.590049762,5169879.184067348 L -8726138.181744484,5169443.632402517 L -8727435.944368152,5167933.074702091 L -8728971.708063135,5167151.95430468 L -8729256.574640075,5167145.059264987 L -8729288.745972915,5167136.515418378 L -8729106.404646995,5167009.557758715 L -8728504.611479767,5166550.30593032 L -8728090.725612998,5166550.156047567 L -8727024.841488652,5166664.217504183 L -8726585.797416963,5166615.804918836 L -8725054.37518212,5165539.550267795 L -8724415.401304966,5164026.015308621 L -8724714.294137746,5163527.350706218 L -8724687.911418429,5162985.412189326 L -8724649.840152578,5162025.0715500545 L -8724590.172905512,5161297.764059228 L -8722980.938346604,5161130.588554707 L -8721210.290526047,5160967.460445294 L -8720010.82301275,5161682.458614891 L -8719071.509149436,5161237.694387224 L -8718891.839491297,5161002.961917384 L -8718809.017790144,5160903.947593031 L -8716898.997967113,5161041.609239849 L -8716188.44565738,5161226.309654155 L -8714465.553898374,5160926.416714089 L -8714141.614180164,5160880.579763317 L -8713871.66441499,5160857.361784117 L -8712941.701388905,5160812.573713043 L -8712631.676607044,5160881.178937721 L -8712322.31974213,5160937.65129448 L -8712286.586185586,5160943.79287069 L -8711602.41659517,5161063.928888933 L -8710225.394494057,5160905.445532787 L -8709654.436825778,5161655.942954544 L -8709599.89027529,5161709.273962243 L -8709249.679157255,5161992.862113853 L -8708918.614991635,5162327.695754947 L -8708493.485856295,5163279.37667249 L -8707021.730868518,5163056.729956579 L -8706692.225175772,5161154.256593127 L -8704787.326049315,5161032.321884489 L -8703748.603880724,5160926.266919774 L -8702176.550031742,5160966.411880618 L -8701419.243535874,5161289.974454464 L -8701004.801071651,5162344.774833169 L -8699710.044074234,5163001.44365773 L -8697840.544545852,5162311.665419899 L -8698046.819562292,5161886.946270214 L -8698340.925656967,5161395.5840609865 L -8698347.382187434,5161326.226130765 L -8696367.565043675,5161062.131331367 L -8695908.928741608,5161324.278723162 L -8694312.495924141,5161803.652600451 L -8693737.085476229,5161539.694376413 L -8693505.095657416,5161505.8387426725 L -8692294.71883402,5161714.5171954045 L -8692161.803362014,5161751.96894472 L -8691989.92606823,5161855.336536451 L -8690444.032299584,5162323.950347148 L -8689876.414216029,5161935.784264038 L -8689288.869943622,5161844.999726829 L -8688400.985685054,5162789.890375799 L -8686766.147643264,5162263.125130547 L -8685940.49098005,5162750.786494474 L -8685017.318442903,5161012.249244139 L -8684525.397613086,5162830.792308416 L -8683766.64396384,5163089.392473561 L -8683141.585023034,5163338.560221149 L -8682241.010342518,5163753.155031977 L -8681123.140015973,5164239.993578515 L -8680557.191724781,5162548.227961055 L -8681865.41838058,5161677.215399367 L -8681842.82052395,5161572.801108004 L -8680242.602843797,5160932.857871894 L -8680219.893667674,5160979.893435243 L -8680268.762924133,5161137.629041007 L -8680012.505456327,5162150.464671016 L -8678195.994005563,5161442.472105353 L -8677011.22066505,5160786.509848815 L -8675335.52837014,5160957.274393325 L -8673351.592405222,5160916.8298826255 L -8672261.10667341,5161021.236988323 L -8672222.812768577,5161038.912909943 L -8671734.676801449,5161280.237457459 L -8670183.105738772,5161246.083146606 L -8669735.824024765,5160768.385019724 L -8668784.598975938,5161730.396719143 L -8669910.261666838,5162547.77850164 L -8670095.274660537,5163300.353078063 L -8670097.612369843,5163744.164711018 L -8669155.181560786,5165081.11860194 L -8667648.249613918,5164876.112821347 L -8666174.268236324,5164208.376038588 L -8665981.796836743,5163425.013812376 L -8666333.900386121,5161915.410101222 L -8666686.894491429,5161463.444468227 L -8665749.473059457,5161561.415974664 L -8664064.54124681,5160763.292098745 L -8662578.092086248,5161190.507753255 L -8662470.223499669,5161803.502792349 L -8660750.782644877,5162790.639493866 L -8660388.103743872,5161846.348005709 L -8660447.103073992,5161551.079483806 L -8660504.543931242,5161356.036496813 L -8660121.048285458,5161154.106795229 L -8659636.585861526,5161226.309654155 L -8657941.190016745,5162270.915530701 L -8656732.149027238,5161491.907034509 L -8656629.401137237,5161466.440523832 L -8655906.047086062,5162393.165721016 L -8655734.28111177,5162485.603486967 L -8655957.142732335,5162920.986934064 L -8656195.477762125,5164281.501124334 L -8655035.75130704,5165227.682456373 L -8653863.445749497,5164158.627325625 L -8653827.26691499,5163407.333464752 L -8653752.905495139,5162916.042688285 L -8653693.238248074,5161324.877925458 L -8653690.343941314,5161320.533709657 L -8651843.442269562,5161541.492024044 L -8650150.161495106,5161839.157187219 L -8648451.203426618,5161134.033898418 L -8648110.899743265,5160960.569879536 L -8646349.38012095,5161859.38137805 L -8646273.34890874,5161856.684816793 L -8644452.718636815,5161331.019751175 L -8644218.168469714,5161746.426076543 L -8642434.718907714,5161662.384605358 L -8642038.755478963,5161176.876102486 L -8641844.836926,5160989.330534824 L -8640642.02982798,5160916.8298826255 L -8640565.887296276,5161242.188364545 L -8638894.759100487,5162216.53267794 L -8638139.678994438,5162098.928947301 L -8636570.074174253,5161206.236605288 L -8635494.505254207,5161089.09473045 L -8634847.7390127,5161718.71178401 L -8633147.890388286,5161710.6222219225 L -8631951.317181747,5161548.233205683 L -8631364.552145777,5161610.102495399 L -8629870.421940349,5161472.133032079 L -8628108.01176211,5161309.59827865 L -8627834.833731705,5161249.2289332785 L -8626195.765549265,5161433.633766251 L -8624694.844854899,5161434.83218463 L -8623444.170375835,5161092.090668389 L -8621765.361135183,5161308.549676337 L -8620863.005342813,5161553.026937748 L -8619446.242183486,5161255.670309226 L -8619158.703938767,5161151.110837798 L -8617616.261074336,5161519.321060284 L -8616154.079562765,5161943.574396627 L -8615346.901935024,5161166.839624821 L -8613967.876083076,5161216.572722185 L -8612602.319889516,5161269.45187239 L -8612116.187673222,5161340.307397581 L -8612093.812455572,5161360.680331074 L -8611815.73636757,5161672.571410883 L -8610231.326055111,5162028.667028757 L -8609779.591561472,5161627.779509084 L -8609547.045145204,5161149.76265726 L -8609317.059077226,5160964.314751611 L -8609133.381917415,5160975.54937667 L -8609070.93168308,5160996.071325961 L -8609130.821569126,5161256.269507213 L -8609221.435634634,5161504.640315363 L -8608950.37267455,5162640.217767291 L -8607217.462161373,5162187.918133455 L -8606285.16142598,5161266.605678365 L -8606291.840595426,5161356.635701107 L -8605767.303154808,5162707.63757026 L -8605494.793041347,5163098.08251987 L -8603647.112133158,5162723.518748814 L -8603746.965716401,5162007.693422116 L -8603585.329815771,5161175.977313011 L -8603114.893647678,5161404.871770305 L -8601973.534908574,5161736.388999127 L -8600286.933303567,5160950.533629623 L -8598875.736118779,5160966.411880618 L -8598528.975904958,5161061.23255271 L -8597874.639938077,5162876.338989423 L -8596414.796135813,5161582.238794634 L -8596351.677984532,5161484.866286516 L -8595905.509465434,5161235.59719853 L -8594341.247980805,5161067.374208549 L -8592401.171895262,5161009.70271816 L -8591635.405118095,5161033.819844418 L -8590477.0144969,5161178.973278258 L -8589172.461384293,5161549.281834366 L -8588595.937741475,5161885.747794984 L -8587777.182886688,5162352.115849881 L -8586248.543639118,5161162.495481048 L -8586008.093539003,5160946.638968326 L -8585688.495280936,5160946.489173693 L -8584029.612229133,5160965.213521129 L -8582935.452954127,5161093.888231603 L -8581923.781421797,5160998.0186665105 L -8580794.22254872,5161549.281834366 L -8580181.074793428,5161778.784487639 L -8578545.568834696,5161550.929679673 L -8578187.454032812,5161987.468916569 L -8577376.380222892,5163221.691795251 L -8576392.42724377,5163025.116342631 L -8575854.976742221,5162327.695754947 L -8575822.5827704,5162241.701562957 L -8575647.922489345,5161814.588598315 L -8575097.558926864,5161194.102917145 L -8574999.597774964,5161087.596761834 L -8573704.284180095,5161141.224184955 L -8572997.516733048,5161139.127017486 L -8572637.843458295,5161130.288959661 L -8572295.758663086,5161236.495993627 L -8570794.615329739,5161445.917561801 L -8570055.676549854,5161393.037432593 L -8570045.769115174,5161404.871770305 L -8569653.367910128,5161883.950082421 L -8567829.39805348,5161563.513235047 L -8566539.093835695,5161192.005738044 L -8565428.681915032,5161750.470871923 L -8563646.679506412,5162359.60668909 L -8561984.011591924,5161797.959894202 L -8560619.011995818,5161285.48045461 L -8560551.329745416,5161286.229454439 L -8558833.670002475,5161823.577099104 L -8557237.905101955,5161449.812427109 L -8557059.237319231,5161401.875734053 L -8555985.226872057,5161730.246912193 L -8554989.474026911,5161290.573654605 L -8553587.850318333,5161322.780717583 L -8552764.531364426,5161316.638897176 L -8551959.246168027,5161318.7361037 L -8551556.492250338,5161335.663573247 L -8551359.12279316,5161384.049337819 L -8551171.883409647,5161864.175266612 L -8551139.934715789,5161970.540289368 L -8551924.5144869,5163126.4001395535 L -8551933.865324127,5163470.563333645 L -8552010.898411756,5164943.398589027 L -8550135.610269852,5165117.684424055 L -8549520.681402711,5163634.483478324 L -8549381.309400236,5163404.186965648 L -8548088.667473145,5162142.97399619 L -8548048.369817479,5162045.745571113 L -8546914.358164767,5161284.43185495 L -8545633.293464717,5161414.908498615 L -8544318.49895896,5161338.060385523 L -8543670.508203052,5161451.310452651 L -8542142.870830895,5161286.978454325 L -8541532.394743385,5161210.281171435 L -8541401.26038323,5161195.3013054095 L -8541364.63627076,5161195.6009025 L -8541301.51811948,5161209.981573884 L -8541222.703919997,5161291.921855058 L -8539255.131920226,5161451.010847527 L -8539088.264003528,5161203.240631471 L -8536810.667221898,5161342.404609313 L -8536800.314509254,5161365.024565172 L -8538382.387112407,5163160.261530707 L -8537655.470837528,5163300.652741334 L -8537538.919330668,5163309.342980302 L -8537452.201447338,5163347.4003270585 L -8536972.748400493,5163540.835883993 L -8536646.582292467,5163640.027444764 L -8535822.150143653,5163719.44137212 L -8535140.095623562,5163813.390401205 L -8534110.612972707,5163452.433399424 L -8532684.498976152,5162104.921458996 L -8531822.32951996,5161643.658888312 L -8531389.741978738,5161351.093062829 L -8530757.224632049,5161169.236394646 L -8529282.241379037,5161087.2971681375 L -8527833.418206366,5161594.972196167 L -8527305.875139495,5161666.728976971 L -8527131.548816912,5161746.27626934 L -8525339.416334633,5161195.00170833 L -8524725.600662397,5161585.534496929 L -8523841.055988554,5161857.583670461 L -8522142.54319803,5161301.658863998 L -8521965.322568689,5161148.71407253 L -8521917.566507136,5161135.38207673 L -8521126.363226326,5161031.273312678 L -8519623.98424663,5160762.198619007 L -8519424.299344044,5160741.707131503 L -8517879.841596829,5161207.360095712 L -8517028.080513025,5160963.715571981 L -8515193.535304751,5161349.595053037 L -8513327.931958547,5161175.378120075 L -8512098.519502226,5160932.408488651 L -8511693.316555738,5160861.256408939 L -8510743.316021308,5161952.862639956 L -8509658.952861492,5160828.751319789 L -8507890.865389222,5161010.601491957 L -8506626.053334827,5160962.517212832 L -8505622.842083799,5161446.966179227 L -8503762.470753662,5160824.257537384 L -8502501.332242465,5161027.977802022 L -8501808.145773295,5161484.117271079 L -8499838.903981162,5161790.619304319 L -8499431.029366896,5160957.873572553 L -8499402.19761878,5160859.908269396 L -8499046.97712366,5160793.550080978 L -8498828.34564374,5160772.878775791 L -8498322.509877577,5160765.089599958 L -8498228.89018582,5160816.917697343 L -8496564.107201006,5161160.997500897 L -8496043.465942567,5161062.730517185 L -8495408.388247589,5160811.97454295 L -8495057.175254138,5161479.323573671 L -8494360.537880752,5161833.015034056 L -8493041.17927587,5160950.983013722 L -8491731.505466688,5161232.451416357 L -8490191.400311563,5160990.678692672 L -8489198.430453688,5162072.561940603 L -8488615.005002439,5162714.829044062 L -8488533.073857216,5162777.005554267 L -8487303.104803441,5162944.959071188 L -8487003.544053717,5160927.165685704 L -8486530.547537336,5162404.102395343 L -8486493.478146901,5163074.859137961 L -8486370.804068046,5163705.056913552 L -8485739.065957796,5164872.066699019 L -8484626.538966808,5164697.036089111 L -8484583.124365399,5164666.765710459 L -8483868.119276034,5163374.819690775 L -8484303.601124017,5162566.505995188 L -8483194.302398263,5161052.39456711 L -8483133.299317306,5160805.233882001 L -8481421.873465851,5160812.873298104 L -8481399.386928711,5161467.339340698 L -8481542.655113362,5162042.449709679 L -8480827.761343488,5163412.128132053 L -8479284.316603638,5162757.828177733 L -8477843.619753793,5161990.614947947 L -8477573.558669128,5160913.833999771 L -8477515.672533916,5160842.532265709 L -8475569.696515359,5160838.038476806 L -8474159.501205988,5160822.160439652 L -8473419.783189667,5161201.742644915 L -8472976.175018856,5161650.699753605 L -8472860.625387413,5161751.219908292 L -8472224.211858548,5162461.332868425 L -8471304.267586632,5162965.03578243 L -8470029.77073654,5162127.842851 L -8469782.86410596,5161150.961039951 L -8468637.83182366,5162024.022869023 L -8467758.964443848,5160888.369033523 L -8467613.35854989,5160869.794630461 L -8465879.446161296,5161256.119707711 L -8465099.319169816,5161055.839882556 L -8464997.016557775,5161037.265153152 L -8464540.717965014,5160964.015161791 L -8463977.229834568,5161275.08434307 L -8462786.322790112,5161594.672586525 L -8461976.3621751,5161858.332715248 L -8460427.01750224,5160994.12398581 L -8460367.350255175,5160981.241591753 L -8460215.733108712,5161146.616903416 L -8458263.745837655,5160834.143861471 L -8456699.595672518,5160876.535337065 L -8455643.28502438,5160858.410336796 L -8455153.25662591,5160884.474397624 L -8453241.567010516,5160900.951714226 L -8453126.462657034,5160877.434098305 L -8451647.917180318,5161237.694387224 L -8451208.98442812,5161315.740094522 L -8449482.196486937,5161036.965561039 L -8449020.109280653,5160980.342820725 L -8448574.83131748,5160926.266919774 L -8448199.461994527,5161023.783517383 L -8446666.036008848,5161177.475295517 L -8444734.642843585,5160794.598626639 L -8444585.920003884,5160879.081827467 L -8444527.365951726,5160999.6664165165 L -8444476.604263926,5161138.9772198275 L -8444182.60948874,5161616.244504911 L -8442706.179082349,5162337.5836386075 L -8442049.839364633,5160730.487761173 L -8442083.791809324,5162168.891756142 L -8441504.485179238,5163010.732932137 L -8440304.683707466,5163481.201575569 L -8439285.999047218,5163048.48943099 L -8438221.005478797,5162029.266275338 L -8437169.926846728,5160712.51282956 L -8437122.504743649,5160685.999867298 L -8437060.611106768,5160711.763874811 L -8435936.840847211,5161197.098888089 L -8434158.73462077,5160692.440862648 L -8433137.823570704,5160707.869311069 L -8431375.413392466,5160709.81659274 L -8430228.711317806,5160722.249246643 L -8429705.954989038,5160753.405848141 L -8429583.280910185,5160845.677919201 L -8429138.670863956,5161156.203965992 L -8428774.2108511,5161649.950725135 L -8428478.657603044,5161892.788839118 L -8428311.233088888,5162144.172503767 L -8426385.628537148,5161650.100530826 L -8426328.187679898,5161153.357805785 L -8426297.797458911,5161079.50773537 L -8425440.637379803,5160788.157562259 L -8424084.543342961,5161212.677952184 L -8423778.414743278,5161583.437231702 L -8423555.998400673,5161798.559126279 L -8423479.63322999,5161899.530269229 L -8421577.071812842,5161313.642888656 L -8421763.420640428,5160856.163438339 L -8421699.857211186,5160844.479574891 L -8421475.325798254,5160860.05806267 L -8419951.139330316,5161331.469153211 L -8418417.379386166,5162489.798414955 L -8417981.118301747,5162007.094176891 L -8417404.70597842,5161489.3603803795 L -8417067.407921314,5161032.321884489 L -8416964.993989784,5160889.56738335 L -8416826.957821202,5160848.52398754 L -8416167.05587978,5160856.013645126 L -8416143.233508749,5160863.653101927 L -8416638.60524278,5161403.074148441 L -8416852.00470663,5161844.100874349 L -8417046.702496028,5162733.706688612 L -8417246.409662511,5163455.130412248 L -8417098.688698228,5164005.037305518 L -8415279.616899176,5164139.4471683195 L -8415184.550054038,5164001.441081052 L -8413996.4371288,5162679.021551185 L -8413889.45909815,5161712.270095125 L -8413882.334650738,5161432.435348021 L -8413896.249587087,5161015.245157925 L -8413547.819580905,5161229.006037072 L -8413071.4834798,5161508.085794282 L -8412849.735054139,5161683.507258343 L -8412315.17885935,5162110.314722743 L -8412241.151397973,5162184.172780587 L -8411839.733314173,5162525.755016315 L -8410194.76519872,5162704.041835396 L -8409438.683217252,5161383.450131802 L -8409403.060980197,5161264.508483311 L -8407621.615169033,5161971.439153772 L -8405675.305192005,5161976.532720336 L -8404816.364001043,5161377.158470899 L -8404792.318991031,5161488.611364587 L -8404727.4197279,5161846.048388164 L -8402790.349268604,5161919.3051583925 L -8402356.759851964,5161417.754736925 L -8402152.822544832,5161280.686857103 L -8401095.82171585,5160817.24724106 L -8400885.472406048,5160703.180857596 L -8401178.220402936,5161274.395264032 L -8400238.572581152,5162661.342587577 L -8399630.65684193,5162632.127422986 L -8398728.41236905,5161788.8216097 L -8398691.342978613,5161751.6693301415 L -8397857.671312066,5160980.0432304 L -8397782.864614252,5160936.153349662 L -8396898.097301425,5161007.305988449 L -8396887.299310818,5161102.876052769 L -8398061.052021744,5161727.550387471 L -8398122.834339134,5162956.495683671 L -8396959.545660345,5163679.884163311 L -8396876.946598176,5163772.0347336 L -8395417.436754385,5164296.186147748 L -8394321.273728544,5163250.159613105 L -8394261.049884025,5163106.47291693 L -8393846.162141839,5162563.959053904 L -8393953.919408927,5161004.160281619 L -8393914.067031223,5160923.720416766 L -8393103.549818756,5160983.338724483 L -8391576.246405073,5161289.525054384 L -8391088.555715907,5161120.102733688 L -8390365.535623206,5161544.78771225 L -8388513.847213348,5161248.7795351185 L -8387515.200061443,5160674.016631714 L -8386732.512721675,5159990.84732321 L -8384699.373541828,5161788.521993961 L -8383466.621500783,5160214.770479336 L -8383592.746483851,5159824.144067869 L -8383376.45271324,5159060.4617469385 L -8383723.10160757,5157855.977931452 L -8383234.965640441,5156741.932149601 L -8383155.928801978,5156595.049533146 L -8383082.903216019,5156531.86525025 L -8382560.035567761,5155893.907113499 L -8382338.843739556,5155520.674226317 L -8382508.939921488,5154214.099888204 L -8383408.846685061,5153715.499134607 L -8382998.745680978,5153523.310545109 L -8382553.912995768,5153451.61501448 L -8381161.194846454,5152878.070162778 L -8379732.297862631,5151752.034888185 L -8379674.189088437,5151277.355947639 L -8379181.043744223,5150290.5123379 L -8379241.824186196,5149119.749858659 L -8379270.989892784,5149023.102912014 L -8379288.133094366,5148759.946912575 L -8378485.185607274,5147171.59018584 L -8378397.020570566,5147052.376857139 L -8378294.606639036,5146888.442263442 L -8378410.2675899705,5147936.714920158 L -8378498.989224134,5148147.3406625455 L -8378562.663972866,5148488.719809291 L -8378747.565647075,5148814.851516584 L -8379071.728004264,5149949.218377005 L -8379168.575961253,5150506.7263563005 L -8379142.638519899,5150954.282491784 L -8378517.356940113,5152677.666871683 L -8376808.825395418,5152786.024812654 L -8375419.558150318,5151523.0726787 L -8374563.84522459,5150807.3393134875 L -8374450.744621945,5149727.33147944 L -8374643.77261898,5148126.846334409 L -8376374.790700816,5147587.427499312 L -8374886.449108909,5146991.050630383 L -8374760.992042785,5146381.3996091625 L -8374931.088224718,5145714.208391521 L -8375187.568331506,5145190.777834868 L -8376299.093447075,5144381.012502624 L -8378879.813202138,5144822.000844028 L -8379201.8604890015,5145018.052045864 L -8379163.455264677,5144930.718290374 L -8377981.353591944,5143934.811042892 L -8377487.317691804,5143021.389208985 L -8376924.375026862,5143173.296165648 L -8376793.57462518,5140900.775087171 L -8375767.097600576,5141444.899070854 L -8376482.770606884,5143734.744903776 L -8374413.675231512,5144048.153809009 L -8374354.787220881,5143407.590469038 L -8374143.168868882,5142758.996562518 L -8374039.419103463,5142561.496651376 L -8373856.187221618,5142380.446193718 L -8373346.121314803,5140967.294076819 L -8373655.589499208,5140301.377658765 L -8372760.914751703,5141165.956916759 L -8371221.366194032,5141652.092886214 L -8370773.193924099,5141409.619763441 L -8370015.887428232,5140715.720198849 L -8369924.7167652715,5140547.410059834 L -8369291.53150164,5140803.61335007 L -8369083.364053856,5141582.878290915 L -8369063.437865005,5141634.452833761 L -8369115.869345169,5142004.601778554 L -8369128.114489155,5142184.748112104 L -8369060.098280282,5142659.1247876 L -8367426.262113908,5143487.583777324 L -8365660.401031454,5143055.62786928 L -8365281.358165302,5141730.726058503 L -8364824.280336105,5140408.698425513 L -8365665.633047521,5138753.282614618 L -8365972.429564148,5138644.485981815 L -8365497.09533846,5138758.961593739 L -8363907.119051458,5138445.427216022 L -8363788.00719631,5138373.097580043 L -8363388.926821816,5138300.619051593 L -8362788.0242105145,5138139.076102507 L -8361448.628097291,5137392.517134042 L -8361491.152142773,5135876.8649429735 L -8361246.026624046,5134509.637202456 L -8360863.087575717,5134349.801439729 L -8360744.19835955,5134305.286908429 L -8359564.21175714,5133603.090117172 L -8359267.211355705,5133300.030676885 L -8358604.971704976,5133008.929392256 L -8358470.72039908,5133047.6129418 L -8356729.794882565,5132537.719560449 L -8356733.691064742,5131919.282540237 L -8356978.482624995,5130415.248042981 L -8358915.441764798,5130414.053510643 L -8358995.814437152,5130577.556510886 L -8359196.30084007,5130408.080851193 L -8359295.93178433,5130315.6544213435 L -8359351.702849217,5130219.496045966 L -8359952.494141029,5129459.520519357 L -8360061.587242005,5129253.785068795 L -8360139.065607598,5128872.633760698 L -8360241.256900147,5128478.658995345 L -8360308.382553094,5128255.62779792 L -8360354.580141773,5127935.1228537485 L -8360168.008675205,5127441.025867277 L -8359799.652480169,5126721.272201627 L -8359774.716914232,5126694.107112947 L -8359713.045916332,5126637.239786744 L -8359350.478334818,5126500.371517578 L -8358910.766346185,5126572.312937496 L -8358365.857438752,5126741.720698346 L -8358219.917586322,5126790.827120659 L -8357438.788719426,5126990.091327657 L -8355980.169431562,5126401.415634288 L -8355180.561529194,5125211.935498223 L -8354569.52884423,5124241.059097468 L -8353917.975864616,5122502.949674583 L -8354213.863071144,5122155.484981511 L -8354255.051282738,5120792.602157791 L -8354242.249541297,5120608.979853984 L -8354234.123218469,5120480.401586406 L -8354139.724290277,5119148.479968188 L -8355075.141971412,5117694.614699123 L -8355637.305399918,5117760.227007684 L -8355975.82797142,5117920.829939799 L -8356413.313570237,5117732.639959597 L -8356337.059719045,5117113.070685397 L -8355079.03815359,5116056.838399686 L -8354900.4816903565,5115787.878579683 L -8354426.594618051,5113963.951586318 L -8355034.732996253,5112435.757424793 L -8355361.567021223,5111826.068001306 L -8355192.250075727,5111616.538123903 L -8353941.130318701,5110189.442472563 L -8353986.993948908,5109039.963010057 L -8354151.41283681,5107580.925815468 L -8354253.270170884,5107247.854280104 L -8354173.676734968,5106748.268645253 L -8353528.246327349,5105217.648875309 L -8353431.6210093405,5104801.860488542 L -8353435.962469482,5104087.675755424 L -8355251.360725338,5103436.080643469 L -8355518.19354477,5103697.845030546 L -8357062.862799016,5102437.480785747 L -8357115.628237653,5102387.456745678 L -8357133.773314651,5102305.126080296 L -8357072.658914207,5102101.758962045 L -8356178.095486191,5101040.77648143 L -8354898.811897995,5100189.187229924 L -8354555.836546862,5099475.643030322 L -8353393.8837019615,5099007.86423066 L -8353620.240754539,5097604.64955473 L -8353582.6258986015,5097495.902312035 L -8352223.459443811,5096175.304825969 L -8352203.076845047,5096154.8469835725 L -8351211.131126487,5094640.194874882 L -8350533.084108065,5093051.219617441 L -8350923.592881768,5092575.573228266 L -8351312.765821581,5092319.168235254 L -8351513.252224499,5092213.871644989 L -8351342.822084094,5091450.951971231 L -8350040.272722323,5092848.494405643 L -8350417.645796112,5093401.499588344 L -8351103.641026177,5094697.824947329 L -8350531.748274175,5096067.1688838005 L -8350471.747068638,5096118.945435212 L -8350067.657317057,5096757.2482463885 L -8350046.061335843,5096818.402558788 L -8349370.018068257,5097665.080101979 L -8348354.005075787,5099217.714455182 L -8347792.620883716,5099358.212485856 L -8347284.892686209,5099460.90832053 L -8346032.10313682,5100283.109906071 L -8346153.441381786,5102027.767747883 L -8344874.491752062,5103070.545613147 L -8343800.258665905,5103926.112973364 L -8343602.443930767,5104399.343252988 L -8343603.00052822,5105080.639251757 L -8341625.521093768,5105296.281368339 L -8341588.674342317,5105305.067993734 L -8341161.652775633,5105857.450129002 L -8343589.642189325,5105155.398608357 L -8344171.954445664,5105498.226857882 L -8344887.961410446,5107056.745553675 L -8344643.615128156,5107583.607118013 L -8344652.854645892,5107637.084364103 L -8344592.853440354,5108447.770364916 L -8343147.815130367,5109134.121283061 L -8342792.038037791,5110000.063148199 L -8342543.016336887,5110393.1299933335 L -8342311.805754509,5110997.214827704 L -8340790.958871291,5111926.363794045 L -8339744.110379872,5112838.46281615 L -8338126.526859155,5113012.695517936 L -8337765.963028476,5111977.480775316 L -8337700.284528907,5111272.895188331 L -8338271.242197186,5110203.150641108 L -8337970.234294082,5110213.878786674 L -8337316.23228567,5110909.594836885 L -8337231.518153177,5111694.477934943 L -8337522.173343639,5112571.530743477 L -8337443.91574161,5113095.267125239 L -8335923.848094828,5114146.4032074595 L -8335424.46885913,5113970.3611841155 L -8334694.658277489,5112633.232974573 L -8334641.8928388525,5112372.119000556 L -8334609.944144995,5112230.83426569 L -8334629.091097411,5110342.319460848 L -8335840.581115716,5108995.267950642 L -8335488.477566335,5108685.23895154 L -8335385.061759389,5108576.187403014 L -8334794.845819203,5107663.897580137 L -8334563.635236826,5106651.899571734 L -8336016.243272187,5105508.056171525 L -8337885.408842096,5105690.496016625 L -8338225.48988647,5105760.941064133 L -8338412.729269984,5105490.035770866 L -8339559.653983627,5104104.055544071 L -8340075.063226,5102786.911926859 L -8340475.590753873,5101805.6486533 L -8342349.431742397,5101425.884538617 L -8342443.162753644,5101441.962056457 L -8342688.06563339,5100140.663354407 L -8342645.207629435,5099813.208024695 L -8342619.381507572,5099670.619600679 L -8342981.949089085,5098270.894642452 L -8344541.869113571,5098210.177535564 L -8345404.929125691,5097799.751858561 L -8345029.003205283,5096556.379155077 L -8344379.008698541,5096767.366207953 L -8343249.11586699,5097113.912820853 L -8342062.672734114,5095873.753198577 L -8342013.580838675,5095537.814280548 L -8342018.4788962705,5095166.480048153 L -8342151.505687768,5094587.637859057 L -8342224.0859957645,5094318.386212435 L -8342242.565031235,5094215.596550299 L -8342340.526183134,5093842.08215198 L -8342637.081306607,5093050.9221451795 L -8342135.475681093,5091582.711163141 L -8342766.4345549075,5090534.933438103 L -8343172.416737831,5090087.36519392 L -8344957.536092192,5090517.833272118 L -8345671.539306141,5091835.676024919 L -8346208.099251765,5092501.50658272 L -8347809.7640852975,5095109.352977654 L -8347505.193958487,5092721.923457914 L -8347957.3737300895,5091674.319068999 L -8349312.688530498,5090741.92220579 L -8349530.429454491,5090308.6189195635 L -8348006.57694502,5089266.778366662 L -8347221.329256965,5087704.451997161 L -8346868.44647115,5086598.236279924 L -8346923.883577566,5085160.732281501 L -8347111.390127856,5083846.403585139 L -8346896.610302322,5083639.637354825 L -8346784.845533565,5083575.149190965 L -8345015.088268934,5083057.625027631 L -8344095.923233453,5083136.373680426 L -8343186.1090351995,5083836.5220940225 L -8341924.413926547,5084198.949132444 L -8340829.475415107,5083403.975329911 L -8340676.96771272,5083225.821044561 L -8340576.891490497,5083159.404068515 L -8339647.329214577,5082592.605074643 L -8338997.156596649,5082781.415503967 L -8338502.675418544,5080856.34073488 L -8338488.537843215,5080816.084364951 L -8338371.31841941,5080655.506201668 L -8337270.702613935,5080301.976293712 L -8337164.169861247,5080243.89762106 L -8335333.52083515,5079562.279214739 L -8336260.589554478,5078246.70935679 L -8336641.524851972,5077991.576729679 L -8337116.970397151,5077723.3828920005 L -8336924.944275531,5077652.69738695 L -8335813.9757574145,5077522.316660068 L -8334151.864440381,5078309.676772058 L -8333633.8948497195,5078315.765624125 L -8333160.007777413,5078294.083387964 L -8331506.022783206,5077496.032831961 L -8331189.43015139,5076831.981591843 L -8330253.121914328,5076216.824678628 L -8330128.555404129,5076168.273053024 L -8329873.29981174,5076332.93383927 L -8329727.582598294,5076428.257239172 L -8329578.637119612,5076678.003078402 L -8328493.3834038675,5077895.049848592 L -8328360.690570843,5077976.280867128 L -8327354.362374071,5078658.67816149 L -8326273.116159996,5079709.768496707 L -8325047.265927382,5078737.093829855 L -8325312.094995976,5077317.245304612 L -8325236.286422746,5076365.153636878 L -8325287.938666475,5074939.419297679 L -8325048.60176127,5074932.887208669 L -8324554.899819602,5075226.241751852 L -8322609.146440027,5075238.5640257 L -8321012.157025106,5076291.211588576 L -8320857.534252394,5076292.3994081635 L -8319169.819452477,5076540.5084328335 L -8318435.110813241,5075882.461865758 L -8318384.794403404,5075791.8948941175 L -8318303.419855634,5075612.248173303 L -8319190.747516746,5073841.645105547 L -8319801.000965276,5072903.403313453 L -8319780.406859478,5072465.26186316 L -8319596.618380179,5072029.069671917 L -8319535.726618715,5071909.302080188 L -8319511.458969722,5071871.754430161 L -8319081.54309628,5071185.682199861 L -8318739.569620562,5070945.5758681195 L -8317000.6478548795,5070153.4751129085 L -8316734.037674429,5069531.325429503 L -8316692.404184874,5069338.590321824 L -8316669.361050279,5069213.5148640685 L -8316298.444506955,5068650.0277499575 L -8316182.56091704,5068480.899018541 L -8315420.890697133,5067134.888358205 L -8315136.001856296,5066865.394289769 L -8314854.36354459,5064942.916026471 L -8314722.650323082,5064764.642806249 L -8313900.46682798,5064146.503207294 L -8312674.549803671,5063931.410052724 L -8311315.550328118,5063799.598353257 L -8309401.645454858,5063375.200335192 L -8309341.978207793,5063142.257184859 L -8309158.412367474,5062077.996446482 L -8309016.368697224,5061736.710582859 L -8307899.054968131,5060944.623974478 L -8306496.095425662,5060071.22477418 L -8305517.931060062,5059560.296172992 L -8305414.8492115885,5059520.721456002 L -8305232.841844141,5059490.781141138 L -8303489.578618319,5058626.850342159 L -8303260.705745248,5058395.651909703 L -8302295.343121088,5057508.256989239 L -8300683.926700162,5056562.340469135 L -8299536.734819739,5055842.018272911 L -8299018.319951115,5055540.214564855 L -8297699.74058267,5054755.746800073 L -8296859.612385653,5054446.27363055 L -8295436.9492933145,5053285.504193576 L -8295241.026989519,5053229.513479308 L -8294713.216755872,5053709.859174947 L -8294009.610782363,5054426.718933011 L -8292199.444542574,5053595.532720723 L -8292129.981180318,5053387.710301827 L -8291846.227798287,5052386.581356161 L -8291421.098662947,5051068.934318589 L -8291037.269058691,5050624.674338863 L -8290753.070398697,5050696.346901681 L -8289001.124252592,5050780.01492482 L -8288302.950670235,5049193.289011938 L -8288431.346570916,5048690.470940658 L -8287466.473752514,5048353.491894522 L -8286515.026064706,5047893.368116478 L -8286494.5432784,5047880.784601127 L -8285399.838537888,5047026.180145303 L -8284933.899677224,5046416.76729442 L -8283468.211601693,5045810.64902898 L -8282111.0043699425,5044964.367174662 L -8281987.10577669,5044886.373253221 L -8280102.689436541,5044445.94878559 L -8280061.055946985,5043541.18799941 L -8278449.038400807,5042518.587509459 L -8278095.487698047,5043303.395263834 L -8277902.014423049,5043570.930998966 L -8275989.656890713,5043235.920604303 L -8275922.642557255,5043046.964465927 L -8275771.804647228,5042688.150313144 L -8274792.41576723,5043529.350015061 L -8274203.424341442,5043728.230073398 L -8273362.962185954,5041935.349648972 L -8273575.248454896,5041674.812580748 L -8273640.592995992,5041552.461703053 L -8273822.155085474,5041090.146164306 L -8273987.241890322,5040686.137440098 L -8274085.425681202,5040534.213217849 L -8274231.031575159,5040315.724624678 L -8274525.137669834,5039976.53713611 L -8274453.447917764,5039786.461246738 L -8273172.494537206,5039033.4423796395 L -8273044.588442284,5039018.208070539 L -8272459.827157147,5039413.124599444 L -8272325.241892778,5039553.198112868 L -8272265.352006732,5039621.534606436 L -8272126.647921203,5039804.507202047 L -8272082.676722339,5039879.649738083 L -8271343.181345,5040891.468218984 L -8271323.032517166,5040953.009127444 L -8271305.555357112,5041034.669782811 L -8270627.619658181,5042900.921801879 L -8269886.231849498,5043839.214025007 L -8269771.572773981,5043942.652213469 L -8268875.673512076,5044596.3064987855 L -8268763.0181873925,5044754.066216612 L -8268743.537276505,5044810.007897317 L -8268763.797423828,5045227.804800515 L -8267270.78041331,5046176.239629988 L -8267184.507807946,5046233.521676044 L -8267028.21524287,5047054.897655965 L -8266951.293474734,5047285.380970282 L -8266959.976395015,5047548.4376787 L -8266854.222878762,5048323.438096899 L -8266954.855698437,5048921.718701999 L -8266958.974519597,5049147.36049126 L -8266774.184164881,5049906.64527016 L -8266766.391800526,5050383.745877662 L -8266764.38804969,5050425.208246143 L -8266547.649001116,5051347.791924149 L -8266280.9275011765,5051861.396704005 L -8265318.681822759,5053410.521667674 L -8263597.12589764,5053832.541644531 L -8261882.249141972,5053141.528726285 L -8261653.487588389,5051562.086795958 L -8262428.159924821,5050342.135607989 L -8263397.8640091205,5049606.80357893 L -8263653.00828202,5049136.848191275 L -8263644.8819591915,5048871.231331915 L -8263536.456775159,5048265.995630157 L -8264009.898569503,5046860.24197182 L -8264013.906071171,5046840.1105047185 L -8263929.525897149,5046900.060952886 L -8262239.696026907,5048334.689754041 L -8261117.818198693,5047205.740000704 L -8261711.896925208,5045902.119389986 L -8261811.449945826,5045835.455468632 L -8261806.4405687405,5044173.949329121 L -8261807.553763648,5044158.706930671 L -8261876.905806412,5043587.356276692 L -8261947.037085612,5043372.054172048 L -8264301.5556353815,5042851.649545964 L -8266072.982692374,5042322.987335451 L -8267195.083159571,5042105.050192003 L -8267166.251411456,5041939.788160608 L -8266266.344647881,5041179.056974534 L -8265693.605867751,5041740.205098516 L -8264898.4507450145,5042257.590881827 L -8264508.053290802,5042455.113192371 L -8264482.449807919,5042501.868126827 L -8261747.107280147,5042657.226334352 L -8261615.63896152,5041689.311336179 L -8261597.716523502,5041389.428232161 L -8261584.692143081,5040930.670915938 L -8262059.469771313,5039709.396520887 L -8262337.545859315,5039251.75413985 L -8262484.487587162,5039008.150481543 L -8262660.8176605785,5038502.770080151 L -8263352.445656877,5037307.0891225245 L -8264090.048602873,5036438.926439458 L -8266023.000241008,5036581.322854849 L -8266249.212578249,5036852.517661963 L -8266389.909282663,5037115.88258819 L -8266511.392242966,5036781.065818215 L -8266941.118873274,5035788.749999036 L -8266218.299155654,5035515.6333089415 L -8264312.464945478,5034944.260000431 L -8264262.7051330935,5034890.445070957 L -8263591.003325649,5033456.7716062255 L -8262528.236147043,5033019.5271346895 L -8262624.416187089,5033407.399538922 L -8262784.382295359,5033933.210194757 L -8262261.959925067,5035088.852142554 L -8260685.23065747,5035195.893113794 L -8260554.318936297,5033527.725915757 L -8259821.280089424,5032479.872254041 L -8259469.621818008,5032484.897660793 L -8259447.246600358,5032495.391900939 L -8259092.694022181,5032834.317623257 L -8258907.85913967,5033004.642249107 L -8257926.255001804,5033257.895357288 L -8256579.545198032,5031861.914883116 L -8256882.556851973,5031327.940388839 L -8257627.172925887,5030759.562537481 L -8258312.3332597725,5030284.668929618 L -8257945.680252946,5029991.462997683 L -8256757.912418131,5029356.080902593 L -8255602.249124461,5028726.192357466 L -8254950.952179677,5028284.256084283 L -8254081.992234544,5027725.467186067 L -8253865.197526224,5027607.2219310235 L -8252567.913576367,5026874.3816848 L -8251879.947991314,5026495.736746339 L -8250829.080866277,5025832.445750402 L -8250179.364658263,5025452.05430818 L -8249343.377546303,5024985.853634033 L -8247775.175351703,5024356.898526778 L -8246708.51199092,5023745.660618776 L -8245433.3472238835,5022988.8658515345 L -8244498.374820711,5022417.727909263 L -8243595.79638936,5021908.929592648 L -8242617.63202376,5021314.528648932 L -8242032.982058112,5021010.255510468 L -8240540.710888183,5019788.6232417235 L -8239054.295123465,5019253.895626713 L -8238961.120709673,5019250.20550916 L -8237406.1877983725,5018829.068983097 L -8236070.710131225,5017493.130791847 L -8234433.75701911,5016508.983107219 L -8233742.240342302,5016103.783477359 L -8233657.414890317,5016052.581376311 L -8233127.42279465,5015721.913786036 L -8231845.044524609,5014508.691766985 L -8231555.480265159,5014372.446312115 L -8230183.97961079,5013605.656811581 L -8229584.936034983,5013253.461694706 L -8229267.80906961,5013040.660894594 L -8227585.882883216,5012650.621778645 L -8227277.004692111,5012748.093214042 L -8227086.492515569,5012963.4837713335 L -8226922.251738853,5013140.112899986 L -8226860.024143499,5013403.867731945 L -8226832.973507235,5013631.19237568 L -8226825.06982339,5013690.93789173 L -8226867.2599104,5014007.964070572 L -8226868.707063782,5014027.142346995 L -8226896.202978006,5014087.48040194 L -8227038.357967749,5014616.228916471 L -8227051.382348172,5014686.455492518 L -8227675.328094069,5016088.880244318 L -8226802.249327776,5017028.271284394 L -8226093.255490915,5018437.085395227 L -8226145.007922184,5018714.179165771 L -8227287.490988145,5018525.936377201 L -8228598.166672746,5019828.537840255 L -8228652.379264761,5020274.783592724 L -8228673.418648522,5020522.050653451 L -8227710.393733668,5022253.391701399 L -8228359.942962446,5023846.669495512 L -8228329.664060951,5024146.010453895 L -8228284.245708708,5024363.396551372 L -8228285.692862088,5024413.017973532 L -8225628.607936343,5022241.2843819065 L -8225556.3615868185,5022231.687127183 L -8223510.754624001,5024864.939030147 L -8223261.398964624,5024489.370478716 L -8223043.479929447,5023831.724841065 L -8222974.305997869,5023582.483294324 L -8222930.780076969,5022954.3131183395 L -8222874.563734117,5021857.10630385 L -8222890.371101811,5021787.861372474 L -8222900.723814455,5021608.919401856 L -8223078.545569048,5020505.516778944 L -8223016.941362843,5019570.070104846 L -8223039.316580491,5019404.896439436 L -8223211.416513259,5018860.241788671 L -8223553.3009333825,5018371.702218262 L -8223559.946706982,5018362.374451009 L -8223670.73186422,5018164.028684936 L -8223637.614315709,5017879.837062572 L -8223688.643170289,5017265.568215775 L -8223706.454288816,5017213.917270815 L -8223741.0746504525,5017117.109382196 L -8223769.572440095,5017020.007316593 L -8223808.868220346,5016750.399222504 L -8223931.486639455,5016315.706973586 L -8223944.010082169,5015306.566379901 L -8224158.166518557,5014854.248902118 L -8224414.936056022,5013977.839500469 L -8224422.461253597,5013929.377790022 L -8224423.574448505,5013459.628898084 L -8224572.519927188,5013065.177150288 L -8224659.705352377,5012654.029132253 L -8224820.762391657,5012169.53313775 L -8224859.679685639,5011845.826509255 L -8224993.296470437,5011498.222989758 L -8224979.570777223,5010366.473799371 L -8224978.580033755,5010360.235828351 L -8225107.966677902,5008970.551018643 L -8225277.283623401,5008386.082146215 L -8225341.403650097,5007753.880886823 L -8225860.709074647,5006276.74238442 L -8225977.817178963,5006060.79232176 L -8226099.422590704,5005846.615867246 L -8226175.253427832,5005722.092040842 L -8226375.138705502,5005398.437777949 L -8226455.889864123,5005161.45975895 L -8226681.211645437,5004565.060645321 L -8226975.017177488,5002947.369286076 L -8227059.619990491,5002060.907516919 L -8227443.772421269,5000915.345965851 L -8227557.106794846,5000577.855926647 L -8227729.084276171,5000002.700144466 L -8228168.751737009,4998053.224538818 L -8228432.81270112,4996695.499148456 L -8228738.3290436035,4995865.561170884 L -8229147.628547351,4994673.083494804 L -8229712.396851942,4993885.761281922 L -8230084.170555343,4993068.97268651 L -8230682.089804292,4991493.797268133 L -8231739.914397504,4990283.546800778 L -8231737.532160403,4990274.893444452 L -8231805.746851927,4988419.0117375795 L -8231896.994659292,4988194.407797999 L -8232767.97215888,4986934.829894727 L -8232966.942612968,4986660.467813501 L -8233804.133979182,4985746.062203548 L -8233620.105717696,4984886.489215855 L -8234352.271151848,4983686.766756603 L -8235198.354941623,4981905.733230526 L -8235281.900219464,4981768.178580873 L -8235910.053842112,4980796.881767791 L -8236121.727853854,4980499.826357546 L -8236309.356855587,4980184.168025236 L -8237230.993183764,4978810.230037651 L -8237699.11290457,4978226.824023376 L -8237864.684505798,4977845.013772039 L -8238022.808721775,4977328.06436673 L -8238761.302223698,4975918.275514736 L -8238906.980030041,4975190.887861269 L -8239015.009695923,4974089.3061394105 L -8239175.552105196,4973073.943654239 L -8239427.104098132,4971189.994858067 L -8239575.493869911,4970412.775931227 L -8239690.578297205,4969465.726331946 L -8239753.04511814,4969054.104249512 L -8239702.082609982,4968838.372073789 L -8239810.181739224,4967179.223170934 L -8239974.381884326,4966858.966101775 L -8240433.670295972,4966033.281839794 L -8240457.903992521,4966000.76545762 L -8242626.345779533,4966571.008517608 L -8242577.236963536,4966656.747189974 L -8242844.118540904,4966871.716565158 L -8242862.094078313,4966871.304018816 L -8242885.422747406,4966837.076239898 L -8242875.28632853,4966786.658245834 L -8242779.976918223,4966649.958972041 L -8241909.751381805,4964736.080937896 L -8240473.50731159,4964896.074196036 L -8239647.683669141,4964109.123393386 L -8239492.67127821,4963187.510744254 L -8239794.658792834,4961358.338432235 L -8240289.451665511,4961133.446471235 L -8240415.509856885,4960921.148622178 L -8241400.242072444,4959897.990071637 L -8241642.1281939875,4959697.8809341 L -8241648.929814874,4959607.701122056 L -8241796.238897042,4958735.404314061 L -8241798.610002196,4958727.556313283 L -8241955.726331501,4958212.6385204615 L -8242041.175172635,4957988.610865029 L -8242158.238749153,4957734.754252123 L -8242154.7767129885,4957345.9954368025 L -8242164.383585046,4957086.4941304745 L -8242171.908782622,4957029.396845644 L -8242168.491274255,4956953.820088305 L -8242131.466411618,4956489.372429674 L -8242124.130457175,4956455.5384805845 L -8244183.229342275,4956063.076143017 L -8245658.245991132,4957045.222132197 L -8245824.802213258,4958295.911286213 L -8245835.756051152,4958841.961717106 L -8245816.965321106,4959091.7101735845 L -8245618.571724615,4959862.911993949 L -8245632.8428833345,4959938.892647971 L -8245754.837913294,4960094.640894228 L -8246206.639198628,4960282.169999304 L -8246545.462332755,4960395.434506261 L -8246726.5902762255,4960462.337473035 L -8246838.911642435,4960484.007676736 L -8247217.987904433,4960581.238084232 L -8247692.131011569,4960368.233299166 L -8249638.363064957,4960185.250659611 L -8251066.88156251,4960535.535124175 L -8252156.688245428,4960262.935703456 L -8253889.732341995,4959298.599136791 L -8254600.062012746,4959175.225131288 L -8256169.110235477,4959641.296562587 L -8256521.881701801,4959783.8950864775 L -8257627.99669012,4959493.492156662 L -8258754.939555166,4959410.106516326 L -8260038.074797742,4958779.030511543 L -8259922.413846809,4957513.626991222 L -8259497.729989434,4955946.239471201 L -8259486.008047054,4954312.7690777285 L -8260042.72795246,4952417.935558557 L -8260074.175708607,4952375.466467648 L -8260339.06043695,4952001.799174037 L -8260348.856552139,4951914.753891589 L -8260263.329787364,4951789.845701385 L -8259735.1076716,4950246.735630704 L -8259675.974758091,4949961.539629716 L -8259604.463117206,4949807.139479504 L -8259438.341041095,4949158.216439786 L -8259428.210967434,4949114.252024478 L -8259403.854262847,4949036.157054085 L -8259393.713057236,4948997.659349507 L -8259601.535414599,4947838.490531939 L -8260731.884656062,4947464.204860804 L -8260918.611969919,4947483.018441048 L -8261035.486303302,4947474.915703077 L -8261677.643917892,4947096.0579033 L -8263426.918396219,4946693.172159412 L -8263807.185776768,4946444.07637792 L -8264741.378943506,4945874.0309577165 L -8265211.147194653,4945232.824380074 L -8264856.371977493,4943484.4785072785 L -8264898.116786541,4942039.720920598 L -8265451.619558664,4941076.808862057 L -8265542.656638234,4940959.330595475 L -8265794.049444293,4940642.587024894 L -8266083.936530268,4939976.773579425 L -8265961.774521071,4939220.529627817 L -8265685.590864414,4938185.243024411 L -8264449.499238646,4938293.275468819 L -8263228.391216336,4939251.244406939 L -8262148.169141578,4939372.625820555 L -8261383.626878809,4940007.754265263 L -8260886.2736578435,4940380.086505761 L -8259236.60785988,4940770.472182937 L -8258594.761939865,4941030.493879645 L -8257420.931305297,4941806.558585876 L -8256566.888171929,4942317.657307453 L -8255395.729205142,4942959.625399079 L -8254968.251228545,4943249.656143815 L -8254406.187987581,4943685.355461173 L -8254082.348456915,4944037.130717448 L -8252183.772277536,4944392.111785961 L -8252098.501547589,4944371.224159781 L -8251431.475158757,4945453.455069903 L -8250158.213955012,4946312.146960612 L -8248963.7335549025,4947445.9481032565 L -8248238.943482296,4948335.293886598 L -8247766.036021507,4948867.571345616 L -8247186.072606425,4949493.0852043275 L -8246982.825480133,4949665.521431846 L -8246926.074803727,4949709.063304508 L -8246076.439922198,4950537.1870955415 L -8243260.468687243,4948528.562231132 L -8245591.020150644,4951425.655281053 L -8245093.332971204,4951859.577726808 L -8244939.767733655,4951996.46326719 L -8244877.940888469,4952100.895114757 L -8244627.616749521,4952480.00497165 L -8244319.43987121,4952875.343875103 L -8244165.752182221,4953044.716883705 L -8244003.581948033,4953255.612581134 L -8243916.8195369085,4953388.456475733 L -8243723.134754877,4953638.740379244 L -8243654.06101084,4953711.403226319 L -8243632.598613016,4954001.07764277 L -8243623.648525956,4954293.473186878 L -8243658.936804537,4954378.516152204 L -8244103.212892293,4954822.5257294215 L -8242059.865715139,4955890.395348506 L -8241704.778803406,4955455.311901066 L -8241608.576499462,4955273.564807706 L -8241417.029051656,4954845.429843646 L -8241089.927859908,4954488.911819572 L -8241224.802554954,4952679.820135063 L -8240331.67514837,4954309.440680472 L -8239625.330715388,4954080.033256984 L -8239512.619730961,4954030.959005609 L -8239338.460387615,4953973.117097738 L -8239321.628880606,4953967.897413848 L -8239217.066482904,4953937.092538287 L -8238703.260241198,4953665.629675115 L -8238667.804983381,4953637.230241042 L -8238661.4931682525,4953632.245320474 L -8238610.753744349,4953592.322062807 L -8238473.1851176275,4953483.739835039 L -8238395.539772798,4953426.648878881 L -8238376.626591314,4953411.75309089 L -8238322.681166074,4953368.473331395 L -8237813.9399612,4952680.992943349 L -8237666.30805251,4951599.503397541 L -8238729.164286706,4950631.240867326 L -8238792.672056204,4950609.548472765 L -8238816.828385707,4950596.005407522 L -8238855.344929521,4950571.381700461 L -8238892.614695039,4950513.047212657 L -8238955.109457169,4950359.078076977 L -8238978.620133625,4950291.481919842 L -8239013.7859607665,4950183.932880158 L -8238999.904420264,4950129.851020582 L -8238973.577360692,4950013.3048944045 L -8238969.102317162,4949992.5518562645 L -8238944.411654105,4949947.3086266415 L -8238912.852578464,4949904.63039729 L -8238826.724688437,4949854.9321850445 L -8238749.7806564,4949817.515796881 L -8238659.95695928,4949787.793832357 L -8238066.802184537,4949539.132385646 L -8237985.160469989,4949502.34738256 L -8237539.136666228,4949355.633748911 L -8236962.423780274,4949375.154405457 L -8236703.7284156205,4949386.775955923 L -8235961.583634399,4949464.829752628 L -8235749.241705711,4949491.927432664 L -8235471.811270758,4949532.6546978 L -8234488.025270872,4949709.4003847195 L -8233670.094180319,4949803.328970231 L -8233519.156082753,4949822.967764649 L -8232476.994141895,4949777.5201367745 L -8232369.771208364,4949785.111825196 L -8232220.83686163,4949807.476563088 L -8232201.5785897225,4949810.026674056 L -8231901.87312466,4949857.936640738 L -8231858.336071811,4949864.0921138115 L -8231815.433540058,4949874.864200989 L -8231773.488355928,4949884.8302241545 L -8230840.775738419,4949986.513551157 L -8230696.060400388,4949963.767347825 L -8230687.21050087,4949963.166450128 L -8230660.694198162,4949963.679411574 L -8230233.082638179,4950024.795295995 L -8230058.444621022,4950023.82799126 L -8230030.369845443,4950069.335385538 L -8230014.094935889,4950108.174391497 L -8228852.965855221,4951062.797580801 L -8228844.449914175,4951071.768087958 L -8227932.142159329,4951651.907629267 L -8226712.525818197,4951746.309245838 L -8225875.670414209,4951265.544772341 L -8225342.372129666,4950541.364312637 L -8225836.474821501,4948740.503834836 L -8225850.979751153,4948727.5202100305 L -8227637.423807452,4948319.160277093 L -8227876.716184863,4948329.007490639 L -8227924.338663025,4948310.73446978 L -8227978.651442583,4948282.379849642 L -8228077.002212698,4948223.003928735 L -8228091.863364719,4948214.490283459 L -8228104.086244809,4948204.496650756 L -8228149.415541459,4948169.431096327 L -8229050.55795138,4947875.914023412 L -8229183.874173554,4947871.400924466 L -8229254.78468919,4947844.161192768 L -8229315.732110398,4947824.160039337 L -8229395.358942162,4947775.117090679 L -8229424.5580445975,4947730.045269246 L -8229903.053743823,4947233.375132106 L -8229932.753783967,4947208.144485612 L -8230207.356703856,4946811.964446559 L -8230219.334681066,4946797.664756161 L -8231066.565061595,4945225.060426506 L -8231096.955282581,4944904.253376771 L -8229789.6414466025,4946407.771803864 L -8228055.21698835,4947163.998336328 L -8227802.299105268,4947194.283774795 L -8227772.376426143,4947197.228807908 L -8226812.023179069,4947204.921062744 L -8226592.233976447,4947202.664667367 L -8225149.021306108,4947738.221481553 L -8224672.573885513,4947933.2510749055 L -8223212.218013592,4948500.661250748 L -8222365.755737549,4948808.953906236 L -8222241.679033111,4948858.969214452 L -8222072.117184734,4948941.063455233 L -8221826.390540756,4949063.32682312 L -8221547.123334204,4949200.319879604 L -8221409.654895023,4949270.429175972 L -8221174.9822764825,4949395.466481223 L -8220018.684461715,4949966.845117098 L -8219892.548346696,4950025.8505376335 L -8218269.198476356,4950681.807784228 L -8217245.471043174,4950996.54506968 L -8216648.7095169285,4951236.6539208535 L -8215336.007817598,4951633.43785409 L -8214610.204737625,4951804.3578962 L -8214365.045823052,4951851.867161031 L -8214326.050605427,4951859.914880965 L -8214134.759192447,4951902.425715183 L -8213884.590900787,4952021.105212912 L -8212652.974318549,4952519.366624088 L -8211563.724233085,4952308.193575952 L -8209947.354094818,4951446.587251897 L -8209660.517162891,4951472.253896195 L -8208055.601800227,4951533.027383569 L -8206756.748245548,4951423.940268616 L -8205520.65661978,4951289.056213047 L -8204203.535536662,4951170.444208409 L -8202782.954118802,4951143.415178258 L -8201522.650503788,4951181.217730894 L -8199551.660995647,4951102.945061472 L -8199514.958959535,4951100.8343464555 L -8199011.215999797,4951071.049860775 L -8198331.065042999,4951043.156302937 L -8197453.845191648,4951115.741280991 L -8196584.083746183,4951370.291313094 L -8195788.39428989,4951570.552928109 L -8195238.988075031,4951663.297341305 L -8194298.6389404535,4951748.903837265 L -8192578.875259135,4951580.432724269 L -8190995.689461074,4951519.732234865 L -8190775.900258452,4951543.200309967 L -8190743.2947796,4951554.413994669 L -8190658.458195665,4951614.938796691 L -8188713.17235795,4951280.994303711 L -8187179.790900069,4951799.623107047 L -8185341.082342841,4952224.781108822 L -8184326.293864769,4952472.675072452 L -8182795.316907888,4952629.975912555 L -8181987.159668628,4952827.463141475 L -8181507.216816023,4952946.710938531 L -8181637.382696606,4953462.8914812235 L -8181791.493399661,4954441.052527764 L -8179610.243637312,4953831.878710108 L -8179603.564467864,4953791.558771533 L -8179461.854756084,4953848.006731982 L -8174667.335419567,4954896.85432074 L -8174122.938581792,4954841.060168553 L -8172613.257043501,4955508.601949386 L -8171164.990468279,4955999.869486338 L -8170902.721747972,4956090.939995882 L -8170305.025138005,4956294.744491391 L -8169639.022888486,4956561.264459744 L -8169935.911970432,4956486.615259098 L -8169980.773725221,4956478.402415174 L -8170016.395962276,4956465.936504517 L -8170670.8432486495,4956212.955274346 L -8170881.571044722,4956159.720056132 L -8170998.122551581,4956119.243885449 L -8171168.330053004,4956059.409852487 L -8172716.004933503,4955894.428198595 L -8172790.700311826,4955897.214532353 L -8173731.6060438575,4955651.242973803 L -8173885.5163718285,4955596.031104471 L -8174478.782466061,4955122.057704605 L -8180035.4840921415,4956574.903766113 L -8182132.687638943,4956442.295315167 L -8182289.926419688,4955818.317598709 L -8182393.486941973,4954563.428498384 L -8183658.154281028,4953844.927743939 L -8183721.717710271,4953738.33670661 L -8183787.039987468,4953531.022658353 L -8185284.943923634,4952269.169939706 L -8185366.207151912,4952267.132271006 L -8186791.475120334,4952178.32550999 L -8187784.322526771,4953649.487291807 L -8187823.506987531,4953726.607364778 L -8187678.168260352,4955328.862844394 L -8185770.775577302,4955403.312590103 L -8185562.274171046,4955840.168172855 L -8184532.234922737,4956680.352377786 L -8185770.107660358,4955942.822529131 L -8187970.782673851,4957165.371944239 L -8187446.022594251,4957646.455291097 L -8187425.094529981,4957692.364784452 L -8187026.014155487,4959237.425386879 L -8185808.624204172,4959327.645799327 L -8185599.120922498,4959218.647909599 L -8185536.225410202,4959197.669989281 L -8185481.6788597135,4959214.393642406 L -8184266.960576177,4959302.853440566 L -8184217.646041755,4959345.249879156 L -8183458.769941068,4959940.990596773 L -8181967.823473076,4960414.448987161 L -8181848.811805471,4960415.329288097 L -8181462.499776569,4960431.717571641 L -8181379.444304489,4960441.151484097 L -8181337.4434606135,4960462.469518817 L -8179678.148526696,4960836.136868675 L -8179593.3230747115,4960838.631162289 L -8178106.651275167,4960559.274227364 L -8178040.082219673,4960533.891875652 L -8177908.8365400275,4960486.942034344 L -8177829.131784619,4960490.9034185065 L -8177616.400237715,4960515.258630439 L -8177553.449065669,4960523.650922319 L -8177474.133928481,4960560.5946983285 L -8177351.237210643,4960640.410162899 L -8177204.963399742,4960744.728782248 L -8175995.922410235,4961355.697275293 L -8175245.851681272,4961186.3712562015 L -8175006.737415047,4961086.449736774 L -8174912.338486854,4961039.057067223 L -8174868.701246462,4961025.851720289 L -8174372.88423447,4960900.548536826 L -8172779.445911307,4961657.747536629 L -8171822.432248956,4961632.641133562 L -8170862.824842471,4961632.318316408 L -8170687.474380573,4961708.503459881 L -8169385.503880154,4961923.239583809 L -8169319.14633169,4961942.74127323 L -8168674.138938137,4962093.165316356 L -8168606.122729262,4962111.581451576 L -8168051.2952552,4962465.075243306 L -8167993.064029565,4962498.386993958 L -8167916.042073887,4962549.191300682 L -8166446.224045248,4963282.390498015 L -8166363.580455284,4963309.320959197 L -8166243.043710653,4963362.580383716 L -8164753.110250026,4958528.981982494 L -8164389.2068346245,4958336.08841195 L -8163932.418436103,4958401.481107029 L -8163564.652234368,4958432.505384923 L -8163383.713534034,4958458.351690529 L -8160248.689506518,4957205.544433032 L -8160848.890805028,4959309.293579795 L -8160808.871448088,4959311.230023398 L -8160738.027724146,4959316.672605577 L -8159723.562072599,4959194.956065808 L -8159632.747632009,4959177.997728609 L -8159489.401523716,4959155.993009579 L -8159384.616487031,4959154.261973781 L -8159201.195362051,4959132.051931436 L -8159094.362046737,4959120.697543512 L -8158941.776420706,4959124.995779254 L -8158868.361216527,4959144.873310368 L -8158657.310593934,4959214.760389505 L -8158495.140359745,4959243.660104094 L -8158476.004539278,4959250.745681654 L -8157838.678190589,4959331.019912176 L -8157427.19682482,4959218.647909599 L -8157119.209189642,4959113.8907849705 L -8156969.183911901,4959034.83591217 L -8156878.658901988,4959019.75555985 L -8156837.582009885,4959012.992880212 L -8156370.841648887,4957187.137521954 L -8157266.084125795,4957030.511508179 L -8157788.094613972,4957075.479447257 L -8158161.13735957,4956767.659994052 L -8157395.771332569,4956773.189160404 L -8155645.895728994,4956865.616164542 L -8153541.534338935,4957239.9969834555 L -8152170.579150071,4957579.146202457 L -8150428.696285933,4958205.583030655 L -8149095.534064194,4958369.591478888 L -8147462.844488577,4958894.654077189 L -8146259.480793102,4959239.127097535 L -8144608.20086252,4959728.923989801 L -8143855.5475213695,4959929.327180812 L -8143621.509423926,4959991.048081907 L -8142852.291742545,4960192.175533681 L -8142840.469612622,4960195.227174657 L -8142638.981334285,4960247.662731147 L -8142011.2729896,4960425.790203611 L -8141628.422996864,4960554.7112679565 L -8141094.590378765,4960735.045150531 L -8140677.008704902,4960874.226268617 L -8140628.150580393,4960893.138972565 L -8140311.858511202,4961047.625879651 L -8140107.865544323,4961143.409279703 L -8139867.437708108,4961284.224904334 L -8139579.832671694,4961575.326582091 L -8137922.196398189,4961762.707965692 L -8136655.002106694,4962032.561068165 L -8136236.518744954,4962157.864067058 L -8135618.684439101,4962343.422279863 L -8134807.131955372,4962595.314560823 L -8133568.357529877,4962987.818651106 L -8133025.307657939,4963172.379966777 L -8132760.589908833,4963271.222083261 L -8132555.572802639,4963367.9078097185 L -8131160.105061901,4963984.29443152 L -8130372.964942502,4964282.53628671 L -8129606.196289918,4964542.62469385 L -8129458.252686654,4964604.8590622265 L -8128542.76119437,4965035.226422741 L -8127307.894083001,4965521.540833425 L -8126921.615449949,4965697.400893227 L -8126062.896897969,4966174.352809575 L -8124900.944053069,4966833.080868241 L -8125220.208352663,4967081.344916515 L -8125378.170710098,4967219.206857457 L -8126201.378344515,4966490.131552524 L -8126944.992543015,4966020.79788506 L -8127428.45309153,4965680.225773155 L -8128486.7674905015,4965204.325462938 L -8129309.529846955,4964848.956643678 L -8129573.357040134,4964717.880035716 L -8129807.01665131,4964613.3722848995 L -8130335.561593596,4964344.03512241 L -8130956.835671713,4964109.490323899 L -8131223.779810635,4964013.648541566 L -8132628.976874868,4963578.1306481855 L -8132760.812547815,4963555.93992038 L -8133158.000490964,4963488.839692385 L -8133360.902526833,4963441.2592757875 L -8133505.595600966,4963413.6533473935 L -8133539.269746931,4963407.239860024 L -8133790.228406976,4963346.495390571 L -8134465.0916879615,4963242.8094587615 L -8134622.185753368,4963182.609015525 L -8134845.882270117,4963069.737851353 L -8135823.323059028,4962587.184641732 L -8136664.319548073,4962283.59422988 L -8136688.676252659,4962277.401600018 L -8136773.468308796,4962249.7402561605 L -8137912.0106647825,4962005.164549326 L -8139542.629697872,4961699.464513556 L -8139742.693086726,4961634.842159895 L -8140802.5882224655,4961431.440069951 L -8140881.235442711,4961414.199068473 L -8141134.33143698,4961317.356560588 L -8141241.554370511,4961265.604904038 L -8141892.762259702,4961022.34497004 L -8143579.0187742915,4960815.272861104 L -8143807.66900838,4960746.870920255 L -8143870.04131907,4960727.415629258 L -8144151.690762727,4960644.738409814 L -8144169.902631422,4960639.911314226 L -8144181.324011175,4960635.920525747 L -8144203.098103575,4960618.84231696 L -8144232.475317196,4960590.965579671 L -8144312.091017011,4960514.657085319 L -8145653.301637936,4959766.877046522 L -8145898.69432344,4959711.055148932 L -8145926.067786226,4959705.480311984 L -8146605.940444297,4959638.5091635715 L -8146689.786284762,4959640.6657301085 L -8146757.045521099,4959641.663325672 L -8147787.719290507,4959816.434834871 L -8148385.449296323,4961452.173331513 L -8148219.817025971,4961920.025990861 L -8148272.760575793,4961940.657569421 L -8148759.271278354,4962091.242996668 L -8149030.122731403,4961905.308042116 L -8149027.1616329495,4961882.387412262 L -8149026.037306093,4961881.5950226905 L -8148490.557159529,4961479.098757963 L -8148404.329081962,4959499.052202616 L -8148665.362155922,4959309.719010554 L -8149180.081217452,4959041.37856252 L -8149217.239663479,4959021.193179984 L -8150390.53596449,4958424.320246744 L -8150687.347122792,4958400.967703728 L -8151363.590765465,4958041.900027499 L -8152288.611206158,4957820.956513985 L -8153387.8132541,4957633.679876104 L -8154921.32829537,4957185.729504682 L -8155273.220337717,4957272.366944346 L -8156302.112995271,4958909.939608861 L -8154861.204638392,4959479.423347354 L -8154827.363513191,4959478.836536145 L -8154493.438436657,4959618.659971431 L -8153716.183488041,4960003.518479976 L -8153695.444666907,4960016.194289113 L -8151909.05627035,4960776.274012589 L -8151623.855734939,4960658.01660297 L -8151438.73142175,4960647.159294518 L -8152051.211260093,4960869.002906084 L -8152277.189826405,4960885.142518417 L -8153831.989154313,4960651.722297008 L -8153856.457178389,4960648.010272313 L -8154043.6075063115,4960493.338936974 L -8154707.873171774,4959631.0565427365 L -8156062.007985579,4960035.35474472 L -8156795.358527027,4960240.194975261 L -8157017.830529376,4960310.5006747395 L -8157274.154788879,4960332.845434107 L -8158376.841136879,4960504.0640285155 L -8158405.550433555,4960513.204574081 L -8158971.053446786,4960655.859812359 L -8160291.035440816,4959791.259799143 L -8161209.42123986,4959378.595027111 L -8161324.347482155,4959281.743310006 L -8161324.069183428,4959202.379015035 L -8163268.987666822,4958555.44463634 L -8163990.104196233,4958503.311516318 L -8165211.234482437,4963687.265144901 L -8165166.48404714,4963703.4681109935 L -8164471.260431288,4964048.418598827 L -8164275.104356562,4964178.6056005685 L -8163718.373319205,4964487.553479079 L -8163546.685268555,4964632.982081168 L -8163396.804706152,4964783.594259008 L -8162205.775210257,4965385.611099866 L -8161359.969719209,4965291.077927617 L -8159573.9598089205,4966090.33770861 L -8159427.9309009,4966059.054268941 L -8159224.17170495,4966011.520073902 L -8159086.09100857,4965991.804754402 L -8159045.158831806,4965992.509396559 L -8158436.31914081,4965928.152288916 L -8158391.735684748,4965930.618520641 L -8158364.250902471,4965935.05186733 L -8157733.83749416,4966047.0459174495 L -8157226.454387073,4966039.588415626 L -8157054.454641849,4966292.295197789 L -8156876.031762005,4966517.379140704 L -8156821.373892026,4966674.157012947 L -8156805.199170014,4966730.312260395 L -8155728.862145482,4968303.876661825 L -8154532.489314028,4968351.084274748 L -8154368.604759684,4968495.953600537 L -8154147.101236902,4968733.217364488 L -8153238.544948894,4969804.441380777 L -8152763.110535665,4970078.951601948 L -8151240.237637715,4969437.083804284 L -8151218.162982692,4969400.752647551 L -8151139.627081937,4969326.548808641 L -8151086.449761185,4969278.470073292 L -8150973.7387767555,4969234.576773293 L -8150946.398709818,4969223.210658132 L -8150788.992949836,4969176.1016291585 L -8150306.222582163,4969016.302679544 L -8150123.81446455,4969122.89865639 L -8148714.086697041,4969367.975422288 L -8147982.661982785,4968994.966002136 L -8147847.3308778275,4969039.709934597 L -8147391.199264301,4969318.648254959 L -8145752.175609658,4969178.465886113 L -8145488.938409779,4968488.552966713 L -8145487.558048094,4968267.696549105 L -8145408.109327515,4968182.23918438 L -8144921.00863165,4968027.610238881 L -8143854.968660018,4968073.216052958 L -8144704.759388834,4969423.80837809 L -8143878.779899098,4970132.0276000835 L -8142304.310417166,4970124.052964374 L -8142296.5291847605,4970182.944994673 L -8142005.217209303,4971154.024382571 L -8140586.172000414,4972423.19097745 L -8139174.384822328,4971757.211968416 L -8138737.055070796,4971542.935546941 L -8136956.288308525,4971432.788013112 L -8136557.0966145415,4971375.357266853 L -8136486.965335342,4971379.910587363 L -8135620.788377478,4971463.045779829 L -8135534.961050076,4971487.428320172 L -8135113.683569118,4971592.068298249 L -8134129.58587466,4971695.152403794 L -8132729.810069628,4972299.857020121 L -8132129.430659934,4972462.809183191 L -8131252.845329681,4972557.33825374 L -8131212.959556131,4972564.080921672 L -8130489.705692497,4972617.287932867 L -8130365.573328314,4972628.657994351 L -8130325.1643531555,4972660.667579558 L -8130202.356690912,4972877.28958347 L -8130186.1819689,4972943.705035721 L -8129811.9592367,4973925.078628944 L -8129607.854950331,4974328.528152055 L -8128802.948240201,4975182.350437164 L -8127342.069166675,4975087.898829809 L -8126436.37378958,4975256.143227405 L -8125634.762136377,4975391.622481037 L -8125541.031125128,4975403.230877559 L -8125406.891138723,4975426.300769811 L -8123468.395789948,4975096.715058201 L -8123433.129775265,4975078.186294075 L -8123139.457826603,4974943.901558724 L -8122982.029802724,4974864.057455762 L -8122469.058457198,4974741.280420899 L -8121469.453957671,4974522.207470819 L -8120643.685974968,4974295.807863272 L -8120356.247917789,4974263.939847177 L -8120268.171936673,4974255.638606009 L -8118069.823500538,4970530.092082607 L -8120248.590838242,4974284.435862199 L -8119607.156800342,4975293.245547729 L -8119406.058140225,4975506.413965137 L -8118948.846727639,4975871.060734787 L -8118667.931992623,4976481.520027963 L -8116830.136255219,4976923.814936099 L -8116753.882404024,4976924.549759558 L -8115759.92180268,4977752.804423653 L -8115323.482607077,4977885.511001814 L -8115076.019379043,4978340.980628535 L -8114979.238213747,4978680.50951341 L -8114865.169131531,4979004.071724842 L -8115106.220356894,4979289.159907143 L -8115213.498950173,4979425.386016921 L -8115437.095279381,4979688.46493156 L -8115960.486129243,4980299.648011504 L -8115999.470214919,4981543.243042229 L -8114168.776661027,4982115.384654528 L -8112735.93896723,4981000.084341492 L -8112694.828679279,4980862.410129401 L -8112670.572162236,4980782.943999333 L -8112632.400708845,4980668.311019193 L -8112549.01127829,4980355.852195922 L -8112539.738364707,4980293.208735068 L -8112526.647192591,4980158.2201322075 L -8112374.17288605,4979724.437437208 L -8112385.917092329,4979112.42306947 L -8112377.9911445845,4979025.47436431 L -8112370.365759465,4978722.47556813 L -8112382.98938972,4978455.8949668165 L -8113076.454157617,4977148.100318776 L -8113093.60849115,4977071.368595658 L -8113096.369214521,4976937.247517679 L -8113224.542476221,4976011.971004238 L -8113279.645624163,4975772.473247945 L -8113282.172576605,4975600.987173894 L -8113283.363695155,4975481.903842242 L -8113282.751437956,4975369.302071288 L -8113281.014853898,4975342.117967645 L -8113267.8346261885,4975048.725484524 L -8113263.604485541,4974990.685745516 L -8113257.058899481,4974803.609115375 L -8113237.177238424,4974635.475360132 L -8113231.80050702,4974615.1990038 L -8113216.850299407,4974576.718121491 L -8113192.382275331,4974544.80511067 L -8111625.749685549,4973806.794382388 L -8111512.905117731,4973101.673085999 L -8111521.921996487,4972951.300018868 L -8110878.105721483,4973157.395150947 L -8109727.652179982,4973770.1972238375 L -8109115.75120299,4975290.292050931 L -8108067.210655309,4976291.1671421295 L -8107334.049356996,4976675.242027794 L -8107282.252397929,4976714.245541022 L -8107224.366262718,4976960.129977626 L -8107201.72387829,4977048.809201591 L -8107259.086811896,4977356.4591604145 L -8106097.957731227,4978887.695693619 L -8105716.365648736,4978984.080290782 L -8105695.326264978,4979003.219148143 L -8104915.355120786,4979702.577545688 L -8104847.895509364,4979814.876459327 L -8103066.126871676,4980627.498062951 L -8102757.760750229,4980534.375767612 L -8102690.88000016,4980512.278832955 L -8102180.6805099575,4980422.259701796 L -8100488.279159479,4980385.696558229 L -8100099.362254494,4980373.920520629 L -8099739.900486773,4980507.2507949285 L -8099262.796281183,4980614.869016312 L -8098480.77685836,4981051.367158504 L -8098035.376443747,4981237.622499289 L -8097277.290711445,4982942.256243228 L -8096615.462942831,4983674.972029695 L -8094907.4657316925,4983452.213199544 L -8094786.094090881,4983341.3283462925 L -8094765.032443222,4983322.269219872 L -8094642.024405895,4983223.988836957 L -8094491.264419513,4983114.665389891 L -8094288.18427246,4982990.005213244 L -8094097.493984732,4982881.757883689 L -8094033.7747082,4982854.788147599 L -8093943.694976252,4982811.627901648 L -8093814.286068204,4982788.364093549 L -8093566.911895764,4982713.485006732 L -8093527.003858314,4982701.897328201 L -8093413.368922112,4982663.575738034 L -8093302.650556568,4982629.254073167 L -8092997.156477984,4982483.233942956 L -8092474.689579895,4982487.071906343 L -8092393.660122547,4982485.821994729 L -8092294.0514421845,4982496.67417384 L -8091293.545254783,4980898.828033616 L -8091550.014229622,4980639.730170262 L -8091581.428589922,4980617.338956628 L -8092108.570906626,4980294.811203008 L -8092122.819801447,4980290.194919931 L -8092516.812875212,4980226.566883811 L -8092533.132312561,4980215.79073483 L -8092863.061019376,4980029.040344689 L -8093014.978728461,4979972.455813814 L -8093232.240978642,4979895.628394137 L -8093793.53611512,4979783.651968854 L -8094478.518337818,4979656.064798786 L -8094593.61155935,4979634.131557578 L -8094898.459984887,4979521.52601446 L -8095781.334866368,4979263.037992286 L -8095851.788972092,4979175.455852324 L -8096411.648087137,4978703.792934459 L -8096349.531811274,4978698.824624047 L -8095959.713218414,4978827.398843508 L -8094292.692711837,4979406.628537531 L -8093177.304809935,4979789.444074894 L -8092336.4864320755,4980076.833873666 L -8090881.574083256,4980581.907134515 L -8090324.943233441,4980790.398056572 L -8088663.8560557235,4981346.469130652 L -8087494.700839767,4981786.117185309 L -8086558.1476998255,4982116.6933358535 L -8085299.758780051,4982555.449667888 L -8084200.8016349925,4982977.3436989 L -8082874.986499644,4983436.006873158 L -8082363.050425382,4983620.175268431 L -8081663.696856424,4983887.294001813 L -8080520.312102588,4984323.291364515 L -8079568.797623082,4984691.929866803 L -8078487.428957569,4985089.029003575 L -8076847.603802589,4985673.102093198 L -8076154.484125116,4985951.721450883 L -8074529.787288936,4986602.898905256 L -8074011.383552262,4986804.986644452 L -8073985.668749888,4986916.764131665 L -8073931.188991094,4987110.119552733 L -8073922.51720276,4987163.45001483 L -8074611.440135432,4986716.70422498 L -8074768.233638216,4986594.278235799 L -8075149.335914947,4986414.246268517 L -8075657.420334824,4986205.061474379 L -8075752.4649160635,4986155.560946901 L -8076224.348237537,4986023.462700247 L -8076693.838189959,4985839.425463071 L -8076815.176434921,4985810.0351362955 L -8077149.357546284,4985719.923004526 L -8077690.537250774,4985723.776950685 L -8078344.183036815,4985314.002145728 L -8079752.419123147,4986040.511805505 L -8078976.689251553,4987446.893440481 L -8078958.399459216,4987471.418907576 L -8078834.79029664,4987744.013253494 L -8078826.753029403,4987760.697546016 L -8077134.03998435,4988753.361319535 L -8076362.094975445,4988646.756871176 L -8076342.4248214215,4988648.331283122 L -8076345.319128182,4989023.843148646 L -8076326.227835511,4989188.428435208 L -8076321.563548847,4989347.880897731 L -8076322.699007652,4989359.844352078 L -8076328.632336512,4989497.918098231 L -8076327.519141604,4989553.6455278555 L -8074489.177938695,4990338.1749690045 L -8074355.817188724,4990237.910734305 L -8073990.811710363,4990090.466934435 L -8073699.421811263,4990045.964921997 L -8073364.784289988,4989937.595130037 L -8073348.976922297,4989931.223070849 L -8073324.586821864,4989922.437582676 L -8071663.9337901585,4990329.124214162 L -8071110.286302698,4990013.015315465 L -8070501.179444924,4988939.072141514 L -8070188.594314776,4988399.194789856 L -8070144.367081084,4988299.627313252 L -8068492.819983726,4989046.51852472 L -8067070.847072231,4989487.867476083 L -8066647.454520948,4989633.4921439 L -8066008.180081169,4989845.929118264 L -8064275.881825189,4990565.12355341 L -8063905.087733307,4990710.322792233 L -8063197.997459738,4990988.497371093 L -8062287.704587674,4991388.649401916 L -8061027.267389268,4991941.188800806 L -8059718.105649742,4992506.536429766 L -8058610.454452452,4993001.2130607525 L -8058383.897024789,4993117.183439162 L -8056621.742881379,4993956.221209252 L -8055587.985562076,4994515.678744939 L -8054676.145349091,4994931.111465829 L -8054263.038718756,4995106.309358779 L -8052578.752559158,4995943.442160262 L -8052022.555855357,4996203.874584378 L -8050857.742099542,4996771.928858566 L -8049542.9698576825,4997434.24170553 L -8048199.410395501,4998128.177328408 L -8047587.798849185,4998429.658620518 L -8045906.985857696,4999315.76039711 L -8044701.306716815,4999947.104436632 L -8043496.829826431,5000604.535894633 L -8042477.087631018,5001128.3089661505 L -8042423.4761642525,5001155.579763555 L -8040821.06549013,5001968.759025119 L -8040015.101244838,5002325.334622554 L -8038772.642144197,5002936.700616004 L -8037161.014216237,5003713.02425227 L -8036679.6242102515,5003967.592780954 L -8036671.753922251,5003971.851857196 L -8036606.520700647,5004014.575358327 L -8036363.599307838,5004179.44355571 L -8035151.6194837745,5004819.872539992 L -8034395.526370358,5005053.776542954 L -8033395.79941939,5005653.9495277805 L -8032118.052040166,5006375.52086728 L -8030765.575886775,5006859.654595594 L -8029563.748400273,5007465.939216021 L -8028498.532192872,5007956.334150197 L -8027559.9085104,5008379.904421129 L -8026718.745042119,5008747.72917701 L -8025350.172090358,5009297.376433686 L -8025271.279967232,5009337.793549655 L -8025067.787938062,5009496.396595006 L -8025005.30430788,5009553.683659908 L -8024531.272520236,5011368.273083261 L -8024413.674610162,5011474.772588791 L -8024007.3028090205,5011802.463884642 L -8022839.271919923,5012863.53204678 L -8021784.041070846,5012774.6885711 L -8021377.925304533,5011470.687210256 L -8021675.4489075765,5011019.123350666 L -8021650.914091806,5010991.898634421 L -8020985.924849655,5011249.577875535 L -8019800.639439484,5011759.765162651 L -8018158.009033338,5012512.263580326 L -8016107.949290889,5013558.967175469 L -8015351.900705269,5013924.8930655625 L -8014304.818442919,5014472.708618263 L -8013167.378149891,5015024.641921048 L -8013055.724700625,5015097.645230034 L -8012076.447140116,5015685.085106931 L -8011159.7533973325,5016090.75421395 L -8009671.200298393,5016828.049128183 L -8009058.920835132,5016976.075591486 L -8009012.767774249,5016991.526195709 L -8007276.784843124,5017600.819038839 L -8006353.924000551,5018049.456664514 L -8005122.095911279,5018199.080938461 L -8005075.007766674,5018198.0478176 L -8004988.033848517,5018201.457116856 L -8004928.221886113,5018209.618777512 L -8004883.081832596,5018216.171725206 L -8004873.040814527,5018219.344888404 L -8004353.791049723,5018394.6526963925 L -8003091.472551921,5019097.4949138705 L -8001847.967048067,5019692.911536913 L -8001788.166217613,5019723.393339304 L -8001411.294081534,5019925.018479277 L -8000948.026888647,5020461.731672255 L -8000438.083433273,5021073.914390509 L -7999570.826676351,5022108.769280528 L -7999062.497353592,5022808.307029196 L -7999134.932946251,5022889.460628067 L -7999377.264345758,5023109.6684892 L -8000097.7908818675,5022885.783894668 L -8001642.493531961,5023649.260144749 L -8001495.039734457,5022250.85211606 L -8001433.557979692,5022036.584377909 L -8001340.439225643,5021804.943711577 L -8001720.37264772,5020312.426828529 L -8003261.713449193,5020461.200229153 L -8003319.254493985,5020508.159244497 L -8003777.523441733,5021275.995715484 L -8004015.813943726,5021887.417726655 L -8004027.313247123,5021918.511763812 L -8004037.532376379,5023548.563429255 L -8004072.798391062,5023571.348941569 L -8005407.730592705,5023001.5647501955 L -8006461.5476842495,5023235.389882253 L -8007583.570227803,5023615.709223956 L -8007787.039993075,5023700.723820355 L -8008703.577888571,5023410.537233864 L -8010001.585415118,5023070.124323738 L -8010061.720204045,5023034.375237362 L -8010124.838355325,5022986.0307508465 L -8010230.013010227,5022895.027411804 L -8010504.482346726,5022651.051713406 L -8010583.897671459,5021865.15292172 L -8010544.123217398,5021445.940389183 L -8010317.899748207,5020240.255278458 L -8010308.404195644,5019973.332966048 L -8010564.004878454,5018918.218749944 L -8011724.644153363,5018328.782755803 L -8012047.5597322555,5018362.713910735 L -8012294.689001817,5017170.471660027 L -8012929.44387027,5016395.271702134 L -8013024.455055661,5016305.495820432 L -8013789.531651986,5015686.0294302935 L -8013996.151758847,5015497.933831982 L -8014734.589601024,5014915.964203267 L -8014876.110069669,5014807.509006559 L -8015828.670952387,5014212.140894975 L -8016856.205512156,5013278.406277645 L -8018219.624371493,5012623.112235895 L -8018921.560552638,5013469.246994006 L -8018960.12162425,5013451.795762576 L -8019254.828844176,5012779.969299573 L -8020478.174388248,5012288.490325228 L -8021481.374507329,5013200.548707907 L -8021431.837333926,5014227.5575995855 L -8022713.492027275,5013806.048621354 L -8023179.597867176,5013675.035222211 L -8023364.566333077,5013601.5262818085 L -8023368.184216529,5013585.313969415 L -8024218.175320431,5012042.21442272 L -8024720.08150857,5011484.270731801 L -8025228.833845394,5011176.411732893 L -8027130.482442716,5011422.400230839 L -8027265.880339368,5011510.77413955 L -8027362.772824154,5011574.872273512 L -8028048.333908205,5012238.134308998 L -8028370.281007529,5012853.5457812995 L -8028762.415045797,5013675.094230213 L -8028984.586485522,5014078.437046125 L -8029142.715822195,5014411.896071957 L -8029256.584529325,5014644.644062378 L -8029611.693704957,5015093.558328602 L -8030142.275793924,5016948.391475748 L -8030129.641031721,5017031.296488651 L -8030114.612900463,5017187.0146159595 L -8030160.532190414,5017383.672822588 L -8030336.216610785,5018076.597846711 L -8030400.804179342,5018331.114688713 L -8030421.03093082,5018354.581639663 L -8030442.382009155,5018377.517318202 L -8030539.062986908,5018484.757831021 L -8030594.934239337,5018532.341944519 L -8030644.593864179,5018564.237009641 L -8030930.18401781,5018765.823328422 L -8032096.890204967,5019878.888923203 L -8032137.087673094,5019904.618117376 L -8032696.212079501,5020188.573751439 L -8032871.339902416,5020229.892379529 L -8032927.823412045,5020223.367596989 L -8033005.758187549,5020186.787562478 L -8033218.4674705565,5020053.931453239 L -8033423.696083784,5019926.937473558 L -8033967.168969786,5019495.734227376 L -8033999.29577483,5019468.013408387 L -8034036.587804244,5019434.683582748 L -8034204.056846193,5019283.018083631 L -8034287.657783777,5019208.344913798 L -8034451.776109057,5019026.277039461 L -8034682.307642539,5018609.415714716 L -8035693.712008091,5017394.637748961 L -8037164.888134517,5017033.938009234 L -8038308.272888352,5017424.433486228 L -8038801.095406042,5017819.165530463 L -8039116.040509396,5018132.592455675 L -8039323.851734809,5018257.216302203 L -8039327.848104528,5018259.31207454 L -8039563.72297357,5018384.336043888 L -8039632.652002269,5018418.26739287 L -8039722.776262016,5018337.4463321585 L -8041658.967297331,5018451.638008713 L -8041730.4678062685,5018457.290804617 L -8044052.681439809,5018359.570218933 L -8041722.608650219,5018340.737607654 L -8041692.7304988885,5017076.2467077505 L -8041822.239594479,5016824.699337991 L -8041885.068315082,5016652.636778298 L -8041904.293191142,5016594.599554096 L -8041951.6707664225,5016329.371047917 L -8041951.0362453265,5016232.158807444 L -8041945.047256723,5016057.598284951 L -8042080.801375744,5014933.167247331 L -8043506.38103874,5014129.038639529 L -8043843.768151437,5012942.891507899 L -8045142.076240611,5012500.699402172 L -8045214.211270644,5012496.805345277 L -8045315.768042095,5012475.2848089775 L -8046995.133880202,5012575.394795428 L -8047051.172111867,5012587.991586941 L -8047501.036438061,5012686.229420349 L -8048232.494548166,5014221.405667636 L -8048204.442036486,5014385.355247317 L -8048186.296959486,5014706.800639497 L -8048187.232043209,5014842.917997704 L -8048264.821728292,5015079.42385964 L -8048293.4753652215,5015165.160500263 L -8048359.799517836,5015271.56882326 L -8048472.031828455,5015441.880631366 L -8049035.876181271,5016603.1435325425 L -8049105.818217336,5017240.023099819 L -8049196.120588269,5017609.718093597 L -8047747.408735084,5018964.328983515 L -8047758.696531451,5018986.646179014 L -8047828.627435568,5019044.358212003 L -8047861.065935184,5019057.170034637 L -8047954.897133974,5019034.350832348 L -8049668.182020926,5018186.122659053 L -8050326.035683718,5019131.67967907 L -8050354.934223528,5019219.754712632 L -8050335.275201455,5020130.264446757 L -8050394.063024541,5020349.287816905 L -8050412.063386204,5020439.381562412 L -8050487.237438337,5020515.67329852 L -8050634.913874822,5022063.057526961 L -8049161.021552821,5022051.275268776 L -8049098.660374079,5022033.660967102 L -8048677.9394905735,5021943.212843412 L -8048452.428466124,5021990.105203271 L -8048366.211520506,5022057.683161804 L -8047060.511817144,5023190.691709253 L -8045973.1430310765,5023318.466716182 L -8045912.373721052,5023401.928197365 L -8045869.170626675,5023495.668168759 L -8045847.541249614,5023634.064752963 L -8045859.986768685,5023684.893357941 L -8045898.692555633,5023774.958991758 L -8045908.53319862,5023796.888527386 L -8046012.115984802,5023973.803360875 L -8046131.951416642,5024060.475085064 L -8046209.374122489,5024115.027424183 L -8046296.793318608,5024154.058969217 L -8046345.150505409,5024156.34799773 L -8047615.528534342,5024331.393822299 L -8049097.20208875,5024910.988899553 L -8049200.651291543,5024957.703599049 L -8049312.850206315,5025008.155136293 L -8049451.854854467,5025069.875918663 L -8049530.134720393,5025054.471532538 L -8051098.704269314,5026118.022379563 L -8050988.564765124,5026600.52624768 L -8050870.844403609,5027013.018499609 L -8050922.385327846,5027108.255826971 L -8051153.696097765,5027301.037829358 L -8051549.448019485,5027702.125304913 L -8051779.066733144,5027905.881139267 L -8051824.418293693,5027949.108891615 L -8052555.030375668,5029700.511937342 L -8052423.717904327,5029992.098400612 L -8052377.720690732,5030087.069441304 L -8052209.483544296,5030356.13201526 L -8052088.802084328,5030501.7345096385 L -8051987.935493721,5030629.280721641 L -8051947.971796525,5030687.623587018 L -8051892.04488435,5030809.246240869 L -8051711.929948248,5031127.60038968 L -8051664.318602035,5031213.53799835 L -8051547.722567377,5031471.739649848 L -8051485.595159566,5031601.04257395 L -8051461.049211847,5031673.771607935 L -8051047.219004823,5032308.285737487 L -8050745.520920875,5032544.434148425 L -8048890.270287314,5032491.7410865305 L -8048756.965197088,5032321.3220085 L -8048709.465170368,5032245.469484562 L -8048681.201151655,5032201.926974889 L -8048639.890488623,5032152.117894374 L -8048572.954078808,5032066.497126347 L -8048415.203228404,5031943.02600884 L -8048358.307836659,5031905.648002361 L -8048240.420495909,5031831.808757839 L -8048028.0896991715,5031744.668531304 L -8047890.810503125,5031698.1132699065 L -8046971.08887019,5031265.529512958 L -8046910.130317031,5031223.277149425 L -8046832.073090089,5031215.400111456 L -8046679.587651599,5031209.7251012 L -8046667.186660325,5031256.484920178 L -8046547.629527212,5032892.348570788 L -8044862.05206152,5033827.010995735 L -8044823.21269118,5033823.374462474 L -8043825.600810539,5031908.2196755335 L -8044637.62083613,5031619.221086482 L -8044641.6283378,5031463.566828936 L -8044639.479871628,5031429.988873902 L -8044619.553682775,5031418.12134102 L -8044406.165350874,5031499.36176644 L -8044369.073696541,5031518.663302852 L -8043671.490107484,5031885.532812166 L -8043964.661118439,5033790.261376845 L -8042527.214797723,5034529.316185283 L -8042498.939647062,5034537.949887101 L -8042429.042138792,5034592.620321321 L -8041734.486439885,5035056.621805438 L -8039896.846549767,5036476.144490591 L -8036986.4318588255,5037164.016592383 L -8036781.31456509,5037390.035187801 L -8027199.500527009,5026946.750298161 L -8027347.266019086,5026294.565937339 L -8027450.770881628,5025801.767515502 L -8027298.062804157,5025835.562321819 L -8025166.862284869,5022030.47179268 L -8026823.162724482,5026064.610905261 L -8026970.026528686,5026411.628258491 L -8024859.364455449,5027116.3215719 L -8024772.512988733,5027183.359103319 L -8027110.155503698,5026971.286911156 L -8028568.663472071,5042005.626322122 L -8028272.175140292,5042097.001555037 L -8027835.94745172,5042361.54481803 L -8026895.052851637,5042829.232971987 L -8018810.408041081,5049993.593695541 L -8018484.33098865,5049840.990250249 L -8018277.655222043,5049867.228513271 L -8017433.474995562,5050072.191480186 L -8016049.272787292,5050138.692101595 L -8015196.242661293,5049872.248143933 L -8015158.91723603,5049868.857301695 L -8015032.013016525,5049911.428005534 L -8014796.149279434,5050003.040795645 L -8014758.389708155,5050027.280497527 L -8014671.104095425,5050111.164846136 L -8014600.382822924,5050247.735748889 L -8013339.144124185,5051627.11667652 L -8012270.755311296,5052356.663133767 L -8011459.280751211,5052889.132463518 L -8009983.829956337,5053362.677111636 L -8009194.853065341,5053625.736222404 L -8009136.799950891,5053649.747999501 L -8008247.446275046,5054011.857569454 L -8007130.833858746,5054541.470018595 L -8007114.425365802,5054552.832613067 L -8006507.466974203,5055503.752810886 L -8006552.161749754,5055514.701693708 L -8008172.684105029,5055044.029452383 L -8010031.252059416,5054355.389064802 L -8011214.2108922275,5054398.009153294 L -8011374.933973035,5054373.995517585 L -8011449.095017801,5054358.08522055 L -8011482.168038516,5054347.552440548 L -8013142.052965736,5053889.098757677 L -8013745.0261195665,5053848.095558326 L -8013912.895911682,5053840.111212785 L -8014007.84030538,5053801.937540546 L -8014117.445476016,5053337.747673628 L -8014157.821055326,5053177.789012356 L -8015903.410858507,5052382.997088993 L -8016060.237757136,5052441.752578325 L -8016619.395559389,5052576.579039968 L -8016915.694648035,5052719.598156604 L -8017242.762443933,5052978.892351333 L -8017106.5853108475,5054928.502024895 L -8017099.828217756,5054966.991260668 L -8017151.981399193,5054908.724128479 L -8017351.521586439,5053026.438768128 L -8017621.415691868,5052711.2740779575 L -8017631.167279261,5052691.767323869 L -8018371.397365241,5050845.172824696 L -8018809.506353206,5050282.000940246 L -8018900.821731504,5050169.891726838 L -8026902.834084043,5042833.509132917 L -8028066.757283932,5042403.638637987 L -8028219.62120869,5042284.814691211 L -8033256.1045903945,5040328.6089540385 L -8034913.251058139,5039828.203663274 L -8035988.152061239,5039712.502764772 L -8036204.9690334555,5039618.236102275 L -8037871.878220544,5038870.4808866335 L -8038149.219599906,5038815.579247521 L -8038512.009820401,5038001.556969095 L -8039894.4977085125,5036487.766843356 L -8041234.149856567,5035831.850266495 L -8042182.135508213,5035978.6883285 L -8042211.323478698,5035986.377020576 L -8042249.272293111,5035990.945880873 L -8042267.985099513,5035991.2268141005 L -8042456.037115309,5035992.956771526 L -8042734.714328562,5035994.317080143 L -8042782.37020257,5035987.929545678 L -8042878.628166258,5035974.341262986 L -8042941.000476951,5035948.924276109 L -8043015.350764851,5035918.790668903 L -8043261.723061874,5035785.763298067 L -8043468.254113142,5035673.082544351 L -8043864.328861385,5035452.426639883 L -8044226.607012223,5035213.29477567 L -8045940.2147257,5035683.846375525 L -8045968.411952717,5035691.357407656 L -8046083.772341027,5035660.9880340295 L -8046749.507423767,5035488.576368566 L -8047276.137670811,5035272.9810869545 L -8047976.170288665,5034985.4788902495 L -8048384.490180895,5034770.39745886 L -8049792.67060748,5034148.140001342 L -8049918.6620071605,5033940.985961335 L -8050090.4613773,5033635.340943042 L -8050611.692629044,5033027.095228279 L -8050948.289373355,5032682.723389038 L -8051327.866573062,5032399.244393036 L -8053123.5501470985,5032874.019859051 L -8053253.905270818,5032922.32495789 L -8053609.036710346,5033073.080392701 L -8053896.207600746,5033040.5463467 L -8054073.506153732,5033008.115879746 L -8054374.168966415,5032932.6718585845 L -8054415.056615382,5032835.514896047 L -8054442.084987748,5032726.25327707 L -8055044.668523362,5031349.162838343 L -8055666.810893507,5030527.447549111 L -8056842.422639927,5029770.079329872 L -8057252.111761893,5029444.54428292 L -8057552.685518985,5029191.538501534 L -8057908.740910287,5028130.753243971 L -8058368.75757404,5027405.821255577 L -8059762.600050212,5026327.963636655 L -8059800.170378355,5026309.54392715 L -8060670.755588054,5025917.893343462 L -8060680.46264765,5025911.1284072 L -8060740.987054795,5025867.392764945 L -8061962.863181589,5025189.965983799 L -8062674.450762587,5025143.708018639 L -8062940.882831852,5025134.787286988 L -8064204.4035801515,5025097.287811009 L -8064457.544102215,5025017.607444106 L -8064806.285802973,5024814.827922757 L -8064897.50099373,5024572.133137581 L -8065586.524113943,5023185.109989517 L -8065924.356504601,5022679.903812468 L -8065929.143242707,5022672.196129709 L -8066845.61434651,5021430.6746266745 L -8067035.948411868,5021130.767792245 L -8067829.83449241,5020284.880822833 L -8069516.369305722,5019516.074686949 L -8070840.191822186,5018799.04754048 L -8072552.040687706,5018178.079088847 L -8072655.111404232,5018138.49596515 L -8072796.743192368,5018072.937693736 L -8074116.636130806,5016904.769969443 L -8075086.674173579,5016152.861018235 L -8075904.104326423,5015365.717258575 L -8077398.935844642,5014340.476485831 L -8077911.050030087,5013679.505079383 L -8078439.706291865,5013048.375690411 L -8079790.83547942,5012118.248510408 L -8080472.04397138,5011702.170119684 L -8080505.963020224,5011670.032086522 L -8080573.856777659,5010846.721098723 L -8081859.518972678,5009792.302292334 L -8082665.460954072,5010492.45807531 L -8082781.567182969,5010820.101519581 L -8083202.789004182,5010647.570069514 L -8083650.916746319,5010472.0480104145 L -8083759.041367727,5010425.8600737415 L -8084789.247595273,5009952.461117029 L -8086697.052160437,5009501.999948113 L -8088335.541481527,5009404.634774366 L -8088622.200302267,5009329.963734065 L -8090229.18620746,5009108.608165766 L -8091715.679895818,5009213.71162042 L -8092093.587303165,5009239.073454664 L -8093850.553958304,5008996.118647478 L -8093959.190649368,5008960.775178322 L -8095105.8481962355,5008467.174366714 L -8096167.691423064,5008059.479014627 L -8097382.854984563,5007771.734700961 L -8099016.590963393,5007530.659375383 L -8099225.415196173,5007491.075354339 L -8100605.287076251,5007275.570090512 L -8100781.895448394,5007254.518115189 L -8100945.613023505,5007223.854255044 L -8101754.226672678,5007125.303032079 L -8101792.431521919,5007090.939332528 L -8101852.61083864,5006992.566358351 L -8101862.128655103,5006973.254532072 L -8101955.347596695,5006669.769057098 L -8103877.3231330365,5006681.739063113 L -8104147.695912273,5007386.594952111 L -8105301.522434347,5007512.319496073 L -8107148.301654657,5007816.126118266 L -8107178.903382676,5007820.770200528 L -8107327.893389155,5007833.257632721 L -8108137.453253999,5007756.71154716 L -8109144.427103818,5007586.268931396 L -8109868.526995581,5007469.698575687 L -8111098.885667574,5007189.534433887 L -8111117.631869822,5007166.698846769 L -8111527.8775892425,5006780.845971763 L -8113129.687138115,5006827.503076568 L -8113253.852898147,5006856.087113231 L -8113294.885262452,5006861.585753948 L -8113609.485275383,5006825.3950256165 L -8115338.432814689,5006749.549720046 L -8116422.562203577,5006757.554357041 L -8117252.615986676,5006763.819501089 L -8119152.405548504,5006960.296465549 L -8119473.083605632,5007011.8487391705 L -8120145.7427607,5007111.578176559 L -8120924.455994645,5007251.658116453 L -8121061.468023915,5007276.587308961 L -8121275.457481065,5007303.035025962 L -8122688.246534569,5007332.0922159925 L -8122924.355174542,5007348.308848873 L -8123097.234343746,5007344.475824117 L -8123284.5850467505,5007326.490112734 L -8123707.1538338,5007289.044558011 L -8124351.805004985,5007257.938320965 L -8124982.5412398195,5007256.021826201 L -8125293.901855569,5007270.911526221 L -8125561.9591894,5007290.371366542 L -8125763.336148243,5007295.531179217 L -8126133.25081615,5007278.282673278 L -8127308.116721983,5007194.69419308 L -8128556.898769701,5007171.991273099 L -8128802.914844355,5007164.030521494 L -8128950.190530673,5007161.67178153 L -8129543.968694565,5007178.035551814 L -8130047.466751423,5007136.4627838675 L -8131796.162368397,5007037.661833259 L -8132952.282071979,5007375.99512639 L -8132987.1250725975,5007386.698149358 L -8134150.313563846,5007843.032339942 L -8134178.533054762,5007856.890916035 L -8132209.068623646,5018923.44377822 L -8134214.166423764,5007859.986983605 L -8134254.942753241,5007861.770908699 L -8134872.832718839,5007438.282167615 L -8134914.800166868,5007294.307566249 L -8136148.042013671,5005732.085726619 L -8136199.493882316,5005750.997109947 L -8136266.341236538,5005778.619882431 L -8136304.078543916,5005794.067443601 L -8136433.52084781,5005858.186876636 L -8136576.455073989,5005944.254982118 L -8136884.498368913,5006111.558581339 L -8137529.405574926,5006590.0627546245 L -8138446.856290248,5007576.140656134 L -8138462.752713533,5007595.836991511 L -8139380.092109364,5008783.838590232 L -8139433.647916385,5008885.620969306 L -8139523.148786982,5008930.16491833 L -8140411.790018086,5008105.9358423855 L -8141142.146065232,5007385.5187523095 L -8143129.47727462,5007300.764706296 L -8143228.462565834,5007323.4089573175 L -8143327.503516792,5007340.996618336 L -8143653.213214904,5007415.740846769 L -8143815.183074007,5007442.321625007 L -8143852.875853591,5007441.997288951 L -8143858.274848894,5007427.56434537 L -8143848.345150315,5007398.00562581 L -8143482.460247976,5006909.687936478 L -8143433.668915162,5006864.81417984 L -8143415.53497011,5006854.745622268 L -8142330.481629452,5005258.60560429 L -8142364.267094906,5004568.597811453 L -8142395.8039066475,5004332.494793206 L -8142397.095212743,5003969.729687485 L -8142433.719325213,5003638.441090331 L -8142487.2640002845,5003081.642277035 L -8143749.25967156,5001544.068007018 L -8143836.088874379,5001516.029975614 L -8143945.660649167,5001451.6297373045 L -8144586.9722356275,5001118.997722723 L -8144953.358075675,5000937.061938157 L -8146001.753908016,5000547.551932408 L -8146963.999586433,5000191.070897261 L -8147188.141381145,5000130.097123448 L -8147451.6346158525,5000025.695706236 L -8148280.2857733695,4999781.099957721 L -8148378.358244758,4999759.931607044 L -8148900.32420514,4999553.568377802 L -8149138.837346113,4999422.393225338 L -8150216.064926571,4998911.644506167 L -8150260.5259311935,4998895.000034031 L -8150922.531810991,4998567.522147578 L -8152064.68091848,4998210.244593045 L -8152867.65066947,4998106.246692242 L -8153950.900634379,4999104.693001804 L -8154317.342134173,4999223.770450731 L -8154749.128175062,4999378.8207806535 L -8155346.847048927,4999540.8558741445 L -8156762.330034109,4999926.362928996 L -8157682.775243733,5000489.610722249 L -8158119.67084925,5000710.785062214 L -8158770.522516069,5000986.3576697 L -8159122.425690366,5001142.717838244 L -8159258.547163707,5001160.942587374 L -8161105.048085293,5001488.345629711 L -8162460.819295613,5001819.723136203 L -8162783.679214759,5001848.793427572 L -8162876.352690845,5001856.9413757995 L -8162993.906073123,5001867.80040601 L -8163185.998986436,5001887.1610408 L -8163752.949153046,5001756.322796764 L -8163873.0740155615,5001697.829240655 L -8165765.672338285,5001579.0604085615 L -8165892.955044055,5001638.00999762 L -8166110.773891692,5001759.402190187 L -8166460.261433036,5001899.331444327 L -8166869.772443818,5002104.226744736 L -8168119.556366953,5003106.546053381 L -8168555.2497219695,5003697.167361469 L -8168685.638241537,5003851.006819073 L -8168937.309346322,5004170.60099637 L -8168969.002005351,5004209.567268163 L -8169631.074676843,5005069.959901196 L -8170308.008500357,5005579.867380304 L -8170343.619605461,5005591.85078534 L -8170543.939029144,5005611.5136245955 L -8170611.565619801,5005505.432046081 L -8171112.725967352,5004221.018429888 L -8171204.475491664,5003954.977673332 L -8171225.325632291,5003846.290945566 L -8171186.809088475,5003528.210551913 L -8171182.801586808,5003013.326682762 L -8171183.235732821,5003005.35459655 L -8171197.874245861,5002831.473379159 L -8171207.347534527,5002636.346985949 L -8171225.436951782,5002479.918622643 L -8171225.926757541,5002388.355560419 L -8171220.494366389,5002342.30912541 L -8171166.960823267,5002075.774536307 L -8171160.704667885,5002049.355755388 L -8170547.145030478,5001741.132119067 L -8170498.598600546,5001703.752249741 L -8170283.117462217,5001577.866981428 L -8169977.333952956,5001307.080673402 L -8169876.723397176,5001189.907780276 L -8169764.502218509,5001129.075081512 L -8169636.373484605,5001081.163521407 L -8168425.684966636,5001361.196079176 L -8168030.812468894,4999531.104231368 L -8168124.009146587,4999445.402147328 L -8169746.646572186,4998551.673634303 L -8170274.757368457,4998765.778033511 L -8170462.352974342,4998838.983492962 L -8170574.329250132,4998839.351731071 L -8170640.35284012,4998797.932395927 L -8170684.7025252525,4998762.463916072 L -8170985.877407594,4998552.837232449 L -8171862.574057337,4998252.515690099 L -8172906.383526657,4998224.722791346 L -8173285.3262052685,4998329.001803394 L -8173749.483954079,4998428.995819813 L -8174124.252151783,4998471.444613819 L -8174783.230141432,4998613.344527582 L -8174890.675713945,4998620.959518083 L -8175037.038580441,4998646.853476166 L -8175073.072699611,4998652.936651503 L -8175814.838994563,4998947.305015223 L -8175357.20456791,5000739.189084882 L -8174743.199652542,5000760.492156257 L -8174571.121983676,5000914.329412025 L -8174528.297375567,5001174.0844648285 L -8174436.158233038,5001962.482232815 L -8174738.479706132,5002295.069393144 L -8174768.7252117805,5002337.94761838 L -8174889.072713278,5002468.20427874 L -8175054.003670839,5002609.794066673 L -8175510.480374784,5002791.436931978 L -8175761.7952572,5002807.380760554 L -8175779.851278606,5002807.233405272 L -8176755.188129142,5002782.404072108 L -8178199.213431762,5002302.554650472 L -8179843.034956459,5003017.09905855 L -8179978.544172602,5003161.37879381 L -8180106.082913203,5003238.257144298 L -8180283.537313477,5003231.124835512 L -8180298.743555918,5003230.314346206 L -8181183.81143137,5002464.004800398 L -8181491.565295617,5001831.097816661 L -8181516.278222573,5001411.333762751 L -8181570.501946539,5001079.02724885 L -8181318.8865014985,5000837.587270898 L -8180683.074097884,5000077.358578922 L -8180374.318358218,4999359.656626512 L -8179882.69809103,4998167.369810565 L -8179881.384521037,4998138.973287651 L -8179866.83506359,4998048.261090896 L -8181382.33861125,4996762.533420647 L -8181450.4661396155,4996791.249912983 L -8181553.214029618,4996820.997343017 L -8182918.391736911,4998108.352855963 L -8182942.33655938,4998353.84924116 L -8183096.347074891,4998635.158471785 L -8183197.948374139,4998792.732897238 L -8183357.647315633,4999219.189388843 L -8183490.084113828,4999320.238392657 L -8183499.780041478,4999327.809745078 L -8183649.860978965,4999400.135606688 L -8184507.188037308,5000204.550292361 L -8184914.339074885,5000001.816267455 L -8186231.192991224,4999296.390144031 L -8186309.673232233,4999265.162136535 L -8186453.498014339,4999200.644211773 L -8188113.716900029,4999092.820688764 L -8188476.507120524,4999316.865165557 L -8188551.425137828,4999363.8547662 L -8188957.518640242,4999599.837317438 L -8189061.04576668,4999668.335196148 L -8189119.711138328,4999709.728771447 L -8189269.101894972,4999795.020714455 L -8189360.383877422,4999849.083524551 L -8189800.207185546,4999832.732070765 L -8190086.186957395,4999583.780895142 L -8191717.429379631,4998873.244426175 L -8192480.735996052,4998793.631393978 L -8192756.207207968,4998424.356216137 L -8194256.660360473,4997851.46315532 L -8194560.339931358,4997665.449902246 L -8196117.143010102,4997492.694931594 L -8196581.790564673,4997795.054960651 L -8196677.3026877735,4997882.833911452 L -8196728.287014557,4997903.453242808 L -8196752.109385586,4997889.166987154 L -8197580.54903607,4996595.537650237 L -8197636.876698412,4996489.8045947235 L -8198213.4003412295,4995301.196605203 L -8199095.384666786,4994383.776376335 L -8199231.639723515,4993904.561342252 L -8199252.122509821,4993829.331874606 L -8199223.290761706,4993579.945189691 L -8199203.0306143835,4993413.151162753 L -8199204.589087253,4992713.4717501905 L -8199256.675476996,4992338.259359365 L -8198821.68343477,4991254.625784063 L -8198924.063970454,4990138.501080531 L -8198993.193374238,4989880.23203125 L -8200976.016144246,4989733.514711954 L -8201213.571937599,4990023.5668298695 L -8201618.85280773,4990999.005788087 L -8201617.461314096,4991146.095379381 L -8201648.920202194,4991202.509256428 L -8201808.808386821,4991300.428508838 L -8201913.114749693,4991359.198194193 L -8202108.246685104,4991475.472845355 L -8202536.136543816,4991609.720278129 L -8203019.530300637,4991843.954903573 L -8204656.7951073265,4992512.394973521 L -8205012.572199901,4992677.112757911 L -8206010.551434862,4992970.785417685 L -8206092.037302122,4992923.826638735 L -8207457.6491554305,4992570.053241483 L -8207503.757688518,4992575.175820463 L -8208435.190131883,4994372.557616779 L -8208443.683809029,4994368.891646967 L -8207562.345136521,4992580.6958439285 L -8207550.556402445,4992503.901558219 L -8207399.262082511,4991959.808481528 L -8208131.299053965,4990125.697838315 L -8208333.900527209,4989954.695226311 L -8208092.114593206,4989720.417686456 L -8207879.717004772,4989485.26285095 L -8207762.497580968,4989344.584696406 L -8207514.589074971,4988448.471282157 L -8209094.91396212,4987566.755442156 L -8209875.898113677,4988144.488290637 L -8209951.706686908,4988230.561893558 L -8210167.221221084,4988460.830907215 L -8210463.787476506,4987872.971512353 L -8210474.574335164,4987741.791625868 L -8210525.113383984,4987405.1693921955 L -8210151.859131355,4986715.188969631 L -8211070.578888872,4985293.453549999 L -8211129.132941028,4985243.295742147 L -8211325.389203298,4984919.997349107 L -8211385.613047817,4984838.659630869 L -8211336.855110849,4984580.089615737 L -8211291.548078097,4984056.498963746 L -8211209.171654909,4983873.101802411 L -8211136.146068948,4983808.685654167 L -8210785.37835346,4983481.905259349 L -8210710.682975137,4983393.37348062 L -8210215.088602126,4982414.724344646 L -8211660.4608705845,4981167.98952153 L -8212505.130902827,4981835.507332913 L -8212578.35686387,4981990.01673776 L -8212612.865906017,4982059.361494858 L -8212652.796207363,4982128.839083271 L -8212910.411772957,4982317.467715331 L -8213073.517090867,4982394.5347650945 L -8213967.557317275,4984023.701944884 L -8213965.998844404,4984065.176220359 L -8214423.410632074,4984811.890403525 L -8215323.428715137,4985988.040668261 L -8215405.025901889,4986047.469731914 L -8216173.609062174,4986552.248903531 L -8216190.8524512965,4986572.079311455 L -8216229.535974348,4986617.418718986 L -8216609.280153291,4987592.899589815 L -8217023.266207603,4988684.704684103 L -8216282.22348934,4989680.096617265 L -8215427.067161066,4990093.513210571 L -8214158.681751018,4989270.082014519 L -8214286.042380435,4988247.188164216 L -8213559.237425046,4988346.5049730195 L -8213535.470713761,4988367.5455527 L -8213491.265743968,4988412.0104794875 L -8213371.797666447,4988519.289203194 L -8213366.042448774,4988526.175328077 L -8213340.7283965675,4988643.858188162 L -8212043.088224339,4989862.057800203 L -8211915.727594922,4990368.697413934 L -8211983.8773871865,4991042.010940349 L -8213723.756500489,4991633.579159069 L -8213764.25453124,4991688.9802651135 L -8213876.765140585,4993249.848884673 L -8213285.5027971845,4993746.889289243 L -8213247.876809297,4993770.738679752 L -8212878.741377827,4995286.222129584 L -8212738.7014584085,4996184.981734566 L -8212590.0899382,4996374.35365518 L -8210764.038407074,4995704.352887478 L -8211414.667434913,4997360.442983543 L -8210969.055513268,4998691.291675024 L -8209977.866767244,4999770.861953562 L -8209086.308965481,5000286.163640406 L -8208050.147145176,5000848.047385073 L -8207255.993897858,5001687.545019508 L -8207223.188043922,5001715.4656738425 L -8207130.648151225,5001816.614255645 L -8207100.257930237,5002000.349327639 L -8206957.657662532,5002425.14866039 L -8206956.878426098,5002749.912369772 L -8205031.385193847,5003195.669675589 L -8203900.490486878,5003522.37485232 L -8202723.286871738,5004129.542151095 L -8202643.804755311,5004245.9693347225 L -8202363.613596984,5005053.923932252 L -8202303.723710937,5005318.491320304 L -8201219.471870612,5006835.876318426 L -8200260.7884158995,5007109.632226539 L -8199940.076962925,5007648.321433186 L -8199697.845750959,5008041.963771877 L -8199204.366448272,5009765.6266150605 L -8199580.403688172,5011091.388676812 L -8199717.326661847,5012762.489804282 L -8199568.047224693,5013202.5106283985 L -8199466.63516858,5013472.315345629 L -8199414.092368926,5013592.394866861 L -8199181.30104978,5014183.579485787 L -8199204.722670642,5014361.352018075 L -8199208.618852819,5014377.993463884 L -8200133.661557414,5015538.657076006 L -8200699.442869372,5016801.0294877915 L -8200801.511710479,5017084.569752097 L -8200993.304061167,5017258.440369039 L -8201924.948011564,5018744.894051937 L -8202941.829296063,5020250.810094289 L -8203342.991345034,5021329.572774414 L -8204371.917398437,5022859.3527999865 L -8205484.121562902,5024046.622915658 L -8205942.702205225,5024884.788594273 L -8206893.203677363,5026381.834471295 L -8206467.62926406,5028304.023999063 L -8205621.712453523,5028786.607047646 L -8204215.52464582,5029370.827205928 L -8204015.149562395,5029392.547753678 L -8203719.596314338,5029546.366085749 L -8203546.049228191,5029635.762106575 L -8203212.647353265,5029797.415846249 L -8203112.125853078,5029852.975706163 L -8202627.886068129,5030120.583638762 L -8201758.258206052,5030630.551611119 L -8200487.6575381365,5031461.09872705 L -8200196.22311124,5031617.757936651 L -8199923.601678288,5031781.957239984 L -8199280.175021502,5032240.42942167 L -8197605.373282517,5033200.601306728 L -8197469.229545276,5033284.11828905 L -8196883.02110676,5033632.38447029 L -8195794.873084255,5034278.838694353 L -8196151.986010719,5035167.802136762 L -8196005.044282873,5035717.069429828 L -8194168.495323766,5035618.3025173815 L -8194054.949443156,5035525.5985617535 L -8193918.026469481,5035510.665471604 L -8192834.442546098,5036100.4660990825 L -8192284.969539542,5037118.9880006 L -8190655.140874838,5038173.850672867 L -8189266.541546684,5038253.269489077 L -8187867.589505885,5039102.662648958 L -8186351.084082808,5039958.786700598 L -8185894.785490046,5040255.962861869 L -8185489.80518254,5040571.787243788 L -8184273.862384606,5041379.072296777 L -8183366.719854131,5041850.870365388 L -8181986.358168295,5042662.109061278 L -8180534.75200835,5043465.573123445 L -8180216.823542644,5043714.912084708 L -8180289.18121166,5044150.419811489 L -8180340.388177425,5044242.318440736 L -8181233.059174096,5045797.772202918 L -8181385.7895154655,5046048.503368498 L -8181950.401972769,5046947.577497884 L -8182579.023137278,5047735.11309712 L -8182729.415769339,5047849.695986306 L -8183660.158031861,5048696.674390624 L -8183818.676986751,5049648.114548764 L -8183846.952137414,5049832.165207125 L -8183925.321058933,5049963.209041152 L -8184144.954414266,5050298.748577938 L -8185151.171291547,5051938.410153126 L -8185813.299622786,5052886.318223082 L -8186582.739943149,5053909.42266228 L -8187404.166465713,5055410.280377089 L -8187719.089305165,5055761.7141569685 L -8188116.2772483155,5056308.891764416 L -8188862.785753577,5057979.656868485 L -8188846.644427412,5058259.4549098965 L -8188215.796873086,5060054.326790422 L -8188046.7025665715,5060150.67533967 L -8187770.741548896,5060292.087104641 L -8187354.072694856,5060941.51090429 L -8187290.731904594,5061102.502421243 L -8187329.916365353,5061777.480414404 L -8187361.085822775,5061808.910365665 L -8187573.038133245,5062031.146760555 L -8187724.098682252,5062161.0217646565 L -8187884.844026958,5062261.39439707 L -8188115.943289845,5064152.360688735 L -8187302.865729091,5064657.896970158 L -8187173.957758751,5064706.98389184 L -8187364.202768517,5065239.689438882 L -8187376.893190468,5065268.016197321 L -8187588.400222976,5065887.517980599 L -8187626.137530354,5065947.438385023 L -8187975.569411955,5067027.997637285 L -8187230.508060075,5067972.343815684 L -8186878.515830187,5069181.615688923 L -8187004.752132746,5069919.923163078 L -8187699.051796823,5071010.869952542 L -8186660.329628232,5072217.406105267 L -8186641.627953779,5072553.571292132 L -8186885.528958106,5074076.182708795 L -8186259.690780867,5075382.8694170555 L -8186231.192991224,5075619.226123928 L -8186090.819113334,5077089.607846004 L -8186048.517706831,5077792.880910856 L -8185983.284485227,5079310.676325603 L -8185905.249522181,5080609.308909536 L -8185851.8161666,5081498.682842992 L -8185796.0451017115,5082592.575359727 L -8185775.784954388,5083302.639460653 L -8185755.747446045,5084260.618067823 L -8185752.29654183,5084396.291116027 L -8185747.509803726,5084588.138744028 L -8186094.603976021,5086132.272419053 L -8187471.292118661,5087285.258277036 L -8187501.237061684,5087752.169886636 L -8187444.018843415,5088301.016953547 L -8187339.712480543,5088885.576476397 L -8187104.828354969,5089402.9680389 L -8186146.5901782205,5090338.060323097 L -8185488.803307123,5092138.618008553 L -8186302.882743293,5092545.2326056985 L -8187066.534450137,5094385.1777685555 L -8185803.058229631,5094804.978527338 L -8185379.487567163,5094834.284934471 L -8185376.815899385,5094988.107845954 L -8185371.027285864,5095551.650328383 L -8185010.574774676,5097043.531153759 L -8185049.20263798,5097272.6826601075 L -8186164.178657766,5098557.669103878 L -8186353.533111605,5099035.099852074 L -8186485.446708196,5099348.091796344 L -8186503.480465704,5100794.267792358 L -8185152.618444928,5101039.883322588 L -8184989.980668878,5101057.002214839 L -8185351.880333447,5102682.245023491 L -8184579.990984286,5103589.5946150785 L -8184568.302437754,5103640.3694173 L -8184683.184152251,5103979.718756423 L -8185998.9805334285,5105485.716836889 L -8184554.164862423,5106783.867357592 L -8184235.568479774,5107898.963314021 L -8185202.1556183295,5108619.390737142 L -8184719.474306251,5110275.71485951 L -8184670.716369282,5110312.965698135 L -8184032.299089583,5111760.3472555615 L -8183999.793798272,5112339.480253556 L -8185405.870286482,5112723.402407739 L -8185149.0562212225,5114248.5120429555 L -8185092.283280917,5115210.028120051 L -8185178.555886283,5115557.390191555 L -8185668.584284755,5117424.5651298985 L -8186698.623533065,5114743.568978197 L -8188432.981199625,5114906.20843554 L -8189302.497742209,5116204.888792869 L -8188719.962846888,5117160.338458548 L -8188566.119310612,5117247.270018894 L -8188279.026343856,5117622.73991291 L -8188161.361642089,5119141.619484968 L -8187628.029961698,5120252.336026482 L -8185087.830501286,5120486.666380807 L -8187624.24509901,5120372.40910773 L -8187645.729760733,5120463.39716511 L -8187592.6303636255,5121824.293784595 L -8187824.731501929,5123261.6272074655 L -8187793.228086036,5123726.561364214 L -8186832.763519471,5125357.739609351 L -8186707.751731309,5126139.478526678 L -8186699.848047464,5126902.026485071 L -8186279.505650228,5127712.552142463 L -8186204.587632924,5127790.772245369 L -8185566.059033733,5128268.316849794 L -8183928.215365692,5127166.820506497 L -8183971.741286593,5125821.4323319895 L -8184132.70927028,5124576.959855445 L -8184232.34021454,5124304.925593568 L -8183726.059170412,5124366.404959403 L -8183398.223270025,5126160.3735315185 L -8183601.047382251,5126729.630705958 L -8183443.641622269,5128621.228514125 L -8184430.266269169,5129249.7540119765 L -8184531.344366811,5130996.853684569 L -8183836.822063751,5131380.926904205 L -8183067.49306288,5131404.371997328 L -8182870.234925194,5131859.098700407 L -8182938.251134067,5133684.046999202 L -8182836.17116101,5133906.756643182 L -8182584.255153344,5134492.906604939 L -8182540.172634992,5134745.511866087 L -8183004.59755058,5136633.913940433 L -8182641.2507326305,5137145.0717000635 L -8182753.46077935,5138233.819739799 L -8182271.113425744,5139873.750749154 L -8182172.261717919,5141378.077781075 L -8182312.858234791,5140880.146820388 L -8182308.51677465,5140619.307722819 L -8183695.668949425,5139316.1157366885 L -8184258.388975385,5139958.198448027 L -8184376.944233079,5141225.601419694 L -8184350.895472235,5141797.699308648 L -8183491.063725348,5143466.351843288 L -8182820.029834846,5143962.025146378 L -8182713.608401648,5144016.004998621 L -8182294.267879828,5144359.030910463 L -8182160.795810366,5144560.156887919 L -8182296.271630663,5145087.889716016 L -8181779.860512872,5146773.121347681 L -8181733.885563175,5146932.267568078 L -8181742.457163966,5147230.225141966 L -8181892.181879084,5148909.551480202 L -8182613.866137896,5149979.142830712 L -8182266.660646112,5150970.593024794 L -8182194.191657606,5151467.553911585 L -8182147.660110453,5151708.187451575 L -8182055.598891568,5152187.527192055 L -8181516.144639184,5153833.149200157 L -8181360.853949528,5154791.766907915 L -8181196.101103153,5156005.4456481915 L -8182328.220324521,5156890.314337313 L -8182766.485159774,5157332.479995073 L -8182912.981609657,5157594.075629041 L -8182815.13177725,5158698.486612704 L -8181284.488778844,5158848.696388393 L -8182214.229165949,5160326.958707202 L -8181783.756695052,5161847.995902377 L -8182836.2824805025,5162886.826742857 L -8181175.95227532,5163906.291468435 L -8180946.968082758,5163791.9633481195 L -8180839.878732613,5164246.586822811 L -8180839.656093633,5164352.678744747 L -8182294.713157792,5165390.284053921 L -8182313.637471226,5165929.961413807 L -8182560.766740788,5166221.618722774 L -8183276.773705571,5167631.321692532 L -8182751.568348006,5168595.2259673895 L -8183654.369418341,5170247.132049227 L -8183779.381206502,5170429.461990705 L -8184179.240817431,5170973.02386243 L -8184238.351467041,5171006.163396855 L -8185768.437867995,5172284.747733154 L -8185762.649254475,5173334.167007361 L -8185170.429563454,5174290.098649896 L -8185121.337668014,5174547.510117407 L -8185614.594331721,5176124.532380888 L -8184893.466670361,5177066.339769505 L -8182794.982949418,5176132.334130147 L -8182753.46077935,5176390.995747292 L -8184203.953744386,5177839.570771176 L -8184099.31342304,5177936.66049502 L -8183955.266001954,5178115.38621026 L -8183718.155486566,5178323.528618951 L -8183522.233182769,5178755.584973479 L -8183530.359505597,5178853.734585362 L -8183485.94302877,5180476.3514997335 L -8183368.1670075115,5180963.295651045 L -8183208.2008992415,5181338.728004975 L -8182436.4228695715,5182206.737535691 L -8180795.350936297,5181535.802149121 L -8180694.261706708,5181864.793569447 L -8181192.204920976,5183428.420333056 L -8180100.194112141,5183841.894255894 L -8180285.618987956,5185177.365078691 L -8179308.979699379,5186311.415501632 L -8179040.688594617,5187270.845854653 L -8179015.396806308,5187490.680138858 L -8178673.523518134,5189453.221349066 L -8178126.098790209,5190855.628298096 L -8177828.5195274195,5192361.145498077 L -8177529.571034895,5194022.673131693 L -8177079.328222433,5195306.402195663 L -8176588.075309562,5196629.894046395 L -8176409.095832264,5197673.419113341 L -8176488.288518014,5197767.192977035 L -8177734.510217446,5199119.919426477 L -8177783.713432377,5199198.87829049 L -8178385.283960623,5199701.222456512 L -8178631.745313239,5200011.0647588335 L -8178543.134998567,5201720.192420664 L -8176908.74223474,5202712.837284829 L -8176713.153889417,5202647.089026321 L -8175005.25686582,5203086.076371588 L -8176813.230111641,5202842.379238146 L -8177139.507539155,5203267.126769573 L -8178172.997691681,5204807.391152526 L -8176539.283976748,5205528.102946764 L -8175620.330448299,5205648.653326448 L -8176769.481551758,5206938.53301906 L -8177648.460251062,5208282.934058345 L -8177935.441898327,5209475.306894045 L -8176245.834667067,5210318.639960158 L -8175773.951345594,5209227.034067713 L -8175743.115846645,5209164.7034036415 L -8175411.072069506,5209222.502283385 L -8175407.821540375,5209246.094686001 L -8175093.455298374,5210305.690518482 L -8173455.277671861,5210478.702544125 L -8173042.2823610185,5210459.2780599985 L -8172984.396225806,5210494.814355756 L -8172862.657230673,5210652.560979851 L -8172828.849501321,5210823.200129661 L -8172251.61341376,5212664.407194342 L -8171991.871645893,5213657.521522674 L -8172642.422750088,5214423.300591995 L -8171686.188324174,5215668.725790142 L -8171618.1721153,5215803.8688738635 L -8171469.003997638,5217071.626043085 L -8170884.086865212,5217730.312064683 L -8170531.037100161,5219349.465316465 L -8170210.236591594,5220205.104047292 L -8170493.622619307,5221580.666933548 L -8170975.969972913,5223022.439957445 L -8170766.911969204,5224055.01900462 L -8169878.471113183,5225831.686800279 L -8168859.34117497,5226555.358769124 L -8168398.367163596,5227373.213996434 L -8167937.137117391,5228448.540360826 L -8167889.058229318,5228683.513695563 L -8167834.756581709,5229728.525598237 L -8167372.892014407,5231103.48307361 L -8166904.125638677,5232931.134270918 L -8166763.629309346,5233093.859157398 L -8166651.319075087,5233700.030638148 L -8167335.266026518,5235478.966082073 L -8166429.236690952,5236817.313589892 L -8165699.6487482935,5238073.092831052 L -8165740.057723451,5239614.202750194 L -8164863.082774983,5241046.645718997 L -8164828.685052328,5241079.275868052 L -8164596.027316568,5241516.017106166 L -8164226.99207264,5242181.4405407375 L -8164689.758327818,5243355.205074895 L -8164130.934484035,5244246.448051791 L -8164298.025039717,5244526.319953114 L -8165664.805747675,5245770.127635774 L -8165313.25879575,5247178.412688411 L -8165231.772928489,5247739.699434123 L -8165424.02168909,5248324.1503973 L -8162785.649569746,5247581.725505774 L -8161968.052437667,5250605.292059224 L -8165650.000255399,5249123.180407193 L -8165736.161541274,5249471.085784183 L -8165273.406418046,5251256.325129651 L -8165089.840577727,5251444.758229773 L -8165738.1652921075,5252649.700054977 L -8165933.308359469,5254249.166770464 L -8164236.131402834,5255206.193400521 L -8163528.250760879,5255055.658739314 L -8163691.1111759115,5255208.614078047 L -8163181.7131860405,5257150.500481522 L -8163184.718812292,5257482.056251276 L -8163198.188470677,5257455.573732018 L -8164826.458662512,5256471.384808923 L -8165105.313986948,5256550.219030859 L -8166170.530194349,5257385.3575843815 L -8165118.561006352,5258726.66733871 L -8165091.287731109,5258748.310256398 L -8164998.558595278,5258912.525623502 L -8165268.7309994325,5260850.937483116 L -8165255.261341046,5260973.861331091 L -8165392.740912177,5261104.658912685 L -8166546.790073231,5262106.440947233 L -8166964.349483196,5263366.8060719175 L -8165371.256250454,5263877.874397823 L -8164825.568106586,5263303.814090392 L -8164624.30246723,5263015.510018736 L -8164390.531536565,5262886.502864391 L -8164254.053840853,5262820.334388164 L -8163094.2160662785,5261969.270595274 L -8162933.24808259,5261788.9536711015 L -8162617.768645681,5261537.938886201 L -8162285.591285155,5261257.863947166 L -8162229.374942305,5261227.888852869 L -8161581.161547416,5260759.502558648 L -8161575.929531347,5260824.445484791 L -8162215.237366974,5261281.934925338 L -8162576.246475617,5261522.799487206 L -8163347.913185794,5262527.805648049 L -8163553.854243763,5262873.632529359 L -8163371.290278862,5264713.51198895 L -8162958.40628751,5265155.74241665 L -8162994.807761,5265194.665747696 L -8163970.968375766,5266183.251187817 L -8162723.299522954,5267555.507900227 L -8162410.380434333,5267459.4631060045 L -8161701.052638999,5267154.216842339 L -8160977.6985878255,5267264.952679128 L -8160930.944401692,5267556.416846182 L -8161485.760743804,5267595.350113769 L -8162548.305283426,5268118.1622524625 L -8162531.7186793,5269461.457646963 L -8162347.039644072,5269750.56548873 L -8160468.523236936,5270141.360083142 L -8160413.308769503,5270172.424328741 L -8159989.849426525,5270700.986835454 L -8158919.178564074,5271705.7618504865 L -8158213.635631427,5272414.473201393 L -8158236.790085513,5272834.9358607605 L -8158504.290821889,5273549.947464282 L -8159858.047149427,5274403.2729268735 L -8159757.414329749,5275535.5003112145 L -8160345.292560628,5276876.823571445 L -8161276.257462133,5278517.57421469 L -8161684.688673853,5280204.7267596265 L -8161767.955652966,5280309.245236375 L -8162384.888270942,5279588.10659693 L -8163957.164758907,5280436.974765985 L -8163995.3473442495,5280590.343516115 L -8163821.021021666,5281636.533893341 L -8163623.317606018,5282104.74792074 L -8163224.682509487,5283202.548012019 L -8163071.729529137,5283403.913809963 L -8161979.574004965,5284184.683396668 L -8160669.454917818,5284313.224481147 L -8159944.876352245,5283962.206766698 L -8158382.0620209975,5282982.067281725 L -8158224.099663562,5282881.312498798 L -8158539.57910047,5284666.380066348 L -8159529.432012605,5284935.6189083345 L -8159891.109038192,5285196.669581296 L -8160916.250228907,5286635.0069096405 L -8160134.342125575,5288304.185716086 L -8159382.824243229,5288214.912428392 L -8158901.47876504,5290044.880983774 L -8158720.5845925,5291075.572245112 L -8157940.680240003,5291906.798616523 L -8157163.224916303,5292765.896039809 L -8157455.215940653,5293257.299922251 L -8158137.493099725,5294198.406468568 L -8157456.329135561,5295610.9272457305 L -8157359.926456534,5295776.852016654 L -8157185.488814461,5296976.703182375 L -8157268.421835103,5297033.386882326 L -8157636.4440716645,5298850.942314556 L -8157084.188077839,5299135.028959138 L -8157058.361955974,5299323.9688283205 L -8157206.9734761845,5299325.336870233 L -8157760.565303898,5299435.388896408 L -8157816.225049295,5299295.848011054 L -8158320.502342589,5298268.508033035 L -8159604.350029908,5296975.183516855 L -8161056.067509344,5297179.428772341 L -8161655.634286757,5297744.317743212 L -8161885.509035243,5297890.978641279 L -8162309.858934147,5299414.7160414765 L -8161084.342660005,5300000.109896875 L -8161011.428393534,5300002.694162758 L -8160289.52149574,5300337.1345884595 L -8160076.789948835,5300462.400804003 L -8159466.202541833,5300735.742367937 L -8159526.426386353,5301374.888040608 L -8158022.945343699,5302692.2373823235 L -8157061.701540699,5302584.579997141 L -8157035.652779853,5302721.432818791 L -8156909.750435767,5304089.3106602775 L -8156825.481581235,5305798.412349751 L -8156823.366510911,5306135.797950679 L -8156838.951239621,5306478.6720637325 L -8156984.334494596,5307258.323892463 L -8158401.431612396,5308350.402050461 L -8157520.003884295,5309387.826996496 L -8157257.957802968,5309417.499833408 L -8156796.315874647,5309375.349216263 L -8156629.44795795,5310921.3511668695 L -8156609.521769097,5311063.196213003 L -8156710.265908265,5311224.524738472 L -8157063.037374589,5311695.285107283 L -8157949.585799267,5313005.56352146 L -8158092.853983916,5313932.824292992 L -8158099.978431328,5313949.114213992 L -8158337.979502644,5314386.973565778 L -8158671.49269706,5314791.509278843 L -8158953.910245203,5316475.004330876 L -8158559.950567286,5317350.523324249 L -8158562.510915574,5318108.692481712 L -8157786.948023216,5319814.1125050755 L -8157125.932886886,5319731.393365339 L -8156464.472472593,5319440.891986124 L -8156269.663363705,5319624.453684444 L -8156657.389150137,5319708.542903347 L -8157028.862290914,5321498.665061681 L -8156897.61661127,5322183.572733349 L -8156992.349497935,5322233.247634562 L -8157146.526992683,5322317.512718403 L -8157455.215940653,5321461.335608393 L -8158530.116943753,5320835.5942877205 L -8158947.565034228,5320547.800871269 L -8159621.159273018,5320357.67011591 L -8160086.920022496,5320060.750898696 L -8161213.361949835,5319033.870112817 L -8161875.1563226,5318918.408303581 L -8161902.874875807,5318903.480627648 L -8162228.81834485,5318743.085777697 L -8162501.439777803,5318560.912250397 L -8162876.475142285,5318132.605205412 L -8164406.338904258,5319362.898397661 L -8163883.582575492,5321166.971431544 L -8163706.47326564,5321274.690579546 L -8162574.465363763,5322500.064277776 L -8161883.282645428,5322582.655554543 L -8161512.811380069,5323000.8041499825 L -8161371.9922242155,5323123.936021639 L -8161186.088674589,5323356.793801003 L -8161015.324575714,5323515.89630311 L -8160947.753644802,5323579.903821408 L -8160776.098989998,5323772.38621611 L -8160135.010042519,5324476.055145959 L -8159120.889481392,5326098.490723209 L -8158843.9265883,5326366.027612751 L -8158476.349629698,5326710.101994317 L -8156892.161956221,5327020.191410927 L -8156167.138112684,5325454.756736402 L -8156064.724181156,5325361.165199295 L -8155867.68868245,5328564.083874712 L -8155923.237108356,5329957.252063552 L -8155999.60227904,5330051.6522217635 L -8157702.790488178,5329731.244579421 L -8158573.4202256715,5331139.534270235 L -8157319.294842395,5332281.3901782865 L -8157203.188613498,5332442.322865863 L -8156459.129137035,5334215.664591127 L -8155629.242333171,5335514.762877643 L -8156187.954857462,5335442.891189258 L -8156980.994909874,5334829.791744689 L -8158295.900735123,5334599.699119778 L -8159459.300733403,5334180.115114594 L -8160889.756190098,5334249.688465957 L -8161729.327789661,5335371.172646853 L -8161067.633604436,5336950.6647164915 L -8159877.795227093,5336945.27730594 L -8158564.737305391,5337261.827297091 L -8157890.475149654,5338030.468411829 L -8157419.482384109,5338699.79947749 L -8156773.8293375075,5339847.924842821 L -8155929.470999841,5340918.170379706 L -8155358.847290034,5342444.513452272 L -8155432.763431921,5343249.013361717 L -8155569.129808143,5343266.27085964 L -8156180.607771071,5343022.683471658 L -8157879.120561593,5344024.4105483 L -8157672.734225663,5344507.672798404 L -8157098.770931133,5345400.18539657 L -8156183.613397322,5345758.864215691 L -8156140.421434892,5345787.583559984 L -8155675.55124134,5346099.988531603 L -8155145.336506693,5346572.969742208 L -8155678.334228612,5347935.674917087 L -8156077.080644632,5348825.001441385 L -8155360.628401888,5350023.7402010085 L -8155170.494711611,5350434.103760164 L -8155867.354723979,5351315.109212103 L -8155139.213934697,5352560.6422700565 L -8155180.958743745,5352583.267632466 L -8155902.197724597,5354215.190535011 L -8155542.413130352,5354893.178582015 L -8155804.681850662,5355361.866320295 L -8156343.134227629,5356381.898088015 L -8156524.47367813,5358286.766628518 L -8156501.430543536,5358424.438859208 L -8156454.898996384,5358689.5401289 L -8156417.050369516,5358961.533014027 L -8156355.268052125,5359610.340067799 L -8155194.651041114,5361131.029925917 L -8155982.681716441,5362674.006346139 L -8155791.768789729,5363516.530919593 L -8154889.412997359,5364546.948175007 L -8154400.130439475,5365930.798307607 L -8154567.922307948,5366173.16435997 L -8154619.463232185,5366253.847279712 L -8154975.574283233,5368004.395176745 L -8154530.630278532,5369044.192751658 L -8154484.210050872,5369356.46102624 L -8154432.223848672,5369687.424788401 L -8154447.251979928,5371152.475472116 L -8154333.81741881,5372937.346679358 L -8154265.021973498,5373980.6081528785 L -8154486.547760177,5374563.653781148 L -8154643.619561686,5376499.536022406 L -8154315.56102232,5377946.347566977 L -8154194.890694299,5379071.886617771 L -8154676.904089435,5380004.369309854 L -8154867.594377163,5380636.247844783 L -8154549.220633495,5382390.124187902 L -8154491.891095736,5382893.943827539 L -8154488.440191521,5383193.794690177 L -8155896.297791585,5384247.260690923 L -8155369.867919623,5384994.637640234 L -8155163.147625221,5385353.620897696 L -8155112.83121538,5385593.871304954 L -8154716.756467138,5386936.688124738 L -8154459.719762897,5388209.106801816 L -8153958.559415345,5389378.253285492 L -8153906.016615692,5389485.997757842 L -8153886.980982766,5389617.380177504 L -8154735.680780573,5390519.456753406 L -8154149.917620021,5392011.138006707 L -8153868.167988822,5392361.181375515 L -8153683.822912069,5392698.033845673 L -8153711.875423746,5393657.378206869 L -8154472.85546281,5394752.884301999 L -8154763.621972763,5395475.921760942 L -8154965.6668485515,5396218.982979371 L -8155098.916279031,5397111.411062315 L -8155213.130076585,5398171.99170466 L -8155308.976158159,5398143.724363748 L -8155646.830812717,5397980.4207093725 L -8156919.546550957,5399512.331472514 L -8156986.894842885,5399563.6504942905 L -8157413.805090079,5397475.319084547 L -8158989.4211627655,5397330.153552835 L -8159179.888811512,5396132.202394382 L -8159192.356594482,5396108.088287767 L -8158830.790888385,5395596.791857661 L -8158736.280640702,5395123.456982294 L -8160445.925380305,5394166.110572564 L -8160880.627991854,5394951.452899117 L -8162598.399054283,5395403.891920051 L -8162575.4672391815,5396116.996676525 L -8162252.863354863,5396614.497718528 L -8162239.393696476,5397526.165962628 L -8162003.173737012,5398223.456922033 L -8161272.361279955,5399032.650666704 L -8161159.149357818,5399124.067736541 L -8160651.309840819,5399853.746603829 L -8160425.887871962,5400787.247872011 L -8159362.898054376,5401435.145436846 L -8158862.873165632,5401624.79007294 L -8159179.332214059,5403401.091502045 L -8159101.742528977,5404049.787074594 L -8159175.881309845,5404179.531649194 L -8160317.46268793,5405783.657009298 L -8160222.841120755,5406793.719224551 L -8160184.32457694,5407234.896867654 L -8160211.820491166,5407349.615730229 L -8160306.776016815,5407456.9545073835 L -8161775.636697832,5406477.72656768 L -8161868.365833662,5406080.252357379 L -8163829.147344494,5406279.525492919 L -8163934.121624312,5406826.933678515 L -8165806.849417928,5406796.333320767 L -8166258.806550548,5406887.212066415 L -8167028.914787856,5405955.401315736 L -8167229.512510264,5405606.534620154 L -8167093.257453535,5405164.204719814 L -8167507.254639796,5403565.874312938 L -8168275.47044576,5402790.55988522 L -8167203.2411104385,5401335.253147941 L -8168242.297237502,5399705.470708171 L -8169393.563411287,5399197.355686746 L -8171272.859054859,5399070.75380622 L -8172913.930988134,5399314.279593054 L -8173779.106070577,5399602.063121987 L -8174473.183095675,5401032.04823655 L -8174476.522680397,5401114.72552909 L -8174693.039089991,5402857.113867243 L -8174531.291869869,5403664.09979176 L -8174284.162600307,5404455.321779727 L -8173802.4831636455,5406241.238885882 L -8173914.915849347,5406614.732276691 L -8174169.726163772,5407019.610619458 L -8175254.645921043,5407684.553745242 L -8174647.398098765,5409535.082031498 L -8174789.664407999,5411223.366310362 L -8173648.194349405,5411434.596612441 L -8173652.647129037,5411596.445675658 L -8173344.180820049,5413307.880688134 L -8172758.195020514,5413446.8342607375 L -8172659.677271161,5413513.311127624 L -8172199.4824962225,5414498.3635439435 L -8171855.839228144,5415383.630714798 L -8171653.349074391,5417143.489727173 L -8170791.402257178,5418434.851261927 L -8170955.153228135,5419216.252725911 L -8171483.475531441,5419492.0300962515 L -8172143.934070316,5419997.412354754 L -8172846.471376713,5420763.237775876 L -8171690.863742789,5422203.278673493 L -8171572.976402038,5422251.489277233 L -8170266.75349707,5422978.375518576 L -8168325.118938653,5422603.911819564 L -8168296.064551557,5422646.425238749 L -8167926.706481104,5424310.301687129 L -8167864.256246768,5424788.061128445 L -8168004.852763641,5425681.711798102 L -8167502.801860163,5426963.789463418 L -8167080.900990057,5428387.690097143 L -8167672.564083622,5428588.061765499 L -8169166.471650069,5429385.584156472 L -8169332.1150523685,5430429.372969006 L -8168472.394624973,5431493.632009647 L -8167448.589268147,5431335.596498215 L -8167059.08236986,5431703.168148127 L -8167861.918537463,5432664.721028717 L -8168188.975201413,5433439.0012806095 L -8168545.420210933,5434619.283126651 L -8168772.845930625,5434676.504342803 L -8170123.151353948,5435510.648020527 L -8170516.331795428,5436390.220798546 L -8170616.519337143,5436667.746367725 L -8170777.70995981,5438109.502043584 L -8170770.69683189,5438261.944833841 L -8170831.699912844,5439428.339116769 L -8170713.701252604,5439905.339567178 L -8169422.6066664355,5440938.606340057 L -8169071.393672983,5441002.827625177 L -8169348.367698025,5442768.478759275 L -8169710.668112761,5442849.616581343 L -8170909.400917417,5443848.985688121 L -8170983.87365676,5445304.064966097 L -8169349.592212424,5445990.613692497 L -8169240.94438941,5446290.666702545 L -8169927.896967094,5446926.477850141 L -8169777.170376561,5448693.60567421 L -8171265.066690504,5449893.302175929 L -8172693.407076872,5449937.486620774 L -8173255.793144359,5450686.491602114 L -8173293.64177123,5450802.988369411 L -8172918.161128783,5452553.244083318 L -8172621.939963783,5452899.718939195 L -8172780.570238164,5454533.519173615 L -8172478.671779132,5455333.756005393 L -8172401.750010993,5457042.511053711 L -8172088.38564441,5457804.619606876 L -8172031.167426143,5458026.971158801 L -8172139.481290685,5459568.117338498 L -8172331.507412302,5460016.0043987995 L -8172509.841236554,5460290.68627009 L -8173303.660525402,5461416.720319714 L -8172923.393144851,5462702.85718062 L -8173032.374926338,5463528.096845454 L -8172295.551216777,5465297.181559744 L -8172567.170774312,5466482.177698755 L -8172831.777203927,5467499.536185575 L -8172782.462669508,5468921.055151562 L -8172781.460794089,5468978.025761867 L -8173212.122508121,5470846.5636464935 L -8173621.922949579,5470450.869750774 L -8174315.554696713,5470037.15522897 L -8173803.707678045,5469150.333047991 L -8173776.879680763,5469065.18528755 L -8173613.573987769,5467725.9923403915 L -8173535.205066251,5466534.1805101475 L -8174455.0380186755,5465419.744266225 L -8174979.686778786,5465239.150545932 L -8176206.538886817,5465026.992280959 L -8177175.352415191,5466188.584018844 L -8177207.969025994,5466339.481021109 L -8177179.359916858,5467083.787754208 L -8177189.378671031,5467135.174850245 L -8177739.074316567,5468671.19366234 L -8177528.569159477,5469642.657406189 L -8177134.832120542,5470807.3109167665 L -8177124.256768916,5470823.25973739 L -8177098.987244506,5470962.929234383 L -8177155.092267866,5472594.99015718 L -8176967.741564861,5473151.620451402 L -8176884.0293077845,5473334.383450271 L -8176653.709281333,5473942.483844454 L -8176597.7155774655,5474704.292573691 L -8176540.9426371595,5475173.987396941 L -8176583.9119606055,5475484.910097848 L -8176859.316380829,5476790.52870326 L -8177044.997291472,5477716.674676382 L -8176567.770634441,5479349.008076706 L -8175801.6698988015,5480057.636318427 L -8174911.113972455,5481751.6224159235 L -8173907.457443463,5483329.165001965 L -8173716.989794715,5483937.308490697 L -8173751.944114826,5484398.6375261545 L -8173765.747731683,5484977.386330389 L -8173718.993545549,5486832.048032862 L -8172942.98537523,5487612.923628456 L -8172880.201182424,5487654.963118738 L -8172138.479415267,5488436.994873988 L -8172059.665215786,5488544.042703098 L -8171352.897768739,5489372.852451237 L -8171304.473790244,5489748.029114516 L -8171264.955371012,5490716.918709992 L -8171438.279818177,5490972.502932282 L -8171543.142778506,5491056.302591283 L -8171797.730453949,5491290.635339115 L -8173249.0026554195,5492240.908357365 L -8173507.820471515,5492613.408772616 L -8173599.102453966,5492709.485297332 L -8174103.37974726,5493466.647064016 L -8173715.431321845,5495227.236012172 L -8172305.347331966,5496072.333463125 L -8172164.862134586,5496128.07568638 L -8170564.533134942,5496607.876553181 L -8169375.529653778,5496919.682968652 L -8168466.717330943,5497364.895110863 L -8168219.0314639285,5497658.402234978 L -8169039.901389037,5497433.223970716 L -8169396.0124400845,5497252.774769416 L -8170895.374661579,5496938.161869678 L -8172558.821812503,5496970.150643723 L -8173048.182294031,5497245.165543963 L -8173492.347062296,5497529.3511171825 L -8174487.2093515145,5498209.879450588 L -8174685.358045127,5498459.305297932 L -8174915.121474124,5498695.225543575 L -8175142.324554834,5499372.268122784 L -8174935.60426043,5500388.780369119 L -8174785.211628368,5502016.926602347 L -8174313.7735848585,5502645.269722972 L -8174300.637884946,5502676.190788628 L -8174928.36849353,5502849.443920301 L -8175897.849938848,5502717.988777283 L -8177430.274049109,5503044.4547361955 L -8177050.229307539,5504776.8928082185 L -8176702.689857282,5504941.637600863 L -8176677.309013382,5505092.241806619 L -8176616.528571408,5505919.909833286 L -8174993.2677566605,5506504.37410136 L -8173604.223150542,5506118.716754984 L -8172890.776534049,5504997.589338044 L -8172752.295087502,5504461.554689778 L -8172615.8173917895,5504218.803036891 L -8171353.565685683,5502820.231502943 L -8172317.258517481,5501561.855395888 L -8172898.346259423,5499714.613846174 L -8172534.220205038,5499716.167168136 L -8171758.545993191,5499528.838442326 L -8171561.955772449,5499536.915555326 L -8171136.603998128,5499916.237242176 L -8170259.072452204,5500765.962492581 L -8169326.215119357,5501309.237729042 L -8169038.899513619,5501374.799577111 L -8170381.412572587,5503063.878352036 L -8170403.008553799,5503084.8559035 L -8170558.410562948,5503173.117536262 L -8170954.707950173,5505128.610996118 L -8169019.752561203,5504714.881150799 L -8168934.704470237,5504613.549723846 L -8167847.5583231505,5503556.475044806 L -8167038.042986102,5504320.28549807 L -8166517.513047152,5504776.27113538 L -8165780.800657081,5506189.753584237 L -8164314.166365881,5506881.031387851 L -8163825.473801299,5506875.90140719 L -8162496.319081225,5506387.322811628 L -8162232.0466100825,5506848.697012421 L -8162201.545069607,5507030.112992938 L -8162197.203609466,5507063.2252958175 L -8163772.597043171,5506906.214971053 L -8165146.390879052,5508315.829028605 L -8165092.846203979,5508833.89780076 L -8164866.311040216,5509935.280265911 L -8164831.91331756,5510347.846950854 L -8165348.658393824,5511936.550461389 L -8165149.507824793,5512584.086682565 L -8165141.938099421,5513298.871907607 L -8165029.5054137185,5514431.753881846 L -8165027.056384921,5514559.6436487045 L -8164949.021421875,5515832.726817636 L -8165094.5159963425,5516967.946434244 L -8165440.942251691,5517422.073818222 L -8165896.906885981,5518078.404074362 L -8166180.326309539,5518757.04036235 L -8166240.995432022,5520232.314491064 L -8165934.755512849,5521287.273203461 L -8165951.564755959,5521380.537671827 L -8166508.83012687,5522977.70343532 L -8166862.046871157,5523973.17332256 L -8166917.817936044,5523991.2397999745 L -8168244.412307828,5525088.37814818 L -8168286.71371433,5525598.832336245 L -8168241.406681576,5525971.916563751 L -8168198.5486776205,5526406.863253204 L -8168109.047807023,5528039.033062274 L -8167449.702463055,5529335.81613851 L -8167326.026508783,5529488.070137717 L -8167245.653836431,5529611.9634469515 L -8167340.72068157,5529969.003774796 L -8167767.185650797,5531125.779600032 L -8167782.325101546,5531931.962435548 L -8167807.149347992,5532242.327550582 L -8167862.9204128785,5532748.038009966 L -8168105.663694504,5534110.181866667 L -8168132.246788906,5534749.112148828 L -8168140.862917492,5534829.572173968 L -8168151.3603454735,5534896.435619315 L -8168188.585583195,5534903.140702714 L -8168379.999447615,5534888.888508094 L -8168725.757786018,5534643.766725276 L -8168969.436151365,5534294.183330334 L -8168989.362340216,5534230.567456036 L -8169087.434811606,5533613.45416566 L -8169309.183237265,5533221.036761089 L -8169318.200116021,5533198.274887609 L -8169355.714784417,5533095.067654279 L -8169510.226237638,5532832.689574848 L -8171333.305538359,5533412.800007817 L -8171329.743314654,5534710.036276747 L -8170541.156041875,5536147.65847538 L -8170523.901520802,5536528.037098712 L -8170469.688928787,5536965.20361823 L -8170484.27178208,5537269.189426529 L -8170555.293617205,5537717.934074559 L -8170610.396765147,5537906.516370943 L -8170699.452357783,5538008.062302187 L -8170999.792343943,5538238.4556576405 L -8171617.726837336,5538639.201117896 L -8171698.433468162,5538712.675632293 L -8172120.779616232,5539207.045053728 L -8172398.855704234,5539645.588331757 L -8172484.905670616,5539860.421403576 L -8172593.219535158,5540147.341452417 L -8171982.632128156,5541886.373438876 L -8171838.473387579,5542015.117145281 L -8171672.82998528,5542241.71049206 L -8172172.097901488,5541788.6854902115 L -8173962.783230389,5542463.315502867 L -8173858.588187005,5544370.746251042 L -8173534.648468796,5544442.5499969 L -8173504.035608827,5544553.378630001 L -8171881.331391536,5545587.896352688 L -8171373.157916065,5545052.436398777 L -8170856.746798272,5545074.603503304 L -8170202.633470372,5544828.738993371 L -8169542.5088899685,5544202.47795353 L -8169431.189399175,5544286.611713297 L -8169367.292011459,5544348.1125790505 L -8169305.732333051,5544534.334740651 L -8169243.616057189,5544830.143914552 L -8169199.978816797,5545267.553257638 L -8169269.330859561,5545874.840924488 L -8169345.028113302,5546083.4200262455 L -8171021.610964138,5546489.195019709 L -8171264.844051522,5547353.888690764 L -8171933.540232718,5548211.168872813 L -8171994.209355199,5548301.430030959 L -8173165.401717835,5549759.63104496 L -8173292.862534793,5549921.598397318 L -8173733.799037825,5551855.902101794 L -8173427.113840691,5554025.629922485 L -8173465.519065013,5554256.429318784 L -8173641.12556174,5554283.369318873 L -8173749.606405518,5554299.261456141 L -8173767.306204555,5551846.060057707 L -8173945.528709315,5551717.48957166 L -8174494.779076889,5551246.184153878 L -8174637.156705613,5551138.398147491 L -8176027.648465112,5551103.407023074 L -8176352.367419755,5552416.13506599 L -8176373.629442497,5553170.457523562 L -8176392.219797459,5554662.100417751 L -8175984.011224722,5555196.407512835 L -8175920.893073442,5555248.605327604 L -8175351.605197524,5555876.25282982 L -8175336.465746777,5556221.196099785 L -8175315.537682508,5556358.895733673 L -8175302.290663103,5556421.416120073 L -8175301.066148703,5556640.86608144 L -8175286.2606564285,5556934.255826779 L -8175235.498968627,5558563.155444628 L -8175108.817388105,5559067.829674742 L -8175103.696691527,5559111.919647454 L -8174947.070167982,5560302.273448936 L -8174949.407877288,5560317.91029162 L -8175049.7067384925,5561014.402570825 L -8175068.965010401,5561075.078428499 L -8175162.250743684,5561350.783372504 L -8175344.258111132,5561539.230875619 L -8175844.082624795,5563259.67936631 L -8175832.39407826,5563332.571018807 L -8175109.707944031,5564642.217761497 L -8174776.8626665585,5565315.730077411 L -8174653.854629232,5565783.698023075 L -8174664.207341877,5565937.345719181 L -8174961.319062803,5566925.321858025 L -8175013.639223477,5567132.037471642 L -8175182.733529992,5567822.0103476625 L -8175201.323884954,5567896.347140207 L -8175354.610823776,5568430.494465684 L -8175474.50191536,5568842.7468622625 L -8175645.599972708,5569703.779346754 L -8175579.587514669,5570841.200021197 L -8175566.229175774,5571542.257815834 L -8175926.125089509,5572422.4924048 L -8175410.493208154,5573927.481227333 L -8175837.84873331,5575046.79364159 L -8175926.570367473,5575576.036749462 L -8175049.038821548,5577353.197697068 L -8174442.792874688,5577628.30108149 L -8174245.089459039,5577704.598316768 L -8172447.057043745,5577468.501971678 L -8171986.194351863,5576663.439303903 L -8171662.365953146,5576051.896378392 L -8171628.190869472,5575952.743842788 L -8171475.794486574,5575765.249831937 L -8171440.840166467,5575727.344245803 L -8170863.092009249,5574804.501764103 L -8170815.781225662,5574740.601688538 L -8170462.341842393,5574148.920907992 L -8170286.791005412,5573881.283390132 L -8170102.223289676,5573620.544077638 L -8169828.822620289,5573310.798649373 L -8169430.187523758,5573057.435381624 L -8169334.898039639,5572991.511983556 L -8169105.802527586,5573187.561120166 L -8168889.9540349385,5573641.998020298 L -8168819.154838793,5573833.519772008 L -8168746.351891815,5574239.910067016 L -8168721.193686895,5574507.24494357 L -8168712.176808142,5576092.936133818 L -8168556.329521031,5576652.943726468 L -8168503.4527629055,5576815.861521956 L -8168507.571584063,5577315.128808901 L -8168509.241376425,5577382.806942844 L -8168573.0274446495,5577489.965021669 L -8169507.55456986,5578738.669359001 L -8169726.52000825,5579236.945708511 L -8169893.38792495,5579450.053391568 L -8171497.9470652435,5580595.436337916 L -8171552.716254714,5580861.548216613 L -8171622.736214422,5581148.669444485 L -8172007.456374603,5582979.908237853 L -8171955.8041308755,5583287.476042286 L -8171941.889194526,5583485.942768268 L -8171907.825430343,5583863.135592822 L -8171896.13688381,5583960.8069516765 L -8171874.429583106,5584117.114672391 L -8171831.348940169,5584500.13486348 L -8170517.333670846,5585730.675277122 L -8169394.565286703,5586065.465139541 L -8168266.119608533,5586552.696668593 L -8168151.683171997,5586687.250580612 L -8167277.713849779,5587891.581445802 L -8166917.595297064,5588524.31534407 L -8166591.429189038,5589535.7775839465 L -8166537.105277532,5589737.675714643 L -8166514.173462428,5589913.536264051 L -8166504.711305711,5590043.904318079 L -8166517.735686134,5590115.129054077 L -8166627.274065074,5590558.021432878 L -8166871.954305838,5591502.240553891 L -8167587.070714694,5592966.775262017 L -8167746.814183983,5593354.250483057 L -8168125.189133188,5593383.127389079 L -8168366.195830755,5592925.50204659 L -8168735.108623244,5592426.315059536 L -8170594.923355928,5592505.090930807 L -8170787.060797037,5592862.415594401 L -8170851.514782206,5593188.523934991 L -8170938.900582478,5593585.7391421 L -8170988.10379741,5593874.676686232 L -8170995.784842273,5593932.120013448 L -8171095.415786534,5594406.747688975 L -8171528.33728623,5595274.765483399 L -8170503.196095514,5596796.587553771 L -8170150.424629191,5597039.782560077 L -8169486.0699081365,5598174.988425757 L -8169388.887992674,5598354.310599968 L -8169324.767965977,5598525.470807989 L -8169418.8329356965,5598872.5119986255 L -8169480.503933596,5598943.64923591 L -8170067.157650077,5599529.88534967 L -8170204.525901714,5599785.875001112 L -8170301.596497687,5600291.593650478 L -8169217.789935324,5601556.171127681 L -8169102.5742623545,5601621.517410913 L -8168511.022488278,5602164.255396797 L -8168442.783640422,5602472.947254692 L -8168305.304069292,5603405.527757736 L -8168323.894424254,5603814.347592929 L -8168549.539032091,5605049.246621739 L -8168235.729387545,5606698.136833409 L -8168094.576273221,5607326.057766523 L -8168092.906480858,5607679.252998454 L -8168188.307284468,5608219.996974191 L -8169153.558589136,5609810.663563898 L -8169171.592346646,5609882.673087126 L -8169256.083840158,5610224.80477951 L -8169269.664818033,5610293.358460345 L -8169328.886787137,5610749.662503345 L -8169444.102460107,5611557.921289811 L -8168970.549346273,5612423.970668521 L -8168890.065354429,5612869.687434701 L -8168843.756446259,5612979.940459785 L -8166775.3289878275,5612720.745756983 L -8166785.23642251,5612386.697539278 L -8166705.642986592,5611748.674624717 L -8166632.394761651,5611430.387713379 L -8166559.36917569,5611268.260699244 L -8166452.947742492,5611207.247601001 L -8166200.697776354,5611267.94619768 L -8166074.461473796,5611396.578251014 L -8165813.083309413,5611720.52528063 L -8165773.008292726,5611790.505655679 L -8165444.059197433,5612806.933461041 L -8165450.404408407,5612849.870343267 L -8165961.138232167,5612782.240914291 L -8167321.796368134,5613535.629908494 L -8167533.414720131,5613872.394673659 L -8167594.1951621035,5615488.599939566 L -8166347.305545728,5615722.701549159 L -8166296.432538437,5615894.66311842 L -8166255.578285315,5616050.737205045 L -8166086.706617781,5616564.919719547 L -8165965.813650782,5616867.8102173 L -8166818.96622822,5618286.889240447 L -8166676.922557967,5618782.31335836 L -8166607.01391775,5620086.315308212 L -8166325.04164757,5620904.855785922 L -8165083.795929378,5622463.562231812 L -8165204.009847485,5622513.598702316 L -8166292.75899524,5621442.456912391 L -8167289.92559792,5621694.376962839 L -8167589.486347645,5623494.199510162 L -8168145.671919494,5621409.239632989 L -8168213.354169898,5621237.802633427 L -8168329.237759813,5620343.67531891 L -8170236.029317611,5619858.081685954 L -8170322.969839919,5620085.056072389 L -8171640.547332948,5621520.226755885 L -8171521.54679729,5621693.558313609 L -8171232.784038175,5622081.952744289 L -8170846.950683085,5622915.947360377 L -8170583.257073293,5623242.622831992 L -8170794.641654361,5623377.897370754 L -8170918.82967829,5623044.824278168 L -8171005.1356795,5622903.351059146 L -8171350.11478147,5622063.217485118 L -8173146.366084911,5623612.408488317 L -8173113.638154616,5621904.677816353 L -8173095.82703609,5621555.018745062 L -8173930.556237803,5620073.770179149 L -8174861.688118543,5620170.369697 L -8175310.862263894,5621993.944595888 L -8175529.504875761,5622931.787234146 L -8176541.443574869,5623792.771889141 L -8176623.730942463,5623899.1744452 L -8176923.7035743045,5623599.023885225 L -8177345.671236105,5622451.470388832 L -8179027.263464027,5621738.898998201 L -8180069.213897852,5622518.5425347965 L -8180811.826220936,5622008.271445249 L -8182113.4850267805,5621712.450237825 L -8183707.914093413,5622192.160938963 L -8185186.904848091,5620747.595803333 L -8185733.594867378,5622096.5946125835 L -8185197.368880226,5620716.899730127 L -8183447.760443428,5621292.586554526 L -8183058.810142597,5619621.197032723 L -8183580.453276454,5619238.259780901 L -8183903.391119245,5618413.890225509 L -8185832.335255711,5618216.3863673005 L -8186580.068275371,5617206.115518419 L -8187828.516364616,5617427.673025302 L -8187882.728956633,5617278.026698206 L -8189873.121452015,5617348.836953776 L -8189759.909529879,5618331.111189772 L -8189837.944492926,5618870.132796972 L -8189448.882872603,5619908.135186065 L -8188246.855011017,5620201.693536572 L -8188194.200891872,5620274.258225965 L -8187412.8493859945,5620873.686922886 L -8188582.928553723,5622144.298928998 L -8189146.093857646,5620965.619636623 L -8190805.644826392,5619963.540642094 L -8191012.253801303,5619914.903447961 L -8191703.213880657,5619548.16541063 L -8191922.40195803,5619465.690755081 L -8193428.1093905,5619541.712213828 L -8194212.243883647,5620092.611489978 L -8194693.144083875,5621836.508189889 L -8195768.490364937,5620809.617931524 L -8194554.551317837,5619863.433304783 L -8194996.601015776,5618111.892050733 L -8196511.993243947,5617508.083380594 L -8196653.368997252,5617502.261080317 L -8197585.113135193,5617668.4341537915 L -8198405.64910183,5617956.726518012 L -8199769.3128640475,5619147.446384555 L -8199236.760420092,5620025.714783423 L -8199107.963769245,5620474.4831293505 L -8198995.419764053,5620880.141072552 L -8199186.2213712735,5621260.9440767495 L -8199949.093841678,5621192.149620006 L -8200117.854189723,5620960.424783647 L -8200166.500807198,5620797.181988394 L -8200325.465040051,5618669.156596452 L -8202068.394307402,5619342.924534435 L -8203397.549027474,5619302.160222913 L -8204241.573406667,5620326.360347766 L -8204930.084457224,5621358.862949795 L -8206118.5313409325,5621096.593888128 L -8207063.188539804,5621427.501250126 L -8207550.990548462,5620375.62939837 L -8207617.893562428,5620196.184310675 L -8209945.918073387,5620996.316556198 L -8210148.074268668,5620953.498317663 L -8210157.647744876,5620819.2203803575 L -8209820.4610072635,5619353.469772421 L -8209662.164691354,5618790.811976353 L -8209743.316600144,5617496.596143113 L -8210714.133879351,5615961.529206133 L -8212574.839167962,5615687.46005842 L -8213517.269977016,5616849.557826743 L -8213989.5985764535,5618351.412441941 L -8213503.355040668,5619994.706360643 L -8213279.268905701,5620375.94421745 L -8214511.24171031,5619224.881666837 L -8215971.753429517,5617754.039658611 L -8217652.789059986,5617004.232270953 L -8218309.574055667,5618053.822690062 L -8218423.231255767,5616809.591514265 L -8219651.085239217,5615518.334283193 L -8220315.6625992535,5615622.326593953 L -8220648.953154688,5615644.66700465 L -8221270.895149749,5617398.24710567 L -8222338.560385947,5621619.565324751 L -8222940.019594704,5621618.463306101 L -8222945.362930262,5621603.664782975 L -8224242.2349980045,5615796.803525414 L -8224357.561990466,5615474.283438682 L -8224468.7701617675,5615213.286595311 L -8226568.144438638,5614586.704727626 L -8224431.478132353,5615183.081299591 L -8222885.9183221795,5615271.3376818225 L -8222417.5972244125,5615327.029318961 L -8222044.2316522915,5615433.379275562 L -8220502.122746332,5615429.446192723 L -8219425.329311888,5614290.812115748 L -8218252.133198419,5614026.388913011 L -8217970.828845184,5612515.030985819 L -8217665.590801428,5611886.12016842 L -8217424.250145388,5611036.004277408 L -8217851.9396290155,5609568.225240976 L -8219360.541368248,5609027.55776404 L -8220595.185840635,5607587.141117423 L -8219614.015848782,5606059.729802008 L -8220200.446926282,5605264.848790894 L -8221559.101311413,5605048.146623861 L -8222937.9045243785,5606180.901080422 L -8223799.851341591,5607307.981835473 L -8224495.2642005775,5609015.766888583 L -8225009.671567534,5612117.140332335 L -8225212.718318741,5611330.374972719 L -8225547.233388573,5610203.892865768 L -8224523.650670729,5608438.504449154 L -8224591.778199095,5608205.3775979625 L -8224587.993336408,5607833.456048256 L -8224561.721936581,5607478.054200035 L -8226125.760782226,5606420.891015743 L -8227608.536399592,5606928.709988032 L -8228183.0562915765,5607249.981918306 L -8229057.693530738,5607774.981187443 L -8229527.016503924,5608744.266587326 L -8229386.086028579,5610035.498693651 L -8229712.029497622,5610864.2924697185 L -8229861.197615285,5612353.199035421 L -8229905.725411602,5612663.654719876 L -8229036.542827488,5614414.925379715 L -8229021.514696231,5614459.442973844 L -8229032.64664531,5614482.252426921 L -8230160.424406538,5616110.209694172 L -8230274.304245619,5616748.855645973 L -8230276.975913398,5617772.136514533 L -8230360.910809456,5618157.372109071 L -8230579.653608864,5618731.007056804 L -8229213.206859377,5620027.4462213395 L -8228740.76694045,5620094.342940733 L -8228086.097015096,5620194.6102467505 L -8227779.634456941,5620217.276793757 L -8228055.372835635,5620309.989860157 L -8228169.363994208,5620293.304586049 L -8230428.125517996,5621894.727852617 L -8230413.887755125,5621991.693235916 L -8230396.477386765,5622273.999266794 L -8230704.932563805,5622328.883948047 L -8230868.093541459,5622246.74598204 L -8230886.639368626,5621190.858745054 L -8231608.91362074,5619705.876679509 L -8232083.245971011,5619584.995939259 L -8232168.294061976,5619573.9782439945 L -8233194.77108658,5619681.322648063 L -8234358.171084861,5621062.433353159 L -8234454.239805416,5621132.171357004 L -8235388.321652662,5620645.590794004 L -8236328.8600303745,5619230.7050787555 L -8236886.1254012855,5619291.142873035 L -8237251.587289559,5619409.029214897 L -8238366.563309345,5618800.097512569 L -8239985.705302933,5618616.277149748 L -8240384.340399464,5618880.834865842 L -8240648.2789121345,5618399.096958069 L -8241300.499808692,5617874.581139686 L -8242619.524455102,5618856.755228736 L -8241963.8526543295,5620303.850934965 L -8242000.031488839,5620315.026930105 L -8243328.629611455,5619635.047924296 L -8244425.571873733,5618143.366115122 L -8245225.1797761,5616668.6094001485 L -8246296.295916514,5616580.496697193 L -8246878.830811834,5618128.101180182 L -8246914.564368378,5618346.061719884 L -8246750.034160987,5619620.410050886 L -8246520.716009952,5620577.115856069 L -8247203.505238682,5620469.587640427 L -8247229.587395376,5620465.243092997 L -8248015.514132324,5617856.484078313 L -8249079.728464309,5617805.025676036 L -8249219.879703218,5617792.121780201 L -8249975.516406722,5619623.872771484 L -8251407.641655777,5619511.807215739 L -8251963.68251229,5617955.624946688 L -8252060.307830298,5616463.276666914 L -8252421.984855886,5615842.271918174 L -8254147.993560636,5616551.073539765 L -8254161.240580039,5617624.844898115 L -8254387.664424313,5618226.458172594 L -8254194.970385751,5619719.88509918 L -8254239.83214054,5619758.6051138975 L -8255283.474630625,5620294.91014882 L -8256964.154038724,5620216.961980214 L -8257835.340373673,5619456.089746845 L -8258909.016862373,5619488.198076738 L -8259783.765421025,5619265.803019376 L -8260151.676338099,5619219.687816136 L -8260606.082499516,5619177.664952228 L -8262042.994486676,5619016.3430416705 L -8263046.651015668,5620265.128580017 L -8263217.303795054,5619590.190000265 L -8263555.492408084,5618641.143041442 L -8264273.39180421,5617252.377787155 L -8265134.225426515,5617251.433656852 L -8265613.567153871,5618815.835731372 L -8266517.03614115,5618235.585755853 L -8266404.046857992,5616791.653935502 L -8267039.681150423,5615321.680389743 L -8267343.694679779,5614949.937574292 L -8267351.3757246435,5614932.632949458 L -8267788.527364989,5614344.138137955 L -8267887.379072815,5613916.75229552 L -8269665.262660272,5613598.703530106 L -8270148.723208789,5614814.17581753 L -8270698.307534834,5615942.649319413 L -8270702.537675485,5615352.830080884 L -8270600.457702428,5614199.891187779 L -8272126.536601711,5613511.249948397 L -8273038.020592327,5614206.340565991 L -8273437.546244785,5614891.888554721 L -8272960.653546224,5616652.717581208 L -8272585.952140216,5617185.974196608 L -8272485.764598503,5617334.989571205 L -8270834.005994111,5618411.5295961 L -8269439.284093962,5619729.328989886 L -8269303.808273667,5619776.548591699 L -8269661.700436567,5619853.517072405 L -8270028.386839241,5619905.301961664 L -8271881.5224024765,5620232.86007786 L -8272043.458865733,5620341.235480056 L -8273678.664261842,5619298.382844296 L -8275228.008934704,5619670.304835162 L -8275588.572765383,5619718.1537202895 L -8276301.240145441,5619400.372622039 L -8277725.23907167,5620207.202765834 L -8277822.420987133,5620221.526777662 L -8279246.753871832,5619349.220197422 L -8280887.04656867,5619500.947004125 L -8280996.139669648,5619536.360785836 L -8281261.747974681,5619399.743051974 L -8281326.313279341,5619318.84366405 L -8282543.146633201,5618307.977260424 L -8282594.242279475,5618274.771519921 L -8282610.160966659,5617103.835834069 L -8284330.381057887,5617275.981076857 L -8285017.333635573,5618045.954241753 L -8285655.30563731,5619136.74399944 L -8285180.082731113,5620690.139136146 L -8285551.110593928,5620377.833132162 L -8287251.627135285,5620619.145239126 L -8287939.470268896,5620828.508004525 L -8289545.699201553,5620352.175407816 L -8289990.197928289,5620338.008597423 L -8290391.7273315815,5620341.786411352 L -8290607.687143721,5620354.221726711 L -8292473.735767888,5620593.644241774 L -8294076.736435311,5621226.782919377 L -8294194.902074789,5621274.671546014 L -8294764.13429096,5620216.804573447 L -8296374.148086303,5619942.920958195 L -8296392.181843812,5619947.013410791 L -8296825.659940961,5619982.428943513 L -8297279.732143906,5619959.920388838 L -8298319.122229443,5619764.114072583 L -8298348.955852976,5619760.808696968 L -8299691.357592451,5619317.112362121 L -8299969.322360963,5621043.857632681 L -8301405.789070158,5620368.5459719775 L -8302537.908291526,5619449.007042398 L -8302693.978217619,5619383.531637912 L -8304291.19027152,5620502.974612785 L -8303972.037291417,5621370.040252091 L -8305460.378883322,5621377.911600049 L -8306083.322753801,5621376.967037931 L -8307675.748069599,5621412.230757402 L -8308633.318329402,5621217.022612462 L -8309790.818394671,5621430.649808543 L -8310744.425680602,5621646.816714508 L -8310848.130918226,5620480.464759293 L -8312165.485772274,5620216.961980214 L -8312207.675859284,5620240.258212059 L -8313433.526091899,5620527.216056282 L -8314059.709359561,5622024.723734399 L -8315927.639283123,5622337.653562315 L -8317052.077459627,5622116.731156296 L -8318275.556587088,5622165.27001526 L -8320123.883148321,5621812.57809677 L -8320569.539597764,5622008.11400722 L -8321810.4736213805,5623239.536624774 L -8323194.798281089,5624469.143151119 L -8324734.5694777435,5623914.512137837 L -8325232.98023387,5623287.467431552 L -8325706.099201691,5622893.903844767 L -8327197.212648918,5622143.779375678 L -8327726.536827641,5622349.949929895 L -8327904.202734947,5622278.895735116 L -8327769.650866425,5622171.709345075 L -8326288.589569217,5621467.330595069 L -8324205.913215964,5619650.315408962 L -8325149.123261456,5619583.579377687 L -8325316.54777561,5618967.396183552 L -8325797.781934309,5618220.005921034 L -8327367.498073986,5618452.762011931 L -8327249.276774761,5617448.916395904 L -8327748.767329952,5616431.965802385 L -8329239.557950656,5615782.171876802 L -8329966.696864516,5615940.918665106 L -8330586.969067217,5615097.814812276 L -8330931.057613258,5614913.125957602 L -8332487.192775059,5616011.561096939 L -8332219.580719192,5618029.115785429 L -8332183.735843155,5618240.936412401 L -8330755.952054241,5619861.701898344 L -8330834.098336777,5620050.427156065 L -8331788.885609312,5622279.541250429 L -8332363.628140278,5621748.659869836 L -8335129.939750387,5624244.562298343 L -8336909.949540123,5623955.785462878 L -8334536.807239544,5619371.412444485 L -8332131.860960446,5618484.079888791 L -8332257.31802657,5618373.91698416 L -8332247.855869853,5618032.892632714 L -8332720.073149797,5616349.834302058 L -8334589.016080725,5615880.345973441 L -8336494.805763107,5615693.123860151 L -8337600.8762236275,5615472.867522244 L -8339329.333957176,5616017.06776853 L -8339936.3591404725,5615933.681387057 L -8343059.093496203,5620433.493329822 L -8342567.105874694,5620911.67202133 L -8343321.195237277,5620939.802821032 L -8343899.856214319,5620840.188386121 L -8345499.762199897,5620013.878053114 L -8345860.192447189,5619739.040467803 L -8345859.33528711,5619725.834749172 L -8345432.770130339,5619769.245277129 L -8345037.530278277,5619817.503926478 L -8343473.847655003,5620178.145554565 L -8340049.905021081,5615872.479419933 L -8340108.459073237,5615805.299332265 L -8340197.514665873,5615349.9982863385 L -8340836.933820989,5613588.32230523 L -8341585.223438102,5613589.423343667 L -8342010.129934459,5613668.855756546 L -8342593.778024689,5612934.958321193 L -8344272.364626361,5612747.95456009 L -8344715.193560734,5612949.1135154655 L -8345378.212447901,5613438.267751711 L -8345444.670183905,5613498.981348218 L -8346152.328186878,5614196.115944135 L -8346334.780832287,5613835.272859766 L -8345996.258260785,5613417.34839464 L -8345859.446606601,5613228.919077304 L -8345093.6798294345,5612580.299308493 L -8344801.688805083,5611842.401564923 L -8344390.363286601,5611574.118654687 L -8343894.323635626,5610748.4045694 L -8344844.4354895465,5609496.0610047905 L -8345133.977485101,5609440.090883105 L -8345609.979627732,5609229.734369806 L -8347116.132338164,5610037.070986992 L -8348449.294559906,5611149.065391298 L -8349207.268972718,5611050.628236079 L -8351557.112103872,5611656.5212326795 L -8351771.847401613,5611657.779293133 L -8351633.788969131,5616495.421551898 L -8352431.081426091,5611739.868116576 L -8353173.47111019,5611133.812279424 L -8354615.2811549455,5610531.413585631 L -8355960.777576264,5612979.971915904 L -8355855.591789415,5613105.87591184 L -8355931.411494593,5613285.180073512 L -8356006.463095287,5613436.427475498 L -8356110.112673164,5613602.683002805 L -8356261.329069459,5613588.967199155 L -8358225.227526032,5613399.62203001 L -8358314.5502854455,5613309.622337665 L -8358337.983038258,5613211.114440325 L -8359959.60745649,5612164.61893211 L -8360072.229385325,5612185.016406562 L -8360737.552585949,5612113.649037402 L -8361560.882671808,5611956.982498355 L -8361714.325457915,5611938.331152089 L -8362008.231177508,5611830.607013905 L -8363103.603834965,5611226.070412338 L -8364586.401716229,5610506.271271737 L -8364625.897871561,5610422.338275431 L -8364483.887597158,5610139.317810685 L -8364370.041153923,5610191.974668923 L -8362711.536588391,5610709.943323562 L -8362036.072182156,5611284.34746882 L -8361025.424789142,5612003.68966437 L -8359068.461536842,5611622.931083381 L -8357626.106026583,5611660.389769134 L -8357406.305692012,5611824.269414854 L -8357086.150836491,5612077.509496192 L -8356546.340361737,5612580.944130419 L -8354912.949473327,5610436.5995969 L -8354021.836949526,5610285.339539613 L -8353910.0721807685,5610330.93741904 L -8353757.787117363,5610454.8390265275 L -8352999.256107099,5611053.301435386 L -8352774.613374678,5611235.709845533 L -8350593.307952585,5610805.6407413585 L -8350385.363143782,5609484.583957187 L -8349125.3378274925,5608069.245617604 L -8348517.422088272,5607451.961559104 L -8348699.763414191,5608147.68631193 L -8346580.351628976,5608997.058731113 L -8346471.926444944,5608795.673371865 L -8345029.337163755,5607888.630255918 L -8344485.65277072,5608056.041239046 L -8343520.735424524,5608791.900386905 L -8342079.593296714,5609366.041058467 L -8340869.550431792,5608980.079932663 L -8340998.124443658,5607595.000456289 L -8341249.7064928515,5607078.027712724 L -8341326.182983026,5606929.024338543 L -8341534.1277918285,5606542.067137764 L -8341820.552841639,5606196.617318592 L -8342922.838439473,5605434.882701124 L -8343292.085190435,5605356.93699945 L -8344940.615529591,5605648.608235678 L -8345093.791148924,5605628.806981028 L -8345399.25183166,5605558.560022889 L -8346888.817937966,5605636.507463791 L -8348213.965156368,5604379.215571126 L -8348237.453568926,5604369.630590527 L -8349958.230257609,5604528.176904138 L -8349894.332869893,5605987.5935868975 L -8350298.199982491,5605946.418053448 L -8351845.652224009,5607099.246747551 L -8352204.100984363,5607238.82208536 L -8352539.617929614,5607015.628321298 L -8353577.449542278,5606702.851971909 L -8353899.385509653,5606695.464922684 L -8354098.424759192,5606650.828413327 L -8354333.197565276,5606584.188401286 L -8354594.019132203,5606522.263925016 L -8355557.711964002,5606081.575087513 L -8356218.838419822,5606028.454988793 L -8357189.655699031,5605910.271747445 L -8357930.709549241,5605752.172647522 L -8359177.042568161,5605331.164778254 L -8359893.160852435,5605296.120961261 L -8359915.536070085,5605144.946949671 L -8360105.558440869,5601263.8465425875 L -8360211.7572350865,5601252.537022611 L -8361251.9265570585,5599951.72247216 L -8361710.340220144,5599213.284860423 L -8362999.308604041,5598764.786475101 L -8364107.048856925,5598834.352519169 L -8365108.701635082,5598914.283465276 L -8366983.989776985,5599031.433044018 L -8367092.748919491,5599427.962652907 L -8367245.145302386,5600071.241333086 L -8367247.928289656,5600230.968742551 L -8366909.183079174,5601339.086625919 L -8366073.396342297,5602119.3270789785 L -8365951.390180387,5602184.677433263 L -8365748.23210969,5603032.703960476 L -8364570.69453608,5604443.639475009 L -8364292.061850622,5604601.558547899 L -8368276.843211109,5605746.986541003 L -8368364.01750435,5605781.277761148 L -8368570.837986293,5605797.52763319 L -8369035.864027134,5605796.254673106 L -8369182.338213121,5605794.243082229 L -8369626.458453589,5605726.98077011 L -8370329.029155834,5605567.093349065 L -8370365.742323897,5605552.588270871 L -8372062.607585956,5604565.653322274 L -8373392.051736704,5604141.966720039 L -8374046.688266211,5602966.671917538 L -8375700.639864571,5602692.949656809 L -8376128.140105064,5602361.329974326 L -8376247.674974279,5602215.828982365 L -8376848.72230092,5601643.4776380975 L -8378421.366143203,5601124.34774424 L -8378439.733859183,5601034.014742133 L -8378554.092372076,5600057.954401373 L -8380077.900353747,5599495.916224632 L -8380749.034431793,5599872.426270541 L -8381579.878583277,5599576.214227993 L -8381640.681289147,5599430.632416136 L -8381912.467825919,5598795.722099049 L -8382133.937952852,5598380.973692751 L -8383750.686577389,5597809.932755734 L -8384050.870716263,5597881.674005191 L -8384202.432202977,5597914.5850423705 L -8385494.962810578,5597088.296742633 L -8386109.4130039085,5596747.729539501 L -8386113.320318036,5596722.1545466455 L -8385611.670164726,5594970.117854013 L -8386536.267591357,5593653.711614858 L -8387547.226678943,5592492.034802741 L -8387988.909022565,5592016.095301051 L -8389624.359321553,5591152.987243101 L -8390547.576386498,5589603.782395425 L -8392293.066002138,5589407.487545092 L -8392737.85415955,5589400.365603051 L -8392988.812819596,5587519.553302499 L -8393268.213609537,5587358.654297377 L -8394746.2024888,5587319.58664985 L -8395171.376151934,5587302.303464944 L -8395385.688435612,5587300.954687835 L -8395733.873538913,5587198.667781383 L -8396133.332399677,5587004.840242893 L -8396139.310256332,5586999.994215517 L -8396687.224790018,5586417.501797017 L -8396754.272519322,5586154.707936466 L -8396857.588138727,5585722.254726797 L -8396946.409960432,5585463.965597361 L -8397528.532973636,5584530.269190024 L -8398764.624599405,5584302.868819236 L -8398848.715342749,5583658.107552974 L -8399026.381250056,5583243.44084709 L -8400523.684060972,5582258.27790385 L -8401211.772097463,5582234.624776216 L -8401570.142934173,5582186.252833388 L -8401972.251198815,5580925.31906144 L -8402740.33342139,5580130.9190115575 L -8402874.963213557,5580004.501579948 L -8402965.198792795,5579823.097918902 L -8402952.4304472,5579287.385964046 L -8403306.482087668,5578169.99402465 L -8404451.759272847,5577376.916418516 L -8405715.580583772,5577964.295732023 L -8405767.48886233,5578018.034724286 L -8406099.410188029,5577929.953079346 L -8406455.543502973,5577568.219419039 L -8407726.222094532,5576329.93652362 L -8408514.642388074,5575312.883629144 L -8409468.160618413,5573616.785727944 L -8410589.504113073,5572837.870047253 L -8411209.720656028,5571567.104248148 L -8411600.006790748,5571056.20827936 L -8411855.97482788,5570457.175451839 L -8413317.77785318,5569131.397293293 L -8414185.947429927,5568719.335249256 L -8414248.720490787,5568616.005726253 L -8414327.300919337,5568282.955230153 L -8414445.700329743,5567535.717661198 L -8413456.459674811,5567878.6471034195 L -8412544.151919963,5569206.511770442 L -8412054.557667505,5569769.9293051995 L -8412037.837479988,5569797.103209246 L -8411825.4955513,5570409.836872578 L -8410896.434213087,5571104.145138866 L -8410837.356959324,5571124.137169826 L -8410765.299852934,5571184.833684122 L -8410730.968921972,5571211.902237363 L -8410696.226108897,5571246.125520933 L -8410695.179705683,5571423.928985741 L -8410597.563644206,5571876.586591623 L -8410255.144890526,5572499.716633603 L -8410131.012526343,5572660.962692659 L -8409525.26751719,5573290.739161067 L -8409456.661315015,5573345.37435866 L -8408902.501757897,5573850.605024213 L -8408217.074257236,5574260.159585819 L -8408101.457834098,5574324.338173883 L -8408030.859013036,5574377.131589154 L -8406938.937259795,5574994.591489497 L -8406503.744842486,5575447.991229104 L -8406293.94099819,5575669.295750415 L -8406178.758721065,5575770.685067404 L -8405916.857355077,5576025.455596199 L -8405299.947000997,5576510.675023291 L -8404756.596566437,5576878.538657579 L -8403072.110031754,5575803.797782685 L -8403122.960775146,5575487.775209366 L -8403677.8995687,5574516.954970257 L -8404127.429936422,5574235.885226052 L -8404323.32997632,5573991.0623644 L -8404937.145648554,5573305.944280452 L -8405183.49568168,5573120.853829625 L -8405318.192265538,5573016.8791251425 L -8405414.594944566,5572943.909637759 L -8406043.327428566,5572273.901811092 L -8407491.148725824,5570978.965028927 L -8407635.641424874,5570822.727145153 L -8407761.209810488,5570710.794844854 L -8408058.432850907,5570482.081529718 L -8408622.377391264,5569669.655799077 L -8408717.666875383,5569546.937312222 L -8409068.991188327,5569242.809237 L -8409496.791991446,5568537.077287744 L -8409698.280269781,5568169.2857654095 L -8410488.871293396,5567306.051539949 L -8410617.890583225,5567204.177791088 L -8410744.572163748,5567113.885117139 L -8411074.63445395,5566825.6431123195 L -8411462.248920893,5566364.349767399 L -8411955.616904087,5566093.186568914 L -8412215.770554071,5565988.040641715 L -8412432.732241629,5565827.351228232 L -8412567.76278396,5565742.235495742 L -8412913.075844401,5565482.51227523 L -8413002.910673473,5565402.719284167 L -8413420.024805473,5564944.470766145 L -8413505.963452365,5564778.793571593 L -8414136.699687202,5564101.566680724 L -8414366.129157726,5563924.641852634 L -8414456.743223231,5563835.320371241 L -8414700.644227559,5563568.456171578 L -8415063.768406527,5563207.122658079 L -8416603.606394874,5564694.047491939 L -8416698.472864928,5564959.176914422 L -8417400.175275143,5565694.530354281 L -8417694.949286764,5565355.000281552 L -8418781.260537669,5564126.908980857 L -8419263.730342716,5562924.745053034 L -8420008.090381803,5561920.454147379 L -8420136.219115708,5561455.75049508 L -8418679.859613506,5562751.237263034 L -8418619.96972746,5562756.64906684 L -8418424.281194594,5562925.902512689 L -8418366.53977472,5563009.850013859 L -8418068.61542151,5563328.285098583 L -8417918.233921397,5563528.833920236 L -8417366.556788923,5563882.718526009 L -8417263.987010108,5564064.179095503 L -8416837.544304775,5564505.925599448 L -8416806.263527863,5564523.540839499 L -8416631.747962147,5564654.248240018 L -8415093.045432605,5563178.185314668 L -8415378.69124598,5562897.888902184 L -8415501.699283307,5562742.415716924 L -8415544.22332879,5562695.179924349 L -8415810.276911786,5562322.620133286 L -8415950.873428658,5562150.265569688 L -8416079.892718486,5561961.805385647 L -8416542.536522225,5561305.118674072 L -8416782.986622337,5561118.396234706 L -8416923.80577819,5560971.554400098 L -8417209.562911058,5560565.757843362 L -8417683.004705403,5560131.6772443345 L -8417879.37228716,5559938.72444578 L -8418220.566526443,5559565.183229919 L -8418339.5670621,5559436.503480455 L -8419045.555272711,5559047.504582086 L -8419328.974696273,5558933.841248393 L -8420547.477842495,5557436.807424557 L -8421273.169602977,5557290.494044232 L -8423802.83823956,5558034.653374745 L -8423691.418561224,5558127.701026868 L -8423593.980610931,5558198.612982324 L -8423548.551126739,5558248.014054445 L -8423445.89229233,5558365.499012386 L -8423170.621455494,5558755.000266261 L -8423292.883652234,5558766.585190443 L -8423526.977409422,5558758.080197429 L -8423922.918574277,5558724.560596617 L -8423968.002968049,5558696.685015331 L -8424401.603516636,5558239.071815147 L -8425647.580313187,5556997.186582074 L -8426378.11447152,5556223.728128703 L -8427633.53116089,5554951.753787207 L -8427817.67586256,5554718.592648573 L -8427847.309111008,5554674.5864988435 L -8427772.179586671,5554350.360256926 L -8427744.817255836,5554327.264188452 L -8427632.161931152,5554344.937832329 L -8427586.276037049,5554379.5976510625 L -8427464.381194629,5554502.689518357 L -8427038.673197936,5554911.434610245 L -8426544.559374154,5555382.117449795 L -8426375.977137296,5555525.555695204 L -8426260.850519916,5555613.545192383 L -8426004.45946872,5555800.764046396 L -8425792.540554099,5555965.886806325 L -8425134.030106312,5556547.505418025 L -8424797.077139629,5556789.044694113 L -8423990.522901036,5557862.7709793355 L -8421232.871947307,5557220.4645421505 L -8420718.13062188,5557201.706731465 L -8420562.617293242,5557224.997685544 L -8418884.809928006,5557229.21820039 L -8418471.591978181,5556631.800379788 L -8417956.071416318,5555525.383780502 L -8417417.841678333,5554841.501578301 L -8417246.075704038,5553953.281690703 L -8417368.6384634,5553398.735211986 L -8419270.086685643,5553900.93505704 L -8419238.249311276,5553561.392422242 L -8418725.289097698,5552554.245764195 L -8419641.671145909,5550828.793856398 L -8420193.03658381,5550513.576908198 L -8420394.747501126,5550325.670319023 L -8420242.239798738,5550320.515828907 L -8419866.870475784,5550635.882285825 L -8417840.410465384,5548625.940348937 L -8418158.227611598,5548052.667449693 L -8418222.792916257,5547961.940292012 L -8418728.072084969,5547279.095217749 L -8418939.467797985,5547119.048620352 L -8419097.764113894,5546847.366210114 L -8419565.973892171,5546215.657906997 L -8420117.895927524,5545491.4175668415 L -8420608.70356243,5545165.7701911675 L -8421832.772683194,5545307.673582927 L -8421621.488289667,5546993.355462092 L -8421869.842073627,5548461.653601199 L -8422652.306774413,5550018.592763856 L -8422457.386346035,5550509.671910474 L -8422367.774155946,5550804.26964826 L -8422160.3859446,5551800.755547732 L -8421666.461363947,5552167.728570978 L -8421414.656675775,5553126.396371102 L -8422191.778041001,5551843.716715448 L -8423248.42264761,5550785.837484415 L -8424197.198667642,5550325.982712456 L -8424944.041131373,5550163.070993148 L -8425845.172409346,5550003.598398037 L -8426741.182990743,5551403.960177689 L -8426924.74883106,5551391.306752015 L -8427803.838849856,5550764.749885168 L -8428355.204287753,5550186.656305845 L -8428665.229069611,5549777.280192089 L -8429248.76584035,5548577.997046489 L -8429875.605893008,5548137.305304349 L -8430872.694572043,5547286.121718265 L -8431948.59745056,5546081.390416136 L -8432763.79008164,5545441.461316035 L -8434700.070172548,5547582.145309354 L -8432845.38726839,5545190.903633912 L -8433090.067509154,5544480.169142139 L -8433207.843530413,5543968.499658068 L -8433664.698720628,5543010.796649079 L -8435630.266969565,5542692.57312608 L -8434461.189677255,5541120.971183451 L -8434756.8542448,5540743.833335928 L -8435291.187800609,5539974.314630923 L -8435480.319615467,5539723.439382074 L -8435539.764223551,5539621.874316453 L -8436252.097645137,5538766.49492035 L -8437515.017268186,5540067.458507563 L -8437952.168908533,5539644.028197274 L -8437871.573597196,5538645.908957671 L -8437060.611106768,5537551.348495948 L -8436234.17520712,5536670.273777139 L -8437045.026378056,5535428.741040268 L -8437053.709298339,5535407.065235357 L -8439358.801994195,5535697.119847962 L -8437519.247408835,5534734.04936264 L -8437192.079425395,5532844.849532754 L -8437822.036423795,5531444.06677669 L -8439286.889603142,5531414.918565932 L -8439854.84164517,5530144.022540614 L -8441055.311033886,5529713.105271329 L -8442023.901923278,5529008.876022656 L -8442458.938493298,5528333.683627014 L -8443343.260528158,5527025.8256736025 L -8443915.108752364,5525289.627958722 L -8444196.079147127,5525051.150535363 L -8444222.016588481,5525018.128679645 L -8444617.200780796,5524363.323746456 L -8446027.841368131,5523031.274142334 L -8447559.820200427,5522812.009984341 L -8449337.815107377,5522247.8338987995 L -8450568.118119624,5523035.681281365 L -8449537.600197503,5525093.596256683 L -8449331.648007588,5525526.133316348 L -8449232.518001037,5526080.6045565065 L -8449761.786520012,5525332.542095817 L -8451644.933817966,5526378.416607061 L -8451757.544614851,5526398.980438757 L -8452898.569395483,5524336.861519389 L -8452948.752221933,5524174.741170035 L -8452800.752958924,5524225.624439426 L -8451087.712974852,5523317.290979968 L -8451360.668366276,5521510.938255808 L -8452321.734058091,5520529.6709669195 L -8453147.502040796,5520544.461201715 L -8453187.911015954,5520525.934490345 L -8454083.476319384,5518972.471241953 L -8453482.907666555,5517420.517482909 L -8454580.74048476,5516190.939885858 L -8454853.695876185,5516023.813533912 L -8455657.533919202,5515523.230842448 L -8455878.614427917,5515386.61403683 L -8455922.919585254,5515322.818734492 L -8457328.5507955,5514013.713091729 L -8457357.382543614,5514005.934322812 L -8457568.444298157,5513942.770964586 L -8458892.812280126,5515367.008603781 L -8458597.14771258,5515852.644464508 L -8457117.489040956,5517147.073488507 L -8456548.757762494,5517507.983939035 L -8458286.788972247,5517681.674262253 L -8458307.828356007,5518770.426815052 L -8458253.125958232,5518938.78648284 L -8458223.537237579,5519161.537821425 L -8458414.772990813,5519565.056923823 L -8458589.266292632,5519532.833270672 L -8458384.861443637,5518870.047545032 L -8458578.223399146,5517710.000417 L -8459451.970082382,5516949.582608246 L -8460626.27939076,5516269.524563409 L -8460802.164186213,5516081.23369525 L -8461256.013750179,5515256.378735014 L -8461329.261975119,5514678.977930116 L -8463078.313814463,5514317.401410318 L -8464243.160966123,5515879.87569267 L -8464135.748789458,5517064.326001432 L -8465718.756476335,5516098.475375184 L -8465267.411600914,5514992.335085653 L -8463300.730157068,5514061.474878159 L -8463338.80142292,5513925.191092865 L -8463411.715689389,5513746.4383899085 L -8463995.5864186,5512974.683818543 L -8463866.789767751,5512995.99525406 L -8463418.951456292,5513680.787710144 L -8463356.278582975,5513857.205535833 L -8460982.72440028,5513356.430497046 L -8460502.937394962,5511417.372503371 L -8461137.01321452,5510675.829767061 L -8462855.452193895,5510368.063663882 L -8463482.626205025,5510453.129862035 L -8463983.452594103,5510447.375816338 L -8465265.74180855,5510682.983624976 L -8465871.431157958,5510966.343112183 L -8466384.168732552,5510001.992575428 L -8467952.660357827,5510950.635248544 L -8466687.625664452,5509514.490773046 L -8465974.29036745,5508175.899525408 L -8467788.575428398,5507338.543972478 L -8468760.505902516,5506037.732334405 L -8468182.312467335,5504378.098368697 L -8469169.159753218,5503615.060076983 L -8470908.860755334,5504280.500509183 L -8472260.279373564,5505741.002844968 L -8471948.25084087,5506888.337728917 L -8470320.759885475,5507521.057933121 L -8470468.369530264,5507862.309744261 L -8472204.84226715,5506932.020443123 L -8473527.095178792,5508063.957465884 L -8471938.900003644,5510557.636403867 L -8474301.767515222,5510361.998645276 L -8475952.746883178,5509544.657593531 L -8476303.069320703,5509508.737318596 L -8476962.414664673,5509231.798296262 L -8477186.834758112,5508212.28099007 L -8478022.510175498,5507526.965600937 L -8478103.996042758,5506193.639641155 L -8477764.582915328,5505638.882876174 L -8477429.17728957,5504290.757560063 L -8477415.930270165,5504247.0874687135 L -8477264.424443195,5503773.567881785 L -8476560.885261381,5503841.167634595 L -8476121.39591173,5503897.8896519905 L -8474837.54822441,5503995.794236121 L -8473533.217750786,5505159.6958881775 L -8472556.723177547,5505502.413831685 L -8471162.557874853,5503868.984689555 L -8472319.946620628,5502489.422928712 L -8472592.234095111,5501933.958705684 L -8472850.16135528,5501631.924632168 L -8473768.769793306,5500445.791660714 L -8474559.806094881,5500118.020422576 L -8474967.680709148,5499943.265677836 L -8476026.885664048,5499894.334947734 L -8476834.39725026,5499495.598090833 L -8477851.9687156,5499382.3643423 L -8478789.278828079,5498967.651883631 L -8480013.347948844,5497816.962117886 L -8481390.926647412,5497475.463884812 L -8481659.429259205,5497449.374503073 L -8482399.481233997,5497317.37579559 L -8482584.605547188,5497258.209934331 L -8483444.548613565,5496824.028077693 L -8484240.371653246,5495158.457861366 L -8484678.97044697,5494853.231944795 L -8485580.435683416,5494287.674921591 L -8485967.493552905,5493926.127958926 L -8487094.603397187,5493036.680769494 L -8487995.512036175,5492018.1913924115 L -8488790.667158911,5491296.998100025 L -8489184.849475812,5490943.793966264 L -8490355.819199465,5490237.581749516 L -8491294.799104307,5490069.843017555 L -8491639.666886784,5490120.893610647 L -8492422.688185023,5492130.247613089 L -8492209.288721174,5492415.516039443 L -8493451.502918934,5494383.924266331 L -8493402.522342987,5494402.087562675 L -8493109.306804238,5494559.038573851 L -8493101.737078864,5494672.678374888 L -8494584.735335212,5493631.498704423 L -8494727.892200371,5493251.350946788 L -8494463.508409737,5491468.949508562 L -8494429.555965044,5491501.229555455 L -8492632.63674466,5492060.2511149775 L -8491802.861260287,5490133.30717175 L -8492139.602719937,5489953.467349667 L -8492435.044648502,5489832.438224226 L -8492496.715646401,5489724.134029933 L -8493415.992001371,5488845.179612342 L -8494019.566280453,5488040.77365254 L -8494260.46165853,5487573.056098243 L -8494608.780345222,5487029.975237858 L -8495990.589184439,5486008.431379746 L -8496646.14966572,5485828.207253777 L -8497562.865672404,5485550.12311097 L -8497620.417849144,5485520.345499033 L -8498140.279871147,5485234.516366753 L -8499197.481075212,5484290.707710525 L -8499967.58931252,5483455.845312062 L -8500308.67223231,5483092.555062101 L -8500494.019184481,5482911.147909415 L -8500673.800162112,5482736.5662973905 L -8500899.33345046,5482391.599090735 L -8500980.596678738,5482248.964759754 L -8505569.943061775,5483677.160171658 L -8501274.480134433,5481715.656061051 L -8501481.656838747,5481118.542178355 L -8501531.104956558,5481022.649171774 L -8501335.761514114,5480950.41229626 L -8500346.854817653,5479356.602445939 L -8500346.520859178,5479320.955461233 L -8499895.342962995,5477510.580898197 L -8500096.497282857,5476467.631471326 L -8499603.017980173,5476488.858051518 L -8499496.707866464,5476477.082716292 L -8499084.269153075,5476488.548174082 L -8497501.305993995,5475549.66762199 L -8497351.58127888,5475456.249617105 L -8498364.699964587,5473687.68394306 L -8499503.943633366,5473768.692505996 L -8499711.665803185,5472887.549837865 L -8500999.632311665,5470813.659473111 L -8501495.226684676,5470766.432512822 L -8501955.087501144,5470715.644446449 L -8501389.918446386,5470743.361069778 L -8501226.724072883,5470755.903256451 L -8500142.917510519,5470887.519829492 L -8499874.971496182,5471062.959914608 L -8499354.664196212,5471465.106641358 L -8499185.124611735,5471655.114325831 L -8498957.030975098,5471877.4918049015 L -8498529.564130453,5472851.618236342 L -8496871.460315086,5472241.112275589 L -8496514.570027605,5472505.938639099 L -8496912.537207188,5475260.276297528 L -8495867.803786093,5474824.967146738 L -8495748.691930944,5474715.136180285 L -8495672.438079752,5474701.039494215 L -8495604.978468332,5474691.435171059 L -8495521.600169728,5474682.450490761 L -8494644.736540748,5474556.356078556 L -8493500.260855904,5473323.5414758595 L -8493484.898766173,5471819.883751257 L -8493665.125021769,5471479.043501605 L -8494254.561725518,5469758.311015521 L -8494390.482823778,5469622.220775346 L -8493758.299435562,5468585.121515096 L -8493871.956635661,5467604.946728728 L -8493870.509482283,5467429.72752003 L -8493868.505731447,5467379.267484806 L -8493816.853487719,5467108.243023075 L -8493787.687781133,5467028.067131763 L -8493621.710420359,5466953.773494606 L -8493248.010889765,5466852.549381659 L -8493204.373649374,5466849.9181887135 L -8493077.69206885,5466900.684868052 L -8493002.996690528,5466926.37786764 L -8492898.801647147,5466961.048053358 L -8492801.174453722,5467003.14774062 L -8491471.908414159,5466866.634015543 L -8490832.489259042,5465907.380530583 L -8490795.865146572,5465820.096224196 L -8490766.25416202,5465781.561395521 L -8489970.653761322,5464005.420601568 L -8490128.059521303,5463433.253945048 L -8490221.011296114,5463227.790140003 L -8490781.393612769,5461921.933746942 L -8490906.40540093,5461725.630434181 L -8491406.563873062,5461013.930746534 L -8491571.984636381,5460770.316591961 L -8491754.325962301,5459889.492650515 L -8491614.286042884,5459525.123803746 L -8491277.433263743,5459444.704782429 L -8491133.83112062,5459444.240828579 L -8491028.856840802,5459461.871091353 L -8490875.013304524,5459490.0177213345 L -8490721.392407231,5459515.9993024655 L -8490640.12917895,5459536.722759132 L -8490554.079212569,5459559.766060609 L -8490232.143245194,5459776.901752802 L -8488593.631660208,5460424.163590282 L -8488477.080153346,5460448.137126686 L -8488280.935210569,5460576.203271183 L -8488106.497568497,5460712.1595013775 L -8487521.624963868,5461227.697821466 L -8487150.374462074,5461662.981323823 L -8486870.962540183,5461898.729827034 L -8486823.651756594,5461942.8173249755 L -8486758.195896009,5462018.462682885 L -8486688.39857528,5462101.688765726 L -8486588.878950512,5462246.794780626 L -8486484.015990185,5462463.684590656 L -8486318.372587886,5462819.196940374 L -8486205.383304728,5463004.693834083 L -8486012.689266166,5463288.438616343 L -8485835.691275803,5463520.515566173 L -8485679.732669203,5463694.577127312 L -8485504.738429677,5463927.592701512 L -8485151.63300488,5464284.554320291 L -8485101.539234024,5464338.865691743 L -8485036.973929362,5464449.191489414 L -8484974.301056046,5464607.951555211 L -8484971.629388267,5464815.303143111 L -8484871.775805026,5465228.0086332485 L -8484461.22952298,5466596.862861831 L -8484249.388532002,5466893.565133902 L -8484164.006482562,5467033.020062285 L -8484136.844526809,5467073.107942039 L -8484105.118471932,5467142.759114682 L -8483317.755713552,5468194.091671201 L -8483100.237428542,5468409.419187758 L -8482994.595231779,5468500.443409701 L -8482922.237562764,5468647.663067096 L -8482822.829257485,5468889.783390806 L -8482717.966297159,5469160.860462337 L -8482837.52343027,5469586.611603067 L -8483004.168707987,5469662.629612117 L -8483395.234079143,5469831.69839899 L -8484134.952095464,5470091.655476518 L -8484935.45055376,5469957.4182340745 L -8485491.1574518,5469935.1229652725 L -8486009.461000932,5469838.665586151 L -8486574.741375182,5469620.362902071 L -8486852.37218522,5469466.470371731 L -8487936.735345038,5469018.896200151 L -8487981.819738809,5469010.845947913 L -8488122.52757517,5468956.197306888 L -8488299.080287568,5468851.854913072 L -8489388.34150498,5468336.043176186 L -8490317.970572596,5468094.866241233 L -8491555.954629708,5468960.377219781 L -8491398.437550236,5469960.51480347 L -8491356.247463224,5470170.774309624 L -8490975.20084624,5471241.655206045 L -8490930.227771958,5471316.7578186765 L -8490771.597497579,5471569.943320529 L -8490726.513103807,5471667.502901558 L -8490462.351952154,5472084.233362879 L -8490305.725428607,5472265.8910263665 L -8490233.813037556,5472343.634791315 L -8489981.7857104,5472688.843649214 L -8489880.262334796,5472858.123084807 L -8489198.65309267,5473975.166897159 L -8489102.695691604,5474089.945744201 L -8488701.500246787,5474519.488506689 L -8487211.266223539,5475106.289133037 L -8486763.650551056,5475350.593915864 L -8486682.943920232,5475384.211506953 L -8486427.131730389,5475472.206522359 L -8486139.704805162,5475550.132390562 L -8486105.195763014,5475560.202382081 L -8485362.472120441,5475735.886782573 L -8483874.019209046,5474652.553255896 L -8483766.929858902,5474567.044603992 L -8483528.706148604,5474344.447015282 L -8483105.358125119,5474079.722468787 L -8482988.583979275,5474015.28511632 L -8482754.813048609,5474116.278475765 L -8482708.838098912,5474146.019063497 L -8481773.420417776,5474554.807017932 L -8480855.479896694,5474664.790972375 L -8480702.638235835,5474707.080928449 L -8480524.861009039,5474815.672514714 L -8480338.734820433,5474914.196093424 L -8480325.042523066,5474921.941702662 L -8478537.91941787,5475198.928988558 L -8476758.477357538,5474760.059829887 L -8476627.899594838,5473519.16364155 L -8476705.37796043,5473348.632921841 L -8476873.470391529,5473044.907129867 L -8477528.251636375,5472096.467653506 L -8477609.737503635,5472019.810025667 L -8477810.223906554,5471844.506504117 L -8477860.762955375,5471793.712470034 L -8478031.081776287,5471640.248057039 L -8478155.314328013,5471509.394959394 L -8478410.34728142,5471227.718706372 L -8478634.87869435,5471023.164296653 L -8478874.549558029,5470774.484305256 L -8478920.413188236,5470622.585334738 L -8478882.230602894,5470562.507740634 L -8478178.023504136,5470025.697831739 L -8477362.608234074,5470223.262522446 L -8477114.365769606,5470314.459570794 L -8476890.50227362,5470532.933605531 L -8476821.372869838,5470596.107789892 L -8476616.322367795,5470749.09021465 L -8476473.83341958,5470836.111719809 L -8476356.725315265,5470956.580574762 L -8474824.746482968,5471333.791486447 L -8474062.319290526,5469527.6245390875 L -8474086.920897992,5469461.670947995 L -8474591.309510777,5468689.615683613 L -8475094.918887123,5468282.946554723 L -8475408.951170651,5467839.919080111 L -8475491.43891333,5467726.766294452 L -8476116.943132097,5467142.604333713 L -8476159.35585809,5467111.802972709 L -8476409.602073392,5466944.022499366 L -8476498.65766603,5466882.266436694 L -8476675.65565639,5466776.24509242 L -8477243.719017908,5466501.523948345 L -8477998.353845995,5466354.648241588 L -8478057.019217644,5466340.254858282 L -8478121.139244338,5466320.444647194 L -8478702.004347298,5466243.990014608 L -8478840.93107181,5466209.477301998 L -8479214.853241384,5466119.868667365 L -8479281.199657897,5466090.154080069 L -8479507.066904716,5465955.820583479 L -8479620.835424308,5465900.106806691 L -8480573.841584988,5465445.2783693345 L -8480863.383580543,5465364.033742285 L -8480991.623633934,5465290.836817709 L -8481247.76978225,5465088.116880116 L -8481430.22242766,5464946.525074641 L -8481566.366164902,5464858.940416942 L -8481955.873063186,5464639.827688779 L -8482068.973665833,5464570.814451777 L -8482368.089137593,5464211.984926452 L -8482449.908963328,5464143.129635218 L -8482937.043055037,5463621.238787377 L -8483145.655780785,5463273.895322757 L -8483301.169109423,5462610.962188717 L -8483309.629390724,5462571.357896593 L -8483384.436088536,5462291.502746099 L -8483414.714990033,5462096.2744065495 L -8483411.932002762,5462019.545545293 L -8483414.047073087,5461786.423683087 L -8483389.668104604,5461749.45267716 L -8482555.217201618,5460562.282951608 L -8482317.550088774,5460632.812788093 L -8482188.308159962,5460677.667571048 L -8481220.385187514,5460850.283192669 L -8479531.33455371,5459989.866743235 L -8479055.332411077,5459202.678705461 L -8477911.413323684,5459200.204350376 L -8477713.264630074,5459346.347090173 L -8477687.66114719,5459363.667865256 L -8477473.371127414,5459506.4108532565 L -8477274.443197366,5459601.522525967 L -8475597.637707548,5460073.53843516 L -8475414.4058257,5460131.382157504 L -8475392.587205505,5460138.341988213 L -8475110.726254819,5460361.832688403 L -8475026.90267825,5460418.131549037 L -8474467.744875995,5460686.947898313 L -8474415.424715323,5460699.940372233 L -8474265.366041733,5460757.32401851 L -8474141.467448482,5460813.006605535 L -8473877.6402553,5460978.509620465 L -8473688.619759934,5461134.27078893 L -8473489.135232432,5461260.335634594 L -8473128.126123788,5461697.167575521 L -8472971.165641772,5461826.179282277 L -8472864.63288908,5461912.188093441 L -8472787.043203998,5462024.495775064 L -8471816.337244282,5462939.096506046 L -8471726.39109572,5463022.330931446 L -8471672.178503705,5463084.061038943 L -8471611.39806173,5463167.142064163 L -8470820.027801681,5463869.260890772 L -8470775.833963837,5463887.673279077 L -8470578.798465133,5464002.480768306 L -8470217.455398018,5464319.059798276 L -8470098.56618185,5464453.988293294 L -8469984.79766226,5464568.64812538 L -8468887.521441508,5465289.134570593 L -8467320.476969613,5464969.891440746 L -8466802.841337424,5464180.729202174 L -8466330.401418498,5463334.544103563 L -8465798.294252507,5462098.1307579065 L -8466997.873085296,5460945.87280861 L -8468521.16899731,5461673.345468138 L -8469002.403156009,5461759.507538516 L -8469245.41360441,5461717.122505232 L -8469410.389089767,5461695.775372741 L -8469679.336979523,5461564.290505578 L -8470117.379175793,5461418.112480202 L -8470233.930682654,5461360.1059719585 L -8470382.764841845,5461241.155104773 L -8470438.09062877,5461198.308420714 L -8470515.680313852,5461128.392961037 L -8470662.176763736,5461012.383969617 L -8470736.760822568,5460929.3224317385 L -8470946.15278475,5460733.349675259 L -8471019.623648673,5460660.344318571 L -8471155.433427442,5460475.049429182 L -8471223.449636316,5460398.0247734925 L -8471365.93858453,5460222.015032352 L -8471391.542067414,5460154.272287239 L -8471691.43677561,5459608.791263403 L -8472066.583459584,5458950.452561796 L -8472598.134028122,5458354.323254985 L -8474143.270824231,5457797.3368341 L -8474481.069819042,5457435.818588686 L -8475059.18533058,5457135.587265972 L -8475116.9601463,5457099.098804648 L -8475169.72558494,5457066.939602907 L -8475238.187071776,5457020.247116062 L -8476355.72343985,5456569.321220348 L -8475349.951840531,5455341.175950406 L -8474680.810381373,5454269.519676114 L -8474334.161487043,5452707.317150866 L -8474491.233288553,5451286.7592996815 L -8474502.699196106,5451201.776936142 L -8474378.355324889,5449936.822307619 L -8474817.510716068,5449182.981387186 L -8474969.23918202,5449026.959156914 L -8475667.657667255,5448597.525494918 L -8475834.302944973,5448525.23431736 L -8477366.393096762,5448464.683169907 L -8477581.239713991,5448279.479455295 L -8477612.965768868,5448253.37514476 L -8477667.512319358,5448208.272013532 L -8478312.052171052,5447758.334045697 L -8478428.826316891,5447689.601895968 L -8478710.353309108,5447533.913891492 L -8479743.064225199,5446817.906550124 L -8480119.880701533,5446606.173034246 L -8480308.233279955,5446492.35476958 L -8480607.126112735,5446288.813540189 L -8480707.758932412,5446218.702505158 L -8480792.250425925,5446138.245345641 L -8480979.044531476,5445924.365530129 L -8481118.52785344,5445777.818259209 L -8481184.985589443,5445701.997562995 L -8482027.451495767,5445051.602099644 L -8482601.526109789,5444657.866497383 L -8484467.797372937,5444317.105790621 L -8485343.436487516,5444534.808275745 L -8485636.206748303,5446189.824326668 L -8485586.780894391,5446260.861719904 L -8485545.481363306,5446325.259135044 L -8485213.637961252,5446720.456018998 L -8485132.597371954,5446859.9140704535 L -8485161.206481088,5447101.461034034 L -8484323.193354396,5448912.64751929 L -8483847.191211766,5449353.990970338 L -8484015.283642862,5449398.327307137 L -8484473.585986458,5449307.955557561 L -8484548.17004529,5449227.007940769 L -8485933.429788722,5447812.238944845 L -8486127.01438321,5447809.922108875 L -8487019.796699373,5447541.327546254 L -8487211.934140483,5447441.70705955 L -8487387.818935936,5447352.2812157525 L -8488101.042913448,5447007.096344076 L -8488138.112303883,5446980.532317857 L -8489476.72918067,5445748.323779726 L -8490048.321370047,5446107.807705351 L -8495804.240356851,5449633.7614701595 L -8495823.72126774,5450476.986539881 L -8499326.723004023,5447414.987329509 L -8503666.068074636,5451463.988682479 L -8503361.386628333,5452235.215764741 L -8504707.461911006,5453119.942794678 L -8503856.981001345,5451730.534507671 L -8504346.452802364,5451022.852999646 L -8504413.133177351,5450957.186624969 L -8504244.81810727,5450908.053032444 L -8503873.01100802,5451297.57529319 L -8499509.843566379,5447346.257744563 L -8499424.127558466,5447294.054492763 L -8497824.243836787,5447756.943952188 L -8497251.839015128,5448140.61773127 L -8491322.183699042,5445660.149747688 L -8491310.394964967,5445446.08030213 L -8489870.466219606,5444663.425000435 L -8489600.293815453,5443211.0714203045 L -8488960.42938237,5441608.761525676 L -8489607.195623882,5440951.864194242 L -8491222.775393762,5440933.652012953 L -8492419.571239281,5441901.416968361 L -8493005.223080344,5442318.343556744 L -8493264.15221593,5441448.082825292 L -8493300.66500891,5441330.160952186 L -8493429.68429874,5440962.513706769 L -8493556.699837735,5440664.177675638 L -8493402.522342987,5440489.779816424 L -8492909.599637754,5440447.184027019 L -8492745.959986288,5440468.790562237 L -8492709.224554325,5440475.581198062 L -8492069.248801755,5440609.079941969 L -8491852.064475216,5440649.052774744 L -8491542.26233234,5440792.585998273 L -8490120.378476439,5439356.737170145 L -8490160.008215161,5439292.234168988 L -8490303.16508032,5439097.030470371 L -8490304.278275229,5438625.93534357 L -8490309.287652314,5438560.511656631 L -8490186.724892952,5438461.9141006805 L -8489750.12985006,5438461.605502789 L -8489514.911766011,5438456.205041347 L -8487961.11431352,5437318.012725983 L -8487557.469839903,5437130.1018600045 L -8486638.416123915,5436839.603524132 L -8486414.997905893,5437096.778165689 L -8486147.83112799,5437417.67800856 L -8485798.73320486,5437898.277286323 L -8483888.602062339,5437868.1908815345 L -8482881.494629133,5437228.685161479 L -8483534.160803653,5435448.022925905 L -8483990.682035396,5435402.8282328835 L -8484347.794961862,5435354.240328949 L -8483886.041714052,5435053.463768632 L -8483185.953436451,5433454.731209028 L -8483104.24493021,5432761.8687364645 L -8485089.516729018,5432802.578556537 L -8485228.109495057,5433104.515334422 L -8485283.323962487,5433424.350881227 L -8485361.358925534,5433429.285749998 L -8485368.594692435,5433378.549256535 L -8485298.9086912,5433150.161387285 L -8485237.905610243,5432945.372755989 L -8485215.196434122,5432871.199682966 L -8484728.396300884,5431119.593317915 L -8484507.42711166,5430150.493587924 L -8484476.59161271,5429982.460885831 L -8484450.876810336,5429879.947025776 L -8484402.230192859,5429679.393131045 L -8484153.8764089,5428853.329725244 L -8483331.336691426,5429554.993330065 L -8482086.673464868,5428499.8976950385 L -8481954.98250726,5428054.6203649845 L -8482164.485788932,5427026.356948401 L -8481840.212112252,5426809.0677516535 L -8481460.278690174,5426595.019782034 L -8481641.395501696,5424759.095968938 L -8481430.445066642,5424550.641944722 L -8479897.909636892,5423792.512957361 L -8479826.887801765,5422769.499610835 L -8479856.164827844,5422234.084142041 L -8479929.301733295,5421083.723696857 L -8480554.694632571,5420227.476697345 L -8480717.666367093,5419900.706966606 L -8481673.12155657,5418233.930146053 L -8482318.329325208,5418214.531097359 L -8482657.742452638,5418150.329774483 L -8482724.422827624,5418074.5820251675 L -8482696.926913397,5417759.7428565975 L -8482645.831267122,5417002.325364533 L -8482613.21465632,5416775.420104235 L -8482553.213450784,5416377.348769508 L -8482472.061541995,5415965.133662199 L -8482407.050959371,5415684.382300071 L -8482079.103739494,5414136.247235495 L -8481147.582240535,5414546.380032034 L -8479553.821090851,5413513.772774205 L -8478401.77568063,5412402.963972515 L -8478803.19376443,5411145.5215463145 L -8478882.898519838,5411021.37127363 L -8478910.283114575,5410961.988957194 L -8480217.61921445,5409755.195280868 L -8480437.809167238,5409735.660210282 L -8481977.246405419,5410808.919719738 L -8482006.412112007,5410884.454071792 L -8482069.530263286,5411104.599462978 L -8482094.911107188,5410284.196079748 L -8482125.078689191,5409805.955893545 L -8482183.966699822,5408053.799293265 L -8482198.883511588,5407732.381054315 L -8482234.394429153,5407087.271471542 L -8482291.278688947,5406372.705608641 L -8482366.641984213,5405293.657439763 L -8482402.820818722,5403894.987576064 L -8482339.480028458,5403897.293408572 L -8482340.92718184,5403908.207690241 L -8481037.37594465,5405365.303073312 L -8480707.313654449,5405307.955772936 L -8479696.198719574,5405017.99604793 L -8478986.870924238,5403157.9192466065 L -8479253.147146218,5402415.9913244285 L -8480886.538034627,5402088.774986188 L -8480928.060204692,5402096.1522115115 L -8481328.476413077,5401931.856649367 L -8481470.8540418,5401906.190534147 L -8481685.032742087,5401877.758094436 L -8481888.747410238,5401837.952825649 L -8481935.946874334,5401831.497933337 L -8482018.657255992,5401809.213220682 L -8482049.492754944,5401799.530913983 L -8482567.017067641,5401685.649305253 L -8482607.537362289,5401642.310113931 L -8482690.24774395,5401359.073518899 L -8482715.071990397,5401210.927174958 L -8483062.0548432,5399462.241923331 L -8483365.40045561,5398458.357025916 L -8483656.834882507,5397419.249588152 L -8483909.307487627,5396683.157726725 L -8484474.810500856,5395377.168838023 L -8484693.441980775,5394976.178289414 L -8485059.23782752,5394326.889939836 L -8485093.190272212,5394272.682257634 L -8485488.15182555,5393713.424924241 L -8486677.15530671,5392782.6327218665 L -8487231.19241239,5392603.916584825 L -8488240.30359643,5392386.821037022 L -8488305.202859564,5392362.409621153 L -8489163.69877256,5392073.622848562 L -8489745.788389917,5391872.352544102 L -8491443.076666044,5391302.033675567 L -8491618.850142006,5391168.631718634 L -8491796.18209084,5391042.600104289 L -8492054.220670499,5390884.180336991 L -8492167.655231616,5390801.747866981 L -8492338.753288966,5390694.448599877 L -8493870.509482283,5390355.213027729 L -8494342.726762226,5390506.409248157 L -8494498.351410355,5390561.362394556 L -8494531.079340648,5390571.493457137 L -8494610.227498602,5390590.988108729 L -8494655.645850847,5390601.11920371 L -8495540.747122144,5390677.409774819 L -8495811.476123754,5390620.460415805 L -8497573.329704538,5390518.07525198 L -8498037.977259109,5390516.233250398 L -8499853.820792928,5391201.176092511 L -8500290.081877347,5391537.832858105 L -8501531.516838675,5392226.535935022 L -8501900.429631162,5392216.096005445 L -8502443.334787762,5392094.041819476 L -8503987.78140303,5392081.913252376 L -8504324.856821151,5392141.63508432 L -8505122.572292175,5392008.988658467 L -8505800.507991105,5391833.511409876 L -8506483.775893645,5391645.571748223 L -8506756.25261126,5391473.018187684 L -8507571.378450645,5390524.982761168 L -8508442.564785594,5390218.294315718 L -8508773.517631723,5389986.67298536 L -8509497.539599841,5389425.832598847 L -8510849.514815524,5388608.116322567 L -8512324.832027009,5387744.282377576 L -8512610.589159876,5387631.801133058 L -8512762.317625826,5387459.01541428 L -8512827.105569469,5387385.053062886 L -8512996.422514964,5386977.350032688 L -8513069.225461943,5386829.2801693445 L -8513724.785943225,5385537.873686667 L -8514167.280919127,5384944.626546153 L -8514255.8912338,5384852.889105665 L -8515234.16691889,5384130.833622713 L -8515839.077031862,5383812.5457407925 L -8516015.184466297,5383605.626130855 L -8517812.215006173,5384307.637675165 L -8517821.009245945,5384303.9868199285 L -8518050.605695708,5382907.88552737 L -8518687.2975233,5382424.17141064 L -8519330.04513119,5382194.447100624 L -8519490.83500369,5382153.300073357 L -8519564.272471769,5382128.026104639 L -8520198.682249798,5381977.579937217 L -8520711.520011934,5381605.646387193 L -8522377.304872165,5380711.337073662 L -8523240.264696743,5380350.126193637 L -8524180.357796492,5379377.286607253 L -8524592.017273447,5378952.305023872 L -8525945.550962001,5377886.410540077 L -8526128.226246394,5377738.639064012 L -8526773.32269554,5377058.981897987 L -8527900.655178802,5376481.450389825 L -8527957.76207758,5376459.0732999975 L -8528265.22651115,5376265.038605699 L -8528840.970917534,5375770.774244312 L -8529108.916931875,5375501.200529329 L -8529764.588732647,5374949.204201209 L -8530916.411503883,5374277.259643438 L -8531507.406680506,5373571.808514243 L -8531656.240839696,5373364.657549559 L -8531993.5388968,5372751.811941942 L -8532002.11049759,5372734.959259329 L -8532109.311167223,5372446.170315876 L -8531796.280759115,5372588.801822447 L -8530485.382435534,5372691.295633058 L -8530325.416327262,5371048.773221951 L -8530292.68839697,5370543.605116008 L -8530764.683037931,5368605.135894699 L -8530978.86173822,5367686.96617889 L -8532707.319471765,5367773.174717966 L -8534004.080220016,5368388.29510027 L -8533427.111299235,5369730.155351801 L -8533468.18819134,5369790.03973387 L -8534554.889060462,5368254.60976023 L -8534599.639495762,5368193.663359461 L -8534629.473119292,5368099.181915616 L -8534584.945322976,5367929.51586821 L -8534191.096964551,5366551.783069464 L -8533035.378011134,5365230.588683244 L -8533547.670307765,5363996.0617540395 L -8534879.496695615,5363805.50153348 L -8535751.462266998,5365090.978652818 L -8536121.265615413,5364810.999507652 L -8537869.872176796,5364559.040796732 L -8539245.636367664,5364791.268108091 L -8539655.882087082,5364637.459534456 L -8540254.113030605,5364368.162895133 L -8541923.23747556,5363972.49023787 L -8542165.246048544,5363699.58541365 L -8543182.260916432,5362518.365750013 L -8542089.326155823,5361648.387407894 L -8541992.03292087,5360375.932485983 L -8542626.999296354,5359353.932718727 L -8542647.927360624,5359265.201512048 L -8544601.361785064,5358937.209366855 L -8545620.825681748,5359632.676603664 L -8545474.88582932,5360741.462372275 L -8545640.083953656,5360653.635964397 L -8546194.232378826,5360327.73685926 L -8546743.4827464,5359991.445439867 L -8547198.334185781,5358782.396198085 L -8547143.119718347,5358499.85351183 L -8547812.81777496,5356880.485047787 L -8548706.82460552,5356786.1185328 L -8548833.06090808,5356775.1066193655 L -8550538.809465503,5357672.467378243 L -8550122.029291974,5358598.214718168 L -8551290.883945305,5358488.227683721 L -8552891.658222912,5358620.0899023665 L -8554271.240672313,5358141.601117299 L -8554403.154268904,5358100.300490234 L -8554524.269874886,5358038.502857477 L -8556167.902156448,5357095.528041257 L -8557422.138859216,5356802.789371005 L -8557545.926132979,5356764.85943385 L -8557621.066789264,5356733.65911762 L -8557687.301886287,5356706.894223864 L -8557966.379849706,5356571.694451964 L -8558986.400343843,5356422.7322728615 L -8560014.213202337,5357073.3505467 L -8560070.76350366,5357045.208146976 L -8560092.359484874,5357030.984031687 L -8560139.558948971,5356999.78282273 L -8560835.41708592,5356485.436800834 L -8560803.802350534,5356216.1161975395 L -8560182.639591908,5355679.027634243 L -8561410.82753383,5354237.208315141 L -8562922.523954904,5354878.453147575 L -8563289.78921893,5353700.5397673575 L -8564866.073208563,5354024.830650265 L -8565142.813462675,5353820.5612424705 L -8565755.849898474,5353402.709724284 L -8565863.718485052,5353353.021348274 L -8566679.022435622,5353135.924479156 L -8567880.15974128,5353370.603358684 L -8568872.060932046,5353735.093562006 L -8570401.880166221,5353788.759223144 L -8570464.9983175,5353758.486248036 L -8572411.864891985,5353324.278654979 L -8573438.34191659,5353252.116539675 L -8573908.889404174,5353158.551240342 L -8575623.32088188,5353224.597236325 L -8576083.738295801,5353188.975147849 L -8576337.880693281,5353168.794454374 L -8577914.276002405,5354242.7127683135 L -8578768.31913577,5352669.489112378 L -8579594.087118477,5352947.574115871 L -8579832.310828773,5354818.710632416 L -8579843.999375306,5354876.205341877 L -8580224.266755857,5354861.372896119 L -8580624.126366787,5354841.953131753 L -8581667.969231956,5354715.649196792 L -8582686.43125322,5355711.447818406 L -8583485.371238645,5356041.926047563 L -8583587.785170175,5356047.73743105 L -8583729.494881956,5356021.127441679 L -8583765.562396973,5356011.645739723 L -8585049.07612582,5355757.937336275 L -8585438.471704613,5355698.143295198 L -8585514.502916826,5355681.627361824 L -8587187.968821922,5355668.01703136 L -8587897.853214711,5356099.581249655 L -8588436.194272185,5355910.253305336 L -8588899.283353886,5355687.591445493 L -8589348.012221273,5355492.919612086 L -8591105.301702937,5354998.841521109 L -8592434.456423007,5355154.5092241345 L -8594133.191852514,5355046.550795704 L -8594782.407122819,5355191.362175627 L -8595194.623197226,5355238.307848091 L -8595430.286559235,5355253.140894832 L -8596075.605647363,5355113.680606018 L -8596573.983007647,5355010.157160258 L -8597703.096602762,5354812.747105762 L -8598839.334645288,5354766.873951613 L -8599359.196667293,5354580.019640828 L -8600519.25708085,5354324.056733755 L -8602236.026267864,5354373.597391998 L -8603533.34361357,5354458.612222748 L -8603882.664175678,5354342.710901266 L -8605578.505298425,5354412.893719014 L -8606287.944413248,5354474.973079672 L -8607998.034430815,5354395.615547001 L -8608228.243137777,5354288.5833380725 L -8610105.312391533,5354586.900461332 L -8611804.493099,5354389.040675813 L -8612181.643533807,5354338.4296136135 L -8612423.874745775,5354248.98173284 L -8613242.073003106,5354032.781346632 L -8614969.640180726,5353991.957650874 L -8615368.943194201,5353957.250005471 L -8615539.039376134,5353900.831245833 L -8615821.234285295,5353758.486248036 L -8616005.356723066,5353641.217622711 L -8616249.703005359,5353501.628604278 L -8618105.1762779,5353050.004441195 L -8618569.155915527,5353120.789041236 L -8618605.557389015,5353120.483275067 L -8618841.554709498,5353076.453051636 L -8619751.925505204,5352761.673599555 L -8620450.01003197,5352231.052011715 L -8622072.157651808,5351674.627414224 L -8622295.130591867,5351643.444162978 L -8622493.50192446,5351595.90519179 L -8623810.077542072,5351162.715593785 L -8624106.410026565,5351044.562579864 L -8624433.132732043,5350900.427104762 L -8624639.964345938,5350799.396039761 L -8626523.37881067,5350141.574589372 L -8627340.575192582,5350136.683897668 L -8627359.499506017,5350138.0594044505 L -8627732.531119665,5349920.426192783 L -8627826.262130914,5349856.237593576 L -8628173.133664224,5349596.736768471 L -8628451.321071716,5349367.196131519 L -8629438.502316073,5348451.229464382 L -8630478.448999062,5347999.391879121 L -8632030.131381229,5347844.01187969 L -8632074.948608223,5347842.881186078 L -8633047.48020759,5347887.543688089 L -8633338.803314997,5347923.909482578 L -8634823.805322178,5348167.777891911 L -8635891.470558377,5349052.847730865 L -8637357.436932633,5350277.29230915 L -8637400.62889506,5350319.016735548 L -8638884.317332253,5351372.139000146 L -8640136.86197876,5352184.732980485 L -8640759.471890766,5352670.559242148 L -8641662.2729611,5353359.74837442 L -8642193.155612692,5353705.279439562 L -8642316.720247474,5353780.961629228 L -8642392.417501213,5353820.714137058 L -8642663.369141804,5353916.120848797 L -8643899.349448081,5354425.890595214 L -8644040.279923426,5354494.239172377 L -8645373.998742621,5355311.861641905 L -8645814.156009218,5355684.227090132 L -8645903.879518796,5355766.807073314 L -8646492.759625092,5356363.698640161 L -8646610.758285334,5356492.777846384 L -8647112.141271867,5356993.053163932 L -8647238.154935444,5357103.022516888 L -8647881.804231212,5357652.582871345 L -8648039.432630174,5357789.633874511 L -8648222.887151001,5357947.489764909 L -8648799.299474329,5358434.381932564 L -8648815.440800494,5358445.089869605 L -8649505.399004431,5358917.169177055 L -8649621.8391918,5358985.856724826 L -8649680.170604976,5358997.942114228 L -8649859.617624134,5358904.166023569 L -8649904.368059434,5358880.913370903 L -8649996.540597811,5358826.453438281 L -8650148.15774427,5358746.140917405 L -8650266.713001965,5358678.67893591 L -8651146.359618213,5358329.44480205 L -8652614.107104324,5358502.759971127 L -8652444.456200354,5360300.502615589 L -8652224.600206038,5360429.636478639 L -8652127.640929557,5360469.876425733 L -8652057.398330865,5360505.22040126 L -8651157.268928314,5360810.316408137 L -8651022.127066487,5360986.279038904 L -8651022.794983434,5361024.838251579 L -8651040.160823997,5361194.684306437 L -8651055.74555271,5361228.347856956 L -8651094.484735506,5361291.696868935 L -8651173.74421295,5361360.861017484 L -8651197.343944998,5361373.561569711 L -8651249.66410567,5361398.65668778 L -8651407.626463106,5361446.55182676 L -8653093.2261927,5362409.250543966 L -8653249.518757772,5362485.309675765 L -8653602.512863077,5362579.734051424 L -8653743.888616385,5362619.524189068 L -8654097.439319143,5362723.744549292 L -8654699.900403319,5362941.524492918 L -8656113.991894865,5363934.684099772 L -8656229.430206817,5364014.888397563 L -8656263.716609983,5364026.674201944 L -8656397.522637915,5364044.123342373 L -8657034.826722706,5364059.888821987 L -8657388.154786484,5363979.837197535 L -8659324.668648325,5363852.94989775 L -8661174.464626836,5364076.266581562 L -8661315.50642167,5364113.3079760345 L -8662361.575676655,5364370.152780859 L -8662505.957056215,5364393.419168667 L -8662626.850023216,5364389.286319209 L -8662696.869982924,5364380.867557482 L -8662787.038770467,5364365.101533307 L -8663100.737095522,5364320.711900187 L -8663213.949017659,5364308.772655739 L -8663866.61519218,5364295.608891182 L -8665187.866228405,5364811.764884739 L -8665276.365223587,5364878.046779663 L -8665488.206214566,5364985.660193394 L -8665589.61827068,5365038.778511369 L -8665640.602597462,5365043.830125146 L -8665669.323026087,5365043.523966656 L -8666991.353298748,5365069.70055389 L -8667793.07627144,5365152.517026118 L -8669051.98839282,5365308.507912754 L -8669851.262336718,5365461.439695235 L -8670221.177004622,5365548.239934803 L -8671291.40258911,5365881.2113384055 L -8672208.118595792,5366320.751864121 L -8672459.589325495,5366383.523193756 L -8672707.831789963,5366434.19986929 L -8672811.581555383,5366447.213561693 L -8674075.725692831,5366466.963788522 L -8674253.280280646,5366451.041121753 L -8675412.561457768,5365537.52381197 L -8676838.118856866,5366718.208710467 L -8677401.952077733,5367458.509763716 L -8678823.79140584,5367889.442670278 L -8679472.605925981,5367774.552836101 L -8681471.681341646,5367774.246587607 L -8683181.993998194,5367895.062401408 L -8683710.427620988,5368129.042235649 L -8683871.95220213,5368176.665816493 L -8684095.25910066,5368141.598911718 L -8684306.98877215,5368097.497490168 L -8684367.657894634,5368083.86896822 L -8684646.179260598,5368023.689329513 L -8685193.314557847,5367936.100323077 L -8685620.33612453,5367903.790600911 L -8687172.57510415,5368477.419729283 L -8687216.10102505,5368498.399362527 L -8687290.907722864,5368519.685316219 L -8687472.581131838,5368543.880919944 L -8687552.8424847,5368541.890140043 L -8687875.112410547,5368517.541405003 L -8688337.533575302,5368482.1669414155 L -8689012.686286964,5368236.387050754 L -8689234.212073643,5368196.41972071 L -8691152.580858484,5368759.193941906 L -8691480.75071734,5368857.051225446 L -8691818.494052408,5368889.670549085 L -8693527.248236084,5369155.2236718675 L -8693790.518831812,5369206.834358412 L -8694123.920706738,5369257.373290832 L -8694301.697933534,5369273.913364811 L -8694599.366251916,5369293.363304305 L -8695332.739057261,5369231.031752346 L -8697100.93784902,5368732.3943962185 L -8698357.957539057,5369210.969351644 L -8698409.609782787,5369222.302305493 L -8698616.552716171,5369254.310317402 L -8699338.570933457,5369204.843436402 L -8700640.118419813,5369157.674024386 L -8700788.284662057,5369127.963543688 L -8700889.58539868,5369095.649675159 L -8701424.47555194,5368921.371128305 L -8701593.124580493,5368858.582646528 L -8702051.426924089,5368722.134019195 L -8702377.147754151,5368653.068194188 L -8704188.9837863,5368702.378996851 L -8706114.477018554,5368693.190628682 L -8706334.110373888,5368680.939485263 L -8707572.094431,5368467.9253122965 L -8707601.594096059,5368463.024971843 L -8707669.832943916,5368446.333206574 L -8707962.380565722,5368369.612726322 L -8709068.339706752,5368202.851233475 L -8710121.310770165,5368050.486830402 L -8711202.890942713,5368733.772656681 L -8711333.913983377,5368767.463531617 L -8711880.492683172,5368844.646723988 L -8712694.126841381,5368835.917640301 L -8714407.66776316,5368682.777155746 L -8714764.335411664,5368700.847601525 L -8715085.714781582,5368686.758776372 L -8715784.13326682,5368631.47565805 L -8717227.724423427,5368952.152953702 L -8717285.72187813,5368959.503852469 L -8717638.048066491,5368982.475448617 L -8718106.814442221,5368932.397442093 L -8719669.517453976,5368825.197724191 L -8720920.525891513,5368884.923128662 L -8721545.473512825,5368924.280848728 L -8722306.342232397,5368976.349684089 L -8723904.667481206,5369377.442645258 L -8724059.290253919,5369392.14512187 L -8724155.470293965,5369396.127046623 L -8725836.617243925,5369330.4255065005 L -8726050.239346758,5369320.317618507 L -8726539.043230832,5369278.201536947 L -8728528.211211814,5369187.078305052 L -8729246.889844377,5369182.483880062 L -8730732.003171049,5368987.988640146 L -8731096.5745034,5368912.488829496 L -8731343.147175506,5368864.708333381 L -8733287.34208221,5368849.394123822 L -8733401.444560273,5368830.863964022 L -8733548.831566082,5368795.641448144 L -8734696.758155141,5368657.815496098 L -8735562.489835043,5367765.518509831 L -8736209.812674005,5367754.799829043 L -8737066.416155659,5369215.410642721 L -8737600.415752994,5369122.297122592 L -8738219.574760787,5368989.060649991 L -8739169.909253689,5368792.119203903 L -8740518.433565158,5368752.608903514 L -8740781.147563431,5368776.805114037 L -8741270.619364448,5368731.781836078 L -8741959.79833195,5368629.33172103 L -8742521.516482493,5368542.655824569 L -8743800.688751198,5368327.807222389 L -8744970.545279944,5368168.85614502 L -8746418.589216184,5367869.643481158 L -8746898.710179973,5367090.725113427 L -8748070.459140066,5366381.685978084 L -8749895.876150094,5366848.350433414 L -8749967.454582673,5366891.986595711 L -8750171.614528788,5366960.733105824 L -8750520.957354795,5366602.414731363 L -8750904.208097698,5365878.761850028 L -8752528.693426846,5365499.405132346 L -8753580.662614843,5366315.393355632 L -8754264.832205258,5366298.399249144 L -8754425.466230473,5366265.942123138 L -8754551.925172012,5366233.1789128315 L -8754593.78130055,5366158.926270397 L -8755471.535485458,5364944.635302613 L -8756974.571250146,5365224.006145653 L -8757019.98960239,5365241.610617093 L -8757125.520479662,5365207.779445 L -8757249.753031388,5365154.3539987495 L -8758669.187858494,5364600.217057078 L -8759562.6380916,5364269.434484497 L -8760544.253361415,5363976.1637169765 L -8761584.867961349,5363813.154479073 L -8763120.297697863,5363741.523154889 L -8763767.286578352,5363723.768467615 L -8764800.888050368,5363461.737717016 L -8765396.669965094,5363240.884591916 L -8765570.328370731,5363175.37961526 L -8766931.877062624,5362617.687717427 L -8768430.794006154,5362112.36572405 L -8770195.653213192,5361696.283833597 L -8770818.70840316,5361615.028381797 L -8771100.012756394,5361572.029079812 L -8771790.082279824,5361470.269958189 L -8772689.989043396,5361316.026676679 L -8772915.856290216,5361247.321911876 L -8773121.686028693,5361152.145994219 L -8774704.537868282,5360607.121965982 L -8775079.795871746,5360537.810419844 L -8775866.04543522,5360445.395828805 L -8776495.334516672,5360249.094373054 L -8776741.127952345,5360143.677764794 L -8777226.480932204,5359887.714690559 L -8779043.548980422,5359210.586345473 L -8780244.35232761,5358772.299776605 L -8781943.64435457,5358125.539740533 L -8782450.036718188,5357987.87193471 L -8784188.513205905,5357487.69605978 L -8784540.616755284,5357372.368802812 L -8785280.334771607,5357128.412009832 L -8786143.060825255,5356840.413574384 L -8786228.220235711,5356805.083525391 L -8786798.398667553,5356552.882874738 L -8787633.740126466,5356191.646796049 L -8788646.747492686,5355774.300478437 L -8790347.152714552,5355128.207621891 L -8790781.74400661,5354963.059725726 L -8792481.481311534,5354434.147443641 L -8793247.693366664,5354257.08552251 L -8794497.4772898,5354145.467908346 L -8795059.752037795,5354065.348693038 L -8796744.349891968,5353560.185407417 L -8797040.571056971,5353502.851719114 L -8797177.271391666,5353476.249007729 L -8797533.827720676,5353375.189975557 L -8798462.343593381,5353087.613470503 L -8799025.286258325,5352909.354134074 L -8799201.171053777,5352851.871577041 L -8799293.343592154,5352787.968512877 L -8800912.418794049,5352036.666495013 L -8801387.853207277,5352077.74148567 L -8801469.083039708,5351152.78028906 L -8801457.171854194,5351125.267192866 L -8801147.258391825,5350695.156362669 L -8801126.219008066,5350677.7322489945 L -8801061.208425444,5350634.783476504 L -8800867.401191972,5350533.296773035 L -8799791.832271926,5349228.89375309 L -8799726.042452868,5348474.1504538255 L -8799748.528990008,5347375.381702037 L -8799741.73850107,5346887.998333917 L -8799532.235219399,5346178.9698343575 L -8798882.240712656,5344785.819613972 L -8799557.616063297,5343998.293106636 L -8799604.815527394,5343891.380366135 L -8799439.394764075,5343590.351226565 L -8799221.431201102,5341856.301217835 L -8799303.80762429,5341502.964160858 L -8799387.519881366,5340608.534641943 L -8799382.287865296,5340427.002496642 L -8799351.007088386,5339464.4373783665 L -8799618.173866289,5338296.821311448 L -8799727.82356472,5336482.261603065 L -8798684.648616496,5335441.365257081 L -8799317.622373097,5334451.545666076 L -8799337.64874949,5334434.045099419 L -8798562.753774077,5333043.671277923 L -8799048.5520319,5332381.457949523 L -8799505.96381957,5332041.445459275 L -8799590.2326741,5331935.279898829 L -8799704.780430125,5331772.983158827 L -8800002.226109525,5331442.449562467 L -8801860.738404168,5330737.385945102 L -8801426.191639906,5330282.517246179 L -8800964.460655993,5328345.733982961 L -8800909.12373712,5327090.427942115 L -8801179.207085684,5326205.062476535 L -8801927.830661269,5325292.2220661 L -8802875.226319613,5324354.932524856 L -8802296.609870369,5324235.7166006025 L -8801462.982731612,5324252.481724267 L -8800540.255472427,5324378.8612433 L -8798816.896171559,5323993.829698143 L -8798684.759935986,5323998.249476971 L -8798471.694430608,5324009.070323628 L -8797619.766367568,5323984.5329288095 L -8796140.775612889,5323796.618247678 L -8795854.795841042,5323732.15203842 L -8794878.523906784,5323340.030285249 L -8794026.707163233,5323483.1307194615 L -8793896.129400533,5323512.238743886 L -8792935.419931088,5323286.951097027 L -8793246.212817436,5321327.560262212 L -8793715.947672736,5319728.818877162 L -8794371.463626219,5318979.947137799 L -8794595.215802714,5318583.302952372 L -8794870.063625485,5317976.031285152 L -8794964.573873168,5317538.156086593 L -8795094.483718922,5316484.293630554 L -8795802.030402403,5315535.614466528 L -8796035.801333072,5315182.206602648 L -8796229.051969089,5314881.645326273 L -8796268.013790866,5314801.101418247 L -8796419.630937325,5314494.614592475 L -8796495.328191066,5314231.528103283 L -8796408.165029775,5313177.124950117 L -8796362.412719058,5312505.511121549 L -8796323.33957779,5312222.997142362 L -8796249.646074886,5311897.264246476 L -8795927.48746853,5310949.050352353 L -8795893.201065365,5310854.538633945 L -8795449.815533536,5310243.659836774 L -8795255.117744137,5310070.021700495 L -8794803.939847952,5309718.646410633 L -8793204.278765252,5308693.205165544 L -8793080.268852508,5308611.95375756 L -8791522.686537331,5307476.181634179 L -8791311.958741257,5307229.418567636 L -8790591.721635826,5307223.333247472 L -8789334.256667824,5305985.53968721 L -8789188.995864287,5305760.978204674 L -8788837.682683295,5305930.855283203 L -8787576.243609471,5306149.427489337 L -8786217.422245104,5305228.170109473 L -8786177.68118689,5305206.267659449 L -8784465.810057472,5305412.669865121 L -8784085.765315903,5304669.065277072 L -8784074.299408352,5304538.57173085 L -8784031.552723888,5304227.097985378 L -8784030.773487452,5303871.227582396 L -8784116.200064687,5303136.747761357 L -8784110.055228794,5302739.42151065 L -8783773.937158294,5300771.83378024 L -8784232.150446298,5299075.444529387 L -8784374.639394512,5298180.659658538 L -8783304.124379348,5296507.22944052 L -8783144.336382264,5296132.293428397 L -8783038.582866011,5295969.219027503 L -8784459.142019974,5293681.644484118 L -8784444.514638884,5293672.377787115 L -8782426.270006903,5295221.410636896 L -8782006.517602969,5294404.520656235 L -8781940.34929764,5293400.882822335 L -8781858.930222074,5293228.741588186 L -8780664.249446882,5291706.313376553 L -8780178.774015583,5289993.918844659 L -8779621.853735093,5289631.391047865 L -8779155.759027142,5289355.0326179555 L -8778884.673803162,5287557.064337858 L -8778982.623823112,5285992.524344058 L -8779004.921117116,5285531.796440413 L -8778999.911740031,5285290.012136959 L -8778622.093388278,5284389.409048187 L -8778473.593187561,5284048.85972469 L -8777841.409799345,5283207.707292777 L -8777862.560502596,5281760.79191768 L -8777645.59881504,5280850.666536564 L -8777628.232974475,5280682.274947137 L -8777687.276832392,5279806.444662839 L -8778427.506918373,5278657.716311609 L -8778492.406181503,5278580.213226803 L -8778630.108391616,5278405.492376121 L -8778956.541666418,5277838.415178582 L -8779516.879455276,5277068.50014357 L -8780489.299735151,5276302.772604345 L -8780635.762789188,5276216.752140025 L -8781710.98661881,5275179.6557111135 L -8781963.125265459,5274942.079708577 L -8782282.612204034,5274616.275291213 L -8783662.75125089,5273493.405451889 L -8783906.318296745,5273224.494478721 L -8784132.296863055,5272977.721619499 L -8784543.288423065,5272517.237752436 L -8785874.780852443,5271677.723685138 L -8786340.43028243,5271511.769770429 L -8787989.18326057,5271153.198075089 L -8788313.34561776,5270952.094747174 L -8788519.397995219,5270807.218150853 L -8789350.731952462,5270091.505971844 L -8790443.889352052,5269514.490390244 L -8790508.454656713,5269464.942646623 L -8790613.094978059,5269374.181554994 L -8791751.893368872,5268084.832300512 L -8792431.164901692,5267599.288896902 L -8794218.955923835,5266934.71833306 L -8794701.859874895,5266883.669379554 L -8795169.513055718,5266830.348513308 L -8796279.479698416,5266517.851900504 L -8797943.149488322,5265749.454312932 L -8799458.474924797,5265052.619085902 L -8799804.96797184,5264393.816568706 L -8799983.301796092,5263669.203739717 L -8800809.51505676,5262100.082012546 L -8800918.942116208,5261923.547588948 L -8801076.57051517,5261626.656253846 L -8801127.888800427,5261204.272179151 L -8801143.028251175,5260997.628812046 L -8801188.891881382,5260014.583233873 L -8801148.705545207,5259451.051047289 L -8801166.516663732,5259247.927384074 L -8801172.973194199,5258776.763958156 L -8801203.140776204,5258622.842565309 L -8801217.167032044,5258543.082912123 L -8802782.096433613,5257372.494769256 L -8802923.026908958,5257358.270029461 L -8803125.962340675,5257138.3946040515 L -8804546.176404217,5255784.1478184955 L -8804597.160730999,5255743.296472246 L -8805637.330052972,5254241.149095306 L -8806494.49013208,5253365.750784344 L -8806511.410694681,5253331.716723064 L -8806791.824491989,5252235.583175628 L -8807524.084102428,5251315.758276878 L -8808573.715581117,5249900.806719128 L -8808751.270168932,5249406.372295103 L -8808757.504060417,5249385.506825596 L -8808965.448869219,5248601.8755704705 L -8809006.30312234,5248472.612155657 L -8809104.041635256,5248059.283494867 L -8809203.895218497,5247591.853898312 L -8809502.899370769,5246372.292261085 L -8809880.383764049,5245477.976776436 L -8810017.752015688,5245228.454161111 L -8810069.738217887,5245123.720106334 L -8810076.97398479,5245109.816105716 L -8810295.82810369,5244769.930118445 L -8810460.580950063,5244569.238408953 L -8811568.321202947,5243895.562077708 L -8812547.487443965,5244000.584719149 L -8814055.08730778,5243917.170957298 L -8814685.712223122,5243430.152071839 L -8816465.042963961,5242831.952614075 L -8818176.246176435,5242187.861588077 L -8820005.893327113,5241579.921099742 L -8821414.08488565,5240716.876055053 L -8822005.08006227,5240444.367815386 L -8822245.084884422,5240326.696235769 L -8822747.46974637,5240077.611943289 L -8823984.006650103,5239433.557873452 L -8824535.928685455,5238811.749062006 L -8826131.470946996,5237809.419696626 L -8826931.190168856,5237578.673993551 L -8827078.799813647,5237485.652452069 L -8828544.654868413,5236655.445592622 L -8829307.7499778,5236296.084400131 L -8829684.455134645,5236089.231429527 L -8830109.027672531,5235452.696267367 L -8830592.710860027,5235003.85607109 L -8831698.89264004,5234654.974174763 L -8832675.943810731,5235077.378045962 L -8833618.708578259,5235243.59718764 L -8833813.51768715,5234686.525490693 L -8834201.020834599,5233860.640374309 L -8835010.536171647,5232675.453117108 L -8836300.729069943,5231504.902164267 L -8837736.193903722,5230649.115352982 L -8837891.484593378,5230552.238711867 L -8838411.235295892,5230046.896763352 L -8838487.600466577,5229983.221672093 L -8838544.37340688,5229916.831038653 L -8838813.209977146,5229597.257198661 L -8840572.057931682,5229222.473321769 L -8840604.006625539,5229205.726080042 L -8840726.458065411,5229105.545001627 L -8840785.457395531,5228975.79397871 L -8840829.539913885,5228817.379447613 L -8840960.896913022,5228273.66062854 L -8841197.89610892,5227407.154556805 L -8841244.984253526,5227223.575290188 L -8841264.910442378,5227087.967258995 L -8841489.66449429,5226105.131159401 L -8842380.331740126,5225000.995362964 L -8843490.6323413,5223904.528064675 L -8843599.168844823,5223802.141309331 L -8843772.159333514,5223589.681019904 L -8845219.75799179,5222375.326101247 L -8845810.64184892,5222137.117332205 L -8845904.372860169,5222101.386534327 L -8846672.143388169,5221831.073099503 L -8848111.94968209,5220790.144549773 L -8849096.013980703,5220079.273515159 L -8850411.031125443,5218838.391935203 L -8850852.858184403,5218570.884436575 L -8851029.188257819,5218417.768054855 L -8851680.852556922,5217790.709984741 L -8851723.599241387,5217722.295204076 L -8851989.4301854,5217210.405591474 L -8853540.778609095,5216486.996218775 L -8854068.321675966,5216369.321231147 L -8855637.258579206,5215348.578469861 L -8856028.880547818,5215018.649737398 L -8856934.575924912,5214192.6731175305 L -8858238.1271621,5213319.774145912 L -8858708.452010702,5213059.351023164 L -8859036.733189052,5212899.24481608 L -8860744.708136292,5212408.550463252 L -8861499.45428387,5211927.8211705275 L -8862268.22668729,5211013.117348303 L -8863411.700496718,5210221.369005652 L -8863597.15876838,5210052.577661126 L -8864559.96104425,5209286.655086677 L -8865583.989040058,5208685.343112729 L -8866420.109735407,5208129.381797779 L -8867301.760102488,5207642.246194862 L -8868709.840341533,5206789.819148364 L -8869775.613146387,5206018.441023264 L -8871248.703968056,5205125.677451428 L -8871554.721248245,5204976.540554621 L -8872894.117361471,5204216.445361372 L -8873775.879048044,5203778.413827687 L -8874290.954331946,5203483.49503132 L -8875651.167189946,5202878.639265713 L -8877179.249840068,5202111.190018784 L -8878331.517889269,5201636.849884525 L -8878870.749502672,5201421.125494357 L -8878991.3085112,5201324.54754605 L -8878965.705028316,5201211.573655417 L -8878923.626260798,5201137.110908162 L -8877829.689624771,5200639.654585516 L -8877148.414341116,5199858.849702723 L -8877834.810321348,5198454.284729304 L -8878085.279175634,5198357.586601748 L -8879020.251578806,5197891.103416718 L -8878992.64434509,5197502.986436657 L -8878953.348564839,5197204.50355082 L -8878618.65538382,5196229.815569334 L -8878564.309208414,5196205.7593756765 L -8878472.281385377,5196168.848272113 L -8878084.644654537,5196284.513566651 L -8877520.332759857,5196343.842756944 L -8877415.803758003,5196337.678277429 L -8877374.392907428,5196338.12933677 L -8877213.202284759,5196365.192936462 L -8876904.402017297,5196495.550356322 L -8875811.24461771,5196460.818273594 L -8875329.342542065,5197783.28319755 L -8873667.119905539,5198154.117711099 L -8873150.374829276,5196448.038101991 L -8872152.840872278,5196640.343915117 L -8870920.534109198,5195089.528847923 L -8871830.793585414,5193564.369377966 L -8872119.333705548,5193340.110730654 L -8872361.119639551,5193176.729918138 L -8872386.05520549,5193030.035282765 L -8872431.362238241,5191608.5975024 L -8873677.583937673,5190289.246425194 L -8874807.810727699,5191604.389713258 L -8875410.939728815,5193385.954058151 L -8874452.033635123,5193635.165265727 L -8875450.903426012,5193502.291889645 L -8876256.745219864,5193516.420870672 L -8876541.945755275,5193540.169630845 L -8876802.767322203,5193542.123645405 L -8876972.529545663,5193510.859460737 L -8877589.016885677,5193553.847741203 L -8878042.53249117,5193777.810813223 L -8878334.63483501,5193960.292015058 L -8878764.216749981,5193930.078657748 L -8878937.875155618,5193928.876138054 L -8878884.441800037,5193781.117690117 L -8878025.834567549,5192932.190018849 L -8877919.301814862,5192657.597406752 L -8877617.737314302,5192173.810700215 L -8878723.02853839,5190814.861138417 L -8878972.050239291,5190858.288011979 L -8878980.733159574,5190821.9236268215 L -8878870.638183178,5190456.784834443 L -8878905.147225326,5188507.361580556 L -8878986.521773096,5188368.851315651 L -8878988.52552393,5187680.536335201 L -8878985.185939206,5187201.809776166 L -8878959.471136833,5186570.504417557 L -8878933.867653951,5186418.955318601 L -8878850.82331382,5185420.954483728 L -8879006.559281439,5184344.072217792 L -8878984.29538328,5183668.211095075 L -8878962.810721558,5183331.724955983 L -8878900.13784824,5182912.9732569875 L -8879006.447961947,5181038.200802463 L -8878942.550574232,5180680.492744147 L -8878816.536910655,5178914.065583432 L -8878360.906234838,5177197.933155308 L -8878317.268994445,5177069.790884087 L -8878089.731955266,5176248.610959108 L -8878742.064171312,5175103.008591829 L -8878839.134767286,5175030.550429854 L -8878329.848096905,5173274.921305279 L -8878073.36799012,5171889.876886853 L -8878036.966516629,5171816.993287908 L -8877649.463369178,5170683.320265732 L -8877629.425860835,5170636.236766606 L -8877367.491098998,5169912.619665772 L -8878323.057607967,5168585.631416114 L -8879030.047693996,5166909.132001188 z\" /></g></svg>",
      "text/plain": [
       "<POLYGON ((-8879030.048 5166909.132, -8877526.567 5166514.034, -8877646.68 5...>"
      ]
     },
     "execution_count": 3,
     "metadata": {},
     "output_type": "execute_result"
    }
   ],
   "source": [
    "with open(\"data/full_Tokyo_plateau/tokyo_concavehull.pkl\", \"rb\") as f:\n",
    "    tokyo_hull = pickle.load(f)\n",
    "\n",
    "with open(\"data/osaka/osaka_concavehull.pkl\", \"rb\") as f:\n",
    "    osaka_hull = pickle.load(f)\n",
    "\n",
    "with open(\"data/NewYork_2/ny_concavehull.pkl\", \"rb\") as f:\n",
    "    ny_hull = pickle.load(f)\n",
    "\n",
    "tokyo_hull\n",
    "osaka_hull\n",
    "ny_hull\n",
    "\n",
    "# From the bottom left, generate grids\n",
    "# Grids will be stored in polygons aka GeoDataFrame"
   ]
  },
  {
   "cell_type": "code",
   "execution_count": 35,
   "metadata": {},
   "outputs": [],
   "source": [
    "# class GridGenerator():\n",
    "#     \"\"\"\n",
    "#     A class to generate a series of grids in GeoDataFrame format that can be used for futher processing\n",
    "#     \"\"\"\n",
    "#     def __init__(self, polygon: shapely.Polygon):\n",
    "#         \"\"\"\n",
    "#         Initialises the class\\n\n",
    "#         # Parameters:\\n\n",
    "#         - polygon: The polygon that the grid\\n\n",
    "#         \"\"\"\n",
    "#         self.polygon = polygon\n",
    "#         self.min_x = min(self.polygon.exterior.coords.xy[0])\n",
    "#         self.max_x = max(self.polygon.exterior.coords.xy[0])\n",
    "#         self.min_y = min(self.polygon.exterior.coords.xy[1])\n",
    "#         self.max_y = max(self.polygon.exterior.coords.xy[1])\n",
    "#         self.grids = None\n",
    "\n",
    "#     def generateCell(self, x_coord, y_coord, width):\n",
    "#         \"\"\"\n",
    "#         Generates a Polygon with x_coord and y_coord as the LL corner\n",
    "#         \"\"\"\n",
    "#         x0 = x_coord\n",
    "#         x1 = x_coord + width\n",
    "#         y0 = y_coord\n",
    "#         y1 = y_coord + width\n",
    "\n",
    "#         return shapely.Polygon([[x0, y0], [x1, y0], [x1, y1], [x0, y1]])\n",
    "\n",
    "#     def generateGrid(self, step, width, round_f= None, n_processes= 12) -> gpd.GeoDataFrame:\n",
    "#         \"\"\"\n",
    "#         Generates the grid from the polygon used to instantiate the class\n",
    "#         # Parameters:\\n\n",
    "#         - step: The distance* between each grid\\n\n",
    "#         - width: The dimensions of each grid (square)\\n  \n",
    "#         - crop: If True (Default), constraints the grids to be within the polyon only\\n\n",
    "#         - round: The function to round the initial coordinates, defaults to None\\n\n",
    "#         * distance/dimensions will be in the same reference system as the polygon\\n\n",
    "#         \"\"\"\n",
    "\n",
    "#         if not round_f is None:\n",
    "#             min_x = round_f(self.min_x)\n",
    "#             max_x = round_f(self.max_x)\n",
    "#             min_y = round_f(self.min_y)\n",
    "#             max_y = round_f(self.max_y)    \n",
    "#         else:\n",
    "#             min_x = self.min_x\n",
    "#             max_x = self.max_x\n",
    "#             min_y = self.min_y\n",
    "#             max_y = self.max_y  \n",
    "            \n",
    "#         grids = [[x, y] for x in range(min_x, max_x, step) for y in range(min_y, max_y, step)]\n",
    "\n",
    "#         grids = [self.generateCell(*grid, width= width) for grid in grids]\n",
    "\n",
    "#         grids = gpd.GeoDataFrame(geometry= grids)\n",
    "        \n",
    "#         # Use this to speed up processing\n",
    "#         grids = dgpd.from_geopandas(grids, n_processes)\n",
    "        \n",
    "#         # grids = list(filter(lambda x: self.polygon.contains(x), tqdm.tqdm(grids, desc= \"Filtering Cells\")))\n",
    "#         filter_df = grids.apply(self.polygon.contains, axis= 1, meta={'geometry': 'bool'}).compute()\n",
    "\n",
    "#         grids = grids[filter_df[\"geometry\"]].compute().reset_index(drop= True)\n",
    "        \n",
    "#         self.grids = gpd.GeoDataFrame(geometry= grids[\"geometry\"])\n",
    "#         return self.grids"
   ]
  },
  {
   "cell_type": "code",
   "execution_count": 37,
   "metadata": {},
   "outputs": [
    {
     "name": "stderr",
     "output_type": "stream",
     "text": [
      "/home/chan/anaconda3/envs/remote-sensing-landuse/lib/python3.8/site-packages/geopandas/geodataframe.py:1415: UserWarning: Boolean Series key will be reindexed to match DataFrame index.\n",
      "  result = super().__getitem__(key)\n"
     ]
    }
   ],
   "source": [
    "tokyo_grid_gen = GridGenerator(tokyo_hull)\n",
    "tokyo_grid_gen.generateGrid(step= 500, width= 1000, round_f= round).to_feather(\"data/full_Tokyo_plateau/tokyo_grid.feather\")\n",
    "\n",
    "osaka_grid_gen = GridGenerator(osaka_hull)\n",
    "osaka_grid_gen.generateGrid(step= 500, width= 1000, round_f= round).to_feather(\"data/osaka/osaka_grid.feather\")\n",
    "\n",
    "ny_grid_gen = GridGenerator(ny_hull)\n",
    "ny_grid_gen.generateGrid(step= 500, width= 1000, round_f= round).to_feather(\"data/NewYork_2/ny_grid.feather\")"
   ]
  },
  {
   "cell_type": "markdown",
   "metadata": {},
   "source": [
    "## Calculate UMP and export as y"
   ]
  },
  {
   "cell_type": "code",
   "execution_count": 3,
   "metadata": {},
   "outputs": [],
   "source": [
    "# Tokyo\n",
    "tokyo_gdf = gpd.read_feather(\"data/full_Tokyo_plateau/tokyo_fixed.feather\")\n",
    "tokyo_grid = gpd.read_feather(\"data/full_Tokyo_plateau/tokyo_grid.feather\")\n",
    "\n",
    "# Osaka\n",
    "osaka_gdf = gpd.read_feather(\"data/osaka/osaka_multipoly.feather\")\n",
    "osaka_grid = gpd.read_feather(\"data/osaka/osaka_grid.feather\")\n",
    "\n",
    "# New York\n",
    "ny_gdf = gpd.read_feather(\"data/NewYork_2/new_york_multi.feather\")\n",
    "ny_grid = gpd.read_feather(\"data/NewYork_2/ny_grid.feather\")"
   ]
  },
  {
   "cell_type": "code",
   "execution_count": 4,
   "metadata": {},
   "outputs": [
    {
     "data": {
      "text/plain": [
       "(916019, 5716439)"
      ]
     },
     "execution_count": 4,
     "metadata": {},
     "output_type": "execute_result"
    }
   ],
   "source": [
    "len(ny_grid), len(ny_gdf)"
   ]
  },
  {
   "cell_type": "code",
   "execution_count": 5,
   "metadata": {},
   "outputs": [
    {
     "name": "stdout",
     "output_type": "stream",
     "text": [
      "Area: 1000000.0\n"
     ]
    },
    {
     "data": {
      "image/svg+xml": "<svg xmlns=\"http://www.w3.org/2000/svg\" xmlns:xlink=\"http://www.w3.org/1999/xlink\" width=\"300\" height=\"300\" viewBox=\"15072432.0 4114845.0 1080.0 1080.0\" preserveAspectRatio=\"xMinYMin meet\"><g transform=\"matrix(1,0,0,-1,0,8230770.0)\"><path fill-rule=\"evenodd\" fill=\"#66cc99\" stroke=\"#555555\" stroke-width=\"7.2\" opacity=\"0.6\" d=\"M 15072472.0,4114885.0 L 15073472.0,4114885.0 L 15073472.0,4115885.0 L 15072472.0,4115885.0 L 15072472.0,4114885.0 z\" /></g></svg>",
      "text/plain": [
       "<POLYGON ((15072472 4114885, 15073472 4114885, 15073472 4115885, 15072472 41...>"
      ]
     },
     "execution_count": 5,
     "metadata": {},
     "output_type": "execute_result"
    }
   ],
   "source": [
    "# Sample of a cell\n",
    "print(\"Area:\", osaka_grid[\"geometry\"][0].area)\n",
    "osaka_grid[\"geometry\"][0]"
   ]
  },
  {
   "cell_type": "markdown",
   "metadata": {},
   "source": [
    "### Demo"
   ]
  },
  {
   "cell_type": "code",
   "execution_count": 23,
   "metadata": {},
   "outputs": [
    {
     "data": {
      "text/plain": [
       "1"
      ]
     },
     "execution_count": 23,
     "metadata": {},
     "output_type": "execute_result"
    }
   ],
   "source": [
    "np.clip(10, 0, 1)   \n"
   ]
  },
  {
   "cell_type": "code",
   "execution_count": 25,
   "metadata": {},
   "outputs": [
    {
     "data": {
      "text/plain": [
       "{'AverageHeightArea': 23.321947080728076,\n",
       " 'AverageHeightBuilding': 9.481818181818182,\n",
       " 'AverageHeightTotalArea': 0.2878379437277183,\n",
       " 'Displacement': 0.0009568369634676615,\n",
       " 'FrontalAreaIndex': 0.005289593160466849,\n",
       " 'MaximumHeight': 38.4,\n",
       " 'Percentile': 98,\n",
       " 'PercentileHeight': 33.90000000000001,\n",
       " 'PlanarAreaIndex': 0.012341934519076716,\n",
       " 'RoughnessLength': 0.00022359466733766674,\n",
       " 'StandardDeviation': 3.0691962418986156}"
      ]
     },
     "execution_count": 25,
     "metadata": {},
     "output_type": "execute_result"
    }
   ],
   "source": [
    "osaka_gdf[:10]\n",
    "calculateUMP(osaka_gdf, osaka_grid[\"geometry\"][0])"
   ]
  },
  {
   "cell_type": "code",
   "execution_count": 25,
   "metadata": {},
   "outputs": [
    {
     "data": {
      "text/plain": [
       "geometry                  geometry\n",
       "PlanarAreaIndex            float64\n",
       "MaximumHeight              float64\n",
       "AverageHeightBuilding      float64\n",
       "AverageHeightArea          float64\n",
       "AverageHeightTotalArea     float64\n",
       "PercentileHeight           float64\n",
       "FrontalAreaIndex           float64\n",
       "Percentile                 float64\n",
       "StandardDeviation          float64\n",
       "dtype: object"
      ]
     },
     "execution_count": 25,
     "metadata": {},
     "output_type": "execute_result"
    }
   ],
   "source": [
    "# Demo code\n",
    "pd.concat([osaka_grid[:10], osaka_grid[:10].apply(lambda x: calculateUMP(osaka_gdf, x[\"geometry\"]), axis= 1, result_type= \"expand\")], axis= 1).dtypes"
   ]
  },
  {
   "cell_type": "markdown",
   "metadata": {},
   "source": [
    "### Actual Calculation"
   ]
  },
  {
   "cell_type": "markdown",
   "metadata": {},
   "source": [
    "#### Single-threaded Method"
   ]
  },
  {
   "cell_type": "code",
   "execution_count": 13,
   "metadata": {},
   "outputs": [
    {
     "data": {
      "application/vnd.jupyter.widget-view+json": {
       "model_id": "fd917304471a4d86a3bc0dd0fd763a06",
       "version_major": 2,
       "version_minor": 0
      },
      "text/plain": [
       "  0%|          | 0/1145 [00:00<?, ?it/s]"
      ]
     },
     "metadata": {},
     "output_type": "display_data"
    }
   ],
   "source": [
    "# Single-threaded method\n",
    "from tqdm.auto import tqdm\n",
    "tqdm.pandas()\n",
    "\n",
    "# Osaka\n",
    "pd.concat([osaka_grid, osaka_grid.progress_apply(lambda x: calculateUMP(osaka_gdf, x[\"geometry\"]), axis= 1, result_type= \"expand\")], axis= 1).to_feather(\"data/Y_UMP/Y_osaka_3.feather\")\n",
    "\n",
    "# 2:07"
   ]
  },
  {
   "cell_type": "code",
   "execution_count": 4,
   "metadata": {},
   "outputs": [
    {
     "data": {
      "application/vnd.jupyter.widget-view+json": {
       "model_id": "a26a63fdd589426db257cfdc0fc6e4b4",
       "version_major": 2,
       "version_minor": 0
      },
      "text/plain": [
       "  0%|          | 0/3286 [00:00<?, ?it/s]"
      ]
     },
     "metadata": {},
     "output_type": "display_data"
    },
    {
     "name": "stderr",
     "output_type": "stream",
     "text": [
      "/home/chan/remote-sensing-landuse/utils/gml_utils.py:521: RuntimeWarning: invalid value encountered in double_scalars\n",
      "  z_mac = (1 - d / r[\"AverageHeightTotalArea\"]) * math.exp(-(0.5 * beta * c_lb/(k**2) * ((1-d/r[\"AverageHeightTotalArea\"])) * r[\"FrontalAreaIndex\"])**(-0.5)) * r[\"AverageHeightTotalArea\"]\n",
      "/home/chan/remote-sensing-landuse/utils/gml_utils.py:521: RuntimeWarning: invalid value encountered in double_scalars\n",
      "  z_mac = (1 - d / r[\"AverageHeightTotalArea\"]) * math.exp(-(0.5 * beta * c_lb/(k**2) * ((1-d/r[\"AverageHeightTotalArea\"])) * r[\"FrontalAreaIndex\"])**(-0.5)) * r[\"AverageHeightTotalArea\"]\n"
     ]
    }
   ],
   "source": [
    "# Tokyo\n",
    "from tqdm.auto import tqdm\n",
    "tqdm.pandas()\n",
    "\n",
    "pd.concat([tokyo_grid, tokyo_grid.progress_apply(lambda x: calculateUMP(tokyo_gdf, x[\"geometry\"]), axis= 1, result_type= \"expand\")], axis= 1).to_feather(\"data/Y_UMP/Y_tokyo_3.feather\")\n",
    "\n",
    "# 9:55"
   ]
  },
  {
   "cell_type": "code",
   "execution_count": null,
   "metadata": {},
   "outputs": [],
   "source": [
    "# NY\n",
    "from tqdm.auto import tqdm\n",
    "tqdm.pandas()\n",
    "\n",
    "pd.concat([ny_grid, ny_grid.progress_apply(lambda x: calculateUMP(ny_gdf, x[\"geometry\"]), axis= 1, result_type= \"expand\")], axis= 1).to_feather(\"data/Y_UMP/Y_ny.feather\")\n",
    "\n",
    "# 1:49"
   ]
  },
  {
   "cell_type": "code",
   "execution_count": 5,
   "metadata": {},
   "outputs": [
    {
     "data": {
      "text/plain": [
       "{'AverageHeightArea': 3.97,\n",
       " 'AverageHeightBuilding': 3.97,\n",
       " 'AverageHeightTotalArea': 0.0003777804138821149,\n",
       " 'Displacement': 0.0005317394985035243,\n",
       " 'FrontalAreaIndex': 5.082291353099048e-05,\n",
       " 'MaximumHeight': 3.97,\n",
       " 'Percentile': 98,\n",
       " 'PercentileHeight': 3.97,\n",
       " 'PlanarAreaIndex': 9.515879442874432e-05,\n",
       " 'RoughnessLength': 9.145032780761446e-36,\n",
       " 'StandardDeviation': 0.03872341437180672}"
      ]
     },
     "execution_count": 5,
     "metadata": {},
     "output_type": "execute_result"
    }
   ],
   "source": [
    "calculateUMP(ny_gdf, ny_grid[\"geometry\"][99])"
   ]
  },
  {
   "cell_type": "markdown",
   "metadata": {},
   "source": [
    "#### Parallel using Dask\n",
    "\n",
    "Crashes easily"
   ]
  },
  {
   "cell_type": "code",
   "execution_count": 8,
   "metadata": {},
   "outputs": [
    {
     "data": {
      "application/vnd.jupyter.widget-view+json": {
       "model_id": "e913739988194b0b8aa0723d474a700e",
       "version_major": 2,
       "version_minor": 0
      },
      "text/plain": [
       "compute:   0%|          | 0/4 [00:00<?, ?it/s]"
      ]
     },
     "metadata": {},
     "output_type": "display_data"
    }
   ],
   "source": [
    "# Parallel using dask\n",
    "# Somehow kernel dies when using this\n",
    "from tqdm.dask import TqdmCallback\n",
    "\n",
    "osaka_grid_d = dgpd.from_geopandas(osaka_grid, 4)\n",
    "\n",
    "r = osaka_grid_d.apply(\n",
    "    lambda x: calculateUMP(osaka_gdf, x[\"geometry\"]), \n",
    "    # lambda x: {\"col1\":1, \"col2\":2},\n",
    "    # meta={\"col1\": 'int64', \"col2\": 'int64'},\n",
    "    axis= 1, \n",
    "    result_type= \"expand\", \n",
    "    meta= {\n",
    "        'AverageHeightArea':\"float32\", \n",
    "        'AverageHeightBuilding':\"float32\", \n",
    "        'AverageHeightTotalArea':\"float32\", \n",
    "        'Displacement':\"float32\", \n",
    "        'FrontalAreaIndex':\"float32\", \n",
    "        'MaximumHeight':\"float32\", \n",
    "        'Percentile':\"float32\", \n",
    "        'PercentileHeight':\"float32\", \n",
    "        'PlanarAreaIndex':\"float32\", \n",
    "        'RoughnessLength':\"float32\", \n",
    "        'StandardDeviation':\"float32\"\n",
    "        }\n",
    "    )\n",
    "\n",
    "with TqdmCallback(desc= \"compute\"):\n",
    "    result = r.compute()\n",
    "\n",
    "# pd.concat([osaka_grid, result], axis= 1)\n",
    "pd.concat([osaka_grid, result], axis= 1).to_feather(\"data/Y_UMP/Y_osaka_4.feather\")\n",
    "\n",
    "# 1:36\n",
    "# 2:35\n",
    "# 4:35\n",
    "# 8:35\n",
    "\n",
    "# 12 - 1:37 (new)\n",
    "# 4 - 1:25\n",
    "# 2 - 1:29\n",
    "# 6 - 1:29\n",
    "\n",
    "# Full\n",
    "# 4 - "
   ]
  },
  {
   "cell_type": "code",
   "execution_count": 9,
   "metadata": {},
   "outputs": [
    {
     "data": {
      "application/vnd.jupyter.widget-view+json": {
       "model_id": "37e54f61895b4921bc76960fd579c0d6",
       "version_major": 2,
       "version_minor": 0
      },
      "text/plain": [
       "compute:   0%|          | 0/4 [00:00<?, ?it/s]"
      ]
     },
     "metadata": {},
     "output_type": "display_data"
    },
    {
     "name": "stderr",
     "output_type": "stream",
     "text": [
      "/home/chan/remote-sensing-landuse/utils/gml_utils.py:513: RuntimeWarning: invalid value encountered in double_scalars\n",
      "  z_mac = (1 - d / r[\"AverageHeightTotalArea\"]) * math.exp(-(0.5 * beta * c_lb/(k**2) * ((1-d/r[\"AverageHeightTotalArea\"])) * r[\"FrontalAreaIndex\"])**(-0.5)) * r[\"AverageHeightTotalArea\"]\n",
      "/home/chan/remote-sensing-landuse/utils/gml_utils.py:513: RuntimeWarning: invalid value encountered in double_scalars\n",
      "  z_mac = (1 - d / r[\"AverageHeightTotalArea\"]) * math.exp(-(0.5 * beta * c_lb/(k**2) * ((1-d/r[\"AverageHeightTotalArea\"])) * r[\"FrontalAreaIndex\"])**(-0.5)) * r[\"AverageHeightTotalArea\"]\n"
     ]
    }
   ],
   "source": [
    "from tqdm.dask import TqdmCallback\n",
    "\n",
    "tokyo_grid_d = dgpd.from_geopandas(tokyo_grid, 4)\n",
    "\n",
    "r = tokyo_grid_d.apply(\n",
    "    lambda x: calculateUMP(tokyo_gdf, x[\"geometry\"]), \n",
    "    # lambda x: {\"col1\":1, \"col2\":2},\n",
    "    # meta={\"col1\": 'int64', \"col2\": 'int64'},\n",
    "    axis= 1, \n",
    "    result_type= \"expand\", \n",
    "    meta= {\n",
    "        'AverageHeightArea':\"float16\", \n",
    "        'AverageHeightBuilding':\"float16\", \n",
    "        'AverageHeightTotalArea':\"float16\", \n",
    "        'Displacement':\"float16\", \n",
    "        'FrontalAreaIndex':\"float16\", \n",
    "        'MaximumHeight':\"float16\", \n",
    "        'Percentile':\"float16\", \n",
    "        'PercentileHeight':\"float16\", \n",
    "        'PlanarAreaIndex':\"float16\", \n",
    "        'RoughnessLength':\"float16\", \n",
    "        'StandardDeviation':\"float16\"\n",
    "        }\n",
    "    )\n",
    "\n",
    "with TqdmCallback(desc= \"compute\"):\n",
    "    result = r.compute()\n",
    "\n",
    "pd.concat([tokyo_grid, result], axis= 1).to_feather(\"data/Y_tokyo.feather\")\n",
    "\n",
    "# 1:36\n",
    "# 2:35\n",
    "# 4:35\n",
    "# 8:35\n",
    "\n",
    "# 4 - 2:05\n"
   ]
  },
  {
   "cell_type": "code",
   "execution_count": 4,
   "metadata": {},
   "outputs": [
    {
     "data": {
      "application/vnd.jupyter.widget-view+json": {
       "model_id": "120ca58c44f74ad9827fbd2afa7026e6",
       "version_major": 2,
       "version_minor": 0
      },
      "text/plain": [
       "compute:   0%|          | 0/4 [00:00<?, ?it/s]"
      ]
     },
     "metadata": {},
     "output_type": "display_data"
    }
   ],
   "source": [
    "from tqdm.dask import TqdmCallback\n",
    "\n",
    "ny_grid_d = dgpd.from_geopandas(ny_grid, 4)\n",
    "\n",
    "r = ny_grid_d.apply(\n",
    "    lambda x: calculateUMP(gpd.clip(ny_gdf, x[\"geometry\"]), x[\"geometry\"]), \n",
    "    # lambda x: calculateUMP(ny_gdf, x[\"geometry\"]), \n",
    "    # lambda x: {\"col1\":1, \"col2\":2},\n",
    "    # meta={\"col1\": 'int64', \"col2\": 'int64'},\n",
    "    axis= 1, \n",
    "    result_type= \"expand\", \n",
    "    meta= {\n",
    "        'AverageHeightArea':\"float32\", \n",
    "        'AverageHeightBuilding':\"float32\", \n",
    "        'AverageHeightTotalArea':\"float32\", \n",
    "        'Displacement':\"float32\", \n",
    "        'FrontalAreaIndex':\"float32\", \n",
    "        'MaximumHeight':\"float32\", \n",
    "        'Percentile':\"float32\", \n",
    "        'PercentileHeight':\"float32\", \n",
    "        'PlanarAreaIndex':\"float32\", \n",
    "        'RoughnessLength':\"float32\", \n",
    "        'StandardDeviation':\"float32\"\n",
    "        }\n",
    "    )\n",
    "\n",
    "with TqdmCallback(desc= \"compute\"):\n",
    "    result = r.compute()\n",
    "\n",
    "\n",
    "pd.concat([ny_grid, result], axis= 1).to_feather(\"data/Y_ny.feather\")\n",
    "\n",
    "# 1:36\n",
    "# 2:35\n",
    "# 4:35\n",
    "# 8:35\n",
    "\n",
    "# 12 - 1:37 (new)\n",
    "# 4 - 1:25\n",
    "# 2 - 1:29\n",
    "# 6 - 1:29"
   ]
  },
  {
   "cell_type": "markdown",
   "metadata": {},
   "source": [
    "#### Manual Parallel method"
   ]
  },
  {
   "cell_type": "code",
   "execution_count": 4,
   "metadata": {},
   "outputs": [],
   "source": [
    "# Get the envelope of the entire area from the hull\n",
    "with open(\"data/full_Tokyo_plateau/tokyo_concavehull.pkl\", \"rb\") as f:\n",
    "    tokyo_hull = pickle.load(f)\n",
    "\n",
    "with open(\"data/osaka/osaka_concavehull.pkl\", \"rb\") as f:\n",
    "    osaka_hull = pickle.load(f)\n",
    "\n",
    "with open(\"data/NewYork_2/ny_concavehull.pkl\", \"rb\") as f:\n",
    "    ny_hull = pickle.load(f)\n",
    "\n",
    "osaka_hull.envelope"
   ]
  },
  {
   "cell_type": "code",
   "execution_count": 33,
   "metadata": {},
   "outputs": [],
   "source": [
    "def calculateUMP_batch(shp_df, clip_poly_list, percentile= 98):\n",
    "    \"\"\"\n",
    "    Calculates UMP in batches of cells, wraps around the calculateUMP function\\n\n",
    "    Function is defined here instead of utils as multiprocessing only can pickle top-level defined functions\\n\n",
    "    # Parameters:\\n\n",
    "    - shp_df: The `GeoDataFrame` that contains the building data\n",
    "    - clip_poly_list: A `List` of `Polygon`s that each acts as a cell for which the UMP will be calculated\n",
    "    - percentile: The percentile to get for the one of the UMPs 'PercentileHeight'\n",
    "    \"\"\"\n",
    "    r = []\n",
    "\n",
    "    for cell in clip_poly_list:\n",
    "        d = {\"geometry\":cell}\n",
    "        d.update(calculateUMP(shp_df, cell, percentile))\n",
    "        r.append(d)\n",
    "    \n",
    "    r_gdf = gpd.GeoDataFrame.from_dict(r)\n",
    "    return r_gdf\n",
    "\n",
    "# Divide into n portions, with n overlap\n",
    "\n",
    "def split_polygon(bounding_polygon: shapely.Polygon, n_splits: int, buffer: float):\n",
    "    \"\"\"\n",
    "    Takes a `Polygon` and returns an evenly split `List` of `Polygon`s based on its envelope\n",
    "    \"\"\"  \n",
    "    min_x, min_y, max_x, max_y = bounding_polygon.envelope.bounds\n",
    "    width = max_x - min_x\n",
    "    height = max_y - min_y\n",
    "    width_step = width / n_splits\n",
    "    height_step = height / n_splits\n",
    "\n",
    "    # len should be == n_splits\n",
    "    segments = [shapely.Polygon([\n",
    "        (x - buffer, y - buffer), # LL\n",
    "        (x + width_step + buffer, y - buffer), # LR\n",
    "        (x + width_step + buffer, y + height_step + buffer), # UR\n",
    "        (x - buffer, y + height_step + buffer), # UL\n",
    "        ]) \n",
    "        for x in np.linspace(min_x, max_x, num= n_splits, endpoint= False) \n",
    "        for y in np.linspace(min_y, max_y, num= n_splits, endpoint= False)]\n",
    "    \n",
    "    return segments\n",
    "\n",
    "def parallel_UMP_calc(building_gdf: gpd.GeoDataFrame, grid_gdf: gpd.GeoDataFrame, segments, n_processes):\n",
    "    \"\"\"\n",
    "    Takes in a GeoDataFrame of building footprints and height, and a `List` of `Polygons`, for each of which to calculate the UMP for buildings within\n",
    "    \"\"\"\n",
    "    # Divide the grids\n",
    "    segmented_grid = []\n",
    "    for segment in segments:\n",
    "        # Only includes cells that are fully within the segment\n",
    "        segmented_grid.append(grid_gdf[\"geometry\"][grid_gdf[\"geometry\"].within(segment)])\n",
    "\n",
    "    # Divide the gdf\n",
    "    segmented_gdf = []\n",
    "    for segment in segments:\n",
    "        # Buildings are just clipped\n",
    "        segmented_gdf.append(building_gdf.clip(segment))\n",
    "\n",
    "    # Runs in parallel, but no point in more processes than segments\n",
    "    result = []\n",
    "    with Pool(min(n_processes, len(segments))) as pool:\n",
    "        for r in tqdm.tqdm(pool.istarmap(calculateUMP_batch, zip(segmented_gdf, segmented_grid)), total= len(segmented_gdf)):\n",
    "            result.append(r)\n",
    "    \n",
    "    return result\n",
    "    "
   ]
  },
  {
   "cell_type": "markdown",
   "metadata": {},
   "source": [
    "#### Osaka"
   ]
  },
  {
   "cell_type": "code",
   "execution_count": 34,
   "metadata": {},
   "outputs": [
    {
     "name": "stderr",
     "output_type": "stream",
     "text": [
      "100%|██████████| 16/16 [01:23<00:00,  5.24s/it]\n"
     ]
    },
    {
     "data": {
      "text/plain": [
       "1145"
      ]
     },
     "execution_count": 34,
     "metadata": {},
     "output_type": "execute_result"
    }
   ],
   "source": [
    "segments = split_polygon(osaka_hull, 4, 1000)\n",
    "r = parallel_UMP_calc(osaka_gdf, osaka_grid, segments, 8)\n",
    "r = pd.concat(r, axis= 0).drop_duplicates(subset= [\"geometry\"], ignore_index= True)\n",
    "# r.to_feather(\"data/Y_UMP/Y_osaka_4.feather\")\n",
    "len(r)"
   ]
  },
  {
   "cell_type": "markdown",
   "metadata": {},
   "source": [
    "#### Tokyo"
   ]
  },
  {
   "cell_type": "code",
   "execution_count": 36,
   "metadata": {},
   "outputs": [
    {
     "name": "stdout",
     "output_type": "stream",
     "text": [
      "Finished splitting\n"
     ]
    },
    {
     "name": "stderr",
     "output_type": "stream",
     "text": [
      "100%|██████████| 36/36 [03:34<00:00,  5.95s/it]\n"
     ]
    },
    {
     "name": "stdout",
     "output_type": "stream",
     "text": [
      "Finished calculating\n"
     ]
    },
    {
     "data": {
      "text/plain": [
       "3286"
      ]
     },
     "execution_count": 36,
     "metadata": {},
     "output_type": "execute_result"
    }
   ],
   "source": [
    "# Note that due to the larger size we are splitting it into smaller segments just in case\n",
    "segments = split_polygon(tokyo_hull, 6, 1000)\n",
    "print(\"Finished splitting\")\n",
    "r = parallel_UMP_calc(tokyo_gdf, tokyo_grid, segments, 8)\n",
    "print(\"Finished calculating\")\n",
    "r = pd.concat(r, axis= 0).drop_duplicates(subset= [\"geometry\"], ignore_index= True)\n",
    "# r.to_feather(\"data/Y_UMP/Y_toyko_4.feather\")\n",
    "len(r)"
   ]
  },
  {
   "cell_type": "markdown",
   "metadata": {},
   "source": [
    "#### New York"
   ]
  },
  {
   "cell_type": "code",
   "execution_count": 37,
   "metadata": {},
   "outputs": [
    {
     "data": {
      "text/plain": [
       "916019"
      ]
     },
     "execution_count": 37,
     "metadata": {},
     "output_type": "execute_result"
    }
   ],
   "source": [
    "len(ny_grid)"
   ]
  },
  {
   "cell_type": "code",
   "execution_count": null,
   "metadata": {},
   "outputs": [
    {
     "name": "stdout",
     "output_type": "stream",
     "text": [
      "Finished splitting\n"
     ]
    },
    {
     "name": "stderr",
     "output_type": "stream",
     "text": [
      "100%|██████████| 36/36 [03:34<00:00,  5.95s/it]\n"
     ]
    },
    {
     "name": "stdout",
     "output_type": "stream",
     "text": [
      "Finished calculating\n"
     ]
    },
    {
     "data": {
      "text/plain": [
       "3286"
      ]
     },
     "metadata": {},
     "output_type": "display_data"
    }
   ],
   "source": [
    "# This is done in screen session to run continuously instead of notebook\n",
    "# Note that due to the larger size we are splitting it into smaller segments just in case\n",
    "segments = split_polygon(ny_hull, 95, 1000)\n",
    "print(\"Finished splitting\")\n",
    "r = parallel_UMP_calc(ny_gdf, ny_grid, segments, 8)\n",
    "print(\"Finished calculating\")\n",
    "r = pd.concat(r, axis= 0).drop_duplicates(subset= [\"geometry\"], ignore_index= True)\n",
    "r.to_feather(\"data/Y_UMP/Y_ny.feather\")\n",
    "len(r)"
   ]
  },
  {
   "cell_type": "markdown",
   "metadata": {},
   "source": [
    "## Download Sentinel and export as X"
   ]
  },
  {
   "cell_type": "markdown",
   "metadata": {},
   "source": [
    "Main purpose here is to map each y to an instance of x.\n",
    "\n",
    "This means that data can be loaded on the go during the training process, rather than all at once. However, this also means that it will take up much more space due to the overlapping nature. Unless another function is defined that can merge from separate files but storage is not an issue for now."
   ]
  },
  {
   "cell_type": "code",
   "execution_count": 13,
   "metadata": {},
   "outputs": [],
   "source": [
    "import ee\n",
    "# Only need to authenticate for use of gee methods\n",
    "try:\n",
    "    ee.Initialize()\n",
    "except Exception:\n",
    "    ee.Authenticate()\n",
    "    ee.Initialize()\n",
    "\n",
    "import dl_sentinel as ds\n",
    "from utils import gee_downloader as gd\n"
   ]
  },
  {
   "cell_type": "markdown",
   "metadata": {},
   "source": [
    "### Load Y"
   ]
  },
  {
   "cell_type": "code",
   "execution_count": 6,
   "metadata": {},
   "outputs": [
    {
     "data": {
      "text/plain": [
       "(1145, 3286)"
      ]
     },
     "execution_count": 6,
     "metadata": {},
     "output_type": "execute_result"
    }
   ],
   "source": [
    "# Osaka\n",
    "Y_osaka = gpd.read_feather(\"data/Y_UMP/Y_osaka.feather\")\n",
    "\n",
    "# Tokyo\n",
    "Y_tokyo = gpd.read_feather(\"data/Y_UMP/Y_tokyo.feather\")\n",
    "\n",
    "len(Y_osaka), len(Y_tokyo)"
   ]
  },
  {
   "cell_type": "markdown",
   "metadata": {},
   "source": [
    "### Download all regions into the respective folder"
   ]
  },
  {
   "cell_type": "markdown",
   "metadata": {},
   "source": [
    "### Osaka"
   ]
  },
  {
   "cell_type": "markdown",
   "metadata": {},
   "source": [
    "#### Download the entire TIFF at once for efficiency\n",
    "\n",
    "There are also issues with downloading small files indivdually"
   ]
  },
  {
   "cell_type": "code",
   "execution_count": 21,
   "metadata": {},
   "outputs": [
    {
     "data": {
      "text/plain": [
       "[135.3803515471555, 34.58691457472519, 135.59914986052672, 34.76830050793767]"
      ]
     },
     "execution_count": 21,
     "metadata": {},
     "output_type": "execute_result"
    }
   ],
   "source": [
    "with open(\"data/osaka/osaka_concavehull.pkl\", \"rb\") as f:\n",
    "    hull = pickle.load(f)\n",
    "# hull.bounds\n",
    "lower_left = sp_utils.convertCoords(*hull.bounds[:2], src= \"EPSG:3857\", target= \"EPSG:4326\")\n",
    "upper_right = sp_utils.convertCoords(*hull.bounds[2:], src= \"EPSG:3857\", target= \"EPSG:4326\")\n",
    "bounds = [*lower_left[::-1], *upper_right[::-1]]\n",
    "bounds"
   ]
  },
  {
   "cell_type": "code",
   "execution_count": 24,
   "metadata": {},
   "outputs": [],
   "source": [
    "# Get the image (works for all regions?)\n",
    "s2HR = ds.get_s2SR(ee.Geometry.Point(135.484802, 34.672314)) # Coordinates needed if not gee will return a blank image\n",
    "\n",
    "s2HR_osaka = ds.remove_clouds(ds.filterCollection(s2HR, [2020], \"Y_S\")).median()"
   ]
  },
  {
   "cell_type": "code",
   "execution_count": null,
   "metadata": {},
   "outputs": [],
   "source": [
    "downloader = gd.BaseDownloader(\"data/X_sentinel\")\n",
    "downloader.download_image(s2HR_osaka, initial_bounds= bounds, base_filename= \"sentinel_fullOsaka\")"
   ]
  },
  {
   "cell_type": "markdown",
   "metadata": {},
   "source": [
    "#### Crop and save into corresponding cells"
   ]
  },
  {
   "cell_type": "code",
   "execution_count": 37,
   "metadata": {},
   "outputs": [],
   "source": [
    "filename = \"data/osaka/Sentinel_fullOsaka.tif\"\n",
    "data = gdal.Open(filename, gdal.GA_ReadOnly)"
   ]
  },
  {
   "cell_type": "code",
   "execution_count": 45,
   "metadata": {},
   "outputs": [
    {
     "name": "stderr",
     "output_type": "stream",
     "text": [
      "100%|██████████| 1145/1145 [00:02<00:00, 513.63it/s]\n"
     ]
    }
   ],
   "source": [
    "X_dir = \"data/X_sentinel/osaka\"\n",
    "for cell in tqdm.tqdm(Y_osaka[\"geometry\"]): \n",
    "    warp = gdal.Warp(f\"{X_dir}/Sentinel_{'_'.join(map(str, map(int, cell.bounds)))}.tiff\", data, srcSRS= \"EPSG:4326\", dstSRS='EPSG:3857', outputBounds= cell.bounds)\n",
    "    warp = None"
   ]
  },
  {
   "cell_type": "markdown",
   "metadata": {},
   "source": [
    "### Tokyo"
   ]
  },
  {
   "cell_type": "markdown",
   "metadata": {},
   "source": [
    "#### Download the entire TIFF at once for efficiency\n",
    "\n",
    "There are also issues with downloading small files indivdually"
   ]
  },
  {
   "cell_type": "code",
   "execution_count": 50,
   "metadata": {},
   "outputs": [
    {
     "data": {
      "text/plain": [
       "[139.56303368676444, 35.532655211473696, 139.91754313441487, 35.81742435191188]"
      ]
     },
     "execution_count": 50,
     "metadata": {},
     "output_type": "execute_result"
    }
   ],
   "source": [
    "with open(\"data/full_Tokyo_plateau/tokyo_concavehull.pkl\", \"rb\") as f:\n",
    "    hull = pickle.load(f)\n",
    "# hull.bounds\n",
    "lower_left = sp_utils.convertCoords(*hull.bounds[:2], src= \"EPSG:3857\", target= \"EPSG:4326\")\n",
    "upper_right = sp_utils.convertCoords(*hull.bounds[2:], src= \"EPSG:3857\", target= \"EPSG:4326\")\n",
    "bounds = [*lower_left[::-1], *upper_right[::-1]]\n",
    "bounds"
   ]
  },
  {
   "cell_type": "code",
   "execution_count": 51,
   "metadata": {},
   "outputs": [],
   "source": [
    "# Get the image (works for all regions?)\n",
    "s2HR = ds.get_s2SR(ee.Geometry.Point(*bounds[:2])) # Coordinates needed if not gee will return a blank image\n",
    "\n",
    "s2HR_tokyo = ds.remove_clouds(ds.filterCollection(s2HR, [2021], \"Y_S\")).median()"
   ]
  },
  {
   "cell_type": "code",
   "execution_count": null,
   "metadata": {},
   "outputs": [],
   "source": [
    "downloader = gd.BaseDownloader(\"data/X_sentinel\")\n",
    "downloader.download_image(s2HR_osaka, initial_bounds= bounds, base_filename= \"sentinel_fullTokyo\")"
   ]
  },
  {
   "cell_type": "markdown",
   "metadata": {},
   "source": [
    "#### Crop and save into corresponding cells"
   ]
  },
  {
   "cell_type": "code",
   "execution_count": 53,
   "metadata": {},
   "outputs": [],
   "source": [
    "filename = \"data/full_Tokyo_plateau/Sentinel_fullTokyo.tiff\"\n",
    "data = gdal.Open(filename, gdal.GA_ReadOnly)"
   ]
  },
  {
   "cell_type": "code",
   "execution_count": 55,
   "metadata": {},
   "outputs": [
    {
     "name": "stderr",
     "output_type": "stream",
     "text": [
      "100%|██████████| 3286/3286 [00:06<00:00, 523.40it/s]\n"
     ]
    }
   ],
   "source": [
    "X_dir = \"data/X_sentinel/tokyo\"\n",
    "for cell in tqdm.tqdm(Y_tokyo[\"geometry\"]): \n",
    "    warp = gdal.Warp(f\"{X_dir}/Sentinel_{'_'.join(map(str, map(int, cell.bounds)))}.tiff\", data, srcSRS= \"EPSG:4326\", dstSRS='EPSG:3857', outputBounds= cell.bounds)\n",
    "    warp = None"
   ]
  },
  {
   "cell_type": "markdown",
   "metadata": {},
   "source": [
    "## Data Checking"
   ]
  },
  {
   "cell_type": "markdown",
   "metadata": {},
   "source": [
    "This section is to ensure that there are no Null values and other anomalies with the data"
   ]
  },
  {
   "cell_type": "code",
   "execution_count": 6,
   "metadata": {},
   "outputs": [
    {
     "name": "stdout",
     "output_type": "stream",
     "text": [
      "Osaka: 1145/1145\n",
      "Tokyo: 3286/3286\n"
     ]
    }
   ],
   "source": [
    "# Osaka\n",
    "Y_osaka = gpd.read_feather(\"data/Y_UMP/Y_osaka_3.feather\")\n",
    "\n",
    "# Tokyo\n",
    "Y_tokyo = gpd.read_feather(\"data/Y_UMP/Y_tokyo_3.feather\")\n",
    "\n",
    "print(f\"Osaka: {len(glob('data/X_sentinel/osaka/*.tiff'))}/{len(Y_osaka)}\")\n",
    "print(f\"Tokyo: {len(glob('data/X_sentinel/tokyo/*.tiff'))}/{len(Y_tokyo)}\")\n"
   ]
  },
  {
   "cell_type": "code",
   "execution_count": 8,
   "metadata": {},
   "outputs": [
    {
     "data": {
      "text/html": [
       "<div>\n",
       "<style scoped>\n",
       "    .dataframe tbody tr th:only-of-type {\n",
       "        vertical-align: middle;\n",
       "    }\n",
       "\n",
       "    .dataframe tbody tr th {\n",
       "        vertical-align: top;\n",
       "    }\n",
       "\n",
       "    .dataframe thead th {\n",
       "        text-align: right;\n",
       "    }\n",
       "</style>\n",
       "<table border=\"1\" class=\"dataframe\">\n",
       "  <thead>\n",
       "    <tr style=\"text-align: right;\">\n",
       "      <th></th>\n",
       "      <th>geometry</th>\n",
       "      <th>AverageHeightArea</th>\n",
       "      <th>AverageHeightBuilding</th>\n",
       "      <th>AverageHeightTotalArea</th>\n",
       "      <th>Displacement</th>\n",
       "      <th>FrontalAreaIndex</th>\n",
       "      <th>MaximumHeight</th>\n",
       "      <th>Percentile</th>\n",
       "      <th>PercentileHeight</th>\n",
       "      <th>PlanarAreaIndex</th>\n",
       "      <th>RoughnessLength</th>\n",
       "      <th>StandardDeviation</th>\n",
       "    </tr>\n",
       "  </thead>\n",
       "  <tbody>\n",
       "  </tbody>\n",
       "</table>\n",
       "</div>"
      ],
      "text/plain": [
       "Empty GeoDataFrame\n",
       "Columns: [geometry, AverageHeightArea, AverageHeightBuilding, AverageHeightTotalArea, Displacement, FrontalAreaIndex, MaximumHeight, Percentile, PercentileHeight, PlanarAreaIndex, RoughnessLength, StandardDeviation]\n",
       "Index: []"
      ]
     },
     "execution_count": 8,
     "metadata": {},
     "output_type": "execute_result"
    }
   ],
   "source": [
    "Y_osaka[pd.DataFrame.any(Y_osaka.isna(), axis= 1)]"
   ]
  },
  {
   "cell_type": "code",
   "execution_count": 7,
   "metadata": {},
   "outputs": [
    {
     "data": {
      "text/html": [
       "<div>\n",
       "<style scoped>\n",
       "    .dataframe tbody tr th:only-of-type {\n",
       "        vertical-align: middle;\n",
       "    }\n",
       "\n",
       "    .dataframe tbody tr th {\n",
       "        vertical-align: top;\n",
       "    }\n",
       "\n",
       "    .dataframe thead th {\n",
       "        text-align: right;\n",
       "    }\n",
       "</style>\n",
       "<table border=\"1\" class=\"dataframe\">\n",
       "  <thead>\n",
       "    <tr style=\"text-align: right;\">\n",
       "      <th></th>\n",
       "      <th>geometry</th>\n",
       "      <th>AverageHeightArea</th>\n",
       "      <th>AverageHeightBuilding</th>\n",
       "      <th>AverageHeightTotalArea</th>\n",
       "      <th>Displacement</th>\n",
       "      <th>FrontalAreaIndex</th>\n",
       "      <th>MaximumHeight</th>\n",
       "      <th>Percentile</th>\n",
       "      <th>PercentileHeight</th>\n",
       "      <th>PlanarAreaIndex</th>\n",
       "      <th>RoughnessLength</th>\n",
       "      <th>StandardDeviation</th>\n",
       "    </tr>\n",
       "  </thead>\n",
       "  <tbody>\n",
       "  </tbody>\n",
       "</table>\n",
       "</div>"
      ],
      "text/plain": [
       "Empty GeoDataFrame\n",
       "Columns: [geometry, AverageHeightArea, AverageHeightBuilding, AverageHeightTotalArea, Displacement, FrontalAreaIndex, MaximumHeight, Percentile, PercentileHeight, PlanarAreaIndex, RoughnessLength, StandardDeviation]\n",
       "Index: []"
      ]
     },
     "execution_count": 7,
     "metadata": {},
     "output_type": "execute_result"
    }
   ],
   "source": [
    "Y_tokyo[pd.DataFrame.any(Y_tokyo.isna(), axis= 1)]"
   ]
  },
  {
   "cell_type": "code",
   "execution_count": null,
   "metadata": {},
   "outputs": [],
   "source": []
  }
 ],
 "metadata": {
  "interpreter": {
   "hash": "a8bf42f5b4e2a348cbe75a25ff6042248da5e17de0cf2c8b06b72f8092ad4452"
  },
  "kernelspec": {
   "display_name": "Python 3.8.15 ('remote-sensing-landuse')",
   "language": "python",
   "name": "python3"
  },
  "language_info": {
   "codemirror_mode": {
    "name": "ipython",
    "version": 3
   },
   "file_extension": ".py",
   "mimetype": "text/x-python",
   "name": "python",
   "nbconvert_exporter": "python",
   "pygments_lexer": "ipython3",
   "version": "3.8.15"
  },
  "orig_nbformat": 4
 },
 "nbformat": 4,
 "nbformat_minor": 2
}
