{
 "cells": [
  {
   "cell_type": "code",
   "execution_count": 1,
   "metadata": {},
   "outputs": [],
   "source": [
    "# Ensures runtime code is updated when source code of libraries are updated as well\n",
    "%load_ext autoreload\n",
    "%autoreload 2"
   ]
  },
  {
   "cell_type": "code",
   "execution_count": 2,
   "metadata": {},
   "outputs": [],
   "source": [
    "# Import of necessary libraries\n",
    "\n",
    "import pandas as pd\n",
    "import numpy as np\n",
    "import pickle\n",
    "import sklearn\n",
    "import seaborn as sns\n",
    "import matplotlib.pyplot as plt\n",
    "\n",
    "# FastAI\n",
    "from fastai.vision.all import *\n",
    "from fastai.text.all import *\n",
    "from fastai.collab import *\n",
    "from fastai.tabular.all import *\n",
    "\n",
    "import utils.sp_utils as sp\n"
   ]
  },
  {
   "cell_type": "code",
   "execution_count": 3,
   "metadata": {},
   "outputs": [
    {
     "data": {
      "text/plain": [
       "True"
      ]
     },
     "execution_count": 3,
     "metadata": {},
     "output_type": "execute_result"
    }
   ],
   "source": [
    "# Check if gpu/cuda is available\n",
    "import torch\n",
    "torch.cuda.is_available()"
   ]
  },
  {
   "cell_type": "code",
   "execution_count": 4,
   "metadata": {},
   "outputs": [],
   "source": [
    "# Constants\n",
    "BANDS = [\n",
    "        'B1: Aerosols',\n",
    "        'B2: Blue',\n",
    "        'B3: Green',\n",
    "        'B4: Red',\n",
    "        'B5: Red Edge 1',\n",
    "        'B6: Red Edge 2',\n",
    "        'B7: Red Edge 3',\n",
    "        'B8: NIR',\n",
    "        'B8A: Red Edge 4',\n",
    "        'B9: Water Vapor',\n",
    "        'B11: SWIR 1',\n",
    "        'B12: SWIR 2'\n",
    "    ]\n",
    "\n",
    "UMP = ['height_avg_bld', 'height_avg_area', 'height_avg_total', 'height_std',\n",
    "       'height_max', 'height_percentile', 'planar_index', 'frontal_index']"
   ]
  },
  {
   "cell_type": "code",
   "execution_count": 5,
   "metadata": {},
   "outputs": [
    {
     "name": "stdout",
     "output_type": "stream",
     "text": [
      "Types: float32 float32 float32 float32\n",
      "x_train shape: (2628, 12, 91, 91), y_train shape: (2628, 8)\n",
      "x_val shape: (614, 12, 91, 91), y_val shape: (614, 8)\n"
     ]
    }
   ],
   "source": [
    "# Import train and validation\n",
    "with open(\"data/x_train_tokyo.pkl\", \"rb\") as f:\n",
    "    x_train = pickle.load(f)\n",
    "\n",
    "with open(\"data/x_val_tokyo.pkl\", \"rb\") as f:\n",
    "    x_val = pickle.load(f)\n",
    "\n",
    "with open(\"data/y_train_tokyo.pkl\", \"rb\") as f:\n",
    "    y_train = pickle.load(f)\n",
    "\n",
    "with open(\"data/y_val_tokyo.pkl\", \"rb\") as f:\n",
    "    y_val = pickle.load(f)\n",
    "\n",
    "print(\"Types:\", x_train.dtype, x_train.dtype, x_val.dtype, y_val.dtype)\n",
    "\n",
    "print(f\"x_train shape: {x_train.shape}, y_train shape: {y_train.shape}\\nx_val shape: {x_val.shape}, y_val shape: {y_val.shape}\")"
   ]
  },
  {
   "cell_type": "code",
   "execution_count": 6,
   "metadata": {},
   "outputs": [],
   "source": [
    "from utils.models import senet\n",
    "from utils.models import modules\n",
    "from utils.models import net\n"
   ]
  },
  {
   "cell_type": "markdown",
   "metadata": {},
   "source": [
    "### Normalising x and y"
   ]
  },
  {
   "cell_type": "markdown",
   "metadata": {},
   "source": [
    "Normalisation will only be fitted on the training set, and the same parameters will be used for the validation sets"
   ]
  },
  {
   "cell_type": "code",
   "execution_count": 7,
   "metadata": {},
   "outputs": [],
   "source": [
    "class NDNormalizer:\n",
    "    def __init__(self, x):\n",
    "        self.min_x = x.min()\n",
    "        self.max_x = x.max()\n",
    "    \n",
    "    def transform(self, new_x):\n",
    "        return new_x / self.max_x\n",
    "\n",
    "    def revert(self, new_x):\n",
    "        return new_x * self.max_x\n",
    "\n"
   ]
  },
  {
   "cell_type": "code",
   "execution_count": 8,
   "metadata": {},
   "outputs": [],
   "source": [
    "x_norms = []\n",
    "x_train_norm = np.array(x_train)\n",
    "for channel in range(x_train.shape[1]):\n",
    "    x_norms.append(NDNormalizer(x_train[:, channel]))\n",
    "    # x_norms.append(MinMaxScaler().fit(x_train[:, channel]))\n",
    "    x_train_norm[:, channel] = x_norms[channel].transform(x_train[:, channel])"
   ]
  },
  {
   "cell_type": "code",
   "execution_count": 9,
   "metadata": {},
   "outputs": [],
   "source": [
    "y_norms = []\n",
    "y_train_norm = np.array(y_train)\n",
    "for ump in range(y_train.shape[1]):\n",
    "    y_norms.append(NDNormalizer(y_train[:, ump]))\n",
    "    y_train_norm[:, ump] = y_norms[ump].transform(y_train[:, ump])"
   ]
  },
  {
   "cell_type": "code",
   "execution_count": 11,
   "metadata": {},
   "outputs": [],
   "source": [
    "BATCH_SIZE = 5"
   ]
  },
  {
   "cell_type": "code",
   "execution_count": 12,
   "metadata": {},
   "outputs": [
    {
     "data": {
      "text/plain": [
       "(torch.Size([5, 3, 91, 91]), torch.Size([5, 8]))"
      ]
     },
     "execution_count": 12,
     "metadata": {},
     "output_type": "execute_result"
    }
   ],
   "source": [
    "# DataLoaders for 3 channels in gpu\n",
    "\n",
    "# Converts into dataloaders\n",
    "dls_3 = DataLoaders().from_dsets(list(zip(x_train[:, 1:4], y_train)), list(zip(x_val[:, 1:4], y_val)), \n",
    "    bs= BATCH_SIZE, device=torch.device('cuda'))\n",
    "\n",
    "# Check shape\n",
    "dls_3.one_batch()[0].shape, dls_3.one_batch()[1].shape"
   ]
  },
  {
   "cell_type": "code",
   "execution_count": 14,
   "metadata": {},
   "outputs": [],
   "source": [
    "# ssl to facilitate downloading of weights\n",
    "import ssl\n",
    "ssl._create_default_https_context = ssl._create_unverified_context\n",
    "\n",
    "# This is not ideal since we're only working with one feature but we'll try to make it work first\n",
    "head = create_head(8, 8, ps=0.5)\n",
    "original_model = senet.senet154()\n",
    "\n",
    "# original_model = pretrainedmodels.__dict__[\"sene154\"](num_classes=1000, pretrained='imagenet')\n",
    "# original_model = xse_resnet18() # Check whether it lines up with the number of blockst too\n",
    "Encoder = modules.E_senet(original_model, x_norms)\n",
    "im2elevation = net.im2elevation_model(Encoder, num_features=2048, block_channel = [256, 512, 1024, 2048])\n",
    "model = net.model(im2elevation, head)\n"
   ]
  },
  {
   "cell_type": "code",
   "execution_count": 15,
   "metadata": {},
   "outputs": [],
   "source": [
    "# Loss Function\n",
    "\n",
    "def mse_weighted(pred, actual, y_norms:List[NDNormalizer]= y_norms):\n",
    "    \"\"\"\n",
    "    Weighted loss function that normalises the predictions based on the parameters used to normalise the actual during training\n",
    "    \"\"\"\n",
    "    loss = tensor(0).float()\n",
    "    loss.requires_grad_(True)\n",
    "    for ump in range(pred.shape[1]):\n",
    "        loss = torch.add(loss, torch.div(F.mse_loss(pred[:, ump], actual[:, ump]), y_norms[ump].max_x**2))\n",
    "    return loss.float()\n"
   ]
  },
  {
   "cell_type": "code",
   "execution_count": 16,
   "metadata": {},
   "outputs": [],
   "source": [
    "# List of metrics\n",
    "def height_avg_bld_rmse(pred, actual, y_norms= y_norms):\n",
    "    return math.sqrt(F.mse_loss(pred[:, 0], actual[:, 0]))\n",
    "\n",
    "def height_avg_area_rmse(pred, actual, y_norms= y_norms):\n",
    "    return math.sqrt(F.mse_loss(pred[:, 1], actual[:, 1]))\n",
    "\n",
    "def height_avg_total_rmse(pred, actual, y_norms= y_norms):\n",
    "    return math.sqrt(F.mse_loss(pred[:, 2], actual[:, 2]))\n",
    "\n",
    "def height_std_rmse(pred, actual, y_norms= y_norms):\n",
    "    return math.sqrt(F.mse_loss(pred[:, 3], actual[:, 3]))\n",
    "\n",
    "def height_max_rmse(pred, actual, y_norms= y_norms):\n",
    "    return math.sqrt(F.mse_loss(pred[:, 4], actual[:, 4]))\n",
    "\n",
    "def height_percentile_rmse(pred, actual, y_norms= y_norms):\n",
    "    return math.sqrt(F.mse_loss(pred[:, 5], actual[:, 5]))\n",
    "\n",
    "def planar_index_rmse(pred, actual, y_norms= y_norms):\n",
    "    return math.sqrt(F.mse_loss(pred[:, 6], actual[:, 6]))\n",
    "\n",
    "def frontal_index_rmse(pred, actual, y_norms= y_norms):\n",
    "    return math.sqrt(F.mse_loss(pred[:, 7], actual[:, 7]))\n",
    "\n",
    "metrics = [\n",
    "    height_avg_bld_rmse, \n",
    "    height_avg_area_rmse,\n",
    "    height_avg_total_rmse,\n",
    "    height_std_rmse,\n",
    "    height_max_rmse,\n",
    "    height_percentile_rmse,\n",
    "    planar_index_rmse,\n",
    "    frontal_index_rmse\n",
    "]"
   ]
  },
  {
   "cell_type": "code",
   "execution_count": 17,
   "metadata": {},
   "outputs": [],
   "source": [
    "# Need better loss due to scale difference\n",
    "learn = Learner(dls_3, model, loss_func= mse_weighted, metrics= metrics)"
   ]
  },
  {
   "cell_type": "code",
   "execution_count": 18,
   "metadata": {},
   "outputs": [
    {
     "data": {
      "text/html": [],
      "text/plain": [
       "<IPython.core.display.HTML object>"
      ]
     },
     "metadata": {},
     "output_type": "display_data"
    },
    {
     "data": {
      "text/plain": [
       "SuggestedLRs(valley=0.0010000000474974513)"
      ]
     },
     "execution_count": 18,
     "metadata": {},
     "output_type": "execute_result"
    },
    {
     "data": {
      "image/png": "[encoded data removed]",
      "text/plain": [
       "<Figure size 640x480 with 1 Axes>"
      ]
     },
     "metadata": {},
     "output_type": "display_data"
    }
   ],
   "source": [
    "learn.lr_find()"
   ]
  },
  {
   "cell_type": "code",
   "execution_count": 19,
   "metadata": {},
   "outputs": [
    {
     "data": {
      "text/html": [
       "<table border=\"1\" class=\"dataframe\">\n",
       "  <thead>\n",
       "    <tr style=\"text-align: left;\">\n",
       "      <th>epoch</th>\n",
       "      <th>train_loss</th>\n",
       "      <th>valid_loss</th>\n",
       "      <th>height_avg_bld_rmse</th>\n",
       "      <th>height_avg_area_rmse</th>\n",
       "      <th>height_avg_total_rmse</th>\n",
       "      <th>height_std_rmse</th>\n",
       "      <th>height_max_rmse</th>\n",
       "      <th>height_percentile_rmse</th>\n",
       "      <th>planar_index_rmse</th>\n",
       "      <th>frontal_index_rmse</th>\n",
       "      <th>time</th>\n",
       "    </tr>\n",
       "  </thead>\n",
       "  <tbody>\n",
       "    <tr>\n",
       "      <td>0</td>\n",
       "      <td>1.144768</td>\n",
       "      <td>8.236219</td>\n",
       "      <td>7.369600</td>\n",
       "      <td>13.272091</td>\n",
       "      <td>3.698546</td>\n",
       "      <td>21115.280269</td>\n",
       "      <td>52.596954</td>\n",
       "      <td>22.928037</td>\n",
       "      <td>0.778072</td>\n",
       "      <td>0.335740</td>\n",
       "      <td>01:51</td>\n",
       "    </tr>\n",
       "  </tbody>\n",
       "</table>"
      ],
      "text/plain": [
       "<IPython.core.display.HTML object>"
      ]
     },
     "metadata": {},
     "output_type": "display_data"
    },
    {
     "data": {
      "image/png": "[encoded data removed]",
      "text/plain": [
       "<Figure size 600x400 with 1 Axes>"
      ]
     },
     "metadata": {},
     "output_type": "display_data"
    },
    {
     "data": {
      "text/html": [
       "<table border=\"1\" class=\"dataframe\">\n",
       "  <thead>\n",
       "    <tr style=\"text-align: left;\">\n",
       "      <th>epoch</th>\n",
       "      <th>train_loss</th>\n",
       "      <th>valid_loss</th>\n",
       "      <th>height_avg_bld_rmse</th>\n",
       "      <th>height_avg_area_rmse</th>\n",
       "      <th>height_avg_total_rmse</th>\n",
       "      <th>height_std_rmse</th>\n",
       "      <th>height_max_rmse</th>\n",
       "      <th>height_percentile_rmse</th>\n",
       "      <th>planar_index_rmse</th>\n",
       "      <th>frontal_index_rmse</th>\n",
       "      <th>time</th>\n",
       "    </tr>\n",
       "  </thead>\n",
       "  <tbody>\n",
       "    <tr>\n",
       "      <td>0</td>\n",
       "      <td>0.568570</td>\n",
       "      <td>442.486053</td>\n",
       "      <td>41.536142</td>\n",
       "      <td>42.047627</td>\n",
       "      <td>64.195717</td>\n",
       "      <td>21125.007656</td>\n",
       "      <td>127.565099</td>\n",
       "      <td>169.646370</td>\n",
       "      <td>7.989816</td>\n",
       "      <td>2.653468</td>\n",
       "      <td>01:50</td>\n",
       "    </tr>\n",
       "    <tr>\n",
       "      <td>1</td>\n",
       "      <td>0.363761</td>\n",
       "      <td>0.177102</td>\n",
       "      <td>5.231319</td>\n",
       "      <td>11.531877</td>\n",
       "      <td>2.013071</td>\n",
       "      <td>21115.693679</td>\n",
       "      <td>53.144155</td>\n",
       "      <td>22.759610</td>\n",
       "      <td>0.120176</td>\n",
       "      <td>0.131729</td>\n",
       "      <td>01:51</td>\n",
       "    </tr>\n",
       "    <tr>\n",
       "      <td>2</td>\n",
       "      <td>0.270457</td>\n",
       "      <td>10.115270</td>\n",
       "      <td>9.072717</td>\n",
       "      <td>24.612670</td>\n",
       "      <td>4.237441</td>\n",
       "      <td>21113.812658</td>\n",
       "      <td>54.661006</td>\n",
       "      <td>21.758470</td>\n",
       "      <td>0.140107</td>\n",
       "      <td>1.265921</td>\n",
       "      <td>01:50</td>\n",
       "    </tr>\n",
       "    <tr>\n",
       "      <td>3</td>\n",
       "      <td>0.216142</td>\n",
       "      <td>98.544357</td>\n",
       "      <td>9.248185</td>\n",
       "      <td>14.137300</td>\n",
       "      <td>9.029332</td>\n",
       "      <td>21113.023090</td>\n",
       "      <td>51.447716</td>\n",
       "      <td>31.924863</td>\n",
       "      <td>1.739937</td>\n",
       "      <td>1.016755</td>\n",
       "      <td>01:51</td>\n",
       "    </tr>\n",
       "    <tr>\n",
       "      <td>4</td>\n",
       "      <td>0.198586</td>\n",
       "      <td>2.016772</td>\n",
       "      <td>14.706294</td>\n",
       "      <td>19.925047</td>\n",
       "      <td>9.482035</td>\n",
       "      <td>21111.222480</td>\n",
       "      <td>55.682954</td>\n",
       "      <td>42.588120</td>\n",
       "      <td>0.258999</td>\n",
       "      <td>0.239409</td>\n",
       "      <td>01:51</td>\n",
       "    </tr>\n",
       "  </tbody>\n",
       "</table>"
      ],
      "text/plain": [
       "<IPython.core.display.HTML object>"
      ]
     },
     "metadata": {},
     "output_type": "display_data"
    },
    {
     "data": {
      "image/png": "[encoded data removed]",
      "text/plain": [
       "<Figure size 600x400 with 1 Axes>"
      ]
     },
     "metadata": {},
     "output_type": "display_data"
    }
   ],
   "source": [
    "learn.fine_tune(5, 0.001, cbs= [ShowGraphCallback()])"
   ]
  },
  {
   "cell_type": "code",
   "execution_count": null,
   "metadata": {},
   "outputs": [],
   "source": []
  }
 ],
 "metadata": {
  "interpreter": {
   "hash": "a8bf42f5b4e2a348cbe75a25ff6042248da5e17de0cf2c8b06b72f8092ad4452"
  },
  "kernelspec": {
   "display_name": "Python 3.8.15 ('remote-sensing-landuse')",
   "language": "python",
   "name": "python3"
  },
  "language_info": {
   "codemirror_mode": {
    "name": "ipython",
    "version": 3
   },
   "file_extension": ".py",
   "mimetype": "text/x-python",
   "name": "python",
   "nbconvert_exporter": "python",
   "pygments_lexer": "ipython3",
   "version": "3.8.15"
  },
  "orig_nbformat": 4
 },
 "nbformat": 4,
 "nbformat_minor": 2
}
