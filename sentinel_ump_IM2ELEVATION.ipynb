{
 "cells": [
  {
   "cell_type": "code",
   "execution_count": 1,
   "metadata": {},
   "outputs": [],
   "source": [
    "# Ensures runtime code is updated when source code of libraries are updated as well\n",
    "%load_ext autoreload\n",
    "%autoreload 2"
   ]
  },
  {
   "cell_type": "code",
   "execution_count": 2,
   "metadata": {},
   "outputs": [],
   "source": [
    "# Import of necessary libraries\n",
    "\n",
    "import pandas as pd\n",
    "import numpy as np\n",
    "import pickle\n",
    "import sklearn\n",
    "import seaborn as sns\n",
    "import matplotlib.pyplot as plt\n",
    "\n",
    "from sklearn.preprocessing import MinMaxScaler\n",
    "from sklearn.linear_model import LinearRegression\n",
    "from sklearn.preprocessing import normalize\n",
    "\n",
    "from shapely.geometry import Polygon\n",
    "from osgeo import gdal\n",
    "\n",
    "# FastAI\n",
    "from fastai.vision.all import *\n",
    "from fastai.text.all import *\n",
    "from fastai.collab import *\n",
    "from fastai.tabular.all import *\n",
    "\n",
    "import utils.sp_utils as sp\n"
   ]
  },
  {
   "cell_type": "code",
   "execution_count": 3,
   "metadata": {},
   "outputs": [
    {
     "data": {
      "text/plain": [
       "True"
      ]
     },
     "execution_count": 3,
     "metadata": {},
     "output_type": "execute_result"
    }
   ],
   "source": [
    "# Check if gpu/cuda is available\n",
    "import torch\n",
    "torch.cuda.is_available()"
   ]
  },
  {
   "cell_type": "code",
   "execution_count": 4,
   "metadata": {},
   "outputs": [],
   "source": [
    "# Constants\n",
    "BANDS = [\n",
    "        'B1: Aerosols',\n",
    "        'B2: Blue',\n",
    "        'B3: Green',\n",
    "        'B4: Red',\n",
    "        'B5: Red Edge 1',\n",
    "        'B6: Red Edge 2',\n",
    "        'B7: Red Edge 3',\n",
    "        'B8: NIR',\n",
    "        'B8A: Red Edge 4',\n",
    "        'B9: Water Vapor',\n",
    "        'B11: SWIR 1',\n",
    "        'B12: SWIR 2'\n",
    "    ]\n",
    "\n",
    "UMP = ['height_avg_bld', 'height_avg_area', 'height_avg_total', 'height_std',\n",
    "       'height_max', 'height_percentile', 'planar_index', 'frontal_index']"
   ]
  },
  {
   "cell_type": "code",
   "execution_count": 5,
   "metadata": {},
   "outputs": [
    {
     "name": "stdout",
     "output_type": "stream",
     "text": [
      "Types: float32 float32 float32 float32\n",
      "x_train shape: (2628, 12, 91, 91), y_train shape: (2628, 8)\n",
      "x_val shape: (614, 12, 91, 91), y_val shape: (614, 8)\n"
     ]
    }
   ],
   "source": [
    "# Import train and validation\n",
    "with open(\"data/x_train_tokyo.pkl\", \"rb\") as f:\n",
    "    x_train = pickle.load(f)\n",
    "\n",
    "with open(\"data/x_val_tokyo.pkl\", \"rb\") as f:\n",
    "    x_val = pickle.load(f)\n",
    "\n",
    "with open(\"data/y_train_tokyo.pkl\", \"rb\") as f:\n",
    "    y_train = pickle.load(f)\n",
    "\n",
    "with open(\"data/y_val_tokyo.pkl\", \"rb\") as f:\n",
    "    y_val = pickle.load(f)\n",
    "\n",
    "print(\"Types:\", x_train.dtype, x_train.dtype, x_val.dtype, y_val.dtype)\n",
    "\n",
    "print(f\"x_train shape: {x_train.shape}, y_train shape: {y_train.shape}\\nx_val shape: {x_val.shape}, y_val shape: {y_val.shape}\")"
   ]
  },
  {
   "cell_type": "code",
   "execution_count": 6,
   "metadata": {},
   "outputs": [],
   "source": [
    "from utils.models import senet\n",
    "from utils.models import modules\n",
    "from utils.models import net\n"
   ]
  },
  {
   "cell_type": "markdown",
   "metadata": {},
   "source": [
    "### Normalising x and y"
   ]
  },
  {
   "cell_type": "markdown",
   "metadata": {},
   "source": [
    "Normalisation will only be fitted on the training set, and the same parameters will be used for the validation sets"
   ]
  },
  {
   "cell_type": "code",
   "execution_count": 7,
   "metadata": {},
   "outputs": [],
   "source": [
    "class NDNormalizer:\n",
    "    def __init__(self, x):\n",
    "        self.min_x = x.min()\n",
    "        self.max_x = x.max()\n",
    "    \n",
    "    def transform(self, new_x):\n",
    "        return new_x / self.max_x\n",
    "\n",
    "    def revert(self, new_x):\n",
    "        return new_x * self.max_x\n",
    "\n"
   ]
  },
  {
   "cell_type": "code",
   "execution_count": 8,
   "metadata": {},
   "outputs": [],
   "source": [
    "x_norms = []\n",
    "x_train_norm = np.array(x_train)\n",
    "for channel in range(x_train.shape[1]):\n",
    "    x_norms.append(NDNormalizer(x_train[:, channel]))\n",
    "    # x_norms.append(MinMaxScaler().fit(x_train[:, channel]))\n",
    "    x_train_norm[:, channel] = x_norms[channel].transform(x_train[:, channel])"
   ]
  },
  {
   "cell_type": "code",
   "execution_count": 9,
   "metadata": {},
   "outputs": [],
   "source": [
    "y_norms = []\n",
    "y_train_norm = np.array(y_train)\n",
    "for ump in range(y_train.shape[1]):\n",
    "    y_norms.append(NDNormalizer(y_train[:, ump]))\n",
    "    y_train_norm[:, ump] = y_norms[ump].transform(y_train[:, ump])"
   ]
  },
  {
   "cell_type": "code",
   "execution_count": 10,
   "metadata": {},
   "outputs": [],
   "source": [
    "BATCH_SIZE = 5"
   ]
  },
  {
   "cell_type": "code",
   "execution_count": 11,
   "metadata": {},
   "outputs": [
    {
     "data": {
      "text/plain": [
       "(torch.Size([5, 3, 91, 91]), torch.Size([5, 8]))"
      ]
     },
     "execution_count": 11,
     "metadata": {},
     "output_type": "execute_result"
    }
   ],
   "source": [
    "# DataLoaders for 3 channels in gpu\n",
    "\n",
    "# Converts into dataloaders\n",
    "dls_3 = DataLoaders().from_dsets(list(zip(x_train[:, 1:4], y_train)), list(zip(x_val[:, 1:4], y_val)), \n",
    "    bs= BATCH_SIZE, device=torch.device('cuda'))\n",
    "\n",
    "# Check shape\n",
    "dls_3.one_batch()[0].shape, dls_3.one_batch()[1].shape"
   ]
  },
  {
   "cell_type": "code",
   "execution_count": 12,
   "metadata": {},
   "outputs": [],
   "source": [
    "# ssl to facilitate downloading of weights\n",
    "import ssl\n",
    "ssl._create_default_https_context = ssl._create_unverified_context\n",
    "\n",
    "# This is not ideal since we're only working with one feature but we'll try to make it work first\n",
    "head = create_head(8, 8, ps=0.5)\n",
    "original_model = senet.senet154()\n",
    "\n",
    "# original_model = pretrainedmodels.__dict__[\"sene154\"](num_classes=1000, pretrained='imagenet')\n",
    "# original_model = xse_resnet18() # Check whether it lines up with the number of blockst too\n",
    "Encoder = modules.E_senet(original_model, x_norms)\n",
    "model = net.model(Encoder, head, num_features=2048, block_channel = [256, 512, 1024, 2048])\n"
   ]
  },
  {
   "cell_type": "code",
   "execution_count": 13,
   "metadata": {},
   "outputs": [],
   "source": [
    "# Loss Function\n",
    "\n",
    "def mse_weighted(pred, actual, y_norms:List[NDNormalizer]= y_norms):\n",
    "    \"\"\"\n",
    "    Weighted loss function that normalises the predictions based on the parameters used to normalise the actual during training\n",
    "    \"\"\"\n",
    "    loss = tensor(0).float()\n",
    "    loss.requires_grad_(True)\n",
    "    for ump in range(pred.shape[1]):\n",
    "        loss = torch.add(loss, torch.div(F.mse_loss(pred[:, ump], actual[:, ump]), y_norms[ump].max_x**2))\n",
    "    return loss.float()\n"
   ]
  },
  {
   "cell_type": "code",
   "execution_count": 14,
   "metadata": {},
   "outputs": [],
   "source": [
    "# List of metrics\n",
    "def height_avg_bld_rmse(pred, actual, y_norms= y_norms):\n",
    "    return math.sqrt(F.mse_loss(pred[:, 0], actual[:, 0]))\n",
    "\n",
    "def height_avg_area_rmse(pred, actual, y_norms= y_norms):\n",
    "    return math.sqrt(F.mse_loss(pred[:, 1], actual[:, 1]))\n",
    "\n",
    "def height_avg_total_rmse(pred, actual, y_norms= y_norms):\n",
    "    return math.sqrt(F.mse_loss(pred[:, 2], actual[:, 2]))\n",
    "\n",
    "def height_std_rmse(pred, actual, y_norms= y_norms):\n",
    "    return math.sqrt(F.mse_loss(pred[:, 3], actual[:, 3]))\n",
    "\n",
    "def height_max_rmse(pred, actual, y_norms= y_norms):\n",
    "    return math.sqrt(F.mse_loss(pred[:, 4], actual[:, 4]))\n",
    "\n",
    "def height_percentile_rmse(pred, actual, y_norms= y_norms):\n",
    "    return math.sqrt(F.mse_loss(pred[:, 5], actual[:, 5]))\n",
    "\n",
    "def planar_index_rmse(pred, actual, y_norms= y_norms):\n",
    "    return math.sqrt(F.mse_loss(pred[:, 6], actual[:, 6]))\n",
    "\n",
    "def frontal_index_rmse(pred, actual, y_norms= y_norms):\n",
    "    return math.sqrt(F.mse_loss(pred[:, 7], actual[:, 7]))\n",
    "\n",
    "metrics = [\n",
    "    height_avg_bld_rmse, \n",
    "    height_avg_area_rmse,\n",
    "    height_avg_total_rmse,\n",
    "    height_std_rmse,\n",
    "    height_max_rmse,\n",
    "    height_percentile_rmse,\n",
    "    planar_index_rmse,\n",
    "    frontal_index_rmse\n",
    "]"
   ]
  },
  {
   "cell_type": "code",
   "execution_count": 15,
   "metadata": {},
   "outputs": [],
   "source": [
    "# Need better loss due to scale difference\n",
    "learn = Learner(dls_3, model, loss_func= mse_weighted, metrics= metrics)\n",
    "# learn = Learner(dls_3, model, loss_func= F.mse_loss, metrics= metrics)"
   ]
  },
  {
   "cell_type": "code",
   "execution_count": 16,
   "metadata": {},
   "outputs": [
    {
     "data": {
      "text/html": [],
      "text/plain": [
       "<IPython.core.display.HTML object>"
      ]
     },
     "metadata": {},
     "output_type": "display_data"
    },
    {
     "data": {
      "text/plain": [
       "SuggestedLRs(valley=0.0012022644514217973)"
      ]
     },
     "execution_count": 16,
     "metadata": {},
     "output_type": "execute_result"
    },
    {
     "data": {
      "image/png": "[encoded data removed]",
      "text/plain": [
       "<Figure size 640x480 with 1 Axes>"
      ]
     },
     "metadata": {},
     "output_type": "display_data"
    }
   ],
   "source": [
    "learn.lr_find()"
   ]
  },
  {
   "cell_type": "code",
   "execution_count": 17,
   "metadata": {},
   "outputs": [
    {
     "data": {
      "text/html": [
       "<table border=\"1\" class=\"dataframe\">\n",
       "  <thead>\n",
       "    <tr style=\"text-align: left;\">\n",
       "      <th>epoch</th>\n",
       "      <th>train_loss</th>\n",
       "      <th>valid_loss</th>\n",
       "      <th>height_avg_bld_rmse</th>\n",
       "      <th>height_avg_area_rmse</th>\n",
       "      <th>height_avg_total_rmse</th>\n",
       "      <th>height_std_rmse</th>\n",
       "      <th>height_max_rmse</th>\n",
       "      <th>height_percentile_rmse</th>\n",
       "      <th>planar_index_rmse</th>\n",
       "      <th>frontal_index_rmse</th>\n",
       "      <th>time</th>\n",
       "    </tr>\n",
       "  </thead>\n",
       "  <tbody>\n",
       "    <tr>\n",
       "      <td>0</td>\n",
       "      <td>1.067372</td>\n",
       "      <td>6.296968</td>\n",
       "      <td>9.240744</td>\n",
       "      <td>15.581492</td>\n",
       "      <td>5.710312</td>\n",
       "      <td>21116.205390</td>\n",
       "      <td>59.695730</td>\n",
       "      <td>27.834809</td>\n",
       "      <td>0.661148</td>\n",
       "      <td>0.963302</td>\n",
       "      <td>01:50</td>\n",
       "    </tr>\n",
       "  </tbody>\n",
       "</table>"
      ],
      "text/plain": [
       "<IPython.core.display.HTML object>"
      ]
     },
     "metadata": {},
     "output_type": "display_data"
    },
    {
     "data": {
      "image/png": "[encoded data removed]",
      "text/plain": [
       "<Figure size 600x400 with 1 Axes>"
      ]
     },
     "metadata": {},
     "output_type": "display_data"
    },
    {
     "data": {
      "text/html": [
       "<table border=\"1\" class=\"dataframe\">\n",
       "  <thead>\n",
       "    <tr style=\"text-align: left;\">\n",
       "      <th>epoch</th>\n",
       "      <th>train_loss</th>\n",
       "      <th>valid_loss</th>\n",
       "      <th>height_avg_bld_rmse</th>\n",
       "      <th>height_avg_area_rmse</th>\n",
       "      <th>height_avg_total_rmse</th>\n",
       "      <th>height_std_rmse</th>\n",
       "      <th>height_max_rmse</th>\n",
       "      <th>height_percentile_rmse</th>\n",
       "      <th>planar_index_rmse</th>\n",
       "      <th>frontal_index_rmse</th>\n",
       "      <th>time</th>\n",
       "    </tr>\n",
       "  </thead>\n",
       "  <tbody>\n",
       "    <tr>\n",
       "      <td>0</td>\n",
       "      <td>0.517530</td>\n",
       "      <td>0.318165</td>\n",
       "      <td>8.774904</td>\n",
       "      <td>13.801663</td>\n",
       "      <td>3.420710</td>\n",
       "      <td>21115.424023</td>\n",
       "      <td>56.556070</td>\n",
       "      <td>22.983790</td>\n",
       "      <td>0.144764</td>\n",
       "      <td>0.142999</td>\n",
       "      <td>01:50</td>\n",
       "    </tr>\n",
       "    <tr>\n",
       "      <td>1</td>\n",
       "      <td>0.328319</td>\n",
       "      <td>0.916991</td>\n",
       "      <td>7.280924</td>\n",
       "      <td>13.953948</td>\n",
       "      <td>5.244770</td>\n",
       "      <td>21115.112616</td>\n",
       "      <td>59.957488</td>\n",
       "      <td>22.842073</td>\n",
       "      <td>0.298979</td>\n",
       "      <td>0.481202</td>\n",
       "      <td>01:50</td>\n",
       "    </tr>\n",
       "    <tr>\n",
       "      <td>2</td>\n",
       "      <td>0.231499</td>\n",
       "      <td>0.137343</td>\n",
       "      <td>3.290414</td>\n",
       "      <td>5.234074</td>\n",
       "      <td>3.457513</td>\n",
       "      <td>21115.651766</td>\n",
       "      <td>42.426650</td>\n",
       "      <td>11.760500</td>\n",
       "      <td>0.112863</td>\n",
       "      <td>0.180186</td>\n",
       "      <td>01:50</td>\n",
       "    </tr>\n",
       "    <tr>\n",
       "      <td>3</td>\n",
       "      <td>0.173792</td>\n",
       "      <td>0.087080</td>\n",
       "      <td>5.866953</td>\n",
       "      <td>7.253912</td>\n",
       "      <td>4.930513</td>\n",
       "      <td>21115.328562</td>\n",
       "      <td>34.250403</td>\n",
       "      <td>9.468819</td>\n",
       "      <td>0.052987</td>\n",
       "      <td>0.157693</td>\n",
       "      <td>01:50</td>\n",
       "    </tr>\n",
       "    <tr>\n",
       "      <td>4</td>\n",
       "      <td>0.170667</td>\n",
       "      <td>0.084180</td>\n",
       "      <td>5.712739</td>\n",
       "      <td>7.618715</td>\n",
       "      <td>4.540581</td>\n",
       "      <td>21115.596681</td>\n",
       "      <td>34.987901</td>\n",
       "      <td>9.581450</td>\n",
       "      <td>0.052643</td>\n",
       "      <td>0.154186</td>\n",
       "      <td>01:50</td>\n",
       "    </tr>\n",
       "  </tbody>\n",
       "</table>"
      ],
      "text/plain": [
       "<IPython.core.display.HTML object>"
      ]
     },
     "metadata": {},
     "output_type": "display_data"
    },
    {
     "data": {
      "image/png": "[encoded data removed]",
      "text/plain": [
       "<Figure size 600x400 with 1 Axes>"
      ]
     },
     "metadata": {},
     "output_type": "display_data"
    }
   ],
   "source": [
    "learn.fine_tune(5, 0.001, cbs= [ShowGraphCallback()])"
   ]
  },
  {
   "cell_type": "code",
   "execution_count": null,
   "metadata": {},
   "outputs": [],
   "source": []
  }
 ],
 "metadata": {
  "interpreter": {
   "hash": "a8bf42f5b4e2a348cbe75a25ff6042248da5e17de0cf2c8b06b72f8092ad4452"
  },
  "kernelspec": {
   "display_name": "Python 3.8.15 ('remote-sensing-landuse')",
   "language": "python",
   "name": "python3"
  },
  "language_info": {
   "codemirror_mode": {
    "name": "ipython",
    "version": 3
   },
   "file_extension": ".py",
   "mimetype": "text/x-python",
   "name": "python",
   "nbconvert_exporter": "python",
   "pygments_lexer": "ipython3",
   "version": "3.8.15"
  },
  "orig_nbformat": 4
 },
 "nbformat": 4,
 "nbformat_minor": 2
}
